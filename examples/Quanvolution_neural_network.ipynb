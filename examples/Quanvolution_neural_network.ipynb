{
 "cells": [
  {
   "cell_type": "markdown",
   "id": "4f14362f",
   "metadata": {},
   "source": [
    "# Quanvolution neural network\n",
    "This example is based on the [paper](https://arxiv.org/abs/1904.04767): \n",
    "\n",
    "```Quanvolutional Neural Networks: Powering Image Recognition with Quantum Circuits.``` \n",
    "\n",
    "This example aimed at showing the performance and the usage of the new quantum processing framework -- JDQAI. \n",
    "\n",
    "## Quanvolution layer\n",
    "The quantum convolution layer, a.k.a quanvolution layer, is a model providing a non-linear convolutional transformation of images, which can provide similar performance to classical non-linear transformation. The main goal is to find the quantum advantage in the non-linear transformation process. \n",
    "\n",
    "<img src=\"images/quanv.png\" width=1000 />\n",
    "(from ArXiv:1904.04767)\n",
    "\n",
    "## About this example\n",
    "In this example, the main struture of the example follow the one provided by [Pennylane](https://pennylane.ai/qml/demos/tutorial_quanvolution.html). The quanvolution transformation is done by a randomly generated quantum circuit. The images are pre-processed by the quanvolution layer and feed into a classical neural network. The performance of the quanvolution is comparing to a conventional convolution method in the end of the example. \n",
    "\n",
    "### MNIST Dataset\n",
    "MNIST is a database of handwritten digits. \n"
   ]
  },
  {
   "cell_type": "markdown",
   "id": "fcf07fd4",
   "metadata": {},
   "source": [
    "# Initialization"
   ]
  },
  {
   "cell_type": "code",
   "execution_count": 1,
   "id": "3062eefd",
   "metadata": {},
   "outputs": [
    {
     "name": "stderr",
     "output_type": "stream",
     "text": [
      "2022-08-01 23:42:52.837573: W tensorflow/stream_executor/platform/default/dso_loader.cc:64] Could not load dynamic library 'libcudart.so.11.0'; dlerror: libcudart.so.11.0: cannot open shared object file: No such file or directory; LD_LIBRARY_PATH: /home/cyc/software/root/lib\n"
     ]
    }
   ],
   "source": [
    "import tedq as qai\n",
    "\n",
    "# Related package\n",
    "import torch\n",
    "import numpy as np\n",
    "from tensorflow import keras\n",
    "import tensorflow as tf\n",
    "import matplotlib.pyplot as plt\n"
   ]
  },
  {
   "cell_type": "markdown",
   "id": "fe27c47a",
   "metadata": {},
   "source": [
    "# Parameters"
   ]
  },
  {
   "cell_type": "code",
   "execution_count": 2,
   "id": "060f918f",
   "metadata": {},
   "outputs": [],
   "source": [
    "n_layers = 3    # Number of random layers\n",
    "n_qubits = 4     # Number of qubits\n",
    "n_epochs = 50   # Number of optimization epochs\n",
    "n_train = 80    # Size of the train dataset\n",
    "n_test = 40     # Size of the test dataset\n",
    "\n",
    "np.random.seed(21)           # Seed for NumPy random number generator\n",
    "SAVE_PATH = \"./_data/quanvolution/\" # Data saving folder\n",
    "PREPROCESS = False           # If False, skip quantum processing and load data from SAVE_PATH"
   ]
  },
  {
   "cell_type": "markdown",
   "id": "e4dffdd3",
   "metadata": {},
   "source": [
    "# Load mnist dataset"
   ]
  },
  {
   "cell_type": "code",
   "execution_count": 3,
   "id": "37bae7d9",
   "metadata": {},
   "outputs": [],
   "source": [
    "mnist_dataset = keras.datasets.mnist\n",
    "(train_images, train_labels), (test_images, test_labels) = mnist_dataset.load_data()\n",
    "\n",
    "# Reduce dataset size\n",
    "train_images = train_images[:n_train]\n",
    "train_labels = train_labels[:n_train]\n",
    "test_images = test_images[:n_test]\n",
    "test_labels = test_labels[:n_test]\n",
    "\n",
    "# Normalize pixel values within 0 and 1\n",
    "train_images = train_images / 255\n",
    "test_images = test_images / 255\n",
    "\n",
    "# Add extra dimension for convolution channels\n",
    "train_images = np.array(train_images[..., tf.newaxis])\n",
    "test_images = np.array(test_images[..., tf.newaxis])\n",
    "\n"
   ]
  },
  {
   "cell_type": "markdown",
   "id": "60119a9e",
   "metadata": {},
   "source": [
    "# Build a circuit for quanvolution process"
   ]
  },
  {
   "cell_type": "markdown",
   "id": "8301dc4a",
   "metadata": {},
   "source": [
    "### Define the circuit with JDQAI framework"
   ]
  },
  {
   "cell_type": "code",
   "execution_count": 4,
   "id": "d22e4d40",
   "metadata": {},
   "outputs": [],
   "source": [
    "rand_params = np.random.uniform(high=2 * np.pi, size=(n_layers, 4))\n",
    "def circuitDef(phi):\n",
    "    for j in range(4):\n",
    "        qai.RY(np.pi * phi[j], qubits=[j])\n",
    "    # Generate random circuit    \n",
    "    qai.templates.RandomLayer(n_qubits, n_layers, 0.3, rand_params)\n",
    "    \n",
    "    exp_vals = [qai.measurement.expval(qai.PauliZ(qubits=[position])) for position in range(n_qubits)]\n",
    "    return exp_vals"
   ]
  },
  {
   "cell_type": "code",
   "execution_count": 5,
   "id": "7cb15703",
   "metadata": {},
   "outputs": [],
   "source": [
    "circuit = qai.Circuit(circuitDef, n_qubits, torch.zeros(n_qubits))"
   ]
  },
  {
   "cell_type": "markdown",
   "id": "967bafd6",
   "metadata": {},
   "source": [
    "### Draw quantum circuit with circuit visualizer in JDQAI"
   ]
  },
  {
   "cell_type": "code",
   "execution_count": 6,
   "id": "b7faf61c",
   "metadata": {},
   "outputs": [
    {
     "data": {
      "image/png": "[encoded data removed]",
      "text/plain": [
       "<Figure size 1080x1080 with 1 Axes>"
      ]
     },
     "metadata": {},
     "output_type": "display_data"
    }
   ],
   "source": [
    "drawer = qai.matplotlib_drawer(circuit)\n",
    "drawer.draw_circuit()"
   ]
  },
  {
   "cell_type": "markdown",
   "id": "bae019b6",
   "metadata": {},
   "source": [
    "### Compile the circuit with pytorch backend"
   ]
  },
  {
   "cell_type": "code",
   "execution_count": 7,
   "id": "737d3e91",
   "metadata": {},
   "outputs": [
    {
     "name": "stdout",
     "output_type": "stream",
     "text": [
      "log10(flops) of this quantum circuit:   3.2211533219547315\n"
     ]
    }
   ],
   "source": [
    "quanvCircuit = circuit.compilecircuit('pytorch')"
   ]
  },
  {
   "cell_type": "markdown",
   "id": "ad076176",
   "metadata": {},
   "source": [
    "# Pre-process the images with quanvolution"
   ]
  },
  {
   "cell_type": "code",
   "execution_count": 8,
   "id": "4b2b5bd3",
   "metadata": {},
   "outputs": [],
   "source": [
    "def quanvolution(image):\n",
    "    \"\"\"Convolves the input image with many applications of the same quantum circuit.\"\"\"\n",
    "    out = np.zeros((14, 14, 4))\n",
    "\n",
    "    # Loop over the coordinates of the top-left pixel of 2X2 squares\n",
    "    for j in range(0, 28, 2):\n",
    "        for k in range(0, 28, 2):\n",
    "            # Process a squared 2x2 region of the image with a quantum circuit\n",
    "            q_results = quanvCircuit(\n",
    "                torch.tensor(\n",
    "                [\n",
    "                    image[j, k, 0],\n",
    "                    image[j, k + 1, 0],\n",
    "                    image[j + 1, k, 0],\n",
    "                    image[j + 1, k + 1, 0]\n",
    "                ]\n",
    "                )\n",
    "            )\n",
    "            # Assign expectation values to different channels of the output pixel (j/2, k/2)\n",
    "            for c in range(4):\n",
    "                out[j // 2, k // 2, c] = q_results[c]\n",
    "    return out\n"
   ]
  },
  {
   "cell_type": "code",
   "execution_count": 9,
   "id": "956ba8e0",
   "metadata": {},
   "outputs": [],
   "source": [
    "if PREPROCESS == True:\n",
    "    q_train_images = []\n",
    "    print(\"Quantum pre-processing of train images:\")\n",
    "    for idx, img in enumerate(train_images):\n",
    "        print(\"{}/{}        \".format(idx + 1, n_train), end=\"\\r\")\n",
    "        q_train_images.append(quanvolution(img))\n",
    "    q_train_images = np.asarray(q_train_images)\n",
    "\n",
    "    q_test_images = []\n",
    "    print(\"\\nQuantum pre-processing of test images:\")\n",
    "    for idx, img in enumerate(test_images):\n",
    "        print(\"{}/{}        \".format(idx + 1, n_test), end=\"\\r\")\n",
    "        q_test_images.append(quanvolution(img))\n",
    "    q_test_images = np.asarray(q_test_images)\n",
    "\n",
    "    # Save pre-processed images\n",
    "    np.save(SAVE_PATH + \"q_train_images.npy\", q_train_images)\n",
    "    np.save(SAVE_PATH + \"q_test_images.npy\", q_test_images)\n",
    "\n",
    "\n",
    "# Load pre-processed images\n",
    "q_train_images = np.load(SAVE_PATH + \"q_train_images.npy\")\n",
    "q_test_images = np.load(SAVE_PATH + \"q_test_images.npy\")"
   ]
  },
  {
   "cell_type": "markdown",
   "id": "07032ec5",
   "metadata": {},
   "source": [
    "# Example output from quanvolution layer"
   ]
  },
  {
   "cell_type": "code",
   "execution_count": 10,
   "id": "f0099063",
   "metadata": {},
   "outputs": [
    {
     "data": {
      "image/png": "[encoded data removed]",
      "text/plain": [
       "<Figure size 720x720 with 20 Axes>"
      ]
     },
     "metadata": {
      "needs_background": "light"
     },
     "output_type": "display_data"
    }
   ],
   "source": [
    "n_samples = 4\n",
    "n_channels = 4\n",
    "fig, axes = plt.subplots(1 + n_channels, n_samples, figsize=(10, 10))\n",
    "for k in range(n_samples):\n",
    "    axes[0, 0].set_ylabel(\"Input\")\n",
    "    if k != 0:\n",
    "        axes[0, k].yaxis.set_visible(False)\n",
    "    axes[0, k].imshow(train_images[k, :, :, 0], cmap=\"gray\")\n",
    "\n",
    "    # Plot all output channels\n",
    "    for c in range(n_channels):\n",
    "        axes[c + 1, 0].set_ylabel(\"Output [ch. {}]\".format(c))\n",
    "        if k != 0:\n",
    "            axes[c, k].yaxis.set_visible(False)\n",
    "        axes[c + 1, k].imshow(q_train_images[k, :, :, c], cmap=\"gray\")\n",
    "\n",
    "plt.tight_layout()\n",
    "plt.show()"
   ]
  },
  {
   "cell_type": "markdown",
   "id": "bf22489e",
   "metadata": {},
   "source": [
    "# Build quantum and classical model\n",
    "\n",
    "## Quantum model\n",
    "The model structure is \n",
    "```\n",
    "Quan > Flatten > Dense(10)\n",
    "```\n",
    "\n",
    "## Classical model\n",
    "The model structure is \n",
    "```\n",
    "Conv > Flatten > Dense(10)\n",
    "```"
   ]
  },
  {
   "cell_type": "code",
   "execution_count": 11,
   "id": "a27fb0cc",
   "metadata": {},
   "outputs": [],
   "source": [
    "def qModel():\n",
    "    \"\"\"Initializes and returns a custom Keras model\n",
    "    which is ready to be trained.\"\"\"\n",
    "    model = keras.models.Sequential([\n",
    "        keras.layers.Flatten(),\n",
    "        keras.layers.Dense(10, activation=\"softmax\")\n",
    "    ])\n",
    "\n",
    "    model.compile(\n",
    "        optimizer='adam',\n",
    "        loss=\"sparse_categorical_crossentropy\",\n",
    "        metrics=[\"accuracy\"],\n",
    "    )\n",
    "    return model\n",
    "\n",
    "def cModel():\n",
    "    \"\"\"Initializes and returns a custom Keras model\n",
    "    which is ready to be trained.\"\"\"\n",
    "    model = keras.models.Sequential([\n",
    "        keras.layers.Conv2D(4, 2, 1, input_shape = (28, 28, 1), activation = 'relu'),\n",
    "        keras.layers.Flatten(),\n",
    "        keras.layers.Dense(10, activation=\"softmax\")\n",
    "    ])\n",
    "\n",
    "    model.compile(\n",
    "        optimizer='adam',\n",
    "        loss=\"sparse_categorical_crossentropy\",\n",
    "        metrics=[\"accuracy\"],\n",
    "    )\n",
    "    return model\n"
   ]
  },
  {
   "cell_type": "markdown",
   "id": "f6b5f284",
   "metadata": {},
   "source": [
    "# Training classical and quantum model"
   ]
  },
  {
   "cell_type": "code",
   "execution_count": 12,
   "id": "18e5e51c",
   "metadata": {},
   "outputs": [
    {
     "name": "stderr",
     "output_type": "stream",
     "text": [
      "2022-08-01 23:42:59.871624: W tensorflow/stream_executor/platform/default/dso_loader.cc:64] Could not load dynamic library 'libcuda.so.1'; dlerror: libcuda.so.1: cannot open shared object file: No such file or directory; LD_LIBRARY_PATH: /home/cyc/software/root/lib\n",
      "2022-08-01 23:42:59.871671: W tensorflow/stream_executor/cuda/cuda_driver.cc:269] failed call to cuInit: UNKNOWN ERROR (303)\n"
     ]
    },
    {
     "name": "stdout",
     "output_type": "stream",
     "text": [
      "Epoch 1/50\n",
      "20/20 - 1s - loss: 2.1440 - accuracy: 0.3250 - val_loss: 1.8919 - val_accuracy: 0.4750 - 801ms/epoch - 40ms/step\n",
      "Epoch 2/50\n",
      "20/20 - 0s - loss: 1.4827 - accuracy: 0.7375 - val_loss: 1.4851 - val_accuracy: 0.6500 - 144ms/epoch - 7ms/step\n",
      "Epoch 3/50\n",
      "20/20 - 0s - loss: 0.9900 - accuracy: 0.8875 - val_loss: 1.1942 - val_accuracy: 0.7250 - 123ms/epoch - 6ms/step\n",
      "Epoch 4/50\n",
      "20/20 - 0s - loss: 0.6177 - accuracy: 0.9375 - val_loss: 0.9773 - val_accuracy: 0.7750 - 115ms/epoch - 6ms/step\n",
      "Epoch 5/50\n",
      "20/20 - 0s - loss: 0.3907 - accuracy: 0.9625 - val_loss: 0.8716 - val_accuracy: 0.8000 - 111ms/epoch - 6ms/step\n",
      "Epoch 6/50\n",
      "20/20 - 0s - loss: 0.2521 - accuracy: 1.0000 - val_loss: 0.8310 - val_accuracy: 0.7750 - 108ms/epoch - 5ms/step\n",
      "Epoch 7/50\n",
      "20/20 - 0s - loss: 0.1712 - accuracy: 1.0000 - val_loss: 0.8236 - val_accuracy: 0.7750 - 104ms/epoch - 5ms/step\n",
      "Epoch 8/50\n",
      "20/20 - 0s - loss: 0.1256 - accuracy: 1.0000 - val_loss: 0.7884 - val_accuracy: 0.8000 - 110ms/epoch - 5ms/step\n",
      "Epoch 9/50\n",
      "20/20 - 0s - loss: 0.0920 - accuracy: 1.0000 - val_loss: 0.8046 - val_accuracy: 0.8000 - 117ms/epoch - 6ms/step\n",
      "Epoch 10/50\n",
      "20/20 - 0s - loss: 0.0723 - accuracy: 1.0000 - val_loss: 0.7853 - val_accuracy: 0.8000 - 118ms/epoch - 6ms/step\n",
      "Epoch 11/50\n",
      "20/20 - 0s - loss: 0.0542 - accuracy: 1.0000 - val_loss: 0.7915 - val_accuracy: 0.8000 - 123ms/epoch - 6ms/step\n",
      "Epoch 12/50\n",
      "20/20 - 0s - loss: 0.0451 - accuracy: 1.0000 - val_loss: 0.7853 - val_accuracy: 0.8000 - 130ms/epoch - 7ms/step\n",
      "Epoch 13/50\n",
      "20/20 - 0s - loss: 0.0363 - accuracy: 1.0000 - val_loss: 0.7995 - val_accuracy: 0.8000 - 115ms/epoch - 6ms/step\n",
      "Epoch 14/50\n",
      "20/20 - 0s - loss: 0.0305 - accuracy: 1.0000 - val_loss: 0.8005 - val_accuracy: 0.8000 - 111ms/epoch - 6ms/step\n",
      "Epoch 15/50\n",
      "20/20 - 0s - loss: 0.0266 - accuracy: 1.0000 - val_loss: 0.8108 - val_accuracy: 0.8000 - 121ms/epoch - 6ms/step\n",
      "Epoch 16/50\n",
      "20/20 - 0s - loss: 0.0225 - accuracy: 1.0000 - val_loss: 0.8107 - val_accuracy: 0.8000 - 115ms/epoch - 6ms/step\n",
      "Epoch 17/50\n",
      "20/20 - 0s - loss: 0.0204 - accuracy: 1.0000 - val_loss: 0.8061 - val_accuracy: 0.7500 - 118ms/epoch - 6ms/step\n",
      "Epoch 18/50\n",
      "20/20 - 0s - loss: 0.0176 - accuracy: 1.0000 - val_loss: 0.8147 - val_accuracy: 0.8000 - 127ms/epoch - 6ms/step\n",
      "Epoch 19/50\n",
      "20/20 - 0s - loss: 0.0156 - accuracy: 1.0000 - val_loss: 0.8311 - val_accuracy: 0.8000 - 231ms/epoch - 12ms/step\n",
      "Epoch 20/50\n",
      "20/20 - 0s - loss: 0.0140 - accuracy: 1.0000 - val_loss: 0.8331 - val_accuracy: 0.7500 - 168ms/epoch - 8ms/step\n",
      "Epoch 21/50\n",
      "20/20 - 0s - loss: 0.0126 - accuracy: 1.0000 - val_loss: 0.8310 - val_accuracy: 0.7500 - 164ms/epoch - 8ms/step\n",
      "Epoch 22/50\n",
      "20/20 - 0s - loss: 0.0114 - accuracy: 1.0000 - val_loss: 0.8353 - val_accuracy: 0.8000 - 130ms/epoch - 7ms/step\n",
      "Epoch 23/50\n",
      "20/20 - 0s - loss: 0.0104 - accuracy: 1.0000 - val_loss: 0.8386 - val_accuracy: 0.8000 - 139ms/epoch - 7ms/step\n",
      "Epoch 24/50\n",
      "20/20 - 0s - loss: 0.0095 - accuracy: 1.0000 - val_loss: 0.8473 - val_accuracy: 0.7500 - 107ms/epoch - 5ms/step\n",
      "Epoch 25/50\n",
      "20/20 - 0s - loss: 0.0088 - accuracy: 1.0000 - val_loss: 0.8491 - val_accuracy: 0.7750 - 113ms/epoch - 6ms/step\n",
      "Epoch 26/50\n",
      "20/20 - 0s - loss: 0.0080 - accuracy: 1.0000 - val_loss: 0.8530 - val_accuracy: 0.7500 - 107ms/epoch - 5ms/step\n",
      "Epoch 27/50\n",
      "20/20 - 0s - loss: 0.0075 - accuracy: 1.0000 - val_loss: 0.8635 - val_accuracy: 0.7500 - 104ms/epoch - 5ms/step\n",
      "Epoch 28/50\n",
      "20/20 - 0s - loss: 0.0069 - accuracy: 1.0000 - val_loss: 0.8691 - val_accuracy: 0.7500 - 123ms/epoch - 6ms/step\n",
      "Epoch 29/50\n",
      "20/20 - 0s - loss: 0.0064 - accuracy: 1.0000 - val_loss: 0.8695 - val_accuracy: 0.7500 - 139ms/epoch - 7ms/step\n",
      "Epoch 30/50\n",
      "20/20 - 0s - loss: 0.0060 - accuracy: 1.0000 - val_loss: 0.8714 - val_accuracy: 0.7500 - 112ms/epoch - 6ms/step\n",
      "Epoch 31/50\n",
      "20/20 - 0s - loss: 0.0056 - accuracy: 1.0000 - val_loss: 0.8733 - val_accuracy: 0.7500 - 117ms/epoch - 6ms/step\n",
      "Epoch 32/50\n",
      "20/20 - 0s - loss: 0.0052 - accuracy: 1.0000 - val_loss: 0.8770 - val_accuracy: 0.7250 - 125ms/epoch - 6ms/step\n",
      "Epoch 33/50\n",
      "20/20 - 0s - loss: 0.0049 - accuracy: 1.0000 - val_loss: 0.8838 - val_accuracy: 0.7250 - 111ms/epoch - 6ms/step\n",
      "Epoch 34/50\n",
      "20/20 - 0s - loss: 0.0046 - accuracy: 1.0000 - val_loss: 0.8875 - val_accuracy: 0.7250 - 111ms/epoch - 6ms/step\n",
      "Epoch 35/50\n",
      "20/20 - 0s - loss: 0.0043 - accuracy: 1.0000 - val_loss: 0.8906 - val_accuracy: 0.7250 - 116ms/epoch - 6ms/step\n",
      "Epoch 36/50\n",
      "20/20 - 0s - loss: 0.0041 - accuracy: 1.0000 - val_loss: 0.8940 - val_accuracy: 0.7250 - 119ms/epoch - 6ms/step\n",
      "Epoch 37/50\n",
      "20/20 - 0s - loss: 0.0039 - accuracy: 1.0000 - val_loss: 0.8990 - val_accuracy: 0.7250 - 117ms/epoch - 6ms/step\n",
      "Epoch 38/50\n",
      "20/20 - 0s - loss: 0.0037 - accuracy: 1.0000 - val_loss: 0.8998 - val_accuracy: 0.7250 - 106ms/epoch - 5ms/step\n",
      "Epoch 39/50\n",
      "20/20 - 0s - loss: 0.0035 - accuracy: 1.0000 - val_loss: 0.9032 - val_accuracy: 0.7250 - 117ms/epoch - 6ms/step\n",
      "Epoch 40/50\n",
      "20/20 - 0s - loss: 0.0033 - accuracy: 1.0000 - val_loss: 0.9123 - val_accuracy: 0.7250 - 106ms/epoch - 5ms/step\n",
      "Epoch 41/50\n",
      "20/20 - 0s - loss: 0.0031 - accuracy: 1.0000 - val_loss: 0.9143 - val_accuracy: 0.7250 - 107ms/epoch - 5ms/step\n",
      "Epoch 42/50\n",
      "20/20 - 0s - loss: 0.0030 - accuracy: 1.0000 - val_loss: 0.9190 - val_accuracy: 0.7250 - 121ms/epoch - 6ms/step\n",
      "Epoch 43/50\n",
      "20/20 - 0s - loss: 0.0028 - accuracy: 1.0000 - val_loss: 0.9218 - val_accuracy: 0.7250 - 116ms/epoch - 6ms/step\n",
      "Epoch 44/50\n",
      "20/20 - 0s - loss: 0.0027 - accuracy: 1.0000 - val_loss: 0.9220 - val_accuracy: 0.7250 - 106ms/epoch - 5ms/step\n",
      "Epoch 45/50\n",
      "20/20 - 0s - loss: 0.0026 - accuracy: 1.0000 - val_loss: 0.9271 - val_accuracy: 0.7250 - 121ms/epoch - 6ms/step\n",
      "Epoch 46/50\n",
      "20/20 - 0s - loss: 0.0025 - accuracy: 1.0000 - val_loss: 0.9315 - val_accuracy: 0.7250 - 109ms/epoch - 5ms/step\n",
      "Epoch 47/50\n",
      "20/20 - 0s - loss: 0.0023 - accuracy: 1.0000 - val_loss: 0.9359 - val_accuracy: 0.7250 - 108ms/epoch - 5ms/step\n",
      "Epoch 48/50\n",
      "20/20 - 0s - loss: 0.0022 - accuracy: 1.0000 - val_loss: 0.9356 - val_accuracy: 0.7250 - 128ms/epoch - 6ms/step\n",
      "Epoch 49/50\n",
      "20/20 - 0s - loss: 0.0021 - accuracy: 1.0000 - val_loss: 0.9417 - val_accuracy: 0.7250 - 107ms/epoch - 5ms/step\n",
      "Epoch 50/50\n",
      "20/20 - 0s - loss: 0.0021 - accuracy: 1.0000 - val_loss: 0.9467 - val_accuracy: 0.7250 - 105ms/epoch - 5ms/step\n",
      "Epoch 1/50\n",
      "20/20 - 1s - loss: 2.4517 - accuracy: 0.1375 - val_loss: 2.1686 - val_accuracy: 0.2750 - 647ms/epoch - 32ms/step\n",
      "Epoch 2/50\n",
      "20/20 - 0s - loss: 2.1385 - accuracy: 0.2250 - val_loss: 1.9867 - val_accuracy: 0.3750 - 78ms/epoch - 4ms/step\n",
      "Epoch 3/50\n",
      "20/20 - 0s - loss: 2.0258 - accuracy: 0.3125 - val_loss: 1.8939 - val_accuracy: 0.4750 - 77ms/epoch - 4ms/step\n",
      "Epoch 4/50\n",
      "20/20 - 0s - loss: 1.8856 - accuracy: 0.3875 - val_loss: 1.7956 - val_accuracy: 0.5250 - 76ms/epoch - 4ms/step\n",
      "Epoch 5/50\n",
      "20/20 - 0s - loss: 1.7724 - accuracy: 0.5500 - val_loss: 1.7425 - val_accuracy: 0.6250 - 81ms/epoch - 4ms/step\n",
      "Epoch 6/50\n",
      "20/20 - 0s - loss: 1.5840 - accuracy: 0.6875 - val_loss: 1.6158 - val_accuracy: 0.5750 - 87ms/epoch - 4ms/step\n",
      "Epoch 7/50\n",
      "20/20 - 0s - loss: 1.4733 - accuracy: 0.5875 - val_loss: 1.5763 - val_accuracy: 0.5750 - 73ms/epoch - 4ms/step\n",
      "Epoch 8/50\n",
      "20/20 - 0s - loss: 1.3795 - accuracy: 0.7125 - val_loss: 1.5086 - val_accuracy: 0.6500 - 90ms/epoch - 4ms/step\n",
      "Epoch 9/50\n",
      "20/20 - 0s - loss: 1.2921 - accuracy: 0.6625 - val_loss: 1.4437 - val_accuracy: 0.7000 - 85ms/epoch - 4ms/step\n",
      "Epoch 10/50\n",
      "20/20 - 0s - loss: 1.1877 - accuracy: 0.8625 - val_loss: 1.3790 - val_accuracy: 0.6750 - 77ms/epoch - 4ms/step\n",
      "Epoch 11/50\n",
      "20/20 - 0s - loss: 1.1193 - accuracy: 0.7750 - val_loss: 1.3543 - val_accuracy: 0.7250 - 99ms/epoch - 5ms/step\n",
      "Epoch 12/50\n",
      "20/20 - 0s - loss: 1.0598 - accuracy: 0.8750 - val_loss: 1.2927 - val_accuracy: 0.7500 - 95ms/epoch - 5ms/step\n",
      "Epoch 13/50\n",
      "20/20 - 0s - loss: 1.0131 - accuracy: 0.7750 - val_loss: 1.2537 - val_accuracy: 0.6750 - 84ms/epoch - 4ms/step\n",
      "Epoch 14/50\n",
      "20/20 - 0s - loss: 0.9359 - accuracy: 0.8875 - val_loss: 1.2439 - val_accuracy: 0.7250 - 100ms/epoch - 5ms/step\n",
      "Epoch 15/50\n",
      "20/20 - 0s - loss: 0.8950 - accuracy: 0.9375 - val_loss: 1.1870 - val_accuracy: 0.7250 - 96ms/epoch - 5ms/step\n",
      "Epoch 16/50\n",
      "20/20 - 0s - loss: 0.8481 - accuracy: 0.8500 - val_loss: 1.1684 - val_accuracy: 0.7000 - 92ms/epoch - 5ms/step\n",
      "Epoch 17/50\n",
      "20/20 - 0s - loss: 0.7719 - accuracy: 0.9250 - val_loss: 1.1365 - val_accuracy: 0.6750 - 87ms/epoch - 4ms/step\n",
      "Epoch 18/50\n",
      "20/20 - 0s - loss: 0.7411 - accuracy: 0.9125 - val_loss: 1.1106 - val_accuracy: 0.7500 - 117ms/epoch - 6ms/step\n",
      "Epoch 19/50\n",
      "20/20 - 0s - loss: 0.7236 - accuracy: 0.9500 - val_loss: 1.0947 - val_accuracy: 0.7000 - 193ms/epoch - 10ms/step\n",
      "Epoch 20/50\n",
      "20/20 - 0s - loss: 0.6731 - accuracy: 0.9375 - val_loss: 1.0759 - val_accuracy: 0.7250 - 137ms/epoch - 7ms/step\n",
      "Epoch 21/50\n",
      "20/20 - 0s - loss: 0.6360 - accuracy: 0.9625 - val_loss: 1.0538 - val_accuracy: 0.7250 - 75ms/epoch - 4ms/step\n",
      "Epoch 22/50\n",
      "20/20 - 0s - loss: 0.6295 - accuracy: 0.9500 - val_loss: 1.0220 - val_accuracy: 0.7500 - 81ms/epoch - 4ms/step\n",
      "Epoch 23/50\n",
      "20/20 - 0s - loss: 0.6002 - accuracy: 0.8875 - val_loss: 1.0105 - val_accuracy: 0.7250 - 74ms/epoch - 4ms/step\n",
      "Epoch 24/50\n",
      "20/20 - 0s - loss: 0.5768 - accuracy: 0.9625 - val_loss: 1.0036 - val_accuracy: 0.7500 - 76ms/epoch - 4ms/step\n",
      "Epoch 25/50\n",
      "20/20 - 0s - loss: 0.5318 - accuracy: 0.9375 - val_loss: 0.9763 - val_accuracy: 0.7500 - 90ms/epoch - 5ms/step\n",
      "Epoch 26/50\n",
      "20/20 - 0s - loss: 0.5170 - accuracy: 0.9750 - val_loss: 0.9804 - val_accuracy: 0.7500 - 98ms/epoch - 5ms/step\n",
      "Epoch 27/50\n",
      "20/20 - 0s - loss: 0.4881 - accuracy: 0.9750 - val_loss: 0.9482 - val_accuracy: 0.7250 - 88ms/epoch - 4ms/step\n",
      "Epoch 28/50\n",
      "20/20 - 0s - loss: 0.4901 - accuracy: 0.9625 - val_loss: 0.9397 - val_accuracy: 0.7750 - 70ms/epoch - 3ms/step\n",
      "Epoch 29/50\n",
      "20/20 - 0s - loss: 0.4515 - accuracy: 0.9750 - val_loss: 0.9477 - val_accuracy: 0.7250 - 71ms/epoch - 4ms/step\n",
      "Epoch 30/50\n",
      "20/20 - 0s - loss: 0.4366 - accuracy: 0.9625 - val_loss: 0.9346 - val_accuracy: 0.7750 - 73ms/epoch - 4ms/step\n",
      "Epoch 31/50\n",
      "20/20 - 0s - loss: 0.4140 - accuracy: 0.9750 - val_loss: 0.9101 - val_accuracy: 0.7500 - 76ms/epoch - 4ms/step\n",
      "Epoch 32/50\n",
      "20/20 - 0s - loss: 0.4081 - accuracy: 0.9750 - val_loss: 0.8994 - val_accuracy: 0.7750 - 81ms/epoch - 4ms/step\n",
      "Epoch 33/50\n",
      "20/20 - 0s - loss: 0.3906 - accuracy: 0.9875 - val_loss: 0.8989 - val_accuracy: 0.7750 - 75ms/epoch - 4ms/step\n",
      "Epoch 34/50\n",
      "20/20 - 0s - loss: 0.3794 - accuracy: 0.9750 - val_loss: 0.8879 - val_accuracy: 0.7750 - 77ms/epoch - 4ms/step\n",
      "Epoch 35/50\n",
      "20/20 - 0s - loss: 0.3489 - accuracy: 0.9875 - val_loss: 0.8874 - val_accuracy: 0.7750 - 80ms/epoch - 4ms/step\n",
      "Epoch 36/50\n",
      "20/20 - 0s - loss: 0.3486 - accuracy: 0.9750 - val_loss: 0.8869 - val_accuracy: 0.7500 - 105ms/epoch - 5ms/step\n",
      "Epoch 37/50\n",
      "20/20 - 0s - loss: 0.3335 - accuracy: 1.0000 - val_loss: 0.8556 - val_accuracy: 0.7750 - 87ms/epoch - 4ms/step\n",
      "Epoch 38/50\n",
      "20/20 - 0s - loss: 0.3162 - accuracy: 0.9875 - val_loss: 0.8747 - val_accuracy: 0.7250 - 81ms/epoch - 4ms/step\n",
      "Epoch 39/50\n",
      "20/20 - 0s - loss: 0.3203 - accuracy: 0.9875 - val_loss: 0.8700 - val_accuracy: 0.8000 - 78ms/epoch - 4ms/step\n",
      "Epoch 40/50\n",
      "20/20 - 0s - loss: 0.3065 - accuracy: 1.0000 - val_loss: 0.8320 - val_accuracy: 0.7500 - 72ms/epoch - 4ms/step\n",
      "Epoch 41/50\n",
      "20/20 - 0s - loss: 0.2945 - accuracy: 0.9875 - val_loss: 0.8829 - val_accuracy: 0.7500 - 84ms/epoch - 4ms/step\n",
      "Epoch 42/50\n",
      "20/20 - 0s - loss: 0.2750 - accuracy: 1.0000 - val_loss: 0.8343 - val_accuracy: 0.7750 - 91ms/epoch - 5ms/step\n",
      "Epoch 43/50\n",
      "20/20 - 0s - loss: 0.2672 - accuracy: 1.0000 - val_loss: 0.8358 - val_accuracy: 0.7500 - 81ms/epoch - 4ms/step\n",
      "Epoch 44/50\n",
      "20/20 - 0s - loss: 0.2567 - accuracy: 1.0000 - val_loss: 0.8321 - val_accuracy: 0.7500 - 79ms/epoch - 4ms/step\n",
      "Epoch 45/50\n",
      "20/20 - 0s - loss: 0.2510 - accuracy: 1.0000 - val_loss: 0.8333 - val_accuracy: 0.7500 - 87ms/epoch - 4ms/step\n",
      "Epoch 46/50\n",
      "20/20 - 0s - loss: 0.2502 - accuracy: 1.0000 - val_loss: 0.8252 - val_accuracy: 0.7500 - 84ms/epoch - 4ms/step\n",
      "Epoch 47/50\n",
      "20/20 - 0s - loss: 0.2527 - accuracy: 1.0000 - val_loss: 0.8104 - val_accuracy: 0.7750 - 89ms/epoch - 4ms/step\n",
      "Epoch 48/50\n",
      "20/20 - 0s - loss: 0.2448 - accuracy: 0.9875 - val_loss: 0.8195 - val_accuracy: 0.7500 - 85ms/epoch - 4ms/step\n",
      "Epoch 49/50\n",
      "20/20 - 0s - loss: 0.2249 - accuracy: 1.0000 - val_loss: 0.8238 - val_accuracy: 0.7500 - 92ms/epoch - 5ms/step\n",
      "Epoch 50/50\n",
      "20/20 - 0s - loss: 0.2123 - accuracy: 1.0000 - val_loss: 0.8093 - val_accuracy: 0.7500 - 84ms/epoch - 4ms/step\n"
     ]
    }
   ],
   "source": [
    "\n",
    "c_history = cModel().fit(\n",
    "    train_images,\n",
    "    train_labels,\n",
    "    validation_data=(test_images, test_labels),\n",
    "    batch_size=4,\n",
    "    epochs=n_epochs,\n",
    "    verbose=2,\n",
    ")\n",
    "\n",
    "\n",
    "q_history = qModel().fit(\n",
    "    q_train_images,\n",
    "    train_labels,\n",
    "    validation_data=(q_test_images, test_labels),\n",
    "    batch_size=4,\n",
    "    epochs=n_epochs,\n",
    "    verbose=2,\n",
    ")\n"
   ]
  },
  {
   "cell_type": "markdown",
   "id": "ed5035cd",
   "metadata": {},
   "source": [
    "# Result"
   ]
  },
  {
   "cell_type": "code",
   "execution_count": 13,
   "id": "23de9bb6",
   "metadata": {},
   "outputs": [
    {
     "data": {
      "image/png": "[encoded data removed]",
      "text/plain": [
       "<Figure size 864x432 with 2 Axes>"
      ]
     },
     "metadata": {
      "needs_background": "light"
     },
     "output_type": "display_data"
    }
   ],
   "source": [
    "fig, (ax1, ax2) = plt.subplots(1, 2, figsize=(12, 6))\n",
    "\n",
    "ax1.plot(q_history.history[\"val_accuracy\"], \"-ob\", label=\"With quantum layer\")\n",
    "ax1.plot(c_history.history[\"val_accuracy\"], \"-og\", label=\"Without quantum layer\")\n",
    "ax1.set_ylabel(\"Accuracy\")\n",
    "ax1.set_ylim([0, 1])\n",
    "ax1.set_xlabel(\"Epoch\")\n",
    "ax1.legend()\n",
    "\n",
    "ax2.plot(q_history.history[\"val_loss\"], \"-ob\", label=\"With quantum layer\")\n",
    "ax2.plot(c_history.history[\"val_loss\"], \"-og\", label=\"Without quantum layer\")\n",
    "ax2.set_ylabel(\"Loss\")\n",
    "ax2.set_ylim(top=2.5)\n",
    "ax2.set_xlabel(\"Epoch\")\n",
    "ax2.legend()\n",
    "plt.tight_layout()\n",
    "#fig.savefig(\"result.png\")\n",
    "plt.show()"
   ]
  }
 ],
 "metadata": {
  "kernelspec": {
   "display_name": "Python 3 (ipykernel)",
   "language": "python",
   "name": "python3"
  },
  "language_info": {
   "codemirror_mode": {
    "name": "ipython",
    "version": 3
   },
   "file_extension": ".py",
   "mimetype": "text/x-python",
   "name": "python",
   "nbconvert_exporter": "python",
   "pygments_lexer": "ipython3",
   "version": "3.9.7"
  }
 },
 "nbformat": 4,
 "nbformat_minor": 5
}
