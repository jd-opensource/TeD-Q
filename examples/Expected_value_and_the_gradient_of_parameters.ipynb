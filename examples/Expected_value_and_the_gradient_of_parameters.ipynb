{
 "cells": [
  {
   "cell_type": "markdown",
   "id": "1e4b5cc8",
   "metadata": {},
   "source": [
    "# Expected value and the gradient of parameters\n",
    "In this example, we show how to calculate the expected value of a parameterized quantum circuit and the way to extract the graident of each parameters via Ted-Q module and pyTorch module"
   ]
  },
  {
   "cell_type": "code",
   "execution_count": 1,
   "id": "5c71996c",
   "metadata": {},
   "outputs": [],
   "source": [
    "import tedq as qai\n",
    "import torch\n",
    "import numpy as np"
   ]
  },
  {
   "cell_type": "code",
   "execution_count": 2,
   "id": "bad33ee2",
   "metadata": {},
   "outputs": [],
   "source": [
    "n_qubits=3"
   ]
  },
  {
   "cell_type": "markdown",
   "id": "3e85322d",
   "metadata": {},
   "source": [
    "### Circuit definition"
   ]
  },
  {
   "cell_type": "code",
   "execution_count": 3,
   "id": "2c7a0181",
   "metadata": {},
   "outputs": [],
   "source": [
    "def circuitDef(theta):\n",
    "    # Circuit\n",
    "    qai.RX(theta[0], qubits=[0])\n",
    "    qai.RY(theta[1], qubits=[1])\n",
    "    qai.RZ(theta[2], qubits=[2])\n",
    "    \n",
    "    qai.CNOT(qubits=[0, 1])\n",
    "    qai.CNOT(qubits=[1, 2])\n",
    "    qai.CNOT(qubits=[2, 0])\n",
    "    \n",
    "    # Measurement\n",
    "    for idx in range(n_qubits):\n",
    "        qai.measurement.expval(qai.PauliZ(qubits=[idx]))"
   ]
  },
  {
   "cell_type": "markdown",
   "id": "db722174",
   "metadata": {},
   "source": [
    "### Parse the circuit"
   ]
  },
  {
   "cell_type": "code",
   "execution_count": 4,
   "id": "ea695176",
   "metadata": {},
   "outputs": [],
   "source": [
    "circuit = qai.Circuit(circuitDef, n_qubits, torch.rand(n_qubits))"
   ]
  },
  {
   "cell_type": "markdown",
   "id": "6c694952",
   "metadata": {},
   "source": [
    "### Draw the circuit"
   ]
  },
  {
   "cell_type": "code",
   "execution_count": 5,
   "id": "21b18d18",
   "metadata": {},
   "outputs": [
    {
     "data": {
      "image/png": "[encoded data removed]",
      "text/plain": [
       "<Figure size 500x600 with 1 Axes>"
      ]
     },
     "metadata": {},
     "output_type": "display_data"
    }
   ],
   "source": [
    "drawer = qai.matplotlib_drawer(circuit, dpi=100, figsize=(5,6))\n",
    "drawer.full_draw()"
   ]
  },
  {
   "cell_type": "markdown",
   "id": "22fceef1",
   "metadata": {},
   "source": [
    "### Compile the circuit"
   ]
  },
  {
   "cell_type": "code",
   "execution_count": 6,
   "id": "ff43b504",
   "metadata": {},
   "outputs": [
    {
     "name": "stdout",
     "output_type": "stream",
     "text": [
      "log10(flops) of this quantum circuit:   2.380211241711787\n"
     ]
    }
   ],
   "source": [
    "my_compilecircuit = circuit.compilecircuit(backend=\"pytorch\" )"
   ]
  },
  {
   "cell_type": "markdown",
   "id": "c4ebab1f",
   "metadata": {},
   "source": [
    "### init the parameters"
   ]
  },
  {
   "cell_type": "code",
   "execution_count": 7,
   "id": "767fc45e",
   "metadata": {},
   "outputs": [],
   "source": [
    "params = torch.rand(n_qubits, requires_grad=True)"
   ]
  },
  {
   "cell_type": "markdown",
   "id": "c8c96515",
   "metadata": {},
   "source": [
    "### calculate the expected value of the circuit"
   ]
  },
  {
   "cell_type": "code",
   "execution_count": 8,
   "id": "1a4e71e1",
   "metadata": {},
   "outputs": [],
   "source": [
    "exp_val = my_compilecircuit(params)"
   ]
  },
  {
   "cell_type": "markdown",
   "id": "19ab52d6",
   "metadata": {},
   "source": [
    "### calculate the gradient"
   ]
  },
  {
   "cell_type": "code",
   "execution_count": 9,
   "id": "101be110",
   "metadata": {},
   "outputs": [],
   "source": [
    "optimizer = torch.optim.Adam([params], lr=0.5)\n",
    "loss = torch.nn.MSELoss(reduction='mean')\n",
    "l = loss(exp_val, torch.Tensor([0, 1, 1]))\n",
    "l.backward()"
   ]
  },
  {
   "cell_type": "markdown",
   "id": "efcebc1d",
   "metadata": {},
   "source": [
    "### Print the result"
   ]
  },
  {
   "cell_type": "code",
   "execution_count": 10,
   "id": "4939aa87",
   "metadata": {},
   "outputs": [
    {
     "name": "stdout",
     "output_type": "stream",
     "text": [
      "Initial parameters:  tensor([0.1221, 0.3341, 0.5405], requires_grad=True)\n",
      "Expected value from circuit:  tensor([0.9447, 0.9377, 0.9377], grad_fn=<StackBackward0>)\n",
      "Gradient of parameters tensor([ 0.0096, -0.1795,  0.0000])\n"
     ]
    }
   ],
   "source": [
    "print(\"Initial parameters: \", params)\n",
    "print(\"Expected value from circuit: \", exp_val)\n",
    "print(\"Gradient of parameters\", params.grad)"
   ]
  }
 ],
 "metadata": {
  "kernelspec": {
   "display_name": "Python 3 (ipykernel)",
   "language": "python",
   "name": "python3"
  },
  "language_info": {
   "codemirror_mode": {
    "name": "ipython",
    "version": 3
   },
   "file_extension": ".py",
   "mimetype": "text/x-python",
   "name": "python",
   "nbconvert_exporter": "python",
   "pygments_lexer": "ipython3",
   "version": "3.9.7"
  }
 },
 "nbformat": 4,
 "nbformat_minor": 5
}
