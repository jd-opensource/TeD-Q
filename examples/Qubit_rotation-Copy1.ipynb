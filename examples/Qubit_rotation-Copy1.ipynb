{
 "cells": [
  {
   "cell_type": "markdown",
   "id": "ed7dc858",
   "metadata": {
    "tags": []
   },
   "source": [
    "# Qubit rotation\n",
    "\n",
    "This example shows the basic operation of machine learning framework with a quantum device. A qubit is initilized with a arbitary Rx and Ry rotation and the target state is pure |1> state. After several steps of the iteration. The rotation angle of Rx and Ry will converge to 0 and pi. \n",
    "\n",
    "### About this example\n",
    "The example contains the model compiled with three different configurations of backends and interfaces -- JAX backend, JAX backend with pytorch interface and pytorch backend.\n",
    "The example also shows how to use state vector propagation mode and tensor network contraction mode. And two methods for obtaining gradient -- back propagation and parameter shift."
   ]
  },
  {
   "cell_type": "markdown",
   "id": "496147a8",
   "metadata": {},
   "source": [
    "# Initialization"
   ]
  },
  {
   "cell_type": "code",
   "execution_count": 1,
   "id": "7f2359d8",
   "metadata": {},
   "outputs": [],
   "source": [
    "import tedq as qai"
   ]
  },
  {
   "cell_type": "markdown",
   "id": "d2bda454",
   "metadata": {
    "tags": []
   },
   "source": [
    "# Define the quantum model"
   ]
  },
  {
   "cell_type": "markdown",
   "id": "e88114ab",
   "metadata": {},
   "source": [
    "### Define the circuit with TeD-Q framework\n",
    "#### (Remember, if you have multiple measurements, all the measurement results should has the same shape!)"
   ]
  },
  {
   "cell_type": "code",
   "execution_count": 2,
   "id": "391463f5",
   "metadata": {},
   "outputs": [],
   "source": [
    "# Define quantum circuit\n",
    "def circuitDef(params):\n",
    "    qai.RX(params[0], qubits=[0])\n",
    "    qai.RY(params[1], qubits=[0])\n",
    "    return qai.expval(qai.PauliZ(qubits=[0]))\n",
    "\n",
    "number_of_qubits = 1\n",
    "parameter_shapes = [(2,)]\n",
    "\n",
    "# Quantum circuit construction\n",
    "circuit = qai.Circuit(circuitDef, number_of_qubits, parameter_shapes = parameter_shapes)"
   ]
  },
  {
   "cell_type": "code",
   "execution_count": 3,
   "id": "0fb24529",
   "metadata": {},
   "outputs": [
    {
     "data": {
      "image/png": "[encoded data removed]",
      "text/plain": [
       "<Figure size 1080x1080 with 1 Axes>"
      ]
     },
     "metadata": {},
     "output_type": "display_data"
    }
   ],
   "source": [
    "# visualization of the quantum circuit\n",
    "drawer = qai.matplotlib_drawer(circuit)\n",
    "drawer.draw_circuit()"
   ]
  },
  {
   "cell_type": "markdown",
   "id": "33bfa98e",
   "metadata": {
    "tags": []
   },
   "source": [
    "# Circuit compiled with JAX backend\n",
    "Gradient will obtain from backpropagation by default"
   ]
  },
  {
   "cell_type": "markdown",
   "id": "e5943f0c",
   "metadata": {
    "tags": []
   },
   "source": [
    "### state vector propagation mode"
   ]
  },
  {
   "cell_type": "code",
   "execution_count": 4,
   "id": "7315fe6f",
   "metadata": {
    "tags": []
   },
   "outputs": [
    {
     "name": "stdout",
     "output_type": "stream",
     "text": [
      "log10(flops) of this quantum circuit:   1.079181246051244\n"
     ]
    }
   ],
   "source": [
    "my_compilecircuit = circuit.compilecircuit(backend=\"jax\")"
   ]
  },
  {
   "cell_type": "markdown",
   "id": "5f8b990a",
   "metadata": {
    "tags": []
   },
   "source": [
    "### tensor network contraction mode"
   ]
  },
  {
   "cell_type": "markdown",
   "id": "1081917e",
   "metadata": {
    "tags": []
   },
   "source": [
    "#### Use CoTenGra"
   ]
  },
  {
   "cell_type": "code",
   "execution_count": 5,
   "id": "55658bb8",
   "metadata": {
    "tags": []
   },
   "outputs": [],
   "source": [
    "# slicing_opts = {'target_size': 2**28}\n",
    "# hyper_opt = {'methods':['kahypar'], 'max_time':120, 'max_repeats':12, 'progbar':True, 'minimize':'flops', 'parallel':True, 'slicing_opts':slicing_opts}\n",
    "# import cotengra as ctg\n",
    "# my_compilecircuit = circuit.compilecircuit(backend=\"jax\", use_cotengra=ctg, hyper_opt = hyper_opt)"
   ]
  },
  {
   "cell_type": "markdown",
   "id": "8afc1347",
   "metadata": {},
   "source": [
    "#### Use JDtensorPath (Suggested)\n",
    "1. 'target_num_slices' is useful if you want to do the contraction in parallel, it will devide the tensor network into pieces and then calculat them in parallel\n",
    "2. 'math_repeats' means how many times are going to run JDtensorPath to find a best contraction path\n",
    "3. 'search_parallel' means to run the JDtensorPath in parallel, True means to use all the CPUs, integer number means to use that number of CPUs\n"
   ]
  },
  {
   "cell_type": "code",
   "execution_count": 6,
   "id": "57ee930d",
   "metadata": {},
   "outputs": [
    {
     "name": "stdout",
     "output_type": "stream",
     "text": [
      "log10(flops) of this quantum circuit:   1.079181246051244\n"
     ]
    },
    {
     "name": "stderr",
     "output_type": "stream",
     "text": [
      "2022-08-30 17:32:55,140\tINFO services.py:1263 -- View the Ray dashboard at \u001b[1m\u001b[32mhttp://127.0.0.1:8265\u001b[39m\u001b[22m\n"
     ]
    },
    {
     "name": "stdout",
     "output_type": "stream",
     "text": [
      "log2(size) before slicing:  2.0000000000360676\n",
      "log10(flops) before removed:    1.5910646070276129\n"
     ]
    }
   ],
   "source": [
    "from jdtensorpath import JDOptTN as jdopttn\n",
    "slicing_opts = {'target_size':2**28, 'repeats':500, 'target_num_slices':None, 'contract_parallel':False}\n",
    "hyper_opt = {'methods':['kahypar'], 'max_time':120, 'max_repeats':12, 'search_parallel':True, 'slicing_opts':slicing_opts}\n",
    "my_compilecircuit = circuit.compilecircuit(backend=\"jax\", use_jdopttn=jdopttn, hyper_opt = hyper_opt, tn_simplify = False)"
   ]
  },
  {
   "cell_type": "markdown",
   "id": "a1943e7f",
   "metadata": {},
   "source": [
    "### Define cost function"
   ]
  },
  {
   "cell_type": "code",
   "execution_count": 7,
   "id": "2b076eb7",
   "metadata": {},
   "outputs": [],
   "source": [
    "def cost(*params):\n",
    "    return my_compilecircuit(*params)[0]"
   ]
  },
  {
   "cell_type": "code",
   "execution_count": 8,
   "id": "a1ee628f",
   "metadata": {},
   "outputs": [
    {
     "name": "stderr",
     "output_type": "stream",
     "text": [
      "WARNING:absl:No GPU/TPU found, falling back to CPU. (Set TF_CPP_MIN_LOG_LEVEL=0 and rerun for more info.)\n"
     ]
    },
    {
     "data": {
      "text/plain": [
       "DeviceArray(0.9998675, dtype=float32)"
      ]
     },
     "execution_count": 8,
     "metadata": {},
     "output_type": "execute_result"
    }
   ],
   "source": [
    "new_params = (0.011, 0.012)\n",
    "cost(*new_params)"
   ]
  },
  {
   "cell_type": "markdown",
   "id": "d4ac31e0",
   "metadata": {},
   "source": [
    "### Define optimizer\n",
    "TeD-Q built-in optimizer"
   ]
  },
  {
   "cell_type": "code",
   "execution_count": 9,
   "id": "4ad7283a",
   "metadata": {},
   "outputs": [],
   "source": [
    "Optimizer = qai.GradientDescentOptimizer(cost, [0, 1], 0.4, interface=\"jax\")"
   ]
  },
  {
   "cell_type": "markdown",
   "id": "034a24b2",
   "metadata": {},
   "source": [
    "### Training"
   ]
  },
  {
   "cell_type": "code",
   "execution_count": 10,
   "id": "034de72f",
   "metadata": {},
   "outputs": [
    {
     "name": "stdout",
     "output_type": "stream",
     "text": [
      "Cost after step     5:  0.9961779\n",
      "Parameters after step     5: (DeviceArray(0.05911537, dtype=float32), DeviceArray(0.0644936, dtype=float32))\n",
      "Cost after step    10:  0.8974943\n",
      "Parameters after step    10: (DeviceArray(0.31109664, dtype=float32), DeviceArray(0.34002095, dtype=float32))\n",
      "Cost after step    15:  0.1440489\n",
      "Parameters after step    15: (DeviceArray(1.0953041, dtype=float32), DeviceArray(1.250686, dtype=float32))\n",
      "Cost after step    20: -0.1536726\n",
      "Parameters after step    20: (DeviceArray(1.1317844, dtype=float32), DeviceArray(1.9407196, dtype=float32))\n",
      "Cost after step    25: -0.9152499\n",
      "Parameters after step    25: (DeviceArray(0.2926945, dtype=float32), DeviceArray(2.8435214, dtype=float32))\n",
      "Cost after step    30: -0.9994047\n",
      "Parameters after step    30: (DeviceArray(0.02419346, dtype=float32), DeviceArray(3.116981, dtype=float32))\n",
      "Cost after step    35: -0.9999964\n",
      "Parameters after step    35: (DeviceArray(0.00188206, dtype=float32), DeviceArray(3.139678, dtype=float32))\n",
      "Cost after step    40: -1.0000000\n",
      "Parameters after step    40: (DeviceArray(0.00014635, dtype=float32), DeviceArray(3.1414437, dtype=float32))\n",
      "Cost after step    45: -1.0000000\n",
      "Parameters after step    45: (DeviceArray(1.1380143e-05, dtype=float32), DeviceArray(3.141581, dtype=float32))\n",
      "Cost after step    50: -1.0000000\n",
      "Parameters after step    50: (DeviceArray(8.8491987e-07, dtype=float32), DeviceArray(3.1415918, dtype=float32))\n",
      "Cost after step    55: -1.0000000\n",
      "Parameters after step    55: (DeviceArray(6.881137e-08, dtype=float32), DeviceArray(3.1415925, dtype=float32))\n",
      "Cost after step    60: -1.0000000\n",
      "Parameters after step    60: (DeviceArray(5.3507714e-09, dtype=float32), DeviceArray(3.1415925, dtype=float32))\n",
      "Cost after step    65: -1.0000000\n",
      "Parameters after step    65: (DeviceArray(4.1607598e-10, dtype=float32), DeviceArray(3.1415925, dtype=float32))\n",
      "Cost after step    70: -1.0000000\n",
      "Parameters after step    70: (DeviceArray(3.2354067e-11, dtype=float32), DeviceArray(3.1415925, dtype=float32))\n",
      "Cost after step    75: -1.0000000\n",
      "Parameters after step    75: (DeviceArray(2.5158521e-12, dtype=float32), DeviceArray(3.1415925, dtype=float32))\n",
      "Cost after step    80: -1.0000000\n",
      "Parameters after step    80: (DeviceArray(1.9563264e-13, dtype=float32), DeviceArray(3.1415925, dtype=float32))\n",
      "Cost after step    85: -1.0000000\n",
      "Parameters after step    85: (DeviceArray(1.5212392e-14, dtype=float32), DeviceArray(3.1415925, dtype=float32))\n",
      "Cost after step    90: -1.0000000\n",
      "Parameters after step    90: (DeviceArray(1.1829154e-15, dtype=float32), DeviceArray(3.1415925, dtype=float32))\n",
      "Cost after step    95: -1.0000000\n",
      "Parameters after step    95: (DeviceArray(9.198349e-17, dtype=float32), DeviceArray(3.1415925, dtype=float32))\n",
      "Cost after step   100: -1.0000000\n",
      "Parameters after step   100: (DeviceArray(7.152636e-18, dtype=float32), DeviceArray(3.1415925, dtype=float32))\n",
      "(DeviceArray(7.152636e-18, dtype=float32), DeviceArray(3.1415925, dtype=float32))\n",
      "-1.0\n",
      "CPU times: user 3.78 s, sys: 90.3 ms, total: 3.87 s\n",
      "Wall time: 3.85 s\n"
     ]
    }
   ],
   "source": [
    "%%time\n",
    "new_params = (0.011, 0.012)\n",
    "for i in range(100):\n",
    "    new_params = Optimizer.step(*new_params)\n",
    "    if (i + 1) % 5 == 0:\n",
    "        print(\"Cost after step {:5d}: {: .7f}\".format(i + 1, cost(*new_params)))\n",
    "        print(\"Parameters after step {:5d}: {}\".format(i + 1, new_params))\n",
    "print(new_params)\n",
    "print(cost(*new_params))"
   ]
  },
  {
   "cell_type": "markdown",
   "id": "f3d4d325",
   "metadata": {},
   "source": [
    "### Trained circuit"
   ]
  },
  {
   "cell_type": "code",
   "execution_count": 11,
   "id": "25bb4309",
   "metadata": {},
   "outputs": [
    {
     "data": {
      "image/png": "[encoded data removed]",
      "text/plain": [
       "<Figure size 1080x1080 with 1 Axes>"
      ]
     },
     "metadata": {},
     "output_type": "display_data"
    }
   ],
   "source": [
    "trainedCircuit = qai.Circuit(circuitDef, 1, new_params)\n",
    "drawer = qai.matplotlib_drawer(trainedCircuit)\n",
    "drawer.full_draw()"
   ]
  },
  {
   "cell_type": "markdown",
   "id": "1afb1078",
   "metadata": {},
   "source": [
    "# Circuit compiled with JAX backend and pytorch interface\n",
    "Gradient will obtain from backpropagation by default"
   ]
  },
  {
   "cell_type": "markdown",
   "id": "02623248",
   "metadata": {
    "tags": []
   },
   "source": [
    "### state vector propagation mode"
   ]
  },
  {
   "cell_type": "code",
   "execution_count": 12,
   "id": "e30c29d2",
   "metadata": {
    "tags": []
   },
   "outputs": [
    {
     "name": "stdout",
     "output_type": "stream",
     "text": [
      "log10(flops) of this quantum circuit:   1.079181246051244\n"
     ]
    }
   ],
   "source": [
    "my_compilecircuit = circuit.compilecircuit(backend=\"jax\", interface=\"pytorch\")"
   ]
  },
  {
   "cell_type": "code",
   "execution_count": 13,
   "id": "b110e6f1-0b27-44cb-9b5f-0b6d7d8a43a1",
   "metadata": {},
   "outputs": [],
   "source": [
    "from jax import numpy as jnp\n",
    "a = jnp.array([[1,2],[2,4]])"
   ]
  },
  {
   "cell_type": "code",
   "execution_count": 14,
   "id": "688f9bff-d5a2-4321-bc7c-632afb644a7f",
   "metadata": {},
   "outputs": [
    {
     "data": {
      "text/plain": [
       "(2, 2)"
      ]
     },
     "execution_count": 14,
     "metadata": {},
     "output_type": "execute_result"
    }
   ],
   "source": [
    "a.shape"
   ]
  },
  {
   "cell_type": "markdown",
   "id": "74909b0b",
   "metadata": {
    "tags": []
   },
   "source": [
    "### tensor network contraction mode"
   ]
  },
  {
   "cell_type": "markdown",
   "id": "73c8f160",
   "metadata": {
    "tags": []
   },
   "source": [
    "#### by using cotengra"
   ]
  },
  {
   "cell_type": "code",
   "execution_count": 15,
   "id": "6c5e2d1d",
   "metadata": {
    "tags": []
   },
   "outputs": [
    {
     "name": "stdout",
     "output_type": "stream",
     "text": [
      "log10(flops) of this quantum circuit:   1.079181246051244\n"
     ]
    },
    {
     "name": "stderr",
     "output_type": "stream",
     "text": [
      "log2[SIZE]: 1.00 log10[FLOPs]: 1.64: 100%|██████| 12/12 [00:00<00:00, 49.35it/s]\n"
     ]
    }
   ],
   "source": [
    "slicing_opts = {'target_size': 2**28}\n",
    "hyper_opt = {'methods':['kahypar'], 'max_time':120, 'max_repeats':12, 'progbar':True, 'minimize':'flops', 'parallel':True, 'slicing_opts':slicing_opts}\n",
    "import cotengra as ctg\n",
    "my_compilecircuit = circuit.compilecircuit(backend=\"jax\", use_cotengra=ctg, hyper_opt = hyper_opt, interface=\"pytorch\")"
   ]
  },
  {
   "cell_type": "markdown",
   "id": "434ddf7a",
   "metadata": {},
   "source": [
    "#### Use JDtensorPath (Suggested)\n",
    "1. 'target_num_slices' is useful if you want to do the contraction in parallel, it will devide the tensor network into pieces and then calculat them in parallel\n",
    "2. 'math_repeats' means how many times are going to run JDtensorPath to find a best contraction path\n",
    "3. 'search_parallel' means to run the JDtensorPath in parallel, True means to use all the CPUs, integer number means to use that number of CPUs\n"
   ]
  },
  {
   "cell_type": "code",
   "execution_count": 16,
   "id": "d3cdf211",
   "metadata": {},
   "outputs": [],
   "source": [
    "# from jdtensorpath import JDOptTN as jdopttn\n",
    "# slicing_opts = {'target_size':2**28, 'repeats':500, 'target_num_slices':None, 'contract_parallel':False}\n",
    "# hyper_opt = {'methods':['kahypar'], 'max_time':120, 'max_repeats':12, 'search_parallel':True, 'slicing_opts':slicing_opts}\n",
    "# my_compilecircuit = circuit.compilecircuit(backend=\"jax\", use_jdopttn=jdopttn, hyper_opt = hyper_opt, tn_simplify = False, interface=\"pytorch\")"
   ]
  },
  {
   "cell_type": "markdown",
   "id": "3b472f32",
   "metadata": {},
   "source": [
    "### Define cost function and optimizer"
   ]
  },
  {
   "cell_type": "markdown",
   "id": "5ca301b2",
   "metadata": {},
   "source": [
    "### Define cost function and optimizer"
   ]
  },
  {
   "cell_type": "code",
   "execution_count": 17,
   "id": "074a81c0",
   "metadata": {},
   "outputs": [],
   "source": [
    "def cost(*params):\n",
    "    return my_compilecircuit(*params)"
   ]
  },
  {
   "cell_type": "code",
   "execution_count": 18,
   "id": "c8c4de04",
   "metadata": {},
   "outputs": [],
   "source": [
    "# using TeD-Q built-in optimizer\n",
    "Optimizer = qai.GradientDescentOptimizer(cost, [0, 1], 0.4, interface=\"pytorch\")"
   ]
  },
  {
   "cell_type": "markdown",
   "id": "9e39a40c",
   "metadata": {},
   "source": [
    "### Training"
   ]
  },
  {
   "cell_type": "code",
   "execution_count": 19,
   "id": "4f2c6819",
   "metadata": {},
   "outputs": [],
   "source": [
    "import torch\n",
    "a = torch.tensor([0.011], requires_grad= True)\n",
    "b = torch.tensor([0.012], requires_grad= True)\n",
    "my_params = (a, b)"
   ]
  },
  {
   "cell_type": "code",
   "execution_count": 20,
   "id": "8da99f72",
   "metadata": {},
   "outputs": [
    {
     "name": "stdout",
     "output_type": "stream",
     "text": [
      "Cost after step     5: tensor([0.9962], grad_fn=<PytorchInterfaceBackward>)\n",
      "Parameters after step     5: (tensor([0.0591], requires_grad=True), tensor([0.0645], requires_grad=True))\n",
      "Cost after step    10: tensor([0.8975], grad_fn=<PytorchInterfaceBackward>)\n",
      "Parameters after step    10: (tensor([0.3111], requires_grad=True), tensor([0.3400], requires_grad=True))\n",
      "Cost after step    15: tensor([0.1440], grad_fn=<PytorchInterfaceBackward>)\n",
      "Parameters after step    15: (tensor([1.0953], requires_grad=True), tensor([1.2507], requires_grad=True))\n",
      "Cost after step    20: tensor([-0.1537], grad_fn=<PytorchInterfaceBackward>)\n",
      "Parameters after step    20: (tensor([1.1318], requires_grad=True), tensor([1.9407], requires_grad=True))\n",
      "Cost after step    25: tensor([-0.9152], grad_fn=<PytorchInterfaceBackward>)\n",
      "Parameters after step    25: (tensor([0.2927], requires_grad=True), tensor([2.8435], requires_grad=True))\n",
      "Cost after step    30: tensor([-0.9994], grad_fn=<PytorchInterfaceBackward>)\n",
      "Parameters after step    30: (tensor([0.0242], requires_grad=True), tensor([3.1170], requires_grad=True))\n",
      "Cost after step    35: tensor([-1.0000], grad_fn=<PytorchInterfaceBackward>)\n",
      "Parameters after step    35: (tensor([0.0019], requires_grad=True), tensor([3.1397], requires_grad=True))\n",
      "Cost after step    40: tensor([-1.], grad_fn=<PytorchInterfaceBackward>)\n",
      "Parameters after step    40: (tensor([0.0001], requires_grad=True), tensor([3.1414], requires_grad=True))\n",
      "Cost after step    45: tensor([-1.], grad_fn=<PytorchInterfaceBackward>)\n",
      "Parameters after step    45: (tensor([1.1380e-05], requires_grad=True), tensor([3.1416], requires_grad=True))\n",
      "Cost after step    50: tensor([-1.], grad_fn=<PytorchInterfaceBackward>)\n",
      "Parameters after step    50: (tensor([8.8492e-07], requires_grad=True), tensor([3.1416], requires_grad=True))\n",
      "Cost after step    55: tensor([-1.], grad_fn=<PytorchInterfaceBackward>)\n",
      "Parameters after step    55: (tensor([6.8811e-08], requires_grad=True), tensor([3.1416], requires_grad=True))\n",
      "Cost after step    60: tensor([-1.], grad_fn=<PytorchInterfaceBackward>)\n",
      "Parameters after step    60: (tensor([5.3508e-09], requires_grad=True), tensor([3.1416], requires_grad=True))\n",
      "Cost after step    65: tensor([-1.], grad_fn=<PytorchInterfaceBackward>)\n",
      "Parameters after step    65: (tensor([4.1608e-10], requires_grad=True), tensor([3.1416], requires_grad=True))\n",
      "Cost after step    70: tensor([-1.], grad_fn=<PytorchInterfaceBackward>)\n",
      "Parameters after step    70: (tensor([3.2354e-11], requires_grad=True), tensor([3.1416], requires_grad=True))\n",
      "Cost after step    75: tensor([-1.], grad_fn=<PytorchInterfaceBackward>)\n",
      "Parameters after step    75: (tensor([2.5159e-12], requires_grad=True), tensor([3.1416], requires_grad=True))\n",
      "Cost after step    80: tensor([-1.], grad_fn=<PytorchInterfaceBackward>)\n",
      "Parameters after step    80: (tensor([1.9563e-13], requires_grad=True), tensor([3.1416], requires_grad=True))\n",
      "Cost after step    85: tensor([-1.], grad_fn=<PytorchInterfaceBackward>)\n",
      "Parameters after step    85: (tensor([1.5212e-14], requires_grad=True), tensor([3.1416], requires_grad=True))\n",
      "Cost after step    90: tensor([-1.], grad_fn=<PytorchInterfaceBackward>)\n",
      "Parameters after step    90: (tensor([1.1829e-15], requires_grad=True), tensor([3.1416], requires_grad=True))\n",
      "Cost after step    95: tensor([-1.], grad_fn=<PytorchInterfaceBackward>)\n",
      "Parameters after step    95: (tensor([9.1983e-17], requires_grad=True), tensor([3.1416], requires_grad=True))\n",
      "Cost after step   100: tensor([-1.], grad_fn=<PytorchInterfaceBackward>)\n",
      "Parameters after step   100: (tensor([7.1526e-18], requires_grad=True), tensor([3.1416], requires_grad=True))\n",
      "(tensor([7.1526e-18], requires_grad=True), tensor([3.1416], requires_grad=True))\n",
      "tensor([-1.], grad_fn=<PytorchInterfaceBackward>)\n",
      "CPU times: user 5.57 s, sys: 32.5 ms, total: 5.6 s\n",
      "Wall time: 5.62 s\n"
     ]
    }
   ],
   "source": [
    "%%time\n",
    "new_params = my_params\n",
    "for i in range(100):\n",
    "    new_params = Optimizer.step(*new_params)\n",
    "    if (i + 1) % 5 == 0:\n",
    "        print(\"Cost after step {:5d}: {}\".format(i + 1, cost(*new_params)))\n",
    "        print(\"Parameters after step {:5d}: {}\".format(i + 1, new_params))\n",
    "print(new_params)\n",
    "print(cost(*new_params))"
   ]
  },
  {
   "cell_type": "markdown",
   "id": "bb5d77df",
   "metadata": {},
   "source": [
    "### Trained circuit"
   ]
  },
  {
   "cell_type": "code",
   "execution_count": 21,
   "id": "b1c84abc",
   "metadata": {},
   "outputs": [
    {
     "data": {
      "image/png": "[encoded data removed]",
      "text/plain": [
       "<Figure size 1080x1080 with 1 Axes>"
      ]
     },
     "metadata": {},
     "output_type": "display_data"
    }
   ],
   "source": [
    "trainedCircuit = qai.Circuit(circuitDef, 1, new_params)\n",
    "drawer = qai.matplotlib_drawer(trainedCircuit)\n",
    "drawer.full_draw()"
   ]
  },
  {
   "cell_type": "code",
   "execution_count": null,
   "id": "818bf875",
   "metadata": {},
   "outputs": [],
   "source": []
  },
  {
   "cell_type": "markdown",
   "id": "623ff679",
   "metadata": {},
   "source": [
    "# Circuit compiled with pytorch backend"
   ]
  },
  {
   "cell_type": "markdown",
   "id": "4a14cac3",
   "metadata": {
    "tags": []
   },
   "source": [
    "Gradient will obtain from backpropagation by default"
   ]
  },
  {
   "cell_type": "markdown",
   "id": "010154df",
   "metadata": {
    "tags": []
   },
   "source": [
    "### state vector propagation mode"
   ]
  },
  {
   "cell_type": "code",
   "execution_count": 22,
   "id": "ba72fbd7",
   "metadata": {
    "tags": []
   },
   "outputs": [],
   "source": [
    "# my_compilecircuit = circuit.compilecircuit(backend=\"pytorch\")"
   ]
  },
  {
   "cell_type": "markdown",
   "id": "df6051a9",
   "metadata": {
    "tags": []
   },
   "source": [
    "### tensor network contraction mode"
   ]
  },
  {
   "cell_type": "markdown",
   "id": "07be7e18",
   "metadata": {
    "tags": []
   },
   "source": [
    "#### Use CoTenGra"
   ]
  },
  {
   "cell_type": "code",
   "execution_count": 23,
   "id": "094402bc",
   "metadata": {
    "tags": []
   },
   "outputs": [],
   "source": [
    "# slicing_opts = {'target_size': 2**28}\n",
    "# hyper_opt = {'methods':['kahypar'], 'max_time':120, 'max_repeats':12, 'progbar':True, 'minimize':'flops', 'parallel':True, 'slicing_opts':slicing_opts}\n",
    "# import cotengra as ctg\n",
    "# my_compilecircuit = circuit.compilecircuit(backend=\"pytorch\", use_cotengra=ctg, hyper_opt = hyper_opt)"
   ]
  },
  {
   "cell_type": "markdown",
   "id": "ba324828",
   "metadata": {},
   "source": [
    "#### Use JDtensorPath (Suggested)\n",
    "1. 'target_num_slices' is useful if you want to do the contraction in parallel, it will devide the tensor network into pieces and then calculat them in parallel\n",
    "2. 'math_repeats' means how many times are going to run JDtensorPath to find a best contraction path\n",
    "3. 'search_parallel' means to run the JDtensorPath in parallel, True means to use all the CPUs, integer number means to use that number of CPUs\n"
   ]
  },
  {
   "cell_type": "code",
   "execution_count": 24,
   "id": "f664e876",
   "metadata": {},
   "outputs": [
    {
     "name": "stdout",
     "output_type": "stream",
     "text": [
      "log10(flops) of this quantum circuit:   1.079181246051244\n"
     ]
    },
    {
     "name": "stderr",
     "output_type": "stream",
     "text": [
      "2022-08-30 17:33:10,517\tINFO services.py:1263 -- View the Ray dashboard at \u001b[1m\u001b[32mhttp://127.0.0.1:8265\u001b[39m\u001b[22m\n"
     ]
    },
    {
     "name": "stdout",
     "output_type": "stream",
     "text": [
      "log2(size) before slicing:  2.0000000000360676\n",
      "log10(flops) before removed:    1.5910646070276129\n"
     ]
    }
   ],
   "source": [
    "from jdtensorpath import JDOptTN as jdopttn\n",
    "slicing_opts = {'target_size':2**28, 'repeats':500, 'target_num_slices':None, 'contract_parallel':False}\n",
    "hyper_opt = {'methods':['kahypar'], 'max_time':120, 'max_repeats':12, 'search_parallel':True, 'slicing_opts':slicing_opts}\n",
    "my_compilecircuit = circuit.compilecircuit(backend=\"pytorch\", use_jdopttn=jdopttn, hyper_opt = hyper_opt, tn_simplify = False)"
   ]
  },
  {
   "cell_type": "markdown",
   "id": "acd16662",
   "metadata": {},
   "source": [
    "### Define cost function and optimizer"
   ]
  },
  {
   "cell_type": "code",
   "execution_count": 25,
   "id": "67a7ee08",
   "metadata": {},
   "outputs": [],
   "source": [
    "def cost(*params):\n",
    "    results = my_compilecircuit(*params)\n",
    "    return results"
   ]
  },
  {
   "cell_type": "code",
   "execution_count": 26,
   "id": "2b174b7a",
   "metadata": {},
   "outputs": [],
   "source": [
    "# using TeD-Q built-in optimizer\n",
    "Optimizer = qai.GradientDescentOptimizer(cost, [0, 1], 0.4, interface=\"pytorch\")"
   ]
  },
  {
   "cell_type": "markdown",
   "id": "8c183866",
   "metadata": {},
   "source": [
    "### Training"
   ]
  },
  {
   "cell_type": "code",
   "execution_count": 27,
   "id": "94747b45",
   "metadata": {},
   "outputs": [],
   "source": [
    "import torch\n",
    "a = torch.tensor([0.54], requires_grad= True)\n",
    "b = torch.tensor([0.12], requires_grad= True)\n",
    "my_params = (a, b)"
   ]
  },
  {
   "cell_type": "code",
   "execution_count": 28,
   "id": "c9d49951",
   "metadata": {},
   "outputs": [
    {
     "name": "stdout",
     "output_type": "stream",
     "text": [
      "Cost after step     1: tensor([0.7261], grad_fn=<StackBackward0>)\n",
      "Parameters after step     1: (tensor([0.7442], requires_grad=True), tensor([0.1611], requires_grad=True))\n",
      "Cost after step     2: tensor([0.5190], grad_fn=<StackBackward0>)\n",
      "Parameters after step     2: (tensor([1.0116], requires_grad=True), tensor([0.2083], requires_grad=True))\n",
      "Cost after step     3: tensor([0.2183], grad_fn=<StackBackward0>)\n",
      "Parameters after step     3: (tensor([1.3434], requires_grad=True), tensor([0.2521], requires_grad=True))\n",
      "Cost after step     4: tensor([-0.1438], grad_fn=<StackBackward0>)\n",
      "Parameters after step     4: (tensor([1.7207], requires_grad=True), tensor([0.2746], requires_grad=True))\n",
      "Cost after step     5: tensor([-0.4893], grad_fn=<StackBackward0>)\n",
      "Parameters after step     5: (tensor([2.1014], requires_grad=True), tensor([0.2584], requires_grad=True))\n",
      "Cost after step     6: tensor([-0.7444], grad_fn=<StackBackward0>)\n",
      "Parameters after step     6: (tensor([2.4350], requires_grad=True), tensor([0.2067], requires_grad=True))\n",
      "Cost after step     7: tensor([-0.8900], grad_fn=<StackBackward0>)\n",
      "Parameters after step     7: (tensor([2.6891], requires_grad=True), tensor([0.1443], requires_grad=True))\n",
      "Cost after step     8: tensor([-0.9571], grad_fn=<StackBackward0>)\n",
      "Parameters after step     8: (tensor([2.8622], requires_grad=True), tensor([0.0925], requires_grad=True))\n",
      "Cost after step     9: tensor([-0.9841], grad_fn=<StackBackward0>)\n",
      "Parameters after step     9: (tensor([2.9720], requires_grad=True), tensor([0.0570], requires_grad=True))\n",
      "Cost after step    10: tensor([-0.9942], grad_fn=<StackBackward0>)\n",
      "Parameters after step    10: (tensor([3.0394], requires_grad=True), tensor([0.0345], requires_grad=True))\n",
      "Cost after step    11: tensor([-0.9979], grad_fn=<StackBackward0>)\n",
      "Parameters after step    11: (tensor([3.0802], requires_grad=True), tensor([0.0208], requires_grad=True))\n",
      "Cost after step    12: tensor([-0.9992], grad_fn=<StackBackward0>)\n",
      "Parameters after step    12: (tensor([3.1047], requires_grad=True), tensor([0.0125], requires_grad=True))\n",
      "Cost after step    13: tensor([-0.9997], grad_fn=<StackBackward0>)\n",
      "Parameters after step    13: (tensor([3.1195], requires_grad=True), tensor([0.0075], requires_grad=True))\n",
      "Cost after step    14: tensor([-0.9999], grad_fn=<StackBackward0>)\n",
      "Parameters after step    14: (tensor([3.1283], requires_grad=True), tensor([0.0045], requires_grad=True))\n",
      "Cost after step    15: tensor([-1.0000], grad_fn=<StackBackward0>)\n",
      "Parameters after step    15: (tensor([3.1336], requires_grad=True), tensor([0.0027], requires_grad=True))\n",
      "Cost after step    16: tensor([-1.0000], grad_fn=<StackBackward0>)\n",
      "Parameters after step    16: (tensor([3.1368], requires_grad=True), tensor([0.0016], requires_grad=True))\n",
      "Cost after step    17: tensor([-1.0000], grad_fn=<StackBackward0>)\n",
      "Parameters after step    17: (tensor([3.1387], requires_grad=True), tensor([0.0010], requires_grad=True))\n",
      "Cost after step    18: tensor([-1.0000], grad_fn=<StackBackward0>)\n",
      "Parameters after step    18: (tensor([3.1399], requires_grad=True), tensor([0.0006], requires_grad=True))\n",
      "Cost after step    19: tensor([-1.0000], grad_fn=<StackBackward0>)\n",
      "Parameters after step    19: (tensor([3.1406], requires_grad=True), tensor([0.0004], requires_grad=True))\n",
      "Cost after step    20: tensor([-1.0000], grad_fn=<StackBackward0>)\n",
      "Parameters after step    20: (tensor([3.1410], requires_grad=True), tensor([0.0002], requires_grad=True))\n",
      "Cost after step    21: tensor([-1.0000], grad_fn=<StackBackward0>)\n",
      "Parameters after step    21: (tensor([3.1412], requires_grad=True), tensor([0.0001], requires_grad=True))\n",
      "Cost after step    22: tensor([-1.], grad_fn=<StackBackward0>)\n",
      "Parameters after step    22: (tensor([3.1414], requires_grad=True), tensor([7.5626e-05], requires_grad=True))\n",
      "Cost after step    23: tensor([-1.], grad_fn=<StackBackward0>)\n",
      "Parameters after step    23: (tensor([3.1415], requires_grad=True), tensor([4.5375e-05], requires_grad=True))\n",
      "Cost after step    24: tensor([-1.], grad_fn=<StackBackward0>)\n",
      "Parameters after step    24: (tensor([3.1415], requires_grad=True), tensor([2.7225e-05], requires_grad=True))\n",
      "Cost after step    25: tensor([-1.], grad_fn=<StackBackward0>)\n",
      "Parameters after step    25: (tensor([3.1415], requires_grad=True), tensor([1.6335e-05], requires_grad=True))\n",
      "Cost after step    26: tensor([-1.], grad_fn=<StackBackward0>)\n",
      "Parameters after step    26: (tensor([3.1416], requires_grad=True), tensor([9.8011e-06], requires_grad=True))\n",
      "Cost after step    27: tensor([-1.], grad_fn=<StackBackward0>)\n",
      "Parameters after step    27: (tensor([3.1416], requires_grad=True), tensor([5.8807e-06], requires_grad=True))\n",
      "Cost after step    28: tensor([-1.], grad_fn=<StackBackward0>)\n",
      "Parameters after step    28: (tensor([3.1416], requires_grad=True), tensor([3.5284e-06], requires_grad=True))\n",
      "Cost after step    29: tensor([-1.], grad_fn=<StackBackward0>)\n",
      "Parameters after step    29: (tensor([3.1416], requires_grad=True), tensor([2.1170e-06], requires_grad=True))\n",
      "Cost after step    30: tensor([-1.], grad_fn=<StackBackward0>)\n",
      "Parameters after step    30: (tensor([3.1416], requires_grad=True), tensor([1.2702e-06], requires_grad=True))\n",
      "Cost after step    31: tensor([-1.], grad_fn=<StackBackward0>)\n",
      "Parameters after step    31: (tensor([3.1416], requires_grad=True), tensor([7.6213e-07], requires_grad=True))\n",
      "Cost after step    32: tensor([-1.], grad_fn=<StackBackward0>)\n",
      "Parameters after step    32: (tensor([3.1416], requires_grad=True), tensor([4.5728e-07], requires_grad=True))\n",
      "Cost after step    33: tensor([-1.], grad_fn=<StackBackward0>)\n",
      "Parameters after step    33: (tensor([3.1416], requires_grad=True), tensor([2.7437e-07], requires_grad=True))\n",
      "Cost after step    34: tensor([-1.], grad_fn=<StackBackward0>)\n",
      "Parameters after step    34: (tensor([3.1416], requires_grad=True), tensor([1.6462e-07], requires_grad=True))\n",
      "Cost after step    35: tensor([-1.], grad_fn=<StackBackward0>)\n",
      "Parameters after step    35: (tensor([3.1416], requires_grad=True), tensor([9.8772e-08], requires_grad=True))\n",
      "Cost after step    36: tensor([-1.], grad_fn=<StackBackward0>)\n",
      "Parameters after step    36: (tensor([3.1416], requires_grad=True), tensor([5.9263e-08], requires_grad=True))\n",
      "Cost after step    37: tensor([-1.], grad_fn=<StackBackward0>)\n",
      "Parameters after step    37: (tensor([3.1416], requires_grad=True), tensor([3.5558e-08], requires_grad=True))\n",
      "Cost after step    38: tensor([-1.], grad_fn=<StackBackward0>)\n",
      "Parameters after step    38: (tensor([3.1416], requires_grad=True), tensor([2.1335e-08], requires_grad=True))\n",
      "Cost after step    39: tensor([-1.], grad_fn=<StackBackward0>)\n",
      "Parameters after step    39: (tensor([3.1416], requires_grad=True), tensor([1.2801e-08], requires_grad=True))\n",
      "Cost after step    40: tensor([-1.], grad_fn=<StackBackward0>)\n",
      "Parameters after step    40: (tensor([3.1416], requires_grad=True), tensor([7.6805e-09], requires_grad=True))\n",
      "Cost after step    41: tensor([-1.], grad_fn=<StackBackward0>)\n",
      "Parameters after step    41: (tensor([3.1416], requires_grad=True), tensor([4.6083e-09], requires_grad=True))\n",
      "Cost after step    42: tensor([-1.], grad_fn=<StackBackward0>)\n",
      "Parameters after step    42: (tensor([3.1416], requires_grad=True), tensor([2.7650e-09], requires_grad=True))\n",
      "Cost after step    43: tensor([-1.], grad_fn=<StackBackward0>)\n",
      "Parameters after step    43: (tensor([3.1416], requires_grad=True), tensor([1.6590e-09], requires_grad=True))\n",
      "Cost after step    44: tensor([-1.], grad_fn=<StackBackward0>)\n",
      "Parameters after step    44: (tensor([3.1416], requires_grad=True), tensor([9.9540e-10], requires_grad=True))\n",
      "Cost after step    45: tensor([-1.], grad_fn=<StackBackward0>)\n",
      "Parameters after step    45: (tensor([3.1416], requires_grad=True), tensor([5.9724e-10], requires_grad=True))\n",
      "Cost after step    46: tensor([-1.], grad_fn=<StackBackward0>)\n",
      "Parameters after step    46: (tensor([3.1416], requires_grad=True), tensor([3.5834e-10], requires_grad=True))\n",
      "Cost after step    47: tensor([-1.], grad_fn=<StackBackward0>)\n",
      "Parameters after step    47: (tensor([3.1416], requires_grad=True), tensor([2.1501e-10], requires_grad=True))\n",
      "Cost after step    48: tensor([-1.], grad_fn=<StackBackward0>)\n",
      "Parameters after step    48: (tensor([3.1416], requires_grad=True), tensor([1.2900e-10], requires_grad=True))\n",
      "Cost after step    49: tensor([-1.], grad_fn=<StackBackward0>)\n",
      "Parameters after step    49: (tensor([3.1416], requires_grad=True), tensor([7.7402e-11], requires_grad=True))\n",
      "Cost after step    50: tensor([-1.], grad_fn=<StackBackward0>)\n",
      "Parameters after step    50: (tensor([3.1416], requires_grad=True), tensor([4.6441e-11], requires_grad=True))\n",
      "Cost after step    51: tensor([-1.], grad_fn=<StackBackward0>)\n",
      "Parameters after step    51: (tensor([3.1416], requires_grad=True), tensor([2.7865e-11], requires_grad=True))\n",
      "Cost after step    52: tensor([-1.], grad_fn=<StackBackward0>)\n",
      "Parameters after step    52: (tensor([3.1416], requires_grad=True), tensor([1.6719e-11], requires_grad=True))\n",
      "Cost after step    53: tensor([-1.], grad_fn=<StackBackward0>)\n",
      "Parameters after step    53: (tensor([3.1416], requires_grad=True), tensor([1.0031e-11], requires_grad=True))\n",
      "Cost after step    54: tensor([-1.], grad_fn=<StackBackward0>)\n",
      "Parameters after step    54: (tensor([3.1416], requires_grad=True), tensor([6.0188e-12], requires_grad=True))\n",
      "Cost after step    55: tensor([-1.], grad_fn=<StackBackward0>)\n",
      "Parameters after step    55: (tensor([3.1416], requires_grad=True), tensor([3.6113e-12], requires_grad=True))\n",
      "Cost after step    56: tensor([-1.], grad_fn=<StackBackward0>)\n",
      "Parameters after step    56: (tensor([3.1416], requires_grad=True), tensor([2.1668e-12], requires_grad=True))\n",
      "Cost after step    57: tensor([-1.], grad_fn=<StackBackward0>)\n",
      "Parameters after step    57: (tensor([3.1416], requires_grad=True), tensor([1.3001e-12], requires_grad=True))\n",
      "Cost after step    58: tensor([-1.], grad_fn=<StackBackward0>)\n",
      "Parameters after step    58: (tensor([3.1416], requires_grad=True), tensor([7.8004e-13], requires_grad=True))\n",
      "Cost after step    59: tensor([-1.], grad_fn=<StackBackward0>)\n",
      "Parameters after step    59: (tensor([3.1416], requires_grad=True), tensor([4.6802e-13], requires_grad=True))\n",
      "Cost after step    60: tensor([-1.], grad_fn=<StackBackward0>)\n",
      "Parameters after step    60: (tensor([3.1416], requires_grad=True), tensor([2.8081e-13], requires_grad=True))\n",
      "Cost after step    61: tensor([-1.], grad_fn=<StackBackward0>)\n",
      "Parameters after step    61: (tensor([3.1416], requires_grad=True), tensor([1.6849e-13], requires_grad=True))\n",
      "Cost after step    62: tensor([-1.], grad_fn=<StackBackward0>)\n",
      "Parameters after step    62: (tensor([3.1416], requires_grad=True), tensor([1.0109e-13], requires_grad=True))\n",
      "Cost after step    63: tensor([-1.], grad_fn=<StackBackward0>)\n",
      "Parameters after step    63: (tensor([3.1416], requires_grad=True), tensor([6.0656e-14], requires_grad=True))\n",
      "Cost after step    64: tensor([-1.], grad_fn=<StackBackward0>)\n",
      "Parameters after step    64: (tensor([3.1416], requires_grad=True), tensor([3.6393e-14], requires_grad=True))\n",
      "Cost after step    65: tensor([-1.], grad_fn=<StackBackward0>)\n",
      "Parameters after step    65: (tensor([3.1416], requires_grad=True), tensor([2.1836e-14], requires_grad=True))\n",
      "Cost after step    66: tensor([-1.], grad_fn=<StackBackward0>)\n",
      "Parameters after step    66: (tensor([3.1416], requires_grad=True), tensor([1.3102e-14], requires_grad=True))\n",
      "Cost after step    67: tensor([-1.], grad_fn=<StackBackward0>)\n",
      "Parameters after step    67: (tensor([3.1416], requires_grad=True), tensor([7.8610e-15], requires_grad=True))\n",
      "Cost after step    68: tensor([-1.], grad_fn=<StackBackward0>)\n",
      "Parameters after step    68: (tensor([3.1416], requires_grad=True), tensor([4.7166e-15], requires_grad=True))\n",
      "Cost after step    69: tensor([-1.], grad_fn=<StackBackward0>)\n",
      "Parameters after step    69: (tensor([3.1416], requires_grad=True), tensor([2.8299e-15], requires_grad=True))\n",
      "Cost after step    70: tensor([-1.], grad_fn=<StackBackward0>)\n",
      "Parameters after step    70: (tensor([3.1416], requires_grad=True), tensor([1.6980e-15], requires_grad=True))\n",
      "Cost after step    71: tensor([-1.], grad_fn=<StackBackward0>)\n",
      "Parameters after step    71: (tensor([3.1416], requires_grad=True), tensor([1.0188e-15], requires_grad=True))\n",
      "Cost after step    72: tensor([-1.], grad_fn=<StackBackward0>)\n",
      "Parameters after step    72: (tensor([3.1416], requires_grad=True), tensor([6.1127e-16], requires_grad=True))\n",
      "Cost after step    73: tensor([-1.], grad_fn=<StackBackward0>)\n",
      "Parameters after step    73: (tensor([3.1416], requires_grad=True), tensor([3.6676e-16], requires_grad=True))\n",
      "Cost after step    74: tensor([-1.], grad_fn=<StackBackward0>)\n",
      "Parameters after step    74: (tensor([3.1416], requires_grad=True), tensor([2.2006e-16], requires_grad=True))\n",
      "Cost after step    75: tensor([-1.], grad_fn=<StackBackward0>)\n",
      "Parameters after step    75: (tensor([3.1416], requires_grad=True), tensor([1.3203e-16], requires_grad=True))\n",
      "Cost after step    76: tensor([-1.], grad_fn=<StackBackward0>)\n",
      "Parameters after step    76: (tensor([3.1416], requires_grad=True), tensor([7.9220e-17], requires_grad=True))\n",
      "Cost after step    77: tensor([-1.], grad_fn=<StackBackward0>)\n",
      "Parameters after step    77: (tensor([3.1416], requires_grad=True), tensor([4.7532e-17], requires_grad=True))\n",
      "Cost after step    78: tensor([-1.], grad_fn=<StackBackward0>)\n",
      "Parameters after step    78: (tensor([3.1416], requires_grad=True), tensor([2.8519e-17], requires_grad=True))\n",
      "Cost after step    79: tensor([-1.], grad_fn=<StackBackward0>)\n",
      "Parameters after step    79: (tensor([3.1416], requires_grad=True), tensor([1.7112e-17], requires_grad=True))\n",
      "Cost after step    80: tensor([-1.], grad_fn=<StackBackward0>)\n",
      "Parameters after step    80: (tensor([3.1416], requires_grad=True), tensor([1.0267e-17], requires_grad=True))\n",
      "Cost after step    81: tensor([-1.], grad_fn=<StackBackward0>)\n",
      "Parameters after step    81: (tensor([3.1416], requires_grad=True), tensor([6.1602e-18], requires_grad=True))\n",
      "Cost after step    82: tensor([-1.], grad_fn=<StackBackward0>)\n",
      "Parameters after step    82: (tensor([3.1416], requires_grad=True), tensor([3.6961e-18], requires_grad=True))\n",
      "Cost after step    83: tensor([-1.], grad_fn=<StackBackward0>)\n",
      "Parameters after step    83: (tensor([3.1416], requires_grad=True), tensor([2.2177e-18], requires_grad=True))\n",
      "Cost after step    84: tensor([-1.], grad_fn=<StackBackward0>)\n",
      "Parameters after step    84: (tensor([3.1416], requires_grad=True), tensor([1.3306e-18], requires_grad=True))\n",
      "Cost after step    85: tensor([-1.], grad_fn=<StackBackward0>)\n",
      "Parameters after step    85: (tensor([3.1416], requires_grad=True), tensor([7.9836e-19], requires_grad=True))\n",
      "Cost after step    86: tensor([-1.], grad_fn=<StackBackward0>)\n",
      "Parameters after step    86: (tensor([3.1416], requires_grad=True), tensor([4.7902e-19], requires_grad=True))\n",
      "Cost after step    87: tensor([-1.], grad_fn=<StackBackward0>)\n",
      "Parameters after step    87: (tensor([3.1416], requires_grad=True), tensor([2.8741e-19], requires_grad=True))\n",
      "Cost after step    88: tensor([-1.], grad_fn=<StackBackward0>)\n",
      "Parameters after step    88: (tensor([3.1416], requires_grad=True), tensor([1.7245e-19], requires_grad=True))\n",
      "Cost after step    89: tensor([-1.], grad_fn=<StackBackward0>)\n",
      "Parameters after step    89: (tensor([3.1416], requires_grad=True), tensor([1.0347e-19], requires_grad=True))\n",
      "Cost after step    90: tensor([-1.], grad_fn=<StackBackward0>)\n",
      "Parameters after step    90: (tensor([3.1416], requires_grad=True), tensor([6.2080e-20], requires_grad=True))\n",
      "Cost after step    91: tensor([-1.], grad_fn=<StackBackward0>)\n",
      "Parameters after step    91: (tensor([3.1416], requires_grad=True), tensor([3.7248e-20], requires_grad=True))\n",
      "Cost after step    92: tensor([-1.], grad_fn=<StackBackward0>)\n",
      "Parameters after step    92: (tensor([3.1416], requires_grad=True), tensor([2.2349e-20], requires_grad=True))\n",
      "Cost after step    93: tensor([-1.], grad_fn=<StackBackward0>)\n",
      "Parameters after step    93: (tensor([3.1416], requires_grad=True), tensor([1.3409e-20], requires_grad=True))\n",
      "Cost after step    94: tensor([-1.], grad_fn=<StackBackward0>)\n",
      "Parameters after step    94: (tensor([3.1416], requires_grad=True), tensor([8.0456e-21], requires_grad=True))\n",
      "Cost after step    95: tensor([-1.], grad_fn=<StackBackward0>)\n",
      "Parameters after step    95: (tensor([3.1416], requires_grad=True), tensor([4.8274e-21], requires_grad=True))\n",
      "Cost after step    96: tensor([-1.], grad_fn=<StackBackward0>)\n",
      "Parameters after step    96: (tensor([3.1416], requires_grad=True), tensor([2.8964e-21], requires_grad=True))\n",
      "Cost after step    97: tensor([-1.], grad_fn=<StackBackward0>)\n",
      "Parameters after step    97: (tensor([3.1416], requires_grad=True), tensor([1.7379e-21], requires_grad=True))\n",
      "Cost after step    98: tensor([-1.], grad_fn=<StackBackward0>)\n",
      "Parameters after step    98: (tensor([3.1416], requires_grad=True), tensor([1.0427e-21], requires_grad=True))\n",
      "Cost after step    99: tensor([-1.], grad_fn=<StackBackward0>)\n",
      "Parameters after step    99: (tensor([3.1416], requires_grad=True), tensor([6.2563e-22], requires_grad=True))\n",
      "Cost after step   100: tensor([-1.], grad_fn=<StackBackward0>)\n",
      "Parameters after step   100: (tensor([3.1416], requires_grad=True), tensor([3.7538e-22], requires_grad=True))\n",
      "(tensor([3.1416], requires_grad=True), tensor([3.7538e-22], requires_grad=True))\n",
      "tensor([-1.], grad_fn=<StackBackward0>)\n",
      "CPU times: user 460 ms, sys: 17.1 ms, total: 477 ms\n",
      "Wall time: 463 ms\n"
     ]
    }
   ],
   "source": [
    "%%time\n",
    "new_params = my_params\n",
    "for i in range(100):\n",
    "    new_params = Optimizer.step(*new_params)\n",
    "    if (i + 1) % 1 == 0:\n",
    "        print(\"Cost after step {:5d}: {}\".format(i + 1, cost(*new_params)))\n",
    "        print(\"Parameters after step {:5d}: {}\".format(i + 1, new_params))\n",
    "print(new_params)\n",
    "print(cost(*new_params))"
   ]
  },
  {
   "cell_type": "code",
   "execution_count": 29,
   "id": "27bd2108",
   "metadata": {},
   "outputs": [
    {
     "name": "stdout",
     "output_type": "stream",
     "text": [
      "Optimized rotation angles: (tensor([3.1416], requires_grad=True), tensor([3.7538e-22], requires_grad=True))\n"
     ]
    }
   ],
   "source": [
    "print(\"Optimized rotation angles: {}\".format(new_params))"
   ]
  },
  {
   "cell_type": "code",
   "execution_count": 30,
   "id": "80b0fef0",
   "metadata": {},
   "outputs": [
    {
     "name": "stdout",
     "output_type": "stream",
     "text": [
      "Cost: tensor([-1.], grad_fn=<StackBackward0>)\n"
     ]
    }
   ],
   "source": [
    "print(\"Cost: {}\".format(cost(*new_params)))"
   ]
  },
  {
   "cell_type": "markdown",
   "id": "7baf430d",
   "metadata": {},
   "source": [
    "### Using backend's optimizer and training"
   ]
  },
  {
   "cell_type": "code",
   "execution_count": 31,
   "id": "bef61d3a",
   "metadata": {},
   "outputs": [
    {
     "name": "stdout",
     "output_type": "stream",
     "text": [
      "Cost after step     5: tensor([-1.], grad_fn=<StackBackward0>)\n",
      "Parameters after step     5: (tensor([3.1416], requires_grad=True), tensor([3.7538e-22], requires_grad=True))\n",
      "Cost after step    10: tensor([-1.], grad_fn=<StackBackward0>)\n",
      "Parameters after step    10: (tensor([3.1416], requires_grad=True), tensor([3.7538e-22], requires_grad=True))\n",
      "Cost after step    15: tensor([-1.], grad_fn=<StackBackward0>)\n",
      "Parameters after step    15: (tensor([3.1416], requires_grad=True), tensor([3.7538e-22], requires_grad=True))\n",
      "Cost after step    20: tensor([-1.], grad_fn=<StackBackward0>)\n",
      "Parameters after step    20: (tensor([3.1416], requires_grad=True), tensor([3.7538e-22], requires_grad=True))\n",
      "Cost after step    25: tensor([-1.], grad_fn=<StackBackward0>)\n",
      "Parameters after step    25: (tensor([3.1416], requires_grad=True), tensor([3.7538e-22], requires_grad=True))\n",
      "Cost after step    30: tensor([-1.], grad_fn=<StackBackward0>)\n",
      "Parameters after step    30: (tensor([3.1416], requires_grad=True), tensor([3.7538e-22], requires_grad=True))\n",
      "Cost after step    35: tensor([-1.], grad_fn=<StackBackward0>)\n",
      "Parameters after step    35: (tensor([3.1416], requires_grad=True), tensor([3.7538e-22], requires_grad=True))\n",
      "Cost after step    40: tensor([-1.], grad_fn=<StackBackward0>)\n",
      "Parameters after step    40: (tensor([3.1416], requires_grad=True), tensor([3.7538e-22], requires_grad=True))\n",
      "Cost after step    45: tensor([-1.], grad_fn=<StackBackward0>)\n",
      "Parameters after step    45: (tensor([3.1416], requires_grad=True), tensor([3.7538e-22], requires_grad=True))\n",
      "Cost after step    50: tensor([-1.], grad_fn=<StackBackward0>)\n",
      "Parameters after step    50: (tensor([3.1416], requires_grad=True), tensor([3.7538e-22], requires_grad=True))\n",
      "Cost after step    55: tensor([-1.], grad_fn=<StackBackward0>)\n",
      "Parameters after step    55: (tensor([3.1416], requires_grad=True), tensor([3.7538e-22], requires_grad=True))\n",
      "Cost after step    60: tensor([-1.], grad_fn=<StackBackward0>)\n",
      "Parameters after step    60: (tensor([3.1416], requires_grad=True), tensor([3.7538e-22], requires_grad=True))\n",
      "Cost after step    65: tensor([-1.], grad_fn=<StackBackward0>)\n",
      "Parameters after step    65: (tensor([3.1416], requires_grad=True), tensor([3.7538e-22], requires_grad=True))\n",
      "Cost after step    70: tensor([-1.], grad_fn=<StackBackward0>)\n",
      "Parameters after step    70: (tensor([3.1416], requires_grad=True), tensor([3.7538e-22], requires_grad=True))\n",
      "Cost after step    75: tensor([-1.], grad_fn=<StackBackward0>)\n",
      "Parameters after step    75: (tensor([3.1416], requires_grad=True), tensor([3.7538e-22], requires_grad=True))\n",
      "Cost after step    80: tensor([-1.], grad_fn=<StackBackward0>)\n",
      "Parameters after step    80: (tensor([3.1416], requires_grad=True), tensor([3.7538e-22], requires_grad=True))\n",
      "Cost after step    85: tensor([-1.], grad_fn=<StackBackward0>)\n",
      "Parameters after step    85: (tensor([3.1416], requires_grad=True), tensor([3.7538e-22], requires_grad=True))\n",
      "Cost after step    90: tensor([-1.], grad_fn=<StackBackward0>)\n",
      "Parameters after step    90: (tensor([3.1416], requires_grad=True), tensor([3.7538e-22], requires_grad=True))\n",
      "Cost after step    95: tensor([-1.], grad_fn=<StackBackward0>)\n",
      "Parameters after step    95: (tensor([3.1416], requires_grad=True), tensor([3.7538e-22], requires_grad=True))\n",
      "Cost after step   100: tensor([-1.], grad_fn=<StackBackward0>)\n",
      "Parameters after step   100: (tensor([3.1416], requires_grad=True), tensor([3.7538e-22], requires_grad=True))\n",
      "Cost after step   105: tensor([-1.], grad_fn=<StackBackward0>)\n",
      "Parameters after step   105: (tensor([3.1416], requires_grad=True), tensor([3.7538e-22], requires_grad=True))\n",
      "Cost after step   110: tensor([-1.], grad_fn=<StackBackward0>)\n",
      "Parameters after step   110: (tensor([3.1416], requires_grad=True), tensor([3.7538e-22], requires_grad=True))\n",
      "Cost after step   115: tensor([-1.], grad_fn=<StackBackward0>)\n",
      "Parameters after step   115: (tensor([3.1416], requires_grad=True), tensor([3.7538e-22], requires_grad=True))\n",
      "Cost after step   120: tensor([-1.], grad_fn=<StackBackward0>)\n",
      "Parameters after step   120: (tensor([3.1416], requires_grad=True), tensor([3.7538e-22], requires_grad=True))\n",
      "Cost after step   125: tensor([-1.], grad_fn=<StackBackward0>)\n",
      "Parameters after step   125: (tensor([3.1416], requires_grad=True), tensor([3.7538e-22], requires_grad=True))\n",
      "Cost after step   130: tensor([-1.], grad_fn=<StackBackward0>)\n",
      "Parameters after step   130: (tensor([3.1416], requires_grad=True), tensor([3.7538e-22], requires_grad=True))\n",
      "Cost after step   135: tensor([-1.], grad_fn=<StackBackward0>)\n",
      "Parameters after step   135: (tensor([3.1416], requires_grad=True), tensor([3.7538e-22], requires_grad=True))\n",
      "Cost after step   140: tensor([-1.], grad_fn=<StackBackward0>)\n",
      "Parameters after step   140: (tensor([3.1416], requires_grad=True), tensor([3.7538e-22], requires_grad=True))\n",
      "Cost after step   145: tensor([-1.], grad_fn=<StackBackward0>)\n",
      "Parameters after step   145: (tensor([3.1416], requires_grad=True), tensor([3.7538e-22], requires_grad=True))\n",
      "Cost after step   150: tensor([-1.], grad_fn=<StackBackward0>)\n",
      "Parameters after step   150: (tensor([3.1416], requires_grad=True), tensor([3.7538e-22], requires_grad=True))\n",
      "Cost after step   155: tensor([-1.], grad_fn=<StackBackward0>)\n",
      "Parameters after step   155: (tensor([3.1416], requires_grad=True), tensor([3.7538e-22], requires_grad=True))\n",
      "Cost after step   160: tensor([-1.], grad_fn=<StackBackward0>)\n",
      "Parameters after step   160: (tensor([3.1416], requires_grad=True), tensor([3.7538e-22], requires_grad=True))\n",
      "Cost after step   165: tensor([-1.], grad_fn=<StackBackward0>)\n",
      "Parameters after step   165: (tensor([3.1416], requires_grad=True), tensor([3.7538e-22], requires_grad=True))\n",
      "Cost after step   170: tensor([-1.], grad_fn=<StackBackward0>)\n",
      "Parameters after step   170: (tensor([3.1416], requires_grad=True), tensor([3.7538e-22], requires_grad=True))\n",
      "Cost after step   175: tensor([-1.], grad_fn=<StackBackward0>)\n",
      "Parameters after step   175: (tensor([3.1416], requires_grad=True), tensor([3.7538e-22], requires_grad=True))\n",
      "Cost after step   180: tensor([-1.], grad_fn=<StackBackward0>)\n",
      "Parameters after step   180: (tensor([3.1416], requires_grad=True), tensor([3.7538e-22], requires_grad=True))\n",
      "Cost after step   185: tensor([-1.], grad_fn=<StackBackward0>)\n",
      "Parameters after step   185: (tensor([3.1416], requires_grad=True), tensor([3.7538e-22], requires_grad=True))\n",
      "Cost after step   190: tensor([-1.], grad_fn=<StackBackward0>)\n",
      "Parameters after step   190: (tensor([3.1416], requires_grad=True), tensor([3.7538e-22], requires_grad=True))\n",
      "Cost after step   195: tensor([-1.], grad_fn=<StackBackward0>)\n",
      "Parameters after step   195: (tensor([3.1416], requires_grad=True), tensor([3.7538e-22], requires_grad=True))\n",
      "Cost after step   200: tensor([-1.], grad_fn=<StackBackward0>)\n",
      "Parameters after step   200: (tensor([3.1416], requires_grad=True), tensor([3.7538e-22], requires_grad=True))\n",
      "Cost after step   205: tensor([-1.], grad_fn=<StackBackward0>)\n",
      "Parameters after step   205: (tensor([3.1416], requires_grad=True), tensor([3.7538e-22], requires_grad=True))\n",
      "Cost after step   210: tensor([-1.], grad_fn=<StackBackward0>)\n",
      "Parameters after step   210: (tensor([3.1416], requires_grad=True), tensor([3.7538e-22], requires_grad=True))\n",
      "Cost after step   215: tensor([-1.], grad_fn=<StackBackward0>)\n",
      "Parameters after step   215: (tensor([3.1416], requires_grad=True), tensor([3.7538e-22], requires_grad=True))\n",
      "Cost after step   220: tensor([-1.], grad_fn=<StackBackward0>)\n",
      "Parameters after step   220: (tensor([3.1416], requires_grad=True), tensor([3.7538e-22], requires_grad=True))\n",
      "Cost after step   225: tensor([-1.], grad_fn=<StackBackward0>)\n",
      "Parameters after step   225: (tensor([3.1416], requires_grad=True), tensor([3.7538e-22], requires_grad=True))\n",
      "Cost after step   230: tensor([-1.], grad_fn=<StackBackward0>)\n",
      "Parameters after step   230: (tensor([3.1416], requires_grad=True), tensor([3.7538e-22], requires_grad=True))\n",
      "Cost after step   235: tensor([-1.], grad_fn=<StackBackward0>)\n",
      "Parameters after step   235: (tensor([3.1416], requires_grad=True), tensor([3.7538e-22], requires_grad=True))\n",
      "Cost after step   240: tensor([-1.], grad_fn=<StackBackward0>)\n",
      "Parameters after step   240: (tensor([3.1416], requires_grad=True), tensor([3.7538e-22], requires_grad=True))\n",
      "Cost after step   245: tensor([-1.], grad_fn=<StackBackward0>)\n",
      "Parameters after step   245: (tensor([3.1416], requires_grad=True), tensor([3.7538e-22], requires_grad=True))\n",
      "Cost after step   250: tensor([-1.], grad_fn=<StackBackward0>)\n",
      "Parameters after step   250: (tensor([3.1416], requires_grad=True), tensor([3.7538e-22], requires_grad=True))\n",
      "Cost after step   255: tensor([-1.], grad_fn=<StackBackward0>)\n",
      "Parameters after step   255: (tensor([3.1416], requires_grad=True), tensor([3.7538e-22], requires_grad=True))\n",
      "Cost after step   260: tensor([-1.], grad_fn=<StackBackward0>)\n",
      "Parameters after step   260: (tensor([3.1416], requires_grad=True), tensor([3.7538e-22], requires_grad=True))\n",
      "Cost after step   265: tensor([-1.], grad_fn=<StackBackward0>)\n",
      "Parameters after step   265: (tensor([3.1416], requires_grad=True), tensor([3.7538e-22], requires_grad=True))\n",
      "Cost after step   270: tensor([-1.], grad_fn=<StackBackward0>)\n",
      "Parameters after step   270: (tensor([3.1416], requires_grad=True), tensor([3.7538e-22], requires_grad=True))\n",
      "Cost after step   275: tensor([-1.], grad_fn=<StackBackward0>)\n",
      "Parameters after step   275: (tensor([3.1416], requires_grad=True), tensor([3.7538e-22], requires_grad=True))\n",
      "Cost after step   280: tensor([-1.], grad_fn=<StackBackward0>)\n",
      "Parameters after step   280: (tensor([3.1416], requires_grad=True), tensor([3.7538e-22], requires_grad=True))\n",
      "Cost after step   285: tensor([-1.], grad_fn=<StackBackward0>)\n",
      "Parameters after step   285: (tensor([3.1416], requires_grad=True), tensor([3.7538e-22], requires_grad=True))\n",
      "Cost after step   290: tensor([-1.], grad_fn=<StackBackward0>)\n",
      "Parameters after step   290: (tensor([3.1416], requires_grad=True), tensor([3.7538e-22], requires_grad=True))\n",
      "Cost after step   295: tensor([-1.], grad_fn=<StackBackward0>)\n",
      "Parameters after step   295: (tensor([3.1416], requires_grad=True), tensor([3.7538e-22], requires_grad=True))\n",
      "Cost after step   300: tensor([-1.], grad_fn=<StackBackward0>)\n",
      "Parameters after step   300: (tensor([3.1416], requires_grad=True), tensor([3.7538e-22], requires_grad=True))\n",
      "Cost after step   305: tensor([-1.], grad_fn=<StackBackward0>)\n",
      "Parameters after step   305: (tensor([3.1416], requires_grad=True), tensor([3.7538e-22], requires_grad=True))\n",
      "Cost after step   310: tensor([-1.], grad_fn=<StackBackward0>)\n",
      "Parameters after step   310: (tensor([3.1416], requires_grad=True), tensor([3.7538e-22], requires_grad=True))\n",
      "Cost after step   315: tensor([-1.], grad_fn=<StackBackward0>)\n",
      "Parameters after step   315: (tensor([3.1416], requires_grad=True), tensor([3.7538e-22], requires_grad=True))\n",
      "Cost after step   320: tensor([-1.], grad_fn=<StackBackward0>)\n",
      "Parameters after step   320: (tensor([3.1416], requires_grad=True), tensor([3.7538e-22], requires_grad=True))\n",
      "Cost after step   325: tensor([-1.], grad_fn=<StackBackward0>)\n",
      "Parameters after step   325: (tensor([3.1416], requires_grad=True), tensor([3.7538e-22], requires_grad=True))\n",
      "Cost after step   330: tensor([-1.], grad_fn=<StackBackward0>)\n",
      "Parameters after step   330: (tensor([3.1416], requires_grad=True), tensor([3.7538e-22], requires_grad=True))\n",
      "Cost after step   335: tensor([-1.], grad_fn=<StackBackward0>)\n",
      "Parameters after step   335: (tensor([3.1416], requires_grad=True), tensor([3.7538e-22], requires_grad=True))\n",
      "Cost after step   340: tensor([-1.], grad_fn=<StackBackward0>)\n",
      "Parameters after step   340: (tensor([3.1416], requires_grad=True), tensor([3.7538e-22], requires_grad=True))\n",
      "Cost after step   345: tensor([-1.], grad_fn=<StackBackward0>)\n",
      "Parameters after step   345: (tensor([3.1416], requires_grad=True), tensor([3.7538e-22], requires_grad=True))\n",
      "Cost after step   350: tensor([-1.], grad_fn=<StackBackward0>)\n",
      "Parameters after step   350: (tensor([3.1416], requires_grad=True), tensor([3.7538e-22], requires_grad=True))\n",
      "Cost after step   355: tensor([-1.], grad_fn=<StackBackward0>)\n",
      "Parameters after step   355: (tensor([3.1416], requires_grad=True), tensor([3.7538e-22], requires_grad=True))\n",
      "Cost after step   360: tensor([-1.], grad_fn=<StackBackward0>)\n",
      "Parameters after step   360: (tensor([3.1416], requires_grad=True), tensor([3.7538e-22], requires_grad=True))\n",
      "Cost after step   365: tensor([-1.], grad_fn=<StackBackward0>)\n",
      "Parameters after step   365: (tensor([3.1416], requires_grad=True), tensor([3.7538e-22], requires_grad=True))\n",
      "Cost after step   370: tensor([-1.], grad_fn=<StackBackward0>)\n",
      "Parameters after step   370: (tensor([3.1416], requires_grad=True), tensor([3.7538e-22], requires_grad=True))\n",
      "Cost after step   375: tensor([-1.], grad_fn=<StackBackward0>)\n",
      "Parameters after step   375: (tensor([3.1416], requires_grad=True), tensor([3.7538e-22], requires_grad=True))\n",
      "Cost after step   380: tensor([-1.], grad_fn=<StackBackward0>)\n",
      "Parameters after step   380: (tensor([3.1416], requires_grad=True), tensor([3.7538e-22], requires_grad=True))\n",
      "Cost after step   385: tensor([-1.], grad_fn=<StackBackward0>)\n",
      "Parameters after step   385: (tensor([3.1416], requires_grad=True), tensor([3.7538e-22], requires_grad=True))\n",
      "Cost after step   390: tensor([-1.], grad_fn=<StackBackward0>)\n",
      "Parameters after step   390: (tensor([3.1416], requires_grad=True), tensor([3.7538e-22], requires_grad=True))\n",
      "Cost after step   395: tensor([-1.], grad_fn=<StackBackward0>)\n",
      "Parameters after step   395: (tensor([3.1416], requires_grad=True), tensor([3.7538e-22], requires_grad=True))\n",
      "Cost after step   400: tensor([-1.], grad_fn=<StackBackward0>)\n",
      "Parameters after step   400: (tensor([3.1416], requires_grad=True), tensor([3.7538e-22], requires_grad=True))\n",
      "Cost after step   405: tensor([-1.], grad_fn=<StackBackward0>)\n",
      "Parameters after step   405: (tensor([3.1416], requires_grad=True), tensor([3.7538e-22], requires_grad=True))\n",
      "Cost after step   410: tensor([-1.], grad_fn=<StackBackward0>)\n",
      "Parameters after step   410: (tensor([3.1416], requires_grad=True), tensor([3.7538e-22], requires_grad=True))\n",
      "Cost after step   415: tensor([-1.], grad_fn=<StackBackward0>)\n",
      "Parameters after step   415: (tensor([3.1416], requires_grad=True), tensor([3.7538e-22], requires_grad=True))\n",
      "Cost after step   420: tensor([-1.], grad_fn=<StackBackward0>)\n",
      "Parameters after step   420: (tensor([3.1416], requires_grad=True), tensor([3.7538e-22], requires_grad=True))\n",
      "Cost after step   425: tensor([-1.], grad_fn=<StackBackward0>)\n",
      "Parameters after step   425: (tensor([3.1416], requires_grad=True), tensor([3.7538e-22], requires_grad=True))\n",
      "Cost after step   430: tensor([-1.], grad_fn=<StackBackward0>)\n",
      "Parameters after step   430: (tensor([3.1416], requires_grad=True), tensor([3.7538e-22], requires_grad=True))\n",
      "Cost after step   435: tensor([-1.], grad_fn=<StackBackward0>)\n",
      "Parameters after step   435: (tensor([3.1416], requires_grad=True), tensor([3.7538e-22], requires_grad=True))\n",
      "Cost after step   440: tensor([-1.], grad_fn=<StackBackward0>)\n",
      "Parameters after step   440: (tensor([3.1416], requires_grad=True), tensor([3.7538e-22], requires_grad=True))\n",
      "Cost after step   445: tensor([-1.], grad_fn=<StackBackward0>)\n",
      "Parameters after step   445: (tensor([3.1416], requires_grad=True), tensor([3.7538e-22], requires_grad=True))\n",
      "Cost after step   450: tensor([-1.], grad_fn=<StackBackward0>)\n",
      "Parameters after step   450: (tensor([3.1416], requires_grad=True), tensor([3.7538e-22], requires_grad=True))\n",
      "Cost after step   455: tensor([-1.], grad_fn=<StackBackward0>)\n",
      "Parameters after step   455: (tensor([3.1416], requires_grad=True), tensor([3.7538e-22], requires_grad=True))\n",
      "Cost after step   460: tensor([-1.], grad_fn=<StackBackward0>)\n",
      "Parameters after step   460: (tensor([3.1416], requires_grad=True), tensor([3.7538e-22], requires_grad=True))\n",
      "Cost after step   465: tensor([-1.], grad_fn=<StackBackward0>)\n",
      "Parameters after step   465: (tensor([3.1416], requires_grad=True), tensor([3.7538e-22], requires_grad=True))\n",
      "Cost after step   470: tensor([-1.], grad_fn=<StackBackward0>)\n",
      "Parameters after step   470: (tensor([3.1416], requires_grad=True), tensor([3.7538e-22], requires_grad=True))\n",
      "Cost after step   475: tensor([-1.], grad_fn=<StackBackward0>)\n",
      "Parameters after step   475: (tensor([3.1416], requires_grad=True), tensor([3.7538e-22], requires_grad=True))\n",
      "Cost after step   480: tensor([-1.], grad_fn=<StackBackward0>)\n",
      "Parameters after step   480: (tensor([3.1416], requires_grad=True), tensor([3.7538e-22], requires_grad=True))\n",
      "Cost after step   485: tensor([-1.], grad_fn=<StackBackward0>)\n",
      "Parameters after step   485: (tensor([3.1416], requires_grad=True), tensor([3.7538e-22], requires_grad=True))\n",
      "Cost after step   490: tensor([-1.], grad_fn=<StackBackward0>)\n",
      "Parameters after step   490: (tensor([3.1416], requires_grad=True), tensor([3.7538e-22], requires_grad=True))\n",
      "Cost after step   495: tensor([-1.], grad_fn=<StackBackward0>)\n",
      "Parameters after step   495: (tensor([3.1416], requires_grad=True), tensor([3.7538e-22], requires_grad=True))\n",
      "Cost after step   500: tensor([-1.], grad_fn=<StackBackward0>)\n",
      "Parameters after step   500: (tensor([3.1416], requires_grad=True), tensor([3.7538e-22], requires_grad=True))\n",
      "(tensor([3.1416], requires_grad=True), tensor([3.7538e-22], requires_grad=True))\n",
      "tensor([-1.], grad_fn=<StackBackward0>)\n"
     ]
    }
   ],
   "source": [
    "from torch import optim\n",
    "optimizer = optim.Adam([a, b], lr=0.1)\n",
    "for i in range(500):\n",
    "    optimizer.zero_grad()\n",
    "    #print(b.grad)\n",
    "    loss = cost(*my_params)\n",
    "    loss.backward()\n",
    "    optimizer.step()\n",
    "    if (i + 1) % 5 == 0:\n",
    "        print(\"Cost after step {:5d}: {}\".format(i + 1, cost(*new_params)))\n",
    "        print(\"Parameters after step {:5d}: {}\".format(i + 1, new_params))\n",
    "print(new_params)\n",
    "print(cost(*new_params))"
   ]
  },
  {
   "cell_type": "markdown",
   "id": "fd22cefb",
   "metadata": {
    "tags": []
   },
   "source": [
    "##  Obtain gradient by parameter shift method"
   ]
  },
  {
   "cell_type": "markdown",
   "id": "3498a55c",
   "metadata": {
    "tags": []
   },
   "source": [
    "### state vector propagation mode"
   ]
  },
  {
   "cell_type": "code",
   "execution_count": 32,
   "id": "a2b66344",
   "metadata": {
    "tags": []
   },
   "outputs": [],
   "source": [
    "# my_compilecircuit = circuit.compilecircuit(backend=\"pytorch\", diff_method = \"param_shift\")"
   ]
  },
  {
   "cell_type": "markdown",
   "id": "4a7ea829",
   "metadata": {
    "tags": []
   },
   "source": [
    "### tensor network contraction mode"
   ]
  },
  {
   "cell_type": "markdown",
   "id": "cb525f46",
   "metadata": {
    "tags": []
   },
   "source": [
    "#### Use CoTenGra"
   ]
  },
  {
   "cell_type": "code",
   "execution_count": 33,
   "id": "08643b73",
   "metadata": {
    "tags": []
   },
   "outputs": [],
   "source": [
    "# slicing_opts = {'target_size': 2**28}\n",
    "# hyper_opt = {'methods':['kahypar'], 'max_time':120, 'max_repeats':12, 'progbar':True, 'minimize':'flops', 'parallel':True, 'slicing_opts':slicing_opts}\n",
    "# import cotengra as ctg\n",
    "# my_compilecircuit = circuit.compilecircuit(backend=\"pytorch\", use_cotengra=ctg, hyper_opt = hyper_opt, diff_method = \"param_shift\")"
   ]
  },
  {
   "cell_type": "markdown",
   "id": "973bdaad",
   "metadata": {},
   "source": [
    "#### Use JDtensorPath (Suggested)\n",
    "1. 'target_num_slices' is useful if you want to do the contraction in parallel, it will devide the tensor network into pieces and then calculat them in parallel\n",
    "2. 'math_repeats' means how many times are going to run JDtensorPath to find a best contraction path\n",
    "3. 'search_parallel' means to run the JDtensorPath in parallel, True means to use all the CPUs, integer number means to use that number of CPUs\n"
   ]
  },
  {
   "cell_type": "code",
   "execution_count": 34,
   "id": "0d051a1d",
   "metadata": {},
   "outputs": [
    {
     "name": "stdout",
     "output_type": "stream",
     "text": [
      "log10(flops) of this quantum circuit:   1.079181246051244\n"
     ]
    },
    {
     "name": "stderr",
     "output_type": "stream",
     "text": [
      "2022-08-30 17:33:15,767\tINFO services.py:1263 -- View the Ray dashboard at \u001b[1m\u001b[32mhttp://127.0.0.1:8265\u001b[39m\u001b[22m\n"
     ]
    },
    {
     "name": "stdout",
     "output_type": "stream",
     "text": [
      "log2(size) before slicing:  2.0000000000360676\n",
      "log10(flops) before removed:    1.5910646070276129\n"
     ]
    }
   ],
   "source": [
    "from jdtensorpath import JDOptTN as jdopttn\n",
    "slicing_opts = {'target_size':2**28, 'repeats':500, 'target_num_slices':None, 'contract_parallel':False}\n",
    "hyper_opt = {'methods':['kahypar'], 'max_time':120, 'max_repeats':12, 'search_parallel':True, 'slicing_opts':slicing_opts}\n",
    "my_compilecircuit = circuit.compilecircuit(backend=\"pytorch\", use_jdopttn=jdopttn, hyper_opt = hyper_opt, tn_simplify = False, diff_method = \"param_shift\")"
   ]
  },
  {
   "cell_type": "markdown",
   "id": "66c587a9",
   "metadata": {
    "tags": []
   },
   "source": [
    "### Define cost function and optimizer"
   ]
  },
  {
   "cell_type": "code",
   "execution_count": 35,
   "id": "4aca28db",
   "metadata": {},
   "outputs": [],
   "source": [
    "def cost(*params):\n",
    "    results = my_compilecircuit(*params)\n",
    "    return results"
   ]
  },
  {
   "cell_type": "code",
   "execution_count": 36,
   "id": "4ad4035c",
   "metadata": {},
   "outputs": [],
   "source": [
    "# using TeD-Q built-in optimizer\n",
    "Optimizer = qai.GradientDescentOptimizer(cost, [0, 1], 0.4, interface=\"pytorch\")"
   ]
  },
  {
   "cell_type": "markdown",
   "id": "0ebad5be",
   "metadata": {},
   "source": [
    "### Training"
   ]
  },
  {
   "cell_type": "code",
   "execution_count": 37,
   "id": "f6928ea4",
   "metadata": {},
   "outputs": [],
   "source": [
    "import torch\n",
    "a = torch.tensor([0.54], requires_grad= True)\n",
    "b = torch.tensor([0.12], requires_grad= True)\n",
    "my_params = (a, b)"
   ]
  },
  {
   "cell_type": "code",
   "execution_count": 38,
   "id": "02d8be77",
   "metadata": {},
   "outputs": [
    {
     "name": "stdout",
     "output_type": "stream",
     "text": [
      "Cost after step     5: tensor([-0.4893], grad_fn=<TorchExecuteBackward>)\n",
      "Parameters after step     5: (tensor([2.1014], requires_grad=True), tensor([0.2584], requires_grad=True))\n",
      "Cost after step    10: tensor([-0.9942], grad_fn=<TorchExecuteBackward>)\n",
      "Parameters after step    10: (tensor([3.0394], requires_grad=True), tensor([0.0345], requires_grad=True))\n",
      "Cost after step    15: tensor([-1.0000], grad_fn=<TorchExecuteBackward>)\n",
      "Parameters after step    15: (tensor([3.1336], requires_grad=True), tensor([0.0027], requires_grad=True))\n",
      "Cost after step    20: tensor([-1.0000], grad_fn=<TorchExecuteBackward>)\n",
      "Parameters after step    20: (tensor([3.1410], requires_grad=True), tensor([0.0002], requires_grad=True))\n",
      "Cost after step    25: tensor([-1.], grad_fn=<TorchExecuteBackward>)\n",
      "Parameters after step    25: (tensor([3.1415], requires_grad=True), tensor([1.6321e-05], requires_grad=True))\n",
      "Cost after step    30: tensor([-1.], grad_fn=<TorchExecuteBackward>)\n",
      "Parameters after step    30: (tensor([3.1416], requires_grad=True), tensor([1.2409e-06], requires_grad=True))\n",
      "Cost after step    35: tensor([-1.], grad_fn=<TorchExecuteBackward>)\n",
      "Parameters after step    35: (tensor([3.1416], requires_grad=True), tensor([9.0574e-08], requires_grad=True))\n",
      "Cost after step    40: tensor([-1.], grad_fn=<TorchExecuteBackward>)\n",
      "Parameters after step    40: (tensor([3.1416], requires_grad=True), tensor([4.2890e-08], requires_grad=True))\n",
      "Cost after step    45: tensor([-1.], grad_fn=<TorchExecuteBackward>)\n",
      "Parameters after step    45: (tensor([3.1416], requires_grad=True), tensor([4.2890e-08], requires_grad=True))\n",
      "Cost after step    50: tensor([-1.], grad_fn=<TorchExecuteBackward>)\n",
      "Parameters after step    50: (tensor([3.1416], requires_grad=True), tensor([4.2890e-08], requires_grad=True))\n",
      "Cost after step    55: tensor([-1.], grad_fn=<TorchExecuteBackward>)\n",
      "Parameters after step    55: (tensor([3.1416], requires_grad=True), tensor([4.2890e-08], requires_grad=True))\n",
      "Cost after step    60: tensor([-1.], grad_fn=<TorchExecuteBackward>)\n",
      "Parameters after step    60: (tensor([3.1416], requires_grad=True), tensor([4.2890e-08], requires_grad=True))\n",
      "Cost after step    65: tensor([-1.], grad_fn=<TorchExecuteBackward>)\n",
      "Parameters after step    65: (tensor([3.1416], requires_grad=True), tensor([4.2890e-08], requires_grad=True))\n",
      "Cost after step    70: tensor([-1.], grad_fn=<TorchExecuteBackward>)\n",
      "Parameters after step    70: (tensor([3.1416], requires_grad=True), tensor([4.2890e-08], requires_grad=True))\n",
      "Cost after step    75: tensor([-1.], grad_fn=<TorchExecuteBackward>)\n",
      "Parameters after step    75: (tensor([3.1416], requires_grad=True), tensor([4.2890e-08], requires_grad=True))\n",
      "Cost after step    80: tensor([-1.], grad_fn=<TorchExecuteBackward>)\n",
      "Parameters after step    80: (tensor([3.1416], requires_grad=True), tensor([4.2890e-08], requires_grad=True))\n",
      "Cost after step    85: tensor([-1.], grad_fn=<TorchExecuteBackward>)\n",
      "Parameters after step    85: (tensor([3.1416], requires_grad=True), tensor([4.2890e-08], requires_grad=True))\n",
      "Cost after step    90: tensor([-1.], grad_fn=<TorchExecuteBackward>)\n",
      "Parameters after step    90: (tensor([3.1416], requires_grad=True), tensor([4.2890e-08], requires_grad=True))\n",
      "Cost after step    95: tensor([-1.], grad_fn=<TorchExecuteBackward>)\n",
      "Parameters after step    95: (tensor([3.1416], requires_grad=True), tensor([4.2890e-08], requires_grad=True))\n",
      "Cost after step   100: tensor([-1.], grad_fn=<TorchExecuteBackward>)\n",
      "Parameters after step   100: (tensor([3.1416], requires_grad=True), tensor([4.2890e-08], requires_grad=True))\n",
      "(tensor([3.1416], requires_grad=True), tensor([4.2890e-08], requires_grad=True))\n",
      "tensor([-1.], grad_fn=<TorchExecuteBackward>)\n",
      "CPU times: user 354 ms, sys: 4.8 ms, total: 359 ms\n",
      "Wall time: 355 ms\n"
     ]
    }
   ],
   "source": [
    "%%time\n",
    "new_params = my_params\n",
    "for i in range(100):\n",
    "    new_params = Optimizer.step(*new_params)\n",
    "    if (i + 1) % 5 == 0:\n",
    "        print(\"Cost after step {:5d}: {}\".format(i + 1, cost(*new_params)))\n",
    "        print(\"Parameters after step {:5d}: {}\".format(i + 1, new_params))\n",
    "print(new_params)\n",
    "print(cost(*new_params))"
   ]
  },
  {
   "cell_type": "code",
   "execution_count": 39,
   "id": "5c50308b",
   "metadata": {},
   "outputs": [
    {
     "name": "stdout",
     "output_type": "stream",
     "text": [
      "Optimized rotation angles: (tensor([3.1416], requires_grad=True), tensor([4.2890e-08], requires_grad=True))\n"
     ]
    }
   ],
   "source": [
    "print(\"Optimized rotation angles: {}\".format(new_params))"
   ]
  },
  {
   "cell_type": "code",
   "execution_count": 40,
   "id": "ee9fa229",
   "metadata": {},
   "outputs": [
    {
     "name": "stdout",
     "output_type": "stream",
     "text": [
      "Cost: tensor([-1.], grad_fn=<TorchExecuteBackward>)\n"
     ]
    }
   ],
   "source": [
    "print(\"Cost: {}\".format(cost(*new_params)))"
   ]
  },
  {
   "cell_type": "markdown",
   "id": "cef0df62",
   "metadata": {},
   "source": [
    "### Using backend's optimizer and training"
   ]
  },
  {
   "cell_type": "code",
   "execution_count": 41,
   "id": "9abfb309",
   "metadata": {},
   "outputs": [
    {
     "name": "stdout",
     "output_type": "stream",
     "text": [
      "Cost after step     5: tensor([-1.], grad_fn=<TorchExecuteBackward>)\n",
      "Parameters after step     5: (tensor([3.1416], requires_grad=True), tensor([4.2890e-08], requires_grad=True))\n",
      "Cost after step    10: tensor([-1.], grad_fn=<TorchExecuteBackward>)\n",
      "Parameters after step    10: (tensor([3.1416], requires_grad=True), tensor([4.2890e-08], requires_grad=True))\n",
      "Cost after step    15: tensor([-1.], grad_fn=<TorchExecuteBackward>)\n",
      "Parameters after step    15: (tensor([3.1416], requires_grad=True), tensor([4.2890e-08], requires_grad=True))\n",
      "Cost after step    20: tensor([-1.], grad_fn=<TorchExecuteBackward>)\n",
      "Parameters after step    20: (tensor([3.1416], requires_grad=True), tensor([4.2890e-08], requires_grad=True))\n",
      "Cost after step    25: tensor([-1.], grad_fn=<TorchExecuteBackward>)\n",
      "Parameters after step    25: (tensor([3.1416], requires_grad=True), tensor([4.2890e-08], requires_grad=True))\n",
      "Cost after step    30: tensor([-1.], grad_fn=<TorchExecuteBackward>)\n",
      "Parameters after step    30: (tensor([3.1416], requires_grad=True), tensor([4.2890e-08], requires_grad=True))\n",
      "Cost after step    35: tensor([-1.], grad_fn=<TorchExecuteBackward>)\n",
      "Parameters after step    35: (tensor([3.1416], requires_grad=True), tensor([4.2890e-08], requires_grad=True))\n",
      "Cost after step    40: tensor([-1.], grad_fn=<TorchExecuteBackward>)\n",
      "Parameters after step    40: (tensor([3.1416], requires_grad=True), tensor([4.2890e-08], requires_grad=True))\n",
      "Cost after step    45: tensor([-1.], grad_fn=<TorchExecuteBackward>)\n",
      "Parameters after step    45: (tensor([3.1416], requires_grad=True), tensor([4.2890e-08], requires_grad=True))\n",
      "Cost after step    50: tensor([-1.], grad_fn=<TorchExecuteBackward>)\n",
      "Parameters after step    50: (tensor([3.1416], requires_grad=True), tensor([4.2890e-08], requires_grad=True))\n",
      "Cost after step    55: tensor([-1.], grad_fn=<TorchExecuteBackward>)\n",
      "Parameters after step    55: (tensor([3.1416], requires_grad=True), tensor([4.2890e-08], requires_grad=True))\n",
      "Cost after step    60: tensor([-1.], grad_fn=<TorchExecuteBackward>)\n",
      "Parameters after step    60: (tensor([3.1416], requires_grad=True), tensor([4.2890e-08], requires_grad=True))\n",
      "Cost after step    65: tensor([-1.], grad_fn=<TorchExecuteBackward>)\n",
      "Parameters after step    65: (tensor([3.1416], requires_grad=True), tensor([4.2890e-08], requires_grad=True))\n",
      "Cost after step    70: tensor([-1.], grad_fn=<TorchExecuteBackward>)\n",
      "Parameters after step    70: (tensor([3.1416], requires_grad=True), tensor([4.2890e-08], requires_grad=True))\n",
      "Cost after step    75: tensor([-1.], grad_fn=<TorchExecuteBackward>)\n",
      "Parameters after step    75: (tensor([3.1416], requires_grad=True), tensor([4.2890e-08], requires_grad=True))\n",
      "Cost after step    80: tensor([-1.], grad_fn=<TorchExecuteBackward>)\n",
      "Parameters after step    80: (tensor([3.1416], requires_grad=True), tensor([4.2890e-08], requires_grad=True))\n",
      "Cost after step    85: tensor([-1.], grad_fn=<TorchExecuteBackward>)\n",
      "Parameters after step    85: (tensor([3.1416], requires_grad=True), tensor([4.2890e-08], requires_grad=True))\n",
      "Cost after step    90: tensor([-1.], grad_fn=<TorchExecuteBackward>)\n",
      "Parameters after step    90: (tensor([3.1416], requires_grad=True), tensor([4.2890e-08], requires_grad=True))\n",
      "Cost after step    95: tensor([-1.], grad_fn=<TorchExecuteBackward>)\n",
      "Parameters after step    95: (tensor([3.1416], requires_grad=True), tensor([4.2890e-08], requires_grad=True))\n",
      "Cost after step   100: tensor([-1.], grad_fn=<TorchExecuteBackward>)\n",
      "Parameters after step   100: (tensor([3.1416], requires_grad=True), tensor([4.2890e-08], requires_grad=True))\n",
      "Cost after step   105: tensor([-1.], grad_fn=<TorchExecuteBackward>)\n",
      "Parameters after step   105: (tensor([3.1416], requires_grad=True), tensor([4.2890e-08], requires_grad=True))\n",
      "Cost after step   110: tensor([-1.], grad_fn=<TorchExecuteBackward>)\n",
      "Parameters after step   110: (tensor([3.1416], requires_grad=True), tensor([4.2890e-08], requires_grad=True))\n",
      "Cost after step   115: tensor([-1.], grad_fn=<TorchExecuteBackward>)\n",
      "Parameters after step   115: (tensor([3.1416], requires_grad=True), tensor([4.2890e-08], requires_grad=True))\n",
      "Cost after step   120: tensor([-1.], grad_fn=<TorchExecuteBackward>)\n",
      "Parameters after step   120: (tensor([3.1416], requires_grad=True), tensor([4.2890e-08], requires_grad=True))\n",
      "Cost after step   125: tensor([-1.], grad_fn=<TorchExecuteBackward>)\n",
      "Parameters after step   125: (tensor([3.1416], requires_grad=True), tensor([4.2890e-08], requires_grad=True))\n",
      "Cost after step   130: tensor([-1.], grad_fn=<TorchExecuteBackward>)\n",
      "Parameters after step   130: (tensor([3.1416], requires_grad=True), tensor([4.2890e-08], requires_grad=True))\n",
      "Cost after step   135: tensor([-1.], grad_fn=<TorchExecuteBackward>)\n",
      "Parameters after step   135: (tensor([3.1416], requires_grad=True), tensor([4.2890e-08], requires_grad=True))\n",
      "Cost after step   140: tensor([-1.], grad_fn=<TorchExecuteBackward>)\n",
      "Parameters after step   140: (tensor([3.1416], requires_grad=True), tensor([4.2890e-08], requires_grad=True))\n",
      "Cost after step   145: tensor([-1.], grad_fn=<TorchExecuteBackward>)\n",
      "Parameters after step   145: (tensor([3.1416], requires_grad=True), tensor([4.2890e-08], requires_grad=True))\n",
      "Cost after step   150: tensor([-1.], grad_fn=<TorchExecuteBackward>)\n",
      "Parameters after step   150: (tensor([3.1416], requires_grad=True), tensor([4.2890e-08], requires_grad=True))\n",
      "Cost after step   155: tensor([-1.], grad_fn=<TorchExecuteBackward>)\n",
      "Parameters after step   155: (tensor([3.1416], requires_grad=True), tensor([4.2890e-08], requires_grad=True))\n",
      "Cost after step   160: tensor([-1.], grad_fn=<TorchExecuteBackward>)\n",
      "Parameters after step   160: (tensor([3.1416], requires_grad=True), tensor([4.2890e-08], requires_grad=True))\n",
      "Cost after step   165: tensor([-1.], grad_fn=<TorchExecuteBackward>)\n",
      "Parameters after step   165: (tensor([3.1416], requires_grad=True), tensor([4.2890e-08], requires_grad=True))\n",
      "Cost after step   170: tensor([-1.], grad_fn=<TorchExecuteBackward>)\n",
      "Parameters after step   170: (tensor([3.1416], requires_grad=True), tensor([4.2890e-08], requires_grad=True))\n",
      "Cost after step   175: tensor([-1.], grad_fn=<TorchExecuteBackward>)\n",
      "Parameters after step   175: (tensor([3.1416], requires_grad=True), tensor([4.2890e-08], requires_grad=True))\n",
      "Cost after step   180: tensor([-1.], grad_fn=<TorchExecuteBackward>)\n",
      "Parameters after step   180: (tensor([3.1416], requires_grad=True), tensor([4.2890e-08], requires_grad=True))\n",
      "Cost after step   185: tensor([-1.], grad_fn=<TorchExecuteBackward>)\n",
      "Parameters after step   185: (tensor([3.1416], requires_grad=True), tensor([4.2890e-08], requires_grad=True))\n",
      "Cost after step   190: tensor([-1.], grad_fn=<TorchExecuteBackward>)\n",
      "Parameters after step   190: (tensor([3.1416], requires_grad=True), tensor([4.2890e-08], requires_grad=True))\n",
      "Cost after step   195: tensor([-1.], grad_fn=<TorchExecuteBackward>)\n",
      "Parameters after step   195: (tensor([3.1416], requires_grad=True), tensor([4.2890e-08], requires_grad=True))\n",
      "Cost after step   200: tensor([-1.], grad_fn=<TorchExecuteBackward>)\n",
      "Parameters after step   200: (tensor([3.1416], requires_grad=True), tensor([4.2890e-08], requires_grad=True))\n",
      "Cost after step   205: tensor([-1.], grad_fn=<TorchExecuteBackward>)\n",
      "Parameters after step   205: (tensor([3.1416], requires_grad=True), tensor([4.2890e-08], requires_grad=True))\n",
      "Cost after step   210: tensor([-1.], grad_fn=<TorchExecuteBackward>)\n",
      "Parameters after step   210: (tensor([3.1416], requires_grad=True), tensor([4.2890e-08], requires_grad=True))\n",
      "Cost after step   215: tensor([-1.], grad_fn=<TorchExecuteBackward>)\n",
      "Parameters after step   215: (tensor([3.1416], requires_grad=True), tensor([4.2890e-08], requires_grad=True))\n",
      "Cost after step   220: tensor([-1.], grad_fn=<TorchExecuteBackward>)\n",
      "Parameters after step   220: (tensor([3.1416], requires_grad=True), tensor([4.2890e-08], requires_grad=True))\n",
      "Cost after step   225: tensor([-1.], grad_fn=<TorchExecuteBackward>)\n",
      "Parameters after step   225: (tensor([3.1416], requires_grad=True), tensor([4.2890e-08], requires_grad=True))\n",
      "Cost after step   230: tensor([-1.], grad_fn=<TorchExecuteBackward>)\n",
      "Parameters after step   230: (tensor([3.1416], requires_grad=True), tensor([4.2890e-08], requires_grad=True))\n",
      "Cost after step   235: tensor([-1.], grad_fn=<TorchExecuteBackward>)\n",
      "Parameters after step   235: (tensor([3.1416], requires_grad=True), tensor([4.2890e-08], requires_grad=True))\n",
      "Cost after step   240: tensor([-1.], grad_fn=<TorchExecuteBackward>)\n",
      "Parameters after step   240: (tensor([3.1416], requires_grad=True), tensor([4.2890e-08], requires_grad=True))\n",
      "Cost after step   245: tensor([-1.], grad_fn=<TorchExecuteBackward>)\n",
      "Parameters after step   245: (tensor([3.1416], requires_grad=True), tensor([4.2890e-08], requires_grad=True))\n",
      "Cost after step   250: tensor([-1.], grad_fn=<TorchExecuteBackward>)\n",
      "Parameters after step   250: (tensor([3.1416], requires_grad=True), tensor([4.2890e-08], requires_grad=True))\n",
      "Cost after step   255: tensor([-1.], grad_fn=<TorchExecuteBackward>)\n",
      "Parameters after step   255: (tensor([3.1416], requires_grad=True), tensor([4.2890e-08], requires_grad=True))\n",
      "Cost after step   260: tensor([-1.], grad_fn=<TorchExecuteBackward>)\n",
      "Parameters after step   260: (tensor([3.1416], requires_grad=True), tensor([4.2890e-08], requires_grad=True))\n",
      "Cost after step   265: tensor([-1.], grad_fn=<TorchExecuteBackward>)\n",
      "Parameters after step   265: (tensor([3.1416], requires_grad=True), tensor([4.2890e-08], requires_grad=True))\n",
      "Cost after step   270: tensor([-1.], grad_fn=<TorchExecuteBackward>)\n",
      "Parameters after step   270: (tensor([3.1416], requires_grad=True), tensor([4.2890e-08], requires_grad=True))\n",
      "Cost after step   275: tensor([-1.], grad_fn=<TorchExecuteBackward>)\n",
      "Parameters after step   275: (tensor([3.1416], requires_grad=True), tensor([4.2890e-08], requires_grad=True))\n",
      "Cost after step   280: tensor([-1.], grad_fn=<TorchExecuteBackward>)\n",
      "Parameters after step   280: (tensor([3.1416], requires_grad=True), tensor([4.2890e-08], requires_grad=True))\n",
      "Cost after step   285: tensor([-1.], grad_fn=<TorchExecuteBackward>)\n",
      "Parameters after step   285: (tensor([3.1416], requires_grad=True), tensor([4.2890e-08], requires_grad=True))\n",
      "Cost after step   290: tensor([-1.], grad_fn=<TorchExecuteBackward>)\n",
      "Parameters after step   290: (tensor([3.1416], requires_grad=True), tensor([4.2890e-08], requires_grad=True))\n",
      "Cost after step   295: tensor([-1.], grad_fn=<TorchExecuteBackward>)\n",
      "Parameters after step   295: (tensor([3.1416], requires_grad=True), tensor([4.2890e-08], requires_grad=True))\n",
      "Cost after step   300: tensor([-1.], grad_fn=<TorchExecuteBackward>)\n",
      "Parameters after step   300: (tensor([3.1416], requires_grad=True), tensor([4.2890e-08], requires_grad=True))\n",
      "Cost after step   305: tensor([-1.], grad_fn=<TorchExecuteBackward>)\n",
      "Parameters after step   305: (tensor([3.1416], requires_grad=True), tensor([4.2890e-08], requires_grad=True))\n",
      "Cost after step   310: tensor([-1.], grad_fn=<TorchExecuteBackward>)\n",
      "Parameters after step   310: (tensor([3.1416], requires_grad=True), tensor([4.2890e-08], requires_grad=True))\n",
      "Cost after step   315: tensor([-1.], grad_fn=<TorchExecuteBackward>)\n",
      "Parameters after step   315: (tensor([3.1416], requires_grad=True), tensor([4.2890e-08], requires_grad=True))\n",
      "Cost after step   320: tensor([-1.], grad_fn=<TorchExecuteBackward>)\n",
      "Parameters after step   320: (tensor([3.1416], requires_grad=True), tensor([4.2890e-08], requires_grad=True))\n",
      "Cost after step   325: tensor([-1.], grad_fn=<TorchExecuteBackward>)\n",
      "Parameters after step   325: (tensor([3.1416], requires_grad=True), tensor([4.2890e-08], requires_grad=True))\n",
      "Cost after step   330: tensor([-1.], grad_fn=<TorchExecuteBackward>)\n",
      "Parameters after step   330: (tensor([3.1416], requires_grad=True), tensor([4.2890e-08], requires_grad=True))\n",
      "Cost after step   335: tensor([-1.], grad_fn=<TorchExecuteBackward>)\n",
      "Parameters after step   335: (tensor([3.1416], requires_grad=True), tensor([4.2890e-08], requires_grad=True))\n",
      "Cost after step   340: tensor([-1.], grad_fn=<TorchExecuteBackward>)\n",
      "Parameters after step   340: (tensor([3.1416], requires_grad=True), tensor([4.2890e-08], requires_grad=True))\n",
      "Cost after step   345: tensor([-1.], grad_fn=<TorchExecuteBackward>)\n",
      "Parameters after step   345: (tensor([3.1416], requires_grad=True), tensor([4.2890e-08], requires_grad=True))\n",
      "Cost after step   350: tensor([-1.], grad_fn=<TorchExecuteBackward>)\n",
      "Parameters after step   350: (tensor([3.1416], requires_grad=True), tensor([4.2890e-08], requires_grad=True))\n",
      "Cost after step   355: tensor([-1.], grad_fn=<TorchExecuteBackward>)\n",
      "Parameters after step   355: (tensor([3.1416], requires_grad=True), tensor([4.2890e-08], requires_grad=True))\n",
      "Cost after step   360: tensor([-1.], grad_fn=<TorchExecuteBackward>)\n",
      "Parameters after step   360: (tensor([3.1416], requires_grad=True), tensor([4.2890e-08], requires_grad=True))\n",
      "Cost after step   365: tensor([-1.], grad_fn=<TorchExecuteBackward>)\n",
      "Parameters after step   365: (tensor([3.1416], requires_grad=True), tensor([4.2890e-08], requires_grad=True))\n",
      "Cost after step   370: tensor([-1.], grad_fn=<TorchExecuteBackward>)\n",
      "Parameters after step   370: (tensor([3.1416], requires_grad=True), tensor([4.2890e-08], requires_grad=True))\n",
      "Cost after step   375: tensor([-1.], grad_fn=<TorchExecuteBackward>)\n",
      "Parameters after step   375: (tensor([3.1416], requires_grad=True), tensor([4.2890e-08], requires_grad=True))\n",
      "Cost after step   380: tensor([-1.], grad_fn=<TorchExecuteBackward>)\n",
      "Parameters after step   380: (tensor([3.1416], requires_grad=True), tensor([4.2890e-08], requires_grad=True))\n",
      "Cost after step   385: tensor([-1.], grad_fn=<TorchExecuteBackward>)\n",
      "Parameters after step   385: (tensor([3.1416], requires_grad=True), tensor([4.2890e-08], requires_grad=True))\n",
      "Cost after step   390: tensor([-1.], grad_fn=<TorchExecuteBackward>)\n",
      "Parameters after step   390: (tensor([3.1416], requires_grad=True), tensor([4.2890e-08], requires_grad=True))\n",
      "Cost after step   395: tensor([-1.], grad_fn=<TorchExecuteBackward>)\n",
      "Parameters after step   395: (tensor([3.1416], requires_grad=True), tensor([4.2890e-08], requires_grad=True))\n",
      "Cost after step   400: tensor([-1.], grad_fn=<TorchExecuteBackward>)\n",
      "Parameters after step   400: (tensor([3.1416], requires_grad=True), tensor([4.2890e-08], requires_grad=True))\n",
      "Cost after step   405: tensor([-1.], grad_fn=<TorchExecuteBackward>)\n",
      "Parameters after step   405: (tensor([3.1416], requires_grad=True), tensor([4.2890e-08], requires_grad=True))\n",
      "Cost after step   410: tensor([-1.], grad_fn=<TorchExecuteBackward>)\n",
      "Parameters after step   410: (tensor([3.1416], requires_grad=True), tensor([4.2890e-08], requires_grad=True))\n",
      "Cost after step   415: tensor([-1.], grad_fn=<TorchExecuteBackward>)\n",
      "Parameters after step   415: (tensor([3.1416], requires_grad=True), tensor([4.2890e-08], requires_grad=True))\n",
      "Cost after step   420: tensor([-1.], grad_fn=<TorchExecuteBackward>)\n",
      "Parameters after step   420: (tensor([3.1416], requires_grad=True), tensor([4.2890e-08], requires_grad=True))\n",
      "Cost after step   425: tensor([-1.], grad_fn=<TorchExecuteBackward>)\n",
      "Parameters after step   425: (tensor([3.1416], requires_grad=True), tensor([4.2890e-08], requires_grad=True))\n",
      "Cost after step   430: tensor([-1.], grad_fn=<TorchExecuteBackward>)\n",
      "Parameters after step   430: (tensor([3.1416], requires_grad=True), tensor([4.2890e-08], requires_grad=True))\n",
      "Cost after step   435: tensor([-1.], grad_fn=<TorchExecuteBackward>)\n",
      "Parameters after step   435: (tensor([3.1416], requires_grad=True), tensor([4.2890e-08], requires_grad=True))\n",
      "Cost after step   440: tensor([-1.], grad_fn=<TorchExecuteBackward>)\n",
      "Parameters after step   440: (tensor([3.1416], requires_grad=True), tensor([4.2890e-08], requires_grad=True))\n",
      "Cost after step   445: tensor([-1.], grad_fn=<TorchExecuteBackward>)\n",
      "Parameters after step   445: (tensor([3.1416], requires_grad=True), tensor([4.2890e-08], requires_grad=True))\n",
      "Cost after step   450: tensor([-1.], grad_fn=<TorchExecuteBackward>)\n",
      "Parameters after step   450: (tensor([3.1416], requires_grad=True), tensor([4.2890e-08], requires_grad=True))\n",
      "Cost after step   455: tensor([-1.], grad_fn=<TorchExecuteBackward>)\n",
      "Parameters after step   455: (tensor([3.1416], requires_grad=True), tensor([4.2890e-08], requires_grad=True))\n",
      "Cost after step   460: tensor([-1.], grad_fn=<TorchExecuteBackward>)\n",
      "Parameters after step   460: (tensor([3.1416], requires_grad=True), tensor([4.2890e-08], requires_grad=True))\n",
      "Cost after step   465: tensor([-1.], grad_fn=<TorchExecuteBackward>)\n",
      "Parameters after step   465: (tensor([3.1416], requires_grad=True), tensor([4.2890e-08], requires_grad=True))\n",
      "Cost after step   470: tensor([-1.], grad_fn=<TorchExecuteBackward>)\n",
      "Parameters after step   470: (tensor([3.1416], requires_grad=True), tensor([4.2890e-08], requires_grad=True))\n",
      "Cost after step   475: tensor([-1.], grad_fn=<TorchExecuteBackward>)\n",
      "Parameters after step   475: (tensor([3.1416], requires_grad=True), tensor([4.2890e-08], requires_grad=True))\n",
      "Cost after step   480: tensor([-1.], grad_fn=<TorchExecuteBackward>)\n",
      "Parameters after step   480: (tensor([3.1416], requires_grad=True), tensor([4.2890e-08], requires_grad=True))\n",
      "Cost after step   485: tensor([-1.], grad_fn=<TorchExecuteBackward>)\n",
      "Parameters after step   485: (tensor([3.1416], requires_grad=True), tensor([4.2890e-08], requires_grad=True))\n",
      "Cost after step   490: tensor([-1.], grad_fn=<TorchExecuteBackward>)\n",
      "Parameters after step   490: (tensor([3.1416], requires_grad=True), tensor([4.2890e-08], requires_grad=True))\n",
      "Cost after step   495: tensor([-1.], grad_fn=<TorchExecuteBackward>)\n",
      "Parameters after step   495: (tensor([3.1416], requires_grad=True), tensor([4.2890e-08], requires_grad=True))\n",
      "Cost after step   500: tensor([-1.], grad_fn=<TorchExecuteBackward>)\n",
      "Parameters after step   500: (tensor([3.1416], requires_grad=True), tensor([4.2890e-08], requires_grad=True))\n",
      "(tensor([3.1416], requires_grad=True), tensor([4.2890e-08], requires_grad=True))\n",
      "tensor([-1.], grad_fn=<TorchExecuteBackward>)\n"
     ]
    }
   ],
   "source": [
    "from torch import optim\n",
    "optimizer = optim.Adam([a, b], lr=0.1)\n",
    "for i in range(500):\n",
    "    optimizer.zero_grad()\n",
    "    #print(b.grad)\n",
    "    loss = cost(*my_params)\n",
    "    loss.backward()\n",
    "    optimizer.step()\n",
    "    if (i + 1) % 5 == 0:\n",
    "        print(\"Cost after step {:5d}: {}\".format(i + 1, cost(*new_params)))\n",
    "        print(\"Parameters after step {:5d}: {}\".format(i + 1, new_params))\n",
    "print(new_params)\n",
    "print(cost(*new_params))"
   ]
  },
  {
   "cell_type": "markdown",
   "id": "d601fee0",
   "metadata": {},
   "source": [
    "### Trained circuit"
   ]
  },
  {
   "cell_type": "code",
   "execution_count": 42,
   "id": "b0f485a2",
   "metadata": {},
   "outputs": [
    {
     "data": {
      "image/png": "[encoded data removed]",
      "text/plain": [
       "<Figure size 1080x1080 with 1 Axes>"
      ]
     },
     "metadata": {},
     "output_type": "display_data"
    }
   ],
   "source": [
    "trainedCircuit = qai.Circuit(circuitDef, 1, new_params)\n",
    "drawer = qai.matplotlib_drawer(trainedCircuit)\n",
    "drawer.full_draw()"
   ]
  },
  {
   "cell_type": "code",
   "execution_count": null,
   "id": "fc8dec7c-da9c-4566-8379-2e6cde05133d",
   "metadata": {},
   "outputs": [],
   "source": []
  },
  {
   "cell_type": "markdown",
   "id": "6874b61b-88ad-464e-83a8-267d17306af0",
   "metadata": {},
   "source": [
    "# Real quantum computer hardware"
   ]
  },
  {
   "cell_type": "markdown",
   "id": "d5fc57e3-65c1-4fd8-a832-63ac00f2cc59",
   "metadata": {},
   "source": [
    "#### pytorch interface, parameter shift gradient method"
   ]
  },
  {
   "cell_type": "markdown",
   "id": "87241d76-75b3-4fd1-a29c-248922f1f136",
   "metadata": {},
   "source": [
    "#### now only support 1 qubit PauliZ measurement, will be upgrade later"
   ]
  },
  {
   "cell_type": "markdown",
   "id": "f8fc0c0e-f692-4c1f-ba79-c38a2b197d66",
   "metadata": {},
   "source": [
    "#### check your jobs here: https://quantum-computing.ibm.com/jobs?jobs=circuit"
   ]
  },
  {
   "cell_type": "markdown",
   "id": "38d6ef3a-28a5-4e2c-9d25-4a775dcb8086",
   "metadata": {},
   "source": [
    "#### caution, this is extremely slow since so many people are queuing for IBMQ free quantum computers"
   ]
  },
  {
   "cell_type": "code",
   "execution_count": 43,
   "id": "846cea7c-9157-432b-a05f-99f35be222f8",
   "metadata": {},
   "outputs": [
    {
     "name": "stderr",
     "output_type": "stream",
     "text": [
      "WARNING:urllib3.connection:Certificate did not match expected hostname: auth.quantum-computing.ibm.com. Certificate: {'subject': ((('countryName', 'TW'),), (('stateOrProvinceName', 'Taiwan'),), (('localityName', 'Taipei'),), (('organizationName', 'National Taiwan University'),), (('organizationalUnitName', 'C&INC'),), (('commonName', '*.cc.ntu.edu.tw'),)), 'issuer': ((('countryName', 'TW'),), (('organizationName', 'TAIWAN-CA'),), (('organizationalUnitName', 'Secure SSL Sub-CA'),), (('commonName', 'TWCA Secure SSL Certification Authority'),)), 'version': 3, 'serialNumber': '47E6000000059319001F46539C4E7CCE', 'notBefore': 'Apr 22 01:44:43 2022 GMT', 'notAfter': 'May 23 15:59:59 2023 GMT', 'subjectAltName': (('DNS', '*.cc.ntu.edu.tw'), ('DNS', 'cc.ntu.edu.tw')), 'OCSP': ('http://twcasslocsp.twca.com.tw/',), 'caIssuers': ('http://sslserver.twca.com.tw/cacert/secure_sha2_2014.crt',), 'crlDistributionPoints': ('http://sslserver.twca.com.tw/sslserver/Securessl_revoke_sha2_2014.crl',)}\n",
      "WARNING:urllib3.connectionpool:Retrying (PostForcelistRetry(total=4, connect=3, read=None, redirect=None, status=None)) after connection broken by 'SSLError(SSLCertVerificationError(\"hostname 'auth.quantum-computing.ibm.com' doesn't match either of '*.cc.ntu.edu.tw', 'cc.ntu.edu.tw'\"))': /api/version\n",
      "WARNING:urllib3.connection:Certificate did not match expected hostname: auth.quantum-computing.ibm.com. Certificate: {'subject': ((('countryName', 'TW'),), (('stateOrProvinceName', 'Taiwan'),), (('localityName', 'Taipei'),), (('organizationName', 'National Taiwan University'),), (('organizationalUnitName', 'C&INC'),), (('commonName', '*.cc.ntu.edu.tw'),)), 'issuer': ((('countryName', 'TW'),), (('organizationName', 'TAIWAN-CA'),), (('organizationalUnitName', 'Secure SSL Sub-CA'),), (('commonName', 'TWCA Secure SSL Certification Authority'),)), 'version': 3, 'serialNumber': '47E6000000059319001F46539C4E7CCE', 'notBefore': 'Apr 22 01:44:43 2022 GMT', 'notAfter': 'May 23 15:59:59 2023 GMT', 'subjectAltName': (('DNS', '*.cc.ntu.edu.tw'), ('DNS', 'cc.ntu.edu.tw')), 'OCSP': ('http://twcasslocsp.twca.com.tw/',), 'caIssuers': ('http://sslserver.twca.com.tw/cacert/secure_sha2_2014.crt',), 'crlDistributionPoints': ('http://sslserver.twca.com.tw/sslserver/Securessl_revoke_sha2_2014.crl',)}\n",
      "WARNING:urllib3.connectionpool:Retrying (PostForcelistRetry(total=3, connect=3, read=None, redirect=None, status=None)) after connection broken by 'SSLError(SSLCertVerificationError(\"hostname 'auth.quantum-computing.ibm.com' doesn't match either of '*.cc.ntu.edu.tw', 'cc.ntu.edu.tw'\"))': /api/version\n",
      "WARNING:urllib3.connection:Certificate did not match expected hostname: auth.quantum-computing.ibm.com. Certificate: {'subject': ((('countryName', 'TW'),), (('stateOrProvinceName', 'Taiwan'),), (('localityName', 'Taipei'),), (('organizationName', 'National Taiwan University'),), (('organizationalUnitName', 'C&INC'),), (('commonName', '*.cc.ntu.edu.tw'),)), 'issuer': ((('countryName', 'TW'),), (('organizationName', 'TAIWAN-CA'),), (('organizationalUnitName', 'Secure SSL Sub-CA'),), (('commonName', 'TWCA Secure SSL Certification Authority'),)), 'version': 3, 'serialNumber': '47E6000000059319001F46539C4E7CCE', 'notBefore': 'Apr 22 01:44:43 2022 GMT', 'notAfter': 'May 23 15:59:59 2023 GMT', 'subjectAltName': (('DNS', '*.cc.ntu.edu.tw'), ('DNS', 'cc.ntu.edu.tw')), 'OCSP': ('http://twcasslocsp.twca.com.tw/',), 'caIssuers': ('http://sslserver.twca.com.tw/cacert/secure_sha2_2014.crt',), 'crlDistributionPoints': ('http://sslserver.twca.com.tw/sslserver/Securessl_revoke_sha2_2014.crl',)}\n",
      "WARNING:urllib3.connectionpool:Retrying (PostForcelistRetry(total=2, connect=3, read=None, redirect=None, status=None)) after connection broken by 'SSLError(SSLCertVerificationError(\"hostname 'auth.quantum-computing.ibm.com' doesn't match either of '*.cc.ntu.edu.tw', 'cc.ntu.edu.tw'\"))': /api/version\n",
      "WARNING:urllib3.connection:Certificate did not match expected hostname: auth.quantum-computing.ibm.com. Certificate: {'subject': ((('countryName', 'TW'),), (('stateOrProvinceName', 'Taiwan'),), (('localityName', 'Taipei'),), (('organizationName', 'National Taiwan University'),), (('organizationalUnitName', 'C&INC'),), (('commonName', '*.cc.ntu.edu.tw'),)), 'issuer': ((('countryName', 'TW'),), (('organizationName', 'TAIWAN-CA'),), (('organizationalUnitName', 'Secure SSL Sub-CA'),), (('commonName', 'TWCA Secure SSL Certification Authority'),)), 'version': 3, 'serialNumber': '47E6000000059319001F46539C4E7CCE', 'notBefore': 'Apr 22 01:44:43 2022 GMT', 'notAfter': 'May 23 15:59:59 2023 GMT', 'subjectAltName': (('DNS', '*.cc.ntu.edu.tw'), ('DNS', 'cc.ntu.edu.tw')), 'OCSP': ('http://twcasslocsp.twca.com.tw/',), 'caIssuers': ('http://sslserver.twca.com.tw/cacert/secure_sha2_2014.crt',), 'crlDistributionPoints': ('http://sslserver.twca.com.tw/sslserver/Securessl_revoke_sha2_2014.crl',)}\n",
      "WARNING:urllib3.connectionpool:Retrying (PostForcelistRetry(total=1, connect=3, read=None, redirect=None, status=None)) after connection broken by 'SSLError(SSLCertVerificationError(\"hostname 'auth.quantum-computing.ibm.com' doesn't match either of '*.cc.ntu.edu.tw', 'cc.ntu.edu.tw'\"))': /api/version\n",
      "WARNING:urllib3.connection:Certificate did not match expected hostname: auth.quantum-computing.ibm.com. Certificate: {'subject': ((('countryName', 'TW'),), (('stateOrProvinceName', 'Taiwan'),), (('localityName', 'Taipei'),), (('organizationName', 'National Taiwan University'),), (('organizationalUnitName', 'C&INC'),), (('commonName', '*.cc.ntu.edu.tw'),)), 'issuer': ((('countryName', 'TW'),), (('organizationName', 'TAIWAN-CA'),), (('organizationalUnitName', 'Secure SSL Sub-CA'),), (('commonName', 'TWCA Secure SSL Certification Authority'),)), 'version': 3, 'serialNumber': '47E6000000059319001F46539C4E7CCE', 'notBefore': 'Apr 22 01:44:43 2022 GMT', 'notAfter': 'May 23 15:59:59 2023 GMT', 'subjectAltName': (('DNS', '*.cc.ntu.edu.tw'), ('DNS', 'cc.ntu.edu.tw')), 'OCSP': ('http://twcasslocsp.twca.com.tw/',), 'caIssuers': ('http://sslserver.twca.com.tw/cacert/secure_sha2_2014.crt',), 'crlDistributionPoints': ('http://sslserver.twca.com.tw/sslserver/Securessl_revoke_sha2_2014.crl',)}\n",
      "WARNING:urllib3.connectionpool:Retrying (PostForcelistRetry(total=0, connect=3, read=None, redirect=None, status=None)) after connection broken by 'SSLError(SSLCertVerificationError(\"hostname 'auth.quantum-computing.ibm.com' doesn't match either of '*.cc.ntu.edu.tw', 'cc.ntu.edu.tw'\"))': /api/version\n",
      "WARNING:urllib3.connection:Certificate did not match expected hostname: auth.quantum-computing.ibm.com. Certificate: {'subject': ((('countryName', 'TW'),), (('stateOrProvinceName', 'Taiwan'),), (('localityName', 'Taipei'),), (('organizationName', 'National Taiwan University'),), (('organizationalUnitName', 'C&INC'),), (('commonName', '*.cc.ntu.edu.tw'),)), 'issuer': ((('countryName', 'TW'),), (('organizationName', 'TAIWAN-CA'),), (('organizationalUnitName', 'Secure SSL Sub-CA'),), (('commonName', 'TWCA Secure SSL Certification Authority'),)), 'version': 3, 'serialNumber': '47E6000000059319001F46539C4E7CCE', 'notBefore': 'Apr 22 01:44:43 2022 GMT', 'notAfter': 'May 23 15:59:59 2023 GMT', 'subjectAltName': (('DNS', '*.cc.ntu.edu.tw'), ('DNS', 'cc.ntu.edu.tw')), 'OCSP': ('http://twcasslocsp.twca.com.tw/',), 'caIssuers': ('http://sslserver.twca.com.tw/cacert/secure_sha2_2014.crt',), 'crlDistributionPoints': ('http://sslserver.twca.com.tw/sslserver/Securessl_revoke_sha2_2014.crl',)}\n"
     ]
    },
    {
     "ename": "RequestsApiError",
     "evalue": "'HTTPSConnectionPool(host=\\'auth.quantum-computing.ibm.com\\', port=443): Max retries exceeded with url: /api/version (Caused by SSLError(SSLCertVerificationError(\"hostname \\'auth.quantum-computing.ibm.com\\' doesn\\'t match either of \\'*.cc.ntu.edu.tw\\', \\'cc.ntu.edu.tw\\'\")))'",
     "output_type": "error",
     "traceback": [
      "\u001b[0;31m---------------------------------------------------------------------------\u001b[0m",
      "\u001b[0;31mSSLCertVerificationError\u001b[0m                  Traceback (most recent call last)",
      "\u001b[0;32m~/.local/share/virtualenvs/jd_project-64747iaN/lib/python3.8/site-packages/urllib3/connectionpool.py\u001b[0m in \u001b[0;36murlopen\u001b[0;34m(self, method, url, body, headers, retries, redirect, assert_same_host, timeout, pool_timeout, release_conn, chunked, body_pos, **response_kw)\u001b[0m\n\u001b[1;32m    698\u001b[0m             \u001b[0;31m# Make the request on the httplib connection object.\u001b[0m\u001b[0;34m\u001b[0m\u001b[0;34m\u001b[0m\u001b[0;34m\u001b[0m\u001b[0m\n\u001b[0;32m--> 699\u001b[0;31m             httplib_response = self._make_request(\n\u001b[0m\u001b[1;32m    700\u001b[0m                 \u001b[0mconn\u001b[0m\u001b[0;34m,\u001b[0m\u001b[0;34m\u001b[0m\u001b[0;34m\u001b[0m\u001b[0m\n",
      "\u001b[0;32m~/.local/share/virtualenvs/jd_project-64747iaN/lib/python3.8/site-packages/urllib3/connectionpool.py\u001b[0m in \u001b[0;36m_make_request\u001b[0;34m(self, conn, method, url, timeout, chunked, **httplib_request_kw)\u001b[0m\n\u001b[1;32m    381\u001b[0m         \u001b[0;32mtry\u001b[0m\u001b[0;34m:\u001b[0m\u001b[0;34m\u001b[0m\u001b[0;34m\u001b[0m\u001b[0m\n\u001b[0;32m--> 382\u001b[0;31m             \u001b[0mself\u001b[0m\u001b[0;34m.\u001b[0m\u001b[0m_validate_conn\u001b[0m\u001b[0;34m(\u001b[0m\u001b[0mconn\u001b[0m\u001b[0;34m)\u001b[0m\u001b[0;34m\u001b[0m\u001b[0;34m\u001b[0m\u001b[0m\n\u001b[0m\u001b[1;32m    383\u001b[0m         \u001b[0;32mexcept\u001b[0m \u001b[0;34m(\u001b[0m\u001b[0mSocketTimeout\u001b[0m\u001b[0;34m,\u001b[0m \u001b[0mBaseSSLError\u001b[0m\u001b[0;34m)\u001b[0m \u001b[0;32mas\u001b[0m \u001b[0me\u001b[0m\u001b[0;34m:\u001b[0m\u001b[0;34m\u001b[0m\u001b[0;34m\u001b[0m\u001b[0m\n",
      "\u001b[0;32m~/.local/share/virtualenvs/jd_project-64747iaN/lib/python3.8/site-packages/urllib3/connectionpool.py\u001b[0m in \u001b[0;36m_validate_conn\u001b[0;34m(self, conn)\u001b[0m\n\u001b[1;32m   1009\u001b[0m         \u001b[0;32mif\u001b[0m \u001b[0;32mnot\u001b[0m \u001b[0mgetattr\u001b[0m\u001b[0;34m(\u001b[0m\u001b[0mconn\u001b[0m\u001b[0;34m,\u001b[0m \u001b[0;34m\"sock\"\u001b[0m\u001b[0;34m,\u001b[0m \u001b[0;32mNone\u001b[0m\u001b[0;34m)\u001b[0m\u001b[0;34m:\u001b[0m  \u001b[0;31m# AppEngine might not have  `.sock`\u001b[0m\u001b[0;34m\u001b[0m\u001b[0;34m\u001b[0m\u001b[0m\n\u001b[0;32m-> 1010\u001b[0;31m             \u001b[0mconn\u001b[0m\u001b[0;34m.\u001b[0m\u001b[0mconnect\u001b[0m\u001b[0;34m(\u001b[0m\u001b[0;34m)\u001b[0m\u001b[0;34m\u001b[0m\u001b[0;34m\u001b[0m\u001b[0m\n\u001b[0m\u001b[1;32m   1011\u001b[0m \u001b[0;34m\u001b[0m\u001b[0m\n",
      "\u001b[0;32m~/.local/share/virtualenvs/jd_project-64747iaN/lib/python3.8/site-packages/urllib3/connection.py\u001b[0m in \u001b[0;36mconnect\u001b[0;34m(self)\u001b[0m\n\u001b[1;32m    463\u001b[0m                 )\n\u001b[0;32m--> 464\u001b[0;31m             \u001b[0m_match_hostname\u001b[0m\u001b[0;34m(\u001b[0m\u001b[0mcert\u001b[0m\u001b[0;34m,\u001b[0m \u001b[0mself\u001b[0m\u001b[0;34m.\u001b[0m\u001b[0massert_hostname\u001b[0m \u001b[0;32mor\u001b[0m \u001b[0mserver_hostname\u001b[0m\u001b[0;34m)\u001b[0m\u001b[0;34m\u001b[0m\u001b[0;34m\u001b[0m\u001b[0m\n\u001b[0m\u001b[1;32m    465\u001b[0m \u001b[0;34m\u001b[0m\u001b[0m\n",
      "\u001b[0;32m~/.local/share/virtualenvs/jd_project-64747iaN/lib/python3.8/site-packages/urllib3/connection.py\u001b[0m in \u001b[0;36m_match_hostname\u001b[0;34m(cert, asserted_hostname)\u001b[0m\n\u001b[1;32m    511\u001b[0m     \u001b[0;32mtry\u001b[0m\u001b[0;34m:\u001b[0m\u001b[0;34m\u001b[0m\u001b[0;34m\u001b[0m\u001b[0m\n\u001b[0;32m--> 512\u001b[0;31m         \u001b[0mmatch_hostname\u001b[0m\u001b[0;34m(\u001b[0m\u001b[0mcert\u001b[0m\u001b[0;34m,\u001b[0m \u001b[0masserted_hostname\u001b[0m\u001b[0;34m)\u001b[0m\u001b[0;34m\u001b[0m\u001b[0;34m\u001b[0m\u001b[0m\n\u001b[0m\u001b[1;32m    513\u001b[0m     \u001b[0;32mexcept\u001b[0m \u001b[0mCertificateError\u001b[0m \u001b[0;32mas\u001b[0m \u001b[0me\u001b[0m\u001b[0;34m:\u001b[0m\u001b[0;34m\u001b[0m\u001b[0;34m\u001b[0m\u001b[0m\n",
      "\u001b[0;32m/usr/lib/python3.8/ssl.py\u001b[0m in \u001b[0;36mmatch_hostname\u001b[0;34m(cert, hostname)\u001b[0m\n\u001b[1;32m    415\u001b[0m     \u001b[0;32mif\u001b[0m \u001b[0mlen\u001b[0m\u001b[0;34m(\u001b[0m\u001b[0mdnsnames\u001b[0m\u001b[0;34m)\u001b[0m \u001b[0;34m>\u001b[0m \u001b[0;36m1\u001b[0m\u001b[0;34m:\u001b[0m\u001b[0;34m\u001b[0m\u001b[0;34m\u001b[0m\u001b[0m\n\u001b[0;32m--> 416\u001b[0;31m         raise CertificateError(\"hostname %r \"\n\u001b[0m\u001b[1;32m    417\u001b[0m             \u001b[0;34m\"doesn't match either of %s\"\u001b[0m\u001b[0;34m\u001b[0m\u001b[0;34m\u001b[0m\u001b[0m\n",
      "\u001b[0;31mSSLCertVerificationError\u001b[0m: (\"hostname 'auth.quantum-computing.ibm.com' doesn't match either of '*.cc.ntu.edu.tw', 'cc.ntu.edu.tw'\",)",
      "\nDuring handling of the above exception, another exception occurred:\n",
      "\u001b[0;31mMaxRetryError\u001b[0m                             Traceback (most recent call last)",
      "\u001b[0;32m~/.local/share/virtualenvs/jd_project-64747iaN/lib/python3.8/site-packages/requests/adapters.py\u001b[0m in \u001b[0;36msend\u001b[0;34m(self, request, stream, timeout, verify, cert, proxies)\u001b[0m\n\u001b[1;32m    438\u001b[0m             \u001b[0;32mif\u001b[0m \u001b[0;32mnot\u001b[0m \u001b[0mchunked\u001b[0m\u001b[0;34m:\u001b[0m\u001b[0;34m\u001b[0m\u001b[0;34m\u001b[0m\u001b[0m\n\u001b[0;32m--> 439\u001b[0;31m                 resp = conn.urlopen(\n\u001b[0m\u001b[1;32m    440\u001b[0m                     \u001b[0mmethod\u001b[0m\u001b[0;34m=\u001b[0m\u001b[0mrequest\u001b[0m\u001b[0;34m.\u001b[0m\u001b[0mmethod\u001b[0m\u001b[0;34m,\u001b[0m\u001b[0;34m\u001b[0m\u001b[0;34m\u001b[0m\u001b[0m\n",
      "\u001b[0;32m~/.local/share/virtualenvs/jd_project-64747iaN/lib/python3.8/site-packages/urllib3/connectionpool.py\u001b[0m in \u001b[0;36murlopen\u001b[0;34m(self, method, url, body, headers, retries, redirect, assert_same_host, timeout, pool_timeout, release_conn, chunked, body_pos, **response_kw)\u001b[0m\n\u001b[1;32m    782\u001b[0m             )\n\u001b[0;32m--> 783\u001b[0;31m             return self.urlopen(\n\u001b[0m\u001b[1;32m    784\u001b[0m                 \u001b[0mmethod\u001b[0m\u001b[0;34m,\u001b[0m\u001b[0;34m\u001b[0m\u001b[0;34m\u001b[0m\u001b[0m\n",
      "\u001b[0;32m~/.local/share/virtualenvs/jd_project-64747iaN/lib/python3.8/site-packages/urllib3/connectionpool.py\u001b[0m in \u001b[0;36murlopen\u001b[0;34m(self, method, url, body, headers, retries, redirect, assert_same_host, timeout, pool_timeout, release_conn, chunked, body_pos, **response_kw)\u001b[0m\n\u001b[1;32m    782\u001b[0m             )\n\u001b[0;32m--> 783\u001b[0;31m             return self.urlopen(\n\u001b[0m\u001b[1;32m    784\u001b[0m                 \u001b[0mmethod\u001b[0m\u001b[0;34m,\u001b[0m\u001b[0;34m\u001b[0m\u001b[0;34m\u001b[0m\u001b[0m\n",
      "\u001b[0;32m~/.local/share/virtualenvs/jd_project-64747iaN/lib/python3.8/site-packages/urllib3/connectionpool.py\u001b[0m in \u001b[0;36murlopen\u001b[0;34m(self, method, url, body, headers, retries, redirect, assert_same_host, timeout, pool_timeout, release_conn, chunked, body_pos, **response_kw)\u001b[0m\n\u001b[1;32m    782\u001b[0m             )\n\u001b[0;32m--> 783\u001b[0;31m             return self.urlopen(\n\u001b[0m\u001b[1;32m    784\u001b[0m                 \u001b[0mmethod\u001b[0m\u001b[0;34m,\u001b[0m\u001b[0;34m\u001b[0m\u001b[0;34m\u001b[0m\u001b[0m\n",
      "\u001b[0;32m~/.local/share/virtualenvs/jd_project-64747iaN/lib/python3.8/site-packages/urllib3/connectionpool.py\u001b[0m in \u001b[0;36murlopen\u001b[0;34m(self, method, url, body, headers, retries, redirect, assert_same_host, timeout, pool_timeout, release_conn, chunked, body_pos, **response_kw)\u001b[0m\n\u001b[1;32m    782\u001b[0m             )\n\u001b[0;32m--> 783\u001b[0;31m             return self.urlopen(\n\u001b[0m\u001b[1;32m    784\u001b[0m                 \u001b[0mmethod\u001b[0m\u001b[0;34m,\u001b[0m\u001b[0;34m\u001b[0m\u001b[0;34m\u001b[0m\u001b[0m\n",
      "\u001b[0;32m~/.local/share/virtualenvs/jd_project-64747iaN/lib/python3.8/site-packages/urllib3/connectionpool.py\u001b[0m in \u001b[0;36murlopen\u001b[0;34m(self, method, url, body, headers, retries, redirect, assert_same_host, timeout, pool_timeout, release_conn, chunked, body_pos, **response_kw)\u001b[0m\n\u001b[1;32m    782\u001b[0m             )\n\u001b[0;32m--> 783\u001b[0;31m             return self.urlopen(\n\u001b[0m\u001b[1;32m    784\u001b[0m                 \u001b[0mmethod\u001b[0m\u001b[0;34m,\u001b[0m\u001b[0;34m\u001b[0m\u001b[0;34m\u001b[0m\u001b[0m\n",
      "\u001b[0;32m~/.local/share/virtualenvs/jd_project-64747iaN/lib/python3.8/site-packages/urllib3/connectionpool.py\u001b[0m in \u001b[0;36murlopen\u001b[0;34m(self, method, url, body, headers, retries, redirect, assert_same_host, timeout, pool_timeout, release_conn, chunked, body_pos, **response_kw)\u001b[0m\n\u001b[1;32m    754\u001b[0m \u001b[0;34m\u001b[0m\u001b[0m\n\u001b[0;32m--> 755\u001b[0;31m             retries = retries.increment(\n\u001b[0m\u001b[1;32m    756\u001b[0m                 \u001b[0mmethod\u001b[0m\u001b[0;34m,\u001b[0m \u001b[0murl\u001b[0m\u001b[0;34m,\u001b[0m \u001b[0merror\u001b[0m\u001b[0;34m=\u001b[0m\u001b[0me\u001b[0m\u001b[0;34m,\u001b[0m \u001b[0m_pool\u001b[0m\u001b[0;34m=\u001b[0m\u001b[0mself\u001b[0m\u001b[0;34m,\u001b[0m \u001b[0m_stacktrace\u001b[0m\u001b[0;34m=\u001b[0m\u001b[0msys\u001b[0m\u001b[0;34m.\u001b[0m\u001b[0mexc_info\u001b[0m\u001b[0;34m(\u001b[0m\u001b[0;34m)\u001b[0m\u001b[0;34m[\u001b[0m\u001b[0;36m2\u001b[0m\u001b[0;34m]\u001b[0m\u001b[0;34m\u001b[0m\u001b[0;34m\u001b[0m\u001b[0m\n",
      "\u001b[0;32m~/.local/share/virtualenvs/jd_project-64747iaN/lib/python3.8/site-packages/qiskit/providers/ibmq/api/session.py\u001b[0m in \u001b[0;36mincrement\u001b[0;34m(self, method, url, response, error, _pool, _stacktrace)\u001b[0m\n\u001b[1;32m     96\u001b[0m                          method, url, status, error, data, headers)\n\u001b[0;32m---> 97\u001b[0;31m         return super().increment(method=method, url=url, response=response,\n\u001b[0m\u001b[1;32m     98\u001b[0m                                  error=error, _pool=_pool, _stacktrace=_stacktrace)\n",
      "\u001b[0;32m~/.local/share/virtualenvs/jd_project-64747iaN/lib/python3.8/site-packages/urllib3/util/retry.py\u001b[0m in \u001b[0;36mincrement\u001b[0;34m(self, method, url, response, error, _pool, _stacktrace)\u001b[0m\n\u001b[1;32m    573\u001b[0m         \u001b[0;32mif\u001b[0m \u001b[0mnew_retry\u001b[0m\u001b[0;34m.\u001b[0m\u001b[0mis_exhausted\u001b[0m\u001b[0;34m(\u001b[0m\u001b[0;34m)\u001b[0m\u001b[0;34m:\u001b[0m\u001b[0;34m\u001b[0m\u001b[0;34m\u001b[0m\u001b[0m\n\u001b[0;32m--> 574\u001b[0;31m             \u001b[0;32mraise\u001b[0m \u001b[0mMaxRetryError\u001b[0m\u001b[0;34m(\u001b[0m\u001b[0m_pool\u001b[0m\u001b[0;34m,\u001b[0m \u001b[0murl\u001b[0m\u001b[0;34m,\u001b[0m \u001b[0merror\u001b[0m \u001b[0;32mor\u001b[0m \u001b[0mResponseError\u001b[0m\u001b[0;34m(\u001b[0m\u001b[0mcause\u001b[0m\u001b[0;34m)\u001b[0m\u001b[0;34m)\u001b[0m\u001b[0;34m\u001b[0m\u001b[0;34m\u001b[0m\u001b[0m\n\u001b[0m\u001b[1;32m    575\u001b[0m \u001b[0;34m\u001b[0m\u001b[0m\n",
      "\u001b[0;31mMaxRetryError\u001b[0m: HTTPSConnectionPool(host='auth.quantum-computing.ibm.com', port=443): Max retries exceeded with url: /api/version (Caused by SSLError(SSLCertVerificationError(\"hostname 'auth.quantum-computing.ibm.com' doesn't match either of '*.cc.ntu.edu.tw', 'cc.ntu.edu.tw'\")))",
      "\nDuring handling of the above exception, another exception occurred:\n",
      "\u001b[0;31mSSLError\u001b[0m                                  Traceback (most recent call last)",
      "\u001b[0;32m~/.local/share/virtualenvs/jd_project-64747iaN/lib/python3.8/site-packages/qiskit/providers/ibmq/api/session.py\u001b[0m in \u001b[0;36mrequest\u001b[0;34m(self, method, url, bare, **kwargs)\u001b[0m\n\u001b[1;32m    276\u001b[0m             \u001b[0mself\u001b[0m\u001b[0;34m.\u001b[0m\u001b[0m_log_request_info\u001b[0m\u001b[0;34m(\u001b[0m\u001b[0murl\u001b[0m\u001b[0;34m,\u001b[0m \u001b[0mmethod\u001b[0m\u001b[0;34m,\u001b[0m \u001b[0mkwargs\u001b[0m\u001b[0;34m)\u001b[0m\u001b[0;34m\u001b[0m\u001b[0;34m\u001b[0m\u001b[0m\n\u001b[0;32m--> 277\u001b[0;31m             \u001b[0mresponse\u001b[0m \u001b[0;34m=\u001b[0m \u001b[0msuper\u001b[0m\u001b[0;34m(\u001b[0m\u001b[0;34m)\u001b[0m\u001b[0;34m.\u001b[0m\u001b[0mrequest\u001b[0m\u001b[0;34m(\u001b[0m\u001b[0mmethod\u001b[0m\u001b[0;34m,\u001b[0m \u001b[0mfinal_url\u001b[0m\u001b[0;34m,\u001b[0m \u001b[0mheaders\u001b[0m\u001b[0;34m=\u001b[0m\u001b[0mheaders\u001b[0m\u001b[0;34m,\u001b[0m \u001b[0;34m**\u001b[0m\u001b[0mkwargs\u001b[0m\u001b[0;34m)\u001b[0m\u001b[0;34m\u001b[0m\u001b[0;34m\u001b[0m\u001b[0m\n\u001b[0m\u001b[1;32m    278\u001b[0m             \u001b[0mresponse\u001b[0m\u001b[0;34m.\u001b[0m\u001b[0mraise_for_status\u001b[0m\u001b[0;34m(\u001b[0m\u001b[0;34m)\u001b[0m\u001b[0;34m\u001b[0m\u001b[0;34m\u001b[0m\u001b[0m\n",
      "\u001b[0;32m~/.local/share/virtualenvs/jd_project-64747iaN/lib/python3.8/site-packages/requests/sessions.py\u001b[0m in \u001b[0;36mrequest\u001b[0;34m(self, method, url, params, data, headers, cookies, files, auth, timeout, allow_redirects, proxies, hooks, stream, verify, cert, json)\u001b[0m\n\u001b[1;32m    541\u001b[0m         \u001b[0msend_kwargs\u001b[0m\u001b[0;34m.\u001b[0m\u001b[0mupdate\u001b[0m\u001b[0;34m(\u001b[0m\u001b[0msettings\u001b[0m\u001b[0;34m)\u001b[0m\u001b[0;34m\u001b[0m\u001b[0;34m\u001b[0m\u001b[0m\n\u001b[0;32m--> 542\u001b[0;31m         \u001b[0mresp\u001b[0m \u001b[0;34m=\u001b[0m \u001b[0mself\u001b[0m\u001b[0;34m.\u001b[0m\u001b[0msend\u001b[0m\u001b[0;34m(\u001b[0m\u001b[0mprep\u001b[0m\u001b[0;34m,\u001b[0m \u001b[0;34m**\u001b[0m\u001b[0msend_kwargs\u001b[0m\u001b[0;34m)\u001b[0m\u001b[0;34m\u001b[0m\u001b[0;34m\u001b[0m\u001b[0m\n\u001b[0m\u001b[1;32m    543\u001b[0m \u001b[0;34m\u001b[0m\u001b[0m\n",
      "\u001b[0;32m~/.local/share/virtualenvs/jd_project-64747iaN/lib/python3.8/site-packages/requests/sessions.py\u001b[0m in \u001b[0;36msend\u001b[0;34m(self, request, **kwargs)\u001b[0m\n\u001b[1;32m    654\u001b[0m         \u001b[0;31m# Send the request\u001b[0m\u001b[0;34m\u001b[0m\u001b[0;34m\u001b[0m\u001b[0;34m\u001b[0m\u001b[0m\n\u001b[0;32m--> 655\u001b[0;31m         \u001b[0mr\u001b[0m \u001b[0;34m=\u001b[0m \u001b[0madapter\u001b[0m\u001b[0;34m.\u001b[0m\u001b[0msend\u001b[0m\u001b[0;34m(\u001b[0m\u001b[0mrequest\u001b[0m\u001b[0;34m,\u001b[0m \u001b[0;34m**\u001b[0m\u001b[0mkwargs\u001b[0m\u001b[0;34m)\u001b[0m\u001b[0;34m\u001b[0m\u001b[0;34m\u001b[0m\u001b[0m\n\u001b[0m\u001b[1;32m    656\u001b[0m \u001b[0;34m\u001b[0m\u001b[0m\n",
      "\u001b[0;32m~/.local/share/virtualenvs/jd_project-64747iaN/lib/python3.8/site-packages/requests/adapters.py\u001b[0m in \u001b[0;36msend\u001b[0;34m(self, request, stream, timeout, verify, cert, proxies)\u001b[0m\n\u001b[1;32m    513\u001b[0m                 \u001b[0;31m# This branch is for urllib3 v1.22 and later.\u001b[0m\u001b[0;34m\u001b[0m\u001b[0;34m\u001b[0m\u001b[0;34m\u001b[0m\u001b[0m\n\u001b[0;32m--> 514\u001b[0;31m                 \u001b[0;32mraise\u001b[0m \u001b[0mSSLError\u001b[0m\u001b[0;34m(\u001b[0m\u001b[0me\u001b[0m\u001b[0;34m,\u001b[0m \u001b[0mrequest\u001b[0m\u001b[0;34m=\u001b[0m\u001b[0mrequest\u001b[0m\u001b[0;34m)\u001b[0m\u001b[0;34m\u001b[0m\u001b[0;34m\u001b[0m\u001b[0m\n\u001b[0m\u001b[1;32m    515\u001b[0m \u001b[0;34m\u001b[0m\u001b[0m\n",
      "\u001b[0;31mSSLError\u001b[0m: HTTPSConnectionPool(host='auth.quantum-computing.ibm.com', port=443): Max retries exceeded with url: /api/version (Caused by SSLError(SSLCertVerificationError(\"hostname 'auth.quantum-computing.ibm.com' doesn't match either of '*.cc.ntu.edu.tw', 'cc.ntu.edu.tw'\")))",
      "\nThe above exception was the direct cause of the following exception:\n",
      "\u001b[0;31mRequestsApiError\u001b[0m                          Traceback (most recent call last)",
      "\u001b[0;32m/tmp/ipykernel_1959189/1167629108.py\u001b[0m in \u001b[0;36m<module>\u001b[0;34m\u001b[0m\n\u001b[1;32m      1\u001b[0m \u001b[0;32mfrom\u001b[0m \u001b[0mqiskit\u001b[0m \u001b[0;32mimport\u001b[0m \u001b[0mIBMQ\u001b[0m\u001b[0;34m\u001b[0m\u001b[0;34m\u001b[0m\u001b[0m\n\u001b[0;32m----> 2\u001b[0;31m \u001b[0mIBMQ\u001b[0m\u001b[0;34m.\u001b[0m\u001b[0menable_account\u001b[0m\u001b[0;34m(\u001b[0m\u001b[0;34m'your IBMQ token'\u001b[0m\u001b[0;34m)\u001b[0m\u001b[0;34m\u001b[0m\u001b[0;34m\u001b[0m\u001b[0m\n\u001b[0m",
      "\u001b[0;32m~/.local/share/virtualenvs/jd_project-64747iaN/lib/python3.8/site-packages/qiskit/providers/ibmq/ibmqfactory.py\u001b[0m in \u001b[0;36menable_account\u001b[0;34m(self, token, url, hub, group, project, **kwargs)\u001b[0m\n\u001b[1;32m     96\u001b[0m         \u001b[0;31m# Check the version used by these credentials.\u001b[0m\u001b[0;34m\u001b[0m\u001b[0;34m\u001b[0m\u001b[0;34m\u001b[0m\u001b[0m\n\u001b[1;32m     97\u001b[0m         \u001b[0mcredentials\u001b[0m \u001b[0;34m=\u001b[0m \u001b[0mCredentials\u001b[0m\u001b[0;34m(\u001b[0m\u001b[0mtoken\u001b[0m\u001b[0;34m,\u001b[0m \u001b[0murl\u001b[0m\u001b[0;34m,\u001b[0m \u001b[0;34m**\u001b[0m\u001b[0mkwargs\u001b[0m\u001b[0;34m)\u001b[0m\u001b[0;34m\u001b[0m\u001b[0;34m\u001b[0m\u001b[0m\n\u001b[0;32m---> 98\u001b[0;31m         \u001b[0mversion_info\u001b[0m \u001b[0;34m=\u001b[0m \u001b[0mself\u001b[0m\u001b[0;34m.\u001b[0m\u001b[0m_check_api_version\u001b[0m\u001b[0;34m(\u001b[0m\u001b[0mcredentials\u001b[0m\u001b[0;34m)\u001b[0m\u001b[0;34m\u001b[0m\u001b[0;34m\u001b[0m\u001b[0m\n\u001b[0m\u001b[1;32m     99\u001b[0m \u001b[0;34m\u001b[0m\u001b[0m\n\u001b[1;32m    100\u001b[0m         \u001b[0;31m# Check the URL is a valid authentication URL.\u001b[0m\u001b[0;34m\u001b[0m\u001b[0;34m\u001b[0m\u001b[0;34m\u001b[0m\u001b[0m\n",
      "\u001b[0;32m~/.local/share/virtualenvs/jd_project-64747iaN/lib/python3.8/site-packages/qiskit/providers/ibmq/ibmqfactory.py\u001b[0m in \u001b[0;36m_check_api_version\u001b[0;34m(credentials)\u001b[0m\n\u001b[1;32m    442\u001b[0m         version_finder = VersionClient(credentials.base_url,\n\u001b[1;32m    443\u001b[0m                                        **credentials.connection_parameters())\n\u001b[0;32m--> 444\u001b[0;31m         \u001b[0;32mreturn\u001b[0m \u001b[0mversion_finder\u001b[0m\u001b[0;34m.\u001b[0m\u001b[0mversion\u001b[0m\u001b[0;34m(\u001b[0m\u001b[0;34m)\u001b[0m\u001b[0;34m\u001b[0m\u001b[0;34m\u001b[0m\u001b[0m\n\u001b[0m\u001b[1;32m    445\u001b[0m \u001b[0;34m\u001b[0m\u001b[0m\n\u001b[1;32m    446\u001b[0m     def _initialize_providers(\n",
      "\u001b[0;32m~/.local/share/virtualenvs/jd_project-64747iaN/lib/python3.8/site-packages/qiskit/providers/ibmq/api/clients/version.py\u001b[0m in \u001b[0;36mversion\u001b[0;34m(self)\u001b[0m\n\u001b[1;32m     47\u001b[0m                 \u001b[0;34m*\u001b[0m\u001b[0;31m \u001b[0m\u001b[0;31m`\u001b[0m\u001b[0;31m`\u001b[0m\u001b[0mapi\u001b[0m\u001b[0;34m-\u001b[0m\u001b[0;34m*\u001b[0m\u001b[0;31m`\u001b[0m\u001b[0;31m`\u001b[0m \u001b[0;34m(\u001b[0m\u001b[0mstr\u001b[0m\u001b[0;34m)\u001b[0m\u001b[0;34m:\u001b[0m \u001b[0mThe\u001b[0m \u001b[0mversions\u001b[0m \u001b[0mof\u001b[0m \u001b[0meach\u001b[0m \u001b[0mindividual\u001b[0m \u001b[0mAPI\u001b[0m \u001b[0mcomponent\u001b[0m\u001b[0;34m\u001b[0m\u001b[0;34m\u001b[0m\u001b[0m\n\u001b[1;32m     48\u001b[0m         \"\"\"\n\u001b[0;32m---> 49\u001b[0;31m         \u001b[0;32mreturn\u001b[0m \u001b[0mself\u001b[0m\u001b[0;34m.\u001b[0m\u001b[0mclient_version_finder\u001b[0m\u001b[0;34m.\u001b[0m\u001b[0mversion\u001b[0m\u001b[0;34m(\u001b[0m\u001b[0;34m)\u001b[0m\u001b[0;34m\u001b[0m\u001b[0;34m\u001b[0m\u001b[0m\n\u001b[0m",
      "\u001b[0;32m~/.local/share/virtualenvs/jd_project-64747iaN/lib/python3.8/site-packages/qiskit/providers/ibmq/api/rest/root.py\u001b[0m in \u001b[0;36mversion\u001b[0;34m(self)\u001b[0m\n\u001b[1;32m    100\u001b[0m         \"\"\"\n\u001b[1;32m    101\u001b[0m         \u001b[0murl\u001b[0m \u001b[0;34m=\u001b[0m \u001b[0mself\u001b[0m\u001b[0;34m.\u001b[0m\u001b[0mget_url\u001b[0m\u001b[0;34m(\u001b[0m\u001b[0;34m'version'\u001b[0m\u001b[0;34m)\u001b[0m\u001b[0;34m\u001b[0m\u001b[0;34m\u001b[0m\u001b[0m\n\u001b[0;32m--> 102\u001b[0;31m         \u001b[0mresponse\u001b[0m \u001b[0;34m=\u001b[0m \u001b[0mself\u001b[0m\u001b[0;34m.\u001b[0m\u001b[0msession\u001b[0m\u001b[0;34m.\u001b[0m\u001b[0mget\u001b[0m\u001b[0;34m(\u001b[0m\u001b[0murl\u001b[0m\u001b[0;34m)\u001b[0m\u001b[0;34m\u001b[0m\u001b[0;34m\u001b[0m\u001b[0m\n\u001b[0m\u001b[1;32m    103\u001b[0m \u001b[0;34m\u001b[0m\u001b[0m\n\u001b[1;32m    104\u001b[0m         \u001b[0;32mtry\u001b[0m\u001b[0;34m:\u001b[0m\u001b[0;34m\u001b[0m\u001b[0;34m\u001b[0m\u001b[0m\n",
      "\u001b[0;32m~/.local/share/virtualenvs/jd_project-64747iaN/lib/python3.8/site-packages/requests/sessions.py\u001b[0m in \u001b[0;36mget\u001b[0;34m(self, url, **kwargs)\u001b[0m\n\u001b[1;32m    553\u001b[0m \u001b[0;34m\u001b[0m\u001b[0m\n\u001b[1;32m    554\u001b[0m         \u001b[0mkwargs\u001b[0m\u001b[0;34m.\u001b[0m\u001b[0msetdefault\u001b[0m\u001b[0;34m(\u001b[0m\u001b[0;34m'allow_redirects'\u001b[0m\u001b[0;34m,\u001b[0m \u001b[0;32mTrue\u001b[0m\u001b[0;34m)\u001b[0m\u001b[0;34m\u001b[0m\u001b[0;34m\u001b[0m\u001b[0m\n\u001b[0;32m--> 555\u001b[0;31m         \u001b[0;32mreturn\u001b[0m \u001b[0mself\u001b[0m\u001b[0;34m.\u001b[0m\u001b[0mrequest\u001b[0m\u001b[0;34m(\u001b[0m\u001b[0;34m'GET'\u001b[0m\u001b[0;34m,\u001b[0m \u001b[0murl\u001b[0m\u001b[0;34m,\u001b[0m \u001b[0;34m**\u001b[0m\u001b[0mkwargs\u001b[0m\u001b[0;34m)\u001b[0m\u001b[0;34m\u001b[0m\u001b[0;34m\u001b[0m\u001b[0m\n\u001b[0m\u001b[1;32m    556\u001b[0m \u001b[0;34m\u001b[0m\u001b[0m\n\u001b[1;32m    557\u001b[0m     \u001b[0;32mdef\u001b[0m \u001b[0moptions\u001b[0m\u001b[0;34m(\u001b[0m\u001b[0mself\u001b[0m\u001b[0;34m,\u001b[0m \u001b[0murl\u001b[0m\u001b[0;34m,\u001b[0m \u001b[0;34m**\u001b[0m\u001b[0mkwargs\u001b[0m\u001b[0;34m)\u001b[0m\u001b[0;34m:\u001b[0m\u001b[0;34m\u001b[0m\u001b[0;34m\u001b[0m\u001b[0m\n",
      "\u001b[0;32m~/.local/share/virtualenvs/jd_project-64747iaN/lib/python3.8/site-packages/qiskit/providers/ibmq/api/session.py\u001b[0m in \u001b[0;36mrequest\u001b[0;34m(self, method, url, bare, **kwargs)\u001b[0m\n\u001b[1;32m    298\u001b[0m                 \u001b[0mself\u001b[0m\u001b[0;34m.\u001b[0m\u001b[0m_modify_chained_exception_messages\u001b[0m\u001b[0;34m(\u001b[0m\u001b[0mex\u001b[0m\u001b[0;34m)\u001b[0m\u001b[0;34m\u001b[0m\u001b[0;34m\u001b[0m\u001b[0m\n\u001b[1;32m    299\u001b[0m \u001b[0;34m\u001b[0m\u001b[0m\n\u001b[0;32m--> 300\u001b[0;31m             \u001b[0;32mraise\u001b[0m \u001b[0mRequestsApiError\u001b[0m\u001b[0;34m(\u001b[0m\u001b[0mmessage\u001b[0m\u001b[0;34m,\u001b[0m \u001b[0mstatus_code\u001b[0m\u001b[0;34m)\u001b[0m \u001b[0;32mfrom\u001b[0m \u001b[0mex\u001b[0m\u001b[0;34m\u001b[0m\u001b[0;34m\u001b[0m\u001b[0m\n\u001b[0m\u001b[1;32m    301\u001b[0m \u001b[0;34m\u001b[0m\u001b[0m\n\u001b[1;32m    302\u001b[0m         \u001b[0;32mreturn\u001b[0m \u001b[0mresponse\u001b[0m\u001b[0;34m\u001b[0m\u001b[0;34m\u001b[0m\u001b[0m\n",
      "\u001b[0;31mRequestsApiError\u001b[0m: 'HTTPSConnectionPool(host=\\'auth.quantum-computing.ibm.com\\', port=443): Max retries exceeded with url: /api/version (Caused by SSLError(SSLCertVerificationError(\"hostname \\'auth.quantum-computing.ibm.com\\' doesn\\'t match either of \\'*.cc.ntu.edu.tw\\', \\'cc.ntu.edu.tw\\'\")))'"
     ]
    }
   ],
   "source": [
    "from qiskit import IBMQ\n",
    "IBMQ.enable_account('your IBMQ token')"
   ]
  },
  {
   "cell_type": "code",
   "execution_count": null,
   "id": "9c96536b-04fc-4225-8d3c-d9994ffdc0d9",
   "metadata": {},
   "outputs": [],
   "source": [
    "my_compilecircuit = circuit.compilecircuit(backend=\"IBMQ_hardware\")"
   ]
  },
  {
   "cell_type": "markdown",
   "id": "aba326f6-ddf6-4c71-8ea4-77b3ad46a80d",
   "metadata": {
    "tags": []
   },
   "source": [
    "### Define cost function and optimizer"
   ]
  },
  {
   "cell_type": "code",
   "execution_count": null,
   "id": "a98b2b9c-05c7-4f9c-a0a6-ef2512c74c7d",
   "metadata": {},
   "outputs": [],
   "source": [
    "def cost(*params):\n",
    "    results = my_compilecircuit(*params)\n",
    "    return results"
   ]
  },
  {
   "cell_type": "code",
   "execution_count": null,
   "id": "4932e0a7-27b8-4946-b8bc-4fa8d680d682",
   "metadata": {},
   "outputs": [],
   "source": [
    "# using TeD-Q built-in optimizer\n",
    "Optimizer = qai.GradientDescentOptimizer(cost, [0, 1], 0.8, interface=\"pytorch\")"
   ]
  },
  {
   "cell_type": "markdown",
   "id": "3795a7ea-47d5-4883-9811-47bda76a808e",
   "metadata": {},
   "source": [
    "### Training"
   ]
  },
  {
   "cell_type": "code",
   "execution_count": null,
   "id": "bfc73a1f-3ebd-4c19-8b76-48bf19a05fd9",
   "metadata": {},
   "outputs": [],
   "source": [
    "import torch\n",
    "a = torch.tensor([0.54], requires_grad= True)\n",
    "b = torch.tensor([0.12], requires_grad= True)\n",
    "my_params = (a, b)"
   ]
  },
  {
   "cell_type": "code",
   "execution_count": null,
   "id": "2c73ad34-90dc-4282-80b3-35d28623c05a",
   "metadata": {},
   "outputs": [],
   "source": [
    "cost(*my_params)"
   ]
  },
  {
   "cell_type": "code",
   "execution_count": null,
   "id": "6d513cce-589b-4bab-b2c3-e5942ccf1cc9",
   "metadata": {},
   "outputs": [],
   "source": [
    "%%time\n",
    "new_params = my_params\n",
    "for i in range(10):\n",
    "    new_params = Optimizer.step(*new_params)\n",
    "    if (i + 1) % 2 == 0:\n",
    "        print(\"Parameters after step {:5d}: {}\".format(i + 1, new_params))\n",
    "print(new_params)\n",
    "print(cost(*new_params))"
   ]
  },
  {
   "cell_type": "code",
   "execution_count": null,
   "id": "2bd3bc5b-da43-4efc-9661-9dabfcbd6ba6",
   "metadata": {},
   "outputs": [],
   "source": []
  }
 ],
 "metadata": {
  "kernelspec": {
   "display_name": "Python 3 (ipykernel)",
   "language": "python",
   "name": "python3"
  },
  "language_info": {
   "codemirror_mode": {
    "name": "ipython",
    "version": 3
   },
   "file_extension": ".py",
   "mimetype": "text/x-python",
   "name": "python",
   "nbconvert_exporter": "python",
   "pygments_lexer": "ipython3",
   "version": "3.8.10"
  }
 },
 "nbformat": 4,
 "nbformat_minor": 5
}
