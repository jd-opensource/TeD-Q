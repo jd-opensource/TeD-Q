{
 "cells": [
  {
   "cell_type": "markdown",
   "id": "b4e76d7f",
   "metadata": {},
   "source": [
    "# Many body localization in 1-D qubit array\n",
    "\n",
    "This simulation is based on the paper -- \"Quantum Neuronal Sensing of Quantum Many-Body States on a 61-Qubit\n",
    "Programmable Superconducting Processor\", and aimed to demostrate the performance of quantum machine learning viaTeD-Q module. We further modify to 1-D qubit array to test the computing limit of the TeD-Q package\n",
    "### Many Body localization\n",
    "Many-body localization is a quantum phenomenon of an isolated many-body quantum system. The system tend to preserve the initial state under large disorder, known as localized state. On the other hand, with small disorder, the system tend to fall into the thermalization, that is, the infomation of initial state is washed out, known as ergodic state.\n",
    "\n",
    "<img src=\"images/mbl_1d.png\" width=600 />\n",
    "(figure adapted from [2])\n",
    "\n",
    "### Circuit design\n",
    "The circuit design follows the one proposed in the paper. The circuit starts with an preparation stage for Neel state and followed by a system Hamiltonian with controllable disorder power. After that, the circuit is embeded with a variational cirucit via digital-analog architecture[1]. Finally, the measurement on first qubit is the output stage. We train the output probability to distinguish localized state from ergodic state.\n",
    "\n",
    "\n",
    "### About this simulation\n",
    "This circuit is suitable for the demostration of the computing power of TeD-Q package due to its complexity. In the simulated hamilonian of the system, the qubits was connected to all of its neighbor qubits. For a 1-D qubits array, such connection will introduce lot of 2-qubit operation and single-qubit operation, which becomes too complicated for the conventional quantum machine learning simulator.\n",
    "\n",
    "## Reference\n",
    "1. https://arxiv.org/pdf/2201.05957.pdf\n",
    "2. https://arxiv.org/pdf/1804.11065.pdf\n",
    "3. https://arxiv.org/pdf/1711.03145.pdf"
   ]
  },
  {
   "cell_type": "code",
   "execution_count": null,
   "id": "6a21aced",
   "metadata": {},
   "outputs": [],
   "source": [
    "import torch\n",
    "import tedq as qai\n",
    "import numpy as np\n",
    "import math\n",
    "from torch.optim import lr_scheduler\n",
    "import torch.nn as nn"
   ]
  },
  {
   "cell_type": "markdown",
   "id": "81f819e3",
   "metadata": {},
   "source": [
    "### init parameters"
   ]
  },
  {
   "cell_type": "code",
   "execution_count": null,
   "id": "de466cce",
   "metadata": {},
   "outputs": [],
   "source": [
    "n_size = 3\n",
    "n_epoch = 50\n",
    "n_train = 40\n",
    "n_test = 20\n",
    "\n",
    "lr = 0.01\n",
    "gamma_lr_scheduler = 0.2\n",
    "\n",
    "n_qubits= n_size\n",
    "t_d = 200e-9 #ns\n",
    "h_bar = 1\n",
    "g = 2.185e6 #MHz\n",
    "h_erg = 1e6 # MHZ\n",
    "h_loc = 40e6  # MHz"
   ]
  },
  {
   "cell_type": "markdown",
   "id": "29798066",
   "metadata": {},
   "source": [
    "### Circuit definition"
   ]
  },
  {
   "cell_type": "code",
   "execution_count": null,
   "id": "f2e69f4a",
   "metadata": {},
   "outputs": [],
   "source": [
    "def getIndex(i, j):\n",
    "    return n_size*i+j\n",
    "def Hd(idx, jdx, di):\n",
    "    #qai.RZ(2*h_bar*di*t_d, qubits=[jdx], trainable_params=[])\n",
    "    qai.RZ(di, qubits=[jdx])\n",
    "    H0(idx, jdx)\n",
    "    \n",
    "def H0(idx, jdx):\n",
    "    qai.Hadamard(qubits=[idx])\n",
    "    qai.Hadamard(qubits=[jdx])\n",
    "    qai.CNOT(qubits=[idx, jdx])\n",
    "    qai.RZ(torch.Tensor([g*h_bar*t_d]), qubits=[jdx], trainable_params=[])\n",
    "    qai.CNOT(qubits=[idx, jdx])\n",
    "    qai.Hadamard(qubits=[idx])\n",
    "    qai.Hadamard(qubits=[jdx])\n",
    "    \n",
    "    qai.S(qubits=[idx])\n",
    "    qai.S(qubits=[jdx])\n",
    "    qai.Hadamard(qubits=[idx])\n",
    "    qai.Hadamard(qubits=[jdx])\n",
    "    qai.CNOT(qubits=[idx, jdx])\n",
    "    qai.RZ(torch.Tensor([g*h_bar*t_d]), qubits=[jdx], trainable_params=[])\n",
    "    qai.CNOT(qubits=[idx, jdx])\n",
    "    qai.Hadamard(qubits=[idx])\n",
    "    qai.Hadamard(qubits=[jdx])\n",
    "    qai.PhaseShift(torch.tensor(-math.pi/2.), qubits=[idx], trainable_params=[])\n",
    "    qai.PhaseShift(torch.tensor(-math.pi/2.), qubits=[jdx], trainable_params=[])\n",
    "\n",
    "def partial_connected():\n",
    "    for i in range(0, n_qubits-7, 5):\n",
    "        qai.CNOT(qubits=[i, i+7])\n",
    "\n",
    "\n",
    "def circuitDef(d, params):\n",
    "    params = params.view(-1)\n",
    "     \n",
    "    # Neel state\n",
    "    for i in range(n_qubits):\n",
    "        if i%2==0:\n",
    "            qai.PauliX(qubits=[i])\n",
    "    \n",
    "    # Hd td\n",
    "    count = 0\n",
    "    for i in range(n_qubits):\n",
    "        if i>=0 and i+1<n_qubits:# (n_size-1)*n_size\n",
    "            Hd(i+1, i, d[count])\n",
    "            count+=1\n",
    "        if i-1>=0 and i<n_qubits:# (n_size-1)*n_size\n",
    "            Hd(i-1, i, d[count])\n",
    "            count+=1    \n",
    "            \n",
    "    # Trainable theta and phi\n",
    "    for i in range(n_qubits):\n",
    "        #print(i)\n",
    "        qai.RZ(params[2*i], qubits=[i])\n",
    "        qai.RX(params[2*i+1], qubits=[i])\n",
    "        qai.RZ(-params[2*i], qubits=[i])\n",
    "    \n",
    "    # Partial connection to increase complexity\n",
    "    partial_connected()\n",
    "    \n",
    "    # H0 dt \n",
    "    for i in range(n_size):\n",
    "        if i+1>=0 and i+1<n_qubits:# (n_size-1)*n_size\n",
    "            H0(i+1, i)\n",
    "        if i-1>=0 and i-1<n_qubits:# (n_size-1)*n_size\n",
    "            H0(i-1, i)\n",
    "            \n",
    "    # Last rotation  \n",
    "    qai.RZ(params[2*n_qubits], qubits=[n_qubits-1])\n",
    "    qai.RX(params[2*n_qubits+1], qubits=[n_qubits-1])\n",
    "    qai.RZ(-params[2*n_qubits], qubits=[n_qubits-1])\n",
    "\n",
    "    # Measurement\n",
    "    qai.measurement.probs(qubits=[n_qubits-1])\n",
    "    \n"
   ]
  },
  {
   "cell_type": "code",
   "execution_count": null,
   "id": "be25dade-6784-4671-b93f-715d9feb817c",
   "metadata": {},
   "outputs": [],
   "source": [
    "N = (n_size-1)*2"
   ]
  },
  {
   "cell_type": "code",
   "execution_count": null,
   "id": "e2119d9e",
   "metadata": {},
   "outputs": [],
   "source": [
    "circuit = qai.Circuit(circuitDef, n_qubits, torch.rand(N), torch.rand(n_qubits+1,2))"
   ]
  },
  {
   "cell_type": "markdown",
   "id": "3a630263",
   "metadata": {},
   "source": [
    "### Draw the circuit"
   ]
  },
  {
   "cell_type": "code",
   "execution_count": null,
   "id": "c05191d0",
   "metadata": {},
   "outputs": [],
   "source": [
    "drawer = qai.matplotlib_drawer(circuit, dpi=300, scale=0.1)\n",
    "drawer.draw_circuit()"
   ]
  },
  {
   "cell_type": "markdown",
   "id": "9f061298",
   "metadata": {},
   "source": [
    "### Compile the circuit"
   ]
  },
  {
   "cell_type": "code",
   "execution_count": null,
   "id": "678ff971",
   "metadata": {},
   "outputs": [],
   "source": [
    "# Compiled the circuit by normal method\n",
    "# my_compilecircuit = circuit.compilecircuit(backend=\"pytorch\" )"
   ]
  },
  {
   "cell_type": "code",
   "execution_count": null,
   "id": "d87ba78d-2ba2-42f8-9d72-3743945cceca",
   "metadata": {},
   "outputs": [],
   "source": [
    "# Compiled the circuit by hyper-optimized method\n",
    "from jdtensorpath import JDOptTN as jdopttn\n",
    "slicing_opts = None#{'target_size':2**28, 'repeats':500, 'target_num_slices':1, 'contract_parallel':False}\n",
    "hyper_opt = {'methods':['kahypar'], 'max_time':120, 'max_repeats':12, 'progbar':True, 'minimize':'flops', 'search_parallel':True, 'slicing_opts':slicing_opts}\n",
    "my_compilecircuit = circuit.compilecircuit(backend=\"pytorch\", use_jdopttn=jdopttn, hyper_opt = hyper_opt, tn_simplify = False)"
   ]
  },
  {
   "cell_type": "markdown",
   "id": "61a691b9",
   "metadata": {},
   "source": [
    "### Prepare the training data"
   ]
  },
  {
   "cell_type": "code",
   "execution_count": null,
   "id": "4ef7323e",
   "metadata": {},
   "outputs": [],
   "source": [
    "params = torch.rand(n_qubits+1,2, requires_grad=True)\n",
    "\n",
    "\n",
    "d_erg = torch.tensor(np.random.rand(int(n_train/2), N)*2-1)*h_erg*h_bar*t_d*math.pi\n",
    "d_local = torch.tensor((np.random.rand(int(n_train/2), N)*39/40.+1/40.)*np.random.choice([-1., 1.], size=(int(n_train/2), N))*h_loc*h_bar*t_d*math.pi)\n",
    "#d_local = torch.tensor(np.random.rand(int(n_train/2), N)*2-1)*h_loc*h_bar*t_d*math.pi\n",
    "d = torch.cat((d_erg, d_local), 0)\n",
    "\n",
    "y_target = torch.Tensor(np.array([1]*int(n_train/2)+[0]*int(n_train/2)))\n"
   ]
  },
  {
   "cell_type": "markdown",
   "id": "9d81ba48",
   "metadata": {},
   "source": [
    "### Train the QNN circuit"
   ]
  },
  {
   "cell_type": "code",
   "execution_count": null,
   "id": "489171ae",
   "metadata": {},
   "outputs": [],
   "source": [
    "%%time\n",
    "\n",
    "optimizer = torch.optim.Adam([params], lr=0.5)\n",
    "\n",
    "rnd_sq = np.arange(n_train)\n",
    "\n",
    "target_list = [0 for _ in range(n_train)]\n",
    "y_list = [0 for _ in range(n_train)]\n",
    "\n",
    "for epoch in range(n_epoch):\n",
    "    np.random.shuffle(rnd_sq)\n",
    "    l_sum = 0\n",
    "    \n",
    "    for i in rnd_sq:\n",
    "        w = y_target[i]*2+1\n",
    "        loss = nn.BCELoss(reduction='mean')\n",
    "        cir_params = torch.cat((params, -params[:,0].view(-1,1)),1)\n",
    "        y = my_compilecircuit(d[i], cir_params)\n",
    "        \n",
    "        diff = y[0][1] - 0.6\n",
    "        if diff > 0:\n",
    "            diff = diff*5./4. + 0.5\n",
    "        else:\n",
    "            diff = diff*5./6. + 0.5\n",
    "        \n",
    "        diff = y[0][1]\n",
    "        \n",
    "        l = loss(diff, y_target[i])\n",
    "        l.backward()\n",
    "        \n",
    "        l_sum = l_sum + l\n",
    "        target_list[i] = y_target[i]\n",
    "        y_list[i] = diff.data\n",
    "    \n",
    "\n",
    "    if epoch % 5 == 0:\n",
    "        print(f'epoch {epoch + 1}: loss = {l_sum/(n_train-5):.8f}')\n",
    "        print(\"acc:\", np.sum((np.round(y_list)==target_list))/n_train*100)\n",
    "        print(\"prediction:  \", y_list[0:n_train//2], \"   \", y_list[n_train//2:])\n",
    "\n",
    "        \n",
    "    params.grad = params.grad/n_train\n",
    "    optimizer.step()\n",
    "    optimizer.zero_grad()"
   ]
  },
  {
   "cell_type": "markdown",
   "id": "0d59a2e9",
   "metadata": {},
   "source": [
    "### Test the trained circuit"
   ]
  },
  {
   "cell_type": "code",
   "execution_count": null,
   "id": "753c783b",
   "metadata": {},
   "outputs": [],
   "source": [
    "d_erg = torch.tensor(np.random.rand(np.int(n_test/2), N)*2-1)*h_erg*h_bar*t_d*math.pi\n",
    "d_local = torch.tensor(np.random.rand(np.int(n_test/2), N)*2-1)*h_loc*h_bar*t_d*math.pi\n",
    "d = torch.cat((d_erg, d_local), 0)\n",
    "\n",
    "y_target_test = torch.Tensor(np.array([1]*np.int(n_test/2)+[0]*np.int(n_test/2)))\n",
    "y_list = [0 for _ in range(n_test)]\n",
    "\n",
    "l_sum=0\n",
    "target_list = [0 for _ in range(n_test)]\n",
    "\n",
    "for i in range(n_test):\n",
    "    cir_params = torch.cat((params, -params[:,0].view(-1,1)),1)\n",
    "    y = my_compilecircuit(d[i], cir_params)\n",
    "    \n",
    "    diff = y[0][1] - 0.6\n",
    "    if diff > 0:\n",
    "        diff = diff*5./4. + 0.5\n",
    "    else:\n",
    "        diff = diff*5./6. + 0.5\n",
    "        \n",
    "    #diff = y[0][1]\n",
    "            \n",
    "    l = loss(diff, y_target_test[i])\n",
    "\n",
    "    l_sum = l_sum + l\n",
    "    target_list[i] = y_target_test[i]\n",
    "    y_list[i] = diff.data\n",
    "    \n",
    "print(f'Testing: loss = {l_sum/n_test:.8f}')\n",
    "print(\"acc:\", np.sum((np.round(y_list)==target_list))/n_test*100)\n",
    "print(\"prediction:  \", list(zip(y_list,target_list)))"
   ]
  }
 ],
 "metadata": {
  "kernelspec": {
   "display_name": "Python 3 (ipykernel)",
   "language": "python",
   "name": "python3"
  },
  "language_info": {
   "codemirror_mode": {
    "name": "ipython",
    "version": 3
   },
   "file_extension": ".py",
   "mimetype": "text/x-python",
   "name": "python",
   "nbconvert_exporter": "python",
   "pygments_lexer": "ipython3",
   "version": "3.9.7"
  }
 },
 "nbformat": 4,
 "nbformat_minor": 5
}
