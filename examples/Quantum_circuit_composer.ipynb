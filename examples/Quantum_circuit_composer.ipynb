{
 "cells": [
  {
   "cell_type": "markdown",
   "metadata": {},
   "source": [
    "# Quantum circuit composer\n",
    "In this example, we are showing the useful helper function that allows you to compose the circuit interactively. By dragging the gate to the specific quantum wire, you can add the gate to that position. The result can be covert to the circuit object with a single command."
   ]
  },
  {
   "cell_type": "code",
   "execution_count": 1,
   "metadata": {},
   "outputs": [],
   "source": [
    "%matplotlib ipympl\n",
    "import tedq as qai"
   ]
  },
  {
   "cell_type": "markdown",
   "metadata": {},
   "source": [
    "## Usage\n",
    "### Add quantum gates\n",
    "Drag the template quantum gate on the bar on the top.\n",
    "\n",
    "<img src=\"images/add_gates.gif\" width=600 />"
   ]
  },
  {
   "cell_type": "markdown",
   "metadata": {},
   "source": [
    "### Remove quantum gate\n",
    "Click the gate on the quantum wire and drag to the trash box.\n",
    "\n",
    "<img src=\"images/remove_gate.gif\" width=600 />"
   ]
  },
  {
   "cell_type": "markdown",
   "metadata": {},
   "source": [
    "### Init the circuit composer"
   ]
  },
  {
   "cell_type": "code",
   "execution_count": 2,
   "metadata": {
    "scrolled": true
   },
   "outputs": [
    {
     "data": {
      "application/vnd.jupyter.widget-view+json": {
       "model_id": "fc6d5a686fbd47508d7eb1cd77046691",
       "version_major": 2,
       "version_minor": 0
      },
      "image/png": "[encoded data removed]",
      "text/html": [
       "\n",
       "            <div style=\"display: inline-block;\">\n",
       "                <div class=\"jupyter-widgets widget-label\" style=\"text-align: center;\">\n",
       "                    Figure\n",
       "                </div>\n",
       "                <img src='data:image/png;base64,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' width=550.0/>\n",
       "            </div>\n",
       "        "
      ],
      "text/plain": [
       "Canvas(footer_visible=False, header_visible=False, toolbar=Toolbar(toolitems=[('Home', 'Reset original view', …"
      ]
     },
     "metadata": {},
     "output_type": "display_data"
    }
   ],
   "source": [
    "composer = qai.circuit_composer(4, figsize=(11,5))"
   ]
  },
  {
   "cell_type": "markdown",
   "metadata": {},
   "source": [
    "### Convert to circuit object"
   ]
  },
  {
   "cell_type": "code",
   "execution_count": 3,
   "metadata": {},
   "outputs": [],
   "source": [
    "circuit = composer.toCircuit()"
   ]
  },
  {
   "cell_type": "markdown",
   "metadata": {},
   "source": [
    "### Plot the circuit"
   ]
  },
  {
   "cell_type": "code",
   "execution_count": 4,
   "metadata": {},
   "outputs": [
    {
     "data": {
      "application/vnd.jupyter.widget-view+json": {
       "model_id": "6c26714f69ba4977b0ecd26743a92d83",
       "version_major": 2,
       "version_minor": 0
      },
      "image/png": "[encoded data removed]",
      "text/html": [
       "\n",
       "            <div style=\"display: inline-block;\">\n",
       "                <div class=\"jupyter-widgets widget-label\" style=\"text-align: center;\">\n",
       "                    Figure\n",
       "                </div>\n",
       "                <img src='data:image/png;base64,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' width=288.0/>\n",
       "            </div>\n",
       "        "
      ],
      "text/plain": [
       "Canvas(toolbar=Toolbar(toolitems=[('Home', 'Reset original view', 'home', 'home'), ('Back', 'Back to previous …"
      ]
     },
     "metadata": {},
     "output_type": "display_data"
    }
   ],
   "source": [
    "drawer = qai.matplotlib_drawer(circuit,figsize=(4,4),scale=1)\n",
    "drawer.draw_circuit()"
   ]
  },
  {
   "cell_type": "markdown",
   "metadata": {},
   "source": [
    "### Get the code of circuit definition"
   ]
  },
  {
   "cell_type": "code",
   "execution_count": 5,
   "metadata": {},
   "outputs": [
    {
     "name": "stdout",
     "output_type": "stream",
     "text": [
      "# operators\n",
      "qai.PauliX(qubits=[0])\n",
      "qai.PauliY(qubits=[1])\n",
      "qai.PauliZ(qubits=[3])\n",
      "qai.Hadamard(qubits=[2])\n",
      "qai.CNOT(qubits=[0, 1])\n",
      "\n",
      "\n",
      "# measurements\n",
      "qai.measurement.expval(qai.PauliZ(qubits=[2]))\n",
      "qai.measurement.expval(qai.PauliZ(qubits=[0]))\n",
      "qai.measurement.expval(qai.PauliZ(qubits=[1]))\n",
      "qai.measurement.expval(qai.PauliZ(qubits=[3]))\n",
      "\n"
     ]
    }
   ],
   "source": [
    "print(circuit)"
   ]
  },
  {
   "cell_type": "code",
   "execution_count": null,
   "metadata": {},
   "outputs": [],
   "source": []
  }
 ],
 "metadata": {
  "kernelspec": {
   "display_name": "Python 3 (ipykernel)",
   "language": "python",
   "name": "python3"
  },
  "language_info": {
   "codemirror_mode": {
    "name": "ipython",
    "version": 3
   },
   "file_extension": ".py",
   "mimetype": "text/x-python",
   "name": "python",
   "nbconvert_exporter": "python",
   "pygments_lexer": "ipython3",
   "version": "3.8.10"
  }
 },
 "nbformat": 4,
 "nbformat_minor": 4
}
