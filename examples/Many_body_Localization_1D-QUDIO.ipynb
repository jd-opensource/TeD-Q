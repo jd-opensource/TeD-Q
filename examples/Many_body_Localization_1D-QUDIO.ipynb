{
 "cells": [
  {
   "cell_type": "markdown",
   "id": "b4e76d7f",
   "metadata": {},
   "source": [
    "# Many body localization in 1-D qubit array\n",
    "\n",
    "This simulation is based on the paper -- \"Quantum Neuronal Sensing of Quantum Many-Body States on a 61-Qubit\n",
    "Programmable Superconducting Processor\", and aimed to demostrate the performance of quantum machine learning viaTeD-Q module. We further modify to 1-D qubit array to test the computing limit of the TeD-Q package\n",
    "### Many Body localization\n",
    "Many-body localization is a quantum phenomenon of an isolated many-body quantum system. The system tend to preserve the initial state under large disorder, known as localized state. On the other hand, with small disorder, the system tend to fall into the thermalization, that is, the infomation of initial state is washed out, known as ergodic state.\n",
    "\n",
    "<img src=\"images/mbl_1d.png\" width=600 />\n",
    "(figure adapted from [2])\n",
    "\n",
    "### Circuit design\n",
    "The circuit design follows the one proposed in the paper. The circuit starts with an preparation stage for Neel state and followed by a system Hamiltonian with controllable disorder power. After that, the circuit is embeded with a variational cirucit via digital-analog architecture[1]. Finally, the measurement on first qubit is the output stage. We train the output probability to distinguish localized state from ergodic state.\n",
    "\n",
    "\n",
    "### About this simulation\n",
    "This circuit is suitable for the demostration of the computing power of TeD-Q package due to its complexity. In the simulated hamilonian of the system, the qubits was connected to all of its neighbor qubits. For a 1-D qubits array, such connection will introduce lot of 2-qubit operation and single-qubit operation, which becomes too complicated for the conventional quantum machine learning simulator.\n",
    "\n",
    "## Reference\n",
    "1. https://arxiv.org/pdf/2201.05957.pdf\n",
    "2. https://arxiv.org/pdf/1804.11065.pdf\n",
    "3. https://arxiv.org/pdf/1711.03145.pdf"
   ]
  },
  {
   "cell_type": "code",
   "execution_count": 1,
   "id": "6a21aced",
   "metadata": {},
   "outputs": [],
   "source": [
    "import sys\n",
    "sys.path.append('..')\n",
    "import torch\n",
    "import tedq as qai\n",
    "import numpy as np\n",
    "import math\n",
    "from torch.optim import lr_scheduler\n",
    "import torch.nn as nn"
   ]
  },
  {
   "cell_type": "markdown",
   "id": "81f819e3",
   "metadata": {},
   "source": [
    "### init parameters"
   ]
  },
  {
   "cell_type": "code",
   "execution_count": 2,
   "id": "de466cce",
   "metadata": {},
   "outputs": [],
   "source": [
    "n_size = 3\n",
    "n_epoch = 100\n",
    "n_train = 200\n",
    "n_test = 50\n",
    "\n",
    "lr = 0.01\n",
    "gamma_lr_scheduler = 0.2\n",
    "\n",
    "n_qubits= n_size\n",
    "t_d = 200e-9 #ns\n",
    "h_bar = 1\n",
    "g = 2.185e6 #MHz\n",
    "h_erg = 1e6 # MHZ\n",
    "h_loc = 40e6  # MHz"
   ]
  },
  {
   "cell_type": "markdown",
   "id": "29798066",
   "metadata": {},
   "source": [
    "### Circuit definition"
   ]
  },
  {
   "cell_type": "code",
   "execution_count": 3,
   "id": "f2e69f4a",
   "metadata": {},
   "outputs": [],
   "source": [
    "def getIndex(i, j):\n",
    "    return n_size*i+j\n",
    "def Hd(idx, jdx, di):\n",
    "    #qai.RZ(2*h_bar*di*t_d, qubits=[jdx], trainable_params=[])\n",
    "    qai.RZ(di, qubits=[jdx])\n",
    "    H0(idx, jdx)\n",
    "    \n",
    "def H0(idx, jdx):\n",
    "    qai.Hadamard(qubits=[idx])\n",
    "    qai.Hadamard(qubits=[jdx])\n",
    "    qai.CNOT(qubits=[idx, jdx])\n",
    "    qai.RZ(torch.Tensor([g*h_bar*t_d]), qubits=[jdx], trainable_params=[])\n",
    "    qai.CNOT(qubits=[idx, jdx])\n",
    "    qai.Hadamard(qubits=[idx])\n",
    "    qai.Hadamard(qubits=[jdx])\n",
    "    \n",
    "    qai.S(qubits=[idx])\n",
    "    qai.S(qubits=[jdx])\n",
    "    qai.Hadamard(qubits=[idx])\n",
    "    qai.Hadamard(qubits=[jdx])\n",
    "    qai.CNOT(qubits=[idx, jdx])\n",
    "    qai.RZ(torch.Tensor([g*h_bar*t_d]), qubits=[jdx], trainable_params=[])\n",
    "    qai.CNOT(qubits=[idx, jdx])\n",
    "    qai.Hadamard(qubits=[idx])\n",
    "    qai.Hadamard(qubits=[jdx])\n",
    "    qai.PhaseShift(torch.tensor(-math.pi/2.), qubits=[idx], trainable_params=[])\n",
    "    qai.PhaseShift(torch.tensor(-math.pi/2.), qubits=[jdx], trainable_params=[])\n",
    "\n",
    "def partial_connected():\n",
    "    for i in range(0, n_qubits-7, 5):\n",
    "        qai.CNOT(qubits=[i, i+7])\n",
    "\n",
    "\n",
    "def circuitDef(d, params):\n",
    "    params = params.view(-1)\n",
    "     \n",
    "    # Neel state\n",
    "    for i in range(n_qubits):\n",
    "        if i%2==0:\n",
    "            qai.PauliX(qubits=[i])\n",
    "    \n",
    "    # Hd td\n",
    "    count = 0\n",
    "    for i in range(n_qubits):\n",
    "        if i>=0 and i+1<n_qubits:# (n_size-1)*n_size\n",
    "            Hd(i+1, i, d[count])\n",
    "            count+=1\n",
    "        if i-1>=0 and i<n_qubits:# (n_size-1)*n_size\n",
    "            Hd(i-1, i, d[count])\n",
    "            count+=1    \n",
    "            \n",
    "    # Trainable theta and phi\n",
    "    for i in range(n_qubits):\n",
    "        #print(i)\n",
    "        qai.RZ(params[2*i], qubits=[i])\n",
    "        qai.RX(params[2*i+1], qubits=[i])\n",
    "        qai.RZ(-params[2*i], qubits=[i])\n",
    "    \n",
    "    # Partial connection to increase complexity\n",
    "    partial_connected()\n",
    "    \n",
    "    # H0 dt \n",
    "    for i in range(n_size):\n",
    "        if i+1>=0 and i+1<n_qubits:# (n_size-1)*n_size\n",
    "            H0(i+1, i)\n",
    "        if i-1>=0 and i-1<n_qubits:# (n_size-1)*n_size\n",
    "            H0(i-1, i)\n",
    "            \n",
    "    # Last rotation  \n",
    "    qai.RZ(params[2*n_qubits], qubits=[n_qubits-1])\n",
    "    qai.RX(params[2*n_qubits+1], qubits=[n_qubits-1])\n",
    "    qai.RZ(-params[2*n_qubits], qubits=[n_qubits-1])\n",
    "\n",
    "    # Measurement\n",
    "    qai.measurement.probs(qubits=[n_qubits-1])\n",
    "    \n"
   ]
  },
  {
   "cell_type": "code",
   "execution_count": 4,
   "id": "be25dade-6784-4671-b93f-715d9feb817c",
   "metadata": {},
   "outputs": [],
   "source": [
    "N = (n_size-1)*2"
   ]
  },
  {
   "cell_type": "code",
   "execution_count": 5,
   "id": "e2119d9e",
   "metadata": {},
   "outputs": [],
   "source": [
    "circuit = qai.Circuit(circuitDef, n_qubits, torch.rand(N), torch.rand(n_qubits+1,2))"
   ]
  },
  {
   "cell_type": "markdown",
   "id": "3a630263",
   "metadata": {},
   "source": [
    "### Draw the circuit"
   ]
  },
  {
   "cell_type": "code",
   "execution_count": 6,
   "id": "c05191d0",
   "metadata": {},
   "outputs": [
    {
     "data": {
      "image/png": "[encoded data removed]",
      "text/plain": [
       "<Figure size 4500x4500 with 1 Axes>"
      ]
     },
     "metadata": {},
     "output_type": "display_data"
    }
   ],
   "source": [
    "drawer = qai.matplotlib_drawer(circuit, dpi=300, scale=0.1)\n",
    "drawer.draw_circuit()"
   ]
  },
  {
   "cell_type": "markdown",
   "id": "9f061298",
   "metadata": {},
   "source": [
    "### Compile the circuit"
   ]
  },
  {
   "cell_type": "code",
   "execution_count": 7,
   "id": "678ff971",
   "metadata": {},
   "outputs": [
    {
     "name": "stdout",
     "output_type": "stream",
     "text": [
      "in init\n"
     ]
    }
   ],
   "source": [
    "# Compiled the circuit by normal method\n",
    "my_compilecircuit = circuit.compilecircuit(backend=\"pytorch_QUDIO\")"
   ]
  },
  {
   "cell_type": "code",
   "execution_count": 8,
   "id": "d87ba78d-2ba2-42f8-9d72-3743945cceca",
   "metadata": {},
   "outputs": [],
   "source": [
    "# # Compiled the circuit by hyper-optimized method\n",
    "# from jdtensorpath import JDOptTN as jdopttn\n",
    "# slicing_opts = None#{'target_size':2**28, 'repeats':500, 'target_num_slices':1, 'contract_parallel':False}\n",
    "# hyper_opt = {'methods':['kahypar'], 'max_time':120, 'max_repeats':12, 'progbar':True, 'minimize':'flops', 'search_parallel':True, 'slicing_opts':slicing_opts}\n",
    "# my_compilecircuit = circuit.compilecircuit(backend=\"pytorch\", use_jdopttn=jdopttn, hyper_opt = hyper_opt, tn_simplify = False)"
   ]
  },
  {
   "cell_type": "markdown",
   "id": "61a691b9",
   "metadata": {},
   "source": [
    "### Prepare the training data"
   ]
  },
  {
   "cell_type": "code",
   "execution_count": 9,
   "id": "4ef7323e",
   "metadata": {},
   "outputs": [],
   "source": [
    "params = torch.rand(n_qubits+1,2, requires_grad=True)\n",
    "\n",
    "\n",
    "d_erg = torch.tensor(np.random.rand(int(n_train/2), N)*2-1)*h_erg*h_bar*t_d*math.pi\n",
    "d_local = torch.tensor((np.random.rand(int(n_train/2), N)*39/40.+1/40.)*np.random.choice([-1., 1.], size=(int(n_train/2), N))*h_loc*h_bar*t_d*math.pi)\n",
    "#d_local = torch.tensor(np.random.rand(int(n_train/2), N)*2-1)*h_loc*h_bar*t_d*math.pi\n",
    "d = torch.cat((d_erg, d_local), 0)\n",
    "\n",
    "y_target = torch.Tensor(np.array([1]*int(n_train/2)+[0]*int(n_train/2)))\n"
   ]
  },
  {
   "cell_type": "markdown",
   "id": "9d81ba48",
   "metadata": {},
   "source": [
    "### Train the QNN circuit"
   ]
  },
  {
   "cell_type": "code",
   "execution_count": 10,
   "id": "a13d05f9",
   "metadata": {},
   "outputs": [
    {
     "data": {
      "text/plain": [
       "tensor([[-1.0353e-01, -6.0940e-01,  5.4488e-01,  4.7746e-01],\n",
       "        [-6.2150e-01,  9.4873e-02, -2.6444e-01, -4.8985e-01],\n",
       "        [-1.3181e-01,  1.2520e-01, -3.8339e-01, -4.5023e-01],\n",
       "        [ 2.5728e-01,  1.6197e-01, -5.2997e-01,  1.4117e-01],\n",
       "        [-2.6038e-01, -6.0117e-01,  9.7560e-02, -4.6855e-01],\n",
       "        [ 6.2682e-01, -3.0928e-01,  6.0471e-01,  1.2669e-01],\n",
       "        [-3.0215e-01,  4.5312e-01,  3.1010e-01, -4.1247e-01],\n",
       "        [ 1.5933e-01,  1.7000e-01, -2.7348e-01,  1.4727e-01],\n",
       "        [ 4.2416e-01, -5.0122e-01, -6.2007e-01,  4.6464e-01],\n",
       "        [-1.9155e-01, -5.9069e-01,  4.3105e-02, -1.8352e-01],\n",
       "        [-4.1536e-01, -1.2386e-01,  6.2677e-01, -1.1939e-01],\n",
       "        [ 1.6623e-01,  4.1215e-01,  1.9631e-01, -1.5673e-01],\n",
       "        [ 3.6770e-01,  5.4764e-01,  4.3758e-02,  1.8375e-01],\n",
       "        [ 2.9688e-01,  8.3140e-02, -3.0026e-01,  5.4900e-01],\n",
       "        [ 2.1539e-01, -6.7885e-02, -1.6226e-01, -2.8737e-01],\n",
       "        [-8.1482e-02, -4.4308e-02, -4.0420e-01, -2.8394e-01],\n",
       "        [ 3.8657e-01, -2.6232e-01,  4.2464e-01,  2.2553e-01],\n",
       "        [ 6.1614e-01,  2.8453e-01, -5.6082e-01,  2.3731e-02],\n",
       "        [-5.5021e-01,  2.0119e-01, -5.8809e-01,  9.9116e-02],\n",
       "        [ 5.7920e-01, -6.0608e-02,  1.4179e-01, -1.8985e-01],\n",
       "        [-1.7710e+00,  8.2599e+00,  1.1448e+00,  1.1796e+01],\n",
       "        [-1.7927e+01,  1.8250e+01,  1.9731e+01,  2.5091e+00],\n",
       "        [ 8.4020e+00,  1.9567e+01,  1.2909e+01, -1.3855e+01],\n",
       "        [ 1.0129e+01,  1.9682e+01,  1.7983e+00,  1.4726e+01],\n",
       "        [-4.5685e+00,  6.8487e-01, -6.7745e+00, -1.0411e+01],\n",
       "        [-1.9566e+01, -1.4060e+01,  1.5168e+01,  1.1877e+01],\n",
       "        [-1.3709e+01, -2.2836e+01, -1.6661e+01,  1.8748e+01],\n",
       "        [ 1.4519e+01, -1.4710e+01, -1.0440e+01,  9.7367e+00],\n",
       "        [ 8.9291e+00,  2.4552e+01,  3.9740e+00, -1.6652e+01],\n",
       "        [ 1.8919e+01,  1.2940e+01,  1.7648e+01, -1.1143e+01],\n",
       "        [-2.0488e+01,  1.6714e+01,  1.4100e+01,  5.5305e+00],\n",
       "        [ 1.3936e+01,  2.1599e+01, -1.3400e+01,  2.0966e+01],\n",
       "        [-1.5595e+01, -1.8050e+01,  2.1774e+01, -3.9414e+00],\n",
       "        [-6.0798e+00, -1.9135e+01, -1.7526e+01,  6.2474e+00],\n",
       "        [-1.5330e+01, -3.3309e+00, -6.3169e+00,  2.0181e+01],\n",
       "        [ 3.0080e+00, -1.6546e+01, -1.6556e+01, -2.5129e+01],\n",
       "        [-3.2153e+00, -5.9507e+00, -1.8468e+01, -2.0538e+01],\n",
       "        [ 2.1209e+01,  1.9332e+01,  2.4510e+01, -1.7627e+01],\n",
       "        [ 2.1194e+01,  1.1755e+01, -2.0076e+01,  1.7407e+01],\n",
       "        [-1.1583e+01,  1.2280e+01, -1.0623e+01, -1.3113e+01]],\n",
       "       dtype=torch.float64)"
      ]
     },
     "execution_count": 10,
     "metadata": {},
     "output_type": "execute_result"
    }
   ],
   "source": [
    "d\n"
   ]
  },
  {
   "cell_type": "code",
   "execution_count": 11,
   "id": "16d99c05",
   "metadata": {},
   "outputs": [
    {
     "name": "stdout",
     "output_type": "stream",
     "text": [
      "Device count: 1\n"
     ]
    }
   ],
   "source": [
    "my_compilecircuit.set_dataset(d)\n"
   ]
  },
  {
   "cell_type": "code",
   "execution_count": 12,
   "id": "0fc3707f",
   "metadata": {},
   "outputs": [
    {
     "name": "stdout",
     "output_type": "stream",
     "text": [
      "cpu\n"
     ]
    }
   ],
   "source": [
    "print(my_compilecircuit.device)"
   ]
  },
  {
   "cell_type": "code",
   "execution_count": 13,
   "id": "c65b143e",
   "metadata": {},
   "outputs": [
    {
     "name": "stdout",
     "output_type": "stream",
     "text": [
      "<bound method QUDIOBackend.dataset of <tedq.backends.qudio_backend.QUDIOBackend object at 0x1658e1be0>>\n"
     ]
    }
   ],
   "source": [
    "print(my_compilecircuit.dataset)"
   ]
  },
  {
   "cell_type": "code",
   "execution_count": 14,
   "id": "867edc04",
   "metadata": {},
   "outputs": [
    {
     "name": "stdout",
     "output_type": "stream",
     "text": [
      "<bound method QUDIOBackend.dataset of <tedq.backends.qudio_backend.QUDIOBackend object at 0x1658e1be0>>\n",
      "tensor([[ 0.6154,  0.6275, -0.6154],\n",
      "        [ 0.0160,  0.9370, -0.0160],\n",
      "        [ 0.5797,  0.4006, -0.5797],\n",
      "        [ 0.5634,  0.2800, -0.5634]], grad_fn=<CatBackward0>)\n",
      "40 40\n"
     ]
    }
   ],
   "source": [
    "print(my_compilecircuit.dataset)\n",
    "cir_params = torch.cat((params, -params[:,0].view(-1,1)),1)\n",
    "print(cir_params)\n",
    "y= my_compilecircuit(cir_params)\n",
    "print(len(y),len(y_target))"
   ]
  },
  {
   "cell_type": "code",
   "execution_count": 15,
   "id": "d3dcd846",
   "metadata": {},
   "outputs": [
    {
     "name": "stdout",
     "output_type": "stream",
     "text": [
      "tensor([1., 1., 1., 1., 1., 1., 1., 1., 1., 1., 1., 1., 1., 1., 1., 1., 1., 1.,\n",
      "        1., 1., 0., 0., 0., 0., 0., 0., 0., 0., 0., 0., 0., 0., 0., 0., 0., 0.,\n",
      "        0., 0., 0., 0.])\n"
     ]
    }
   ],
   "source": [
    "print(y_target)"
   ]
  },
  {
   "cell_type": "code",
   "execution_count": 16,
   "id": "489171ae",
   "metadata": {},
   "outputs": [
    {
     "name": "stdout",
     "output_type": "stream",
     "text": [
      "epoch 1: loss = 0.69497311\n",
      "acc: 65.0\n",
      "epoch 6: loss = 0.37164003\n",
      "acc: 95.0\n",
      "epoch 11: loss = 0.36462304\n",
      "acc: 97.5\n",
      "epoch 16: loss = 0.34310764\n",
      "acc: 97.5\n",
      "epoch 21: loss = 0.34404373\n",
      "acc: 97.5\n",
      "epoch 26: loss = 0.33943987\n",
      "acc: 97.5\n",
      "epoch 31: loss = 0.33411512\n",
      "acc: 97.5\n",
      "epoch 36: loss = 0.33411485\n",
      "acc: 97.5\n",
      "epoch 41: loss = 0.33164111\n",
      "acc: 97.5\n",
      "epoch 46: loss = 0.33197206\n",
      "acc: 97.5\n"
     ]
    }
   ],
   "source": [
    "\n",
    "optimizer = torch.optim.Adam([params], lr=0.5)\n",
    "\n",
    "rnd_sq = np.arange(n_train)\n",
    "\n",
    "# target_list = [0 for _ in range(n_train)]\n",
    "y_list = [0 for _ in range(n_train)]\n",
    "\n",
    "for epoch in range(n_epoch):\n",
    "    np.random.shuffle(rnd_sq)\n",
    "    l_sum = 0\n",
    "    \n",
    "#     w = y_target[i]*2+1\n",
    "    loss = nn.BCELoss(reduction='mean')\n",
    "    cir_params = torch.cat((params, -params[:,0].view(-1,1)),1)\n",
    "    y = my_compilecircuit(cir_params)\n",
    "#     print(len(y), len(y_target))\n",
    "    \n",
    "    \n",
    "    diff = y[:,1]\n",
    "    diff-= 0.6\n",
    "# #     print(len(diff), len(y_target))\n",
    "    \n",
    "    diff[diff>0] = diff[diff>0]*5./4. + 0.5\n",
    "    diff[diff<=0] = diff[diff<=0]*5./6. + 0.5\n",
    "    \n",
    "#     diff = y[0][1]\n",
    "#     print(len(diff), len(y_target))\n",
    "\n",
    "    l = loss(diff, y_target)\n",
    "    l.backward()\n",
    "\n",
    "    if epoch % 5 == 0:\n",
    "        print(f'epoch {epoch + 1}: loss = {l:.8f}')\n",
    "        print(\"acc:\", np.sum(np.sum(((diff>0.5)==y_target).detach().numpy()))/n_train*100)\n",
    "#         print(\"prediction:  \", (diff.detach().numpy()>0.5), \"   \",y_target)\n",
    "\n",
    "        \n",
    "    params.grad = params.grad/n_train\n",
    "    optimizer.step()\n",
    "    optimizer.zero_grad()"
   ]
  },
  {
   "cell_type": "markdown",
   "id": "0d59a2e9",
   "metadata": {},
   "source": [
    "### Test the trained circuit"
   ]
  },
  {
   "cell_type": "code",
   "execution_count": 17,
   "id": "753c783b",
   "metadata": {},
   "outputs": [
    {
     "name": "stdout",
     "output_type": "stream",
     "text": [
      "Device count: 1\n",
      "loss = 0.33098453\n",
      "acc: 90.0\n",
      "prediction:   [ True  True  True  True  True  True  True  True  True  True  True False\n",
      " False False  True False False False False False]     tensor([1., 1., 1., 1., 1., 1., 1., 1., 1., 1., 0., 0., 0., 0., 0., 0., 0., 0.,\n",
      "        0., 0.])\n"
     ]
    }
   ],
   "source": [
    "d_erg = torch.tensor(np.random.rand(np.int(n_test/2), N)*2-1)*h_erg*h_bar*t_d*math.pi\n",
    "d_local = torch.tensor(np.random.rand(np.int(n_test/2), N)*2-1)*h_loc*h_bar*t_d*math.pi\n",
    "d = torch.cat((d_erg, d_local), 0)\n",
    "\n",
    "my_compilecircuit.set_dataset(d)\n",
    "\n",
    "y_target_test = torch.Tensor(np.array([1]*np.int(n_test/2)+[0]*np.int(n_test/2)))\n",
    "\n",
    "l_sum=0\n",
    "\n",
    "\n",
    "#     w = y_target[i]*2+1\n",
    "cir_params = torch.cat((params, -params[:,0].view(-1,1)),1)\n",
    "y = my_compilecircuit(cir_params)\n",
    "#     print(len(y), len(y_target))\n",
    "\n",
    "diff = y[:,1]\n",
    "diff-= 0.6\n",
    "\n",
    "diff[diff>0] = diff[diff>0]*5./4. + 0.5\n",
    "diff[diff<=0] = diff[diff<=0]*5./6. + 0.5\n",
    "\n",
    "print(f'loss = {l:.8f}')\n",
    "print(\"acc:\", np.sum(((diff>0.5)==y_target_test).detach().numpy())/n_test*100)\n",
    "print(\"prediction:  \", (diff.detach().numpy()>0.5), \"   \",y_target_test)"
   ]
  }
 ],
 "metadata": {
  "kernelspec": {
   "display_name": "Python 3 (ipykernel)",
   "language": "python",
   "name": "python3"
  },
  "language_info": {
   "codemirror_mode": {
    "name": "ipython",
    "version": 3
   },
   "file_extension": ".py",
   "mimetype": "text/x-python",
   "name": "python",
   "nbconvert_exporter": "python",
   "pygments_lexer": "ipython3",
   "version": "3.9.7"
  }
 },
 "nbformat": 4,
 "nbformat_minor": 5
}
