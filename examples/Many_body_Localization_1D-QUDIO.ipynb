{
 "cells": [
  {
   "cell_type": "markdown",
   "id": "b4e76d7f",
   "metadata": {},
   "source": [
    "# Many body localization in 1-D qubit array\n",
    "\n",
    "This simulation is based on the paper -- \"Quantum Neuronal Sensing of Quantum Many-Body States on a 61-Qubit\n",
    "Programmable Superconducting Processor\", and aimed to demostrate the performance of quantum machine learning viaTeD-Q module. We further modify to 1-D qubit array to test the computing limit of the TeD-Q package\n",
    "### Many Body localization\n",
    "Many-body localization is a quantum phenomenon of an isolated many-body quantum system. The system tend to preserve the initial state under large disorder, known as localized state. On the other hand, with small disorder, the system tend to fall into the thermalization, that is, the infomation of initial state is washed out, known as ergodic state.\n",
    "\n",
    "<img src=\"images/mbl_1d.png\" width=600 />\n",
    "(figure adapted from [2])\n",
    "\n",
    "### Circuit design\n",
    "The circuit design follows the one proposed in the paper. The circuit starts with an preparation stage for Neel state and followed by a system Hamiltonian with controllable disorder power. After that, the circuit is embeded with a variational cirucit via digital-analog architecture[1]. Finally, the measurement on first qubit is the output stage. We train the output probability to distinguish localized state from ergodic state.\n",
    "\n",
    "\n",
    "### About this simulation\n",
    "This circuit is suitable for the demostration of the computing power of TeD-Q package due to its complexity. In the simulated hamilonian of the system, the qubits was connected to all of its neighbor qubits. For a 1-D qubits array, such connection will introduce lot of 2-qubit operation and single-qubit operation, which becomes too complicated for the conventional quantum machine learning simulator.\n",
    "\n",
    "## Reference\n",
    "1. https://arxiv.org/pdf/2201.05957.pdf\n",
    "2. https://arxiv.org/pdf/1804.11065.pdf\n",
    "3. https://arxiv.org/pdf/1711.03145.pdf"
   ]
  },
  {
   "cell_type": "code",
   "execution_count": 1,
   "id": "6a21aced",
   "metadata": {},
   "outputs": [],
   "source": [
    "import sys\n",
    "sys.path.append('..')\n",
    "import torch\n",
    "import tedq as qai\n",
    "import numpy as np\n",
    "import math\n",
    "from torch.optim import lr_scheduler\n",
    "import torch.nn as nn"
   ]
  },
  {
   "cell_type": "markdown",
   "id": "81f819e3",
   "metadata": {},
   "source": [
    "### init parameters"
   ]
  },
  {
   "cell_type": "code",
   "execution_count": 2,
   "id": "de466cce",
   "metadata": {},
   "outputs": [],
   "source": [
    "n_size = 3\n",
    "n_epoch = 100\n",
    "n_train = 200\n",
    "n_test = 50\n",
    "\n",
    "lr = 0.01\n",
    "gamma_lr_scheduler = 0.2\n",
    "\n",
    "n_qubits= n_size\n",
    "t_d = 200e-9 #ns\n",
    "h_bar = 1\n",
    "g = 2.185e6 #MHz\n",
    "h_erg = 1e6 # MHZ\n",
    "h_loc = 40e6  # MHz"
   ]
  },
  {
   "cell_type": "markdown",
   "id": "29798066",
   "metadata": {},
   "source": [
    "### Circuit definition"
   ]
  },
  {
   "cell_type": "code",
   "execution_count": 3,
   "id": "f2e69f4a",
   "metadata": {},
   "outputs": [],
   "source": [
    "def getIndex(i, j):\n",
    "    return n_size*i+j\n",
    "def Hd(idx, jdx, di):\n",
    "    #qai.RZ(2*h_bar*di*t_d, qubits=[jdx], trainable_params=[])\n",
    "    qai.RZ(di, qubits=[jdx])\n",
    "    H0(idx, jdx)\n",
    "    \n",
    "def H0(idx, jdx):\n",
    "    qai.Hadamard(qubits=[idx])\n",
    "    qai.Hadamard(qubits=[jdx])\n",
    "    qai.CNOT(qubits=[idx, jdx])\n",
    "    qai.RZ(torch.Tensor([g*h_bar*t_d]), qubits=[jdx], trainable_params=[])\n",
    "    qai.CNOT(qubits=[idx, jdx])\n",
    "    qai.Hadamard(qubits=[idx])\n",
    "    qai.Hadamard(qubits=[jdx])\n",
    "    \n",
    "    qai.S(qubits=[idx])\n",
    "    qai.S(qubits=[jdx])\n",
    "    qai.Hadamard(qubits=[idx])\n",
    "    qai.Hadamard(qubits=[jdx])\n",
    "    qai.CNOT(qubits=[idx, jdx])\n",
    "    qai.RZ(torch.Tensor([g*h_bar*t_d]), qubits=[jdx], trainable_params=[])\n",
    "    qai.CNOT(qubits=[idx, jdx])\n",
    "    qai.Hadamard(qubits=[idx])\n",
    "    qai.Hadamard(qubits=[jdx])\n",
    "    qai.PhaseShift(torch.tensor(-math.pi/2.), qubits=[idx], trainable_params=[])\n",
    "    qai.PhaseShift(torch.tensor(-math.pi/2.), qubits=[jdx], trainable_params=[])\n",
    "\n",
    "def partial_connected():\n",
    "    for i in range(0, n_qubits-7, 5):\n",
    "        qai.CNOT(qubits=[i, i+7])\n",
    "\n",
    "\n",
    "def circuitDef(d, params):\n",
    "    params = params.view(-1)\n",
    "     \n",
    "    # Neel state\n",
    "    for i in range(n_qubits):\n",
    "        if i%2==0:\n",
    "            qai.PauliX(qubits=[i])\n",
    "    \n",
    "    # Hd td\n",
    "    count = 0\n",
    "    for i in range(n_qubits):\n",
    "        if i>=0 and i+1<n_qubits:# (n_size-1)*n_size\n",
    "            Hd(i+1, i, d[count])\n",
    "            count+=1\n",
    "        if i-1>=0 and i<n_qubits:# (n_size-1)*n_size\n",
    "            Hd(i-1, i, d[count])\n",
    "            count+=1    \n",
    "            \n",
    "    # Trainable theta and phi\n",
    "    for i in range(n_qubits):\n",
    "        #print(i)\n",
    "        qai.RZ(params[2*i], qubits=[i])\n",
    "        qai.RX(params[2*i+1], qubits=[i])\n",
    "        qai.RZ(-params[2*i], qubits=[i])\n",
    "    \n",
    "    # Partial connection to increase complexity\n",
    "    partial_connected()\n",
    "    \n",
    "    # H0 dt \n",
    "    for i in range(n_size):\n",
    "        if i+1>=0 and i+1<n_qubits:# (n_size-1)*n_size\n",
    "            H0(i+1, i)\n",
    "        if i-1>=0 and i-1<n_qubits:# (n_size-1)*n_size\n",
    "            H0(i-1, i)\n",
    "            \n",
    "    # Last rotation  \n",
    "    qai.RZ(params[2*n_qubits], qubits=[n_qubits-1])\n",
    "    qai.RX(params[2*n_qubits+1], qubits=[n_qubits-1])\n",
    "    qai.RZ(-params[2*n_qubits], qubits=[n_qubits-1])\n",
    "\n",
    "    # Measurement\n",
    "    qai.measurement.probs(qubits=[n_qubits-1])\n",
    "    \n"
   ]
  },
  {
   "cell_type": "code",
   "execution_count": 4,
   "id": "be25dade-6784-4671-b93f-715d9feb817c",
   "metadata": {},
   "outputs": [],
   "source": [
    "N = (n_size-1)*2"
   ]
  },
  {
   "cell_type": "code",
   "execution_count": 5,
   "id": "e2119d9e",
   "metadata": {},
   "outputs": [],
   "source": [
    "circuit = qai.Circuit(circuitDef, n_qubits, torch.rand(N), torch.rand(n_qubits+1,2))"
   ]
  },
  {
   "cell_type": "markdown",
   "id": "3a630263",
   "metadata": {},
   "source": [
    "### Draw the circuit"
   ]
  },
  {
   "cell_type": "code",
   "execution_count": 6,
   "id": "c05191d0",
   "metadata": {},
   "outputs": [
    {
     "data": {
      "image/png": "[encoded data removed]",
      "text/plain": [
       "<Figure size 4500x4500 with 1 Axes>"
      ]
     },
     "metadata": {},
     "output_type": "display_data"
    }
   ],
   "source": [
    "drawer = qai.matplotlib_drawer(circuit, dpi=300, scale=0.1)\n",
    "drawer.draw_circuit()"
   ]
  },
  {
   "cell_type": "markdown",
   "id": "9f061298",
   "metadata": {},
   "source": [
    "### Compile the circuit"
   ]
  },
  {
   "cell_type": "code",
   "execution_count": 7,
   "id": "678ff971",
   "metadata": {},
   "outputs": [
    {
     "name": "stdout",
     "output_type": "stream",
     "text": [
      "in init\n"
     ]
    }
   ],
   "source": [
    "# Compiled the circuit by normal method\n",
    "my_compilecircuit = circuit.compilecircuit(backend=\"pytorch_QUDIO\")"
   ]
  },
  {
   "cell_type": "code",
   "execution_count": 8,
   "id": "d87ba78d-2ba2-42f8-9d72-3743945cceca",
   "metadata": {},
   "outputs": [],
   "source": [
    "# # Compiled the circuit by hyper-optimized method\n",
    "# from jdtensorpath import JDOptTN as jdopttn\n",
    "# slicing_opts = None#{'target_size':2**28, 'repeats':500, 'target_num_slices':1, 'contract_parallel':False}\n",
    "# hyper_opt = {'methods':['kahypar'], 'max_time':120, 'max_repeats':12, 'progbar':True, 'minimize':'flops', 'search_parallel':True, 'slicing_opts':slicing_opts}\n",
    "# my_compilecircuit = circuit.compilecircuit(backend=\"pytorch\", use_jdopttn=jdopttn, hyper_opt = hyper_opt, tn_simplify = False)"
   ]
  },
  {
   "cell_type": "markdown",
   "id": "61a691b9",
   "metadata": {},
   "source": [
    "### Prepare the training data"
   ]
  },
  {
   "cell_type": "code",
   "execution_count": 9,
   "id": "4ef7323e",
   "metadata": {},
   "outputs": [],
   "source": [
    "params = torch.rand(n_qubits+1,2, requires_grad=True)\n",
    "\n",
    "\n",
    "d_erg = torch.tensor(np.random.rand(int(n_train/2), N)*2-1)*h_erg*h_bar*t_d*math.pi\n",
    "d_local = torch.tensor((np.random.rand(int(n_train/2), N)*39/40.+1/40.)*np.random.choice([-1., 1.], size=(int(n_train/2), N))*h_loc*h_bar*t_d*math.pi)\n",
    "#d_local = torch.tensor(np.random.rand(int(n_train/2), N)*2-1)*h_loc*h_bar*t_d*math.pi\n",
    "d = torch.cat((d_erg, d_local), 0)\n",
    "\n",
    "y_target = torch.Tensor(np.array([1]*int(n_train/2)+[0]*int(n_train/2)))\n"
   ]
  },
  {
   "cell_type": "markdown",
   "id": "9d81ba48",
   "metadata": {},
   "source": [
    "### Train the QNN circuit"
   ]
  },
  {
   "cell_type": "code",
   "execution_count": 10,
   "id": "fb438ab9",
   "metadata": {},
   "outputs": [
    {
     "data": {
      "text/plain": [
       "tensor([[ 3.3915e-01, -5.2313e-01,  2.9258e-01, -4.6383e-01],\n",
       "        [-2.1220e-01,  6.1781e-02,  1.1261e-01,  6.0493e-01],\n",
       "        [ 5.0245e-01, -4.8411e-01,  3.5173e-01, -5.3033e-01],\n",
       "        [ 2.8220e-01, -2.2717e-02, -3.8766e-01, -4.9460e-01],\n",
       "        [ 1.7406e-01,  5.1641e-01,  4.5241e-01, -2.1891e-01],\n",
       "        [ 5.8923e-01,  7.8618e-02,  8.7832e-02, -2.8443e-01],\n",
       "        [-7.5738e-02,  6.1832e-02, -2.1351e-01, -2.6155e-01],\n",
       "        [-2.5337e-02, -4.2293e-01, -4.9735e-01,  6.1923e-01],\n",
       "        [-5.9259e-01, -1.4063e-01, -4.7887e-01,  1.3906e-01],\n",
       "        [-3.3319e-01, -3.0724e-01,  3.6941e-02,  6.2824e-01],\n",
       "        [-2.2282e-01, -6.2590e-01, -3.4719e-01,  4.2145e-02],\n",
       "        [-4.2919e-01, -4.4100e-01, -2.0915e-01, -3.8753e-01],\n",
       "        [ 5.6477e-01,  2.2375e-01, -3.0780e-01, -4.2718e-01],\n",
       "        [-1.0129e-01,  3.1633e-01, -3.2014e-01, -3.7809e-01],\n",
       "        [-2.6289e-01, -7.0885e-02,  3.6482e-01,  8.3221e-02],\n",
       "        [-1.2758e-01,  4.0522e-01,  1.3889e-01,  3.9279e-01],\n",
       "        [ 5.2331e-01, -3.0855e-01,  3.7812e-02, -5.7154e-03],\n",
       "        [-4.2965e-01, -1.3516e-01,  5.0348e-01, -8.8577e-02],\n",
       "        [-2.3729e-01,  4.6677e-01, -3.0059e-01, -3.8841e-01],\n",
       "        [ 2.6837e-02, -5.2658e-01, -3.5537e-01, -3.6050e-01],\n",
       "        [ 2.9929e-01, -5.1573e-01,  2.1170e-01, -4.4688e-01],\n",
       "        [ 2.0288e-01, -4.0635e-01, -1.9325e-01, -5.2079e-01],\n",
       "        [ 2.2717e-01, -2.8553e-01,  1.1966e-01, -4.8960e-02],\n",
       "        [-2.9261e-01, -4.8496e-01,  2.7982e-01, -2.6197e-01],\n",
       "        [ 1.6819e-01,  5.2436e-01, -3.6408e-01,  3.5808e-01],\n",
       "        [ 2.5700e-01, -5.2614e-01,  4.7029e-01,  1.5319e-01],\n",
       "        [-4.2693e-01, -5.8159e-01, -3.7416e-01,  9.5677e-03],\n",
       "        [-3.8128e-01, -7.8777e-02,  3.8543e-01, -5.2760e-01],\n",
       "        [ 1.9361e-01,  5.0929e-01, -4.0368e-01,  5.3319e-01],\n",
       "        [ 8.3506e-02,  5.6283e-01,  1.3488e-01, -1.0407e-01],\n",
       "        [ 2.3592e-01,  2.0013e-01, -2.3755e-02,  1.3295e-02],\n",
       "        [-2.5053e-01,  5.2031e-01,  5.3437e-01, -5.0911e-02],\n",
       "        [-4.5262e-01,  6.2462e-01,  2.6804e-01, -6.6087e-03],\n",
       "        [ 2.6331e-01, -2.0069e-01, -1.3615e-01,  1.3928e-01],\n",
       "        [ 1.4733e-01, -3.2413e-01,  9.6077e-02,  1.0123e-01],\n",
       "        [ 4.3861e-01, -2.8905e-01, -5.1067e-01, -1.0092e-01],\n",
       "        [-1.1476e-01, -6.2461e-01,  4.4927e-01,  5.7267e-01],\n",
       "        [-3.8949e-01,  3.6025e-01,  5.9583e-01,  5.2833e-01],\n",
       "        [-3.3086e-02,  5.6815e-01, -5.9346e-02, -4.7459e-02],\n",
       "        [-2.1705e-01, -6.1455e-02,  1.5275e-01,  3.1566e-01],\n",
       "        [ 5.6193e-01,  8.6193e-02, -5.3989e-01,  4.3725e-01],\n",
       "        [-3.8544e-01, -5.4081e-01,  4.5563e-01,  3.7871e-01],\n",
       "        [ 6.0570e-01, -3.4089e-01,  4.4541e-01, -3.6434e-01],\n",
       "        [ 1.2580e-01,  4.2716e-01,  5.1643e-01, -6.2689e-02],\n",
       "        [ 3.8551e-01,  5.2156e-01, -2.1980e-01, -4.6298e-01],\n",
       "        [-3.8067e-01, -3.8447e-01, -2.7109e-01, -9.8727e-02],\n",
       "        [ 6.1548e-01,  4.2882e-02,  5.7736e-01,  5.8740e-01],\n",
       "        [-1.8758e-01,  7.4497e-02, -3.3574e-01, -5.4009e-01],\n",
       "        [ 2.0802e-01, -2.8073e-01, -2.1525e-01, -5.6427e-01],\n",
       "        [ 2.5750e-02,  4.5997e-01, -1.0221e-01,  3.0539e-01],\n",
       "        [-2.4809e-01,  2.3897e-01, -8.0774e-02,  5.1565e-01],\n",
       "        [ 2.3680e-01, -3.0564e-01, -1.9730e-01, -4.2201e-01],\n",
       "        [ 6.1367e-01, -5.2738e-01, -3.8574e-01, -3.3582e-02],\n",
       "        [-1.6655e-01,  2.5745e-01, -3.5440e-01,  1.0690e-01],\n",
       "        [-3.3162e-01, -2.6252e-01, -3.2728e-02,  3.2754e-01],\n",
       "        [ 3.8135e-02, -6.1289e-01, -5.8662e-01, -5.5827e-01],\n",
       "        [-2.4636e-01, -6.1360e-01,  2.6991e-01, -4.1553e-02],\n",
       "        [-5.5258e-01, -5.4864e-01,  4.5659e-01,  3.1363e-01],\n",
       "        [ 7.2126e-02, -5.8638e-01, -3.7529e-01,  2.4754e-01],\n",
       "        [ 4.2830e-01, -2.8285e-01,  5.3054e-01, -5.6254e-01],\n",
       "        [-3.9345e-01, -2.1543e-02,  5.6130e-01,  6.2297e-01],\n",
       "        [-8.7290e-02,  3.4401e-01, -2.0896e-01,  3.4022e-01],\n",
       "        [-2.6330e-01,  5.7466e-01, -2.0266e-01, -1.1311e-01],\n",
       "        [ 1.4542e-01, -7.6806e-02,  7.4606e-02, -9.0744e-02],\n",
       "        [ 4.8851e-01,  2.7658e-01, -4.9892e-01,  2.6100e-01],\n",
       "        [-5.0555e-01, -4.7462e-01,  5.0206e-01, -1.9199e-01],\n",
       "        [-1.5927e-01, -2.3764e-01,  1.9617e-01, -2.6694e-01],\n",
       "        [-8.9968e-02,  2.6108e-01, -2.0519e-01,  1.5129e-01],\n",
       "        [ 1.6890e-02, -4.8839e-01, -1.4694e-01,  5.6397e-01],\n",
       "        [ 3.4434e-01,  4.1360e-01, -4.2019e-02,  3.9563e-01],\n",
       "        [ 2.1237e-02, -5.1553e-01,  2.5964e-01, -1.4341e-01],\n",
       "        [ 2.5240e-01,  5.4730e-01,  5.0413e-01, -4.2728e-02],\n",
       "        [-4.1227e-01,  1.7684e-01,  1.2357e-01,  2.3153e-01],\n",
       "        [-5.7736e-01, -2.6860e-02, -3.4873e-01, -8.9630e-02],\n",
       "        [-5.7579e-01, -2.8073e-01,  2.8609e-03,  5.0069e-01],\n",
       "        [-4.2708e-01,  8.1113e-02,  3.1112e-01, -3.0204e-01],\n",
       "        [ 5.0329e-02, -3.7567e-01, -4.7228e-01, -2.3877e-02],\n",
       "        [-4.2451e-01, -4.3810e-01, -6.0997e-01,  2.3048e-01],\n",
       "        [-4.3433e-01,  2.9360e-02, -4.2760e-01, -4.0972e-01],\n",
       "        [ 4.0708e-01, -2.0528e-01, -5.8319e-01, -5.1506e-01],\n",
       "        [-2.3130e-01, -4.6759e-01,  1.0024e-01,  5.3646e-02],\n",
       "        [-5.5910e-01,  3.2341e-01, -3.7770e-01,  1.1267e-01],\n",
       "        [ 1.2435e-01, -2.9994e-01, -4.3864e-01, -4.9914e-01],\n",
       "        [-1.9085e-01,  2.0305e-01,  5.4799e-01,  2.0029e-01],\n",
       "        [-1.0735e-01, -5.6632e-01, -8.3088e-03, -4.9687e-01],\n",
       "        [ 1.2371e-01,  2.8257e-01, -3.0305e-01,  2.0974e-01],\n",
       "        [-5.2552e-01,  1.2765e-01, -4.2721e-02,  4.0282e-01],\n",
       "        [ 4.3696e-01, -9.6450e-03,  6.0571e-01, -4.6537e-01],\n",
       "        [-1.9518e-01, -5.3646e-01,  3.1618e-01, -1.7979e-01],\n",
       "        [-6.0590e-01, -4.2794e-01,  1.5141e-01, -4.3477e-01],\n",
       "        [-2.9979e-01, -4.8596e-01, -4.1619e-01, -4.5961e-01],\n",
       "        [ 3.3794e-01, -5.0950e-01, -4.1875e-01,  1.4754e-01],\n",
       "        [-1.1673e-01, -3.5643e-01,  2.6094e-01, -3.4792e-01],\n",
       "        [-1.3500e-01, -7.9153e-02, -4.1265e-01, -5.0940e-01],\n",
       "        [-4.4659e-01,  2.3740e-01, -2.8571e-02, -2.1356e-01],\n",
       "        [-5.1354e-02, -4.8307e-01, -5.1453e-01,  3.9177e-02],\n",
       "        [ 2.0353e-01, -3.3327e-01,  8.2151e-02, -2.0103e-01],\n",
       "        [-1.9286e-01, -1.7259e-01, -3.9228e-01,  4.6764e-01],\n",
       "        [-2.5040e-01, -5.2730e-01, -1.3079e-01,  2.2687e-01],\n",
       "        [-4.8673e-01,  3.2942e-01, -1.0691e-01,  2.7530e-02],\n",
       "        [ 8.1363e+00,  1.6647e+01,  1.6080e+01,  2.2187e+00],\n",
       "        [-2.2046e+00, -9.8895e+00, -1.7334e+01, -4.1428e+00],\n",
       "        [ 2.4113e+01,  7.1751e+00,  3.2989e+00,  1.7532e+01],\n",
       "        [ 9.5966e+00, -1.4115e+01,  2.1901e+01, -1.2845e+01],\n",
       "        [ 1.1689e+00,  1.4819e+01,  1.0886e+01,  1.6824e+01],\n",
       "        [ 9.8907e+00, -1.8366e+01, -2.4690e+01, -1.9093e+01],\n",
       "        [-2.2377e+01, -1.2384e+01,  1.7742e+01,  9.1721e+00],\n",
       "        [ 1.6259e+01, -1.2925e+01,  1.7254e+01,  2.3866e+01],\n",
       "        [ 2.4571e+01, -2.5091e+01, -2.3434e+01, -2.2232e+01],\n",
       "        [-2.3756e+01, -1.6356e+01,  1.3955e+01, -1.9368e+00],\n",
       "        [-2.3453e+01, -2.4273e+01,  2.2770e+01,  8.7586e+00],\n",
       "        [-2.4298e+01, -2.6660e+00,  1.3583e+01,  1.6213e+01],\n",
       "        [-2.7902e+00,  1.5517e+01,  1.5619e+00,  6.8757e+00],\n",
       "        [ 2.3539e+01,  1.0322e+01, -8.5503e+00, -8.3883e+00],\n",
       "        [-2.3859e+01, -3.8701e+00,  2.1507e+01, -1.1614e+01],\n",
       "        [-1.3213e+01, -1.6321e+01,  1.7915e+01,  1.8655e+01],\n",
       "        [ 4.6311e+00, -2.4065e+01, -7.3931e+00, -8.1042e+00],\n",
       "        [-3.2924e+00,  1.4014e+01, -1.3941e+01,  1.2186e+01],\n",
       "        [ 2.0778e+01,  6.5569e+00, -2.4855e+01, -1.7115e+01],\n",
       "        [ 5.8272e+00, -2.4458e+01, -1.5415e+01,  1.2013e+01],\n",
       "        [-1.9837e+01,  1.7320e+01,  2.3568e+01, -1.5185e+01],\n",
       "        [-2.3482e+01,  2.0640e+01,  1.2951e+01, -1.9401e+01],\n",
       "        [-2.1820e+01, -2.9078e+00,  1.6242e+01, -1.9028e+01],\n",
       "        [ 2.4591e+01, -1.3960e+01, -1.6209e+01, -3.4594e+00],\n",
       "        [-2.3551e+00,  1.7396e+01,  2.3884e+01,  2.3070e+01],\n",
       "        [ 4.9773e+00, -2.2377e+01, -5.2886e+00, -4.5712e+00],\n",
       "        [-8.8322e+00,  1.2706e+01,  1.3043e+01, -1.4796e+01],\n",
       "        [-2.3313e+01, -3.4564e+00,  4.7862e+00, -1.0356e+01],\n",
       "        [-7.4431e+00, -2.1446e+01, -1.9952e+01, -1.5724e+01],\n",
       "        [ 1.5650e+01, -5.8946e+00,  1.8544e+01,  1.0145e+00],\n",
       "        [ 1.4691e+01, -7.5698e-01,  1.7390e+01, -1.9379e+01],\n",
       "        [-8.1522e+00, -2.3005e+01,  2.1456e+01, -1.1322e+01],\n",
       "        [ 6.8883e-01,  2.3864e+01,  2.2664e+01, -4.0691e+00],\n",
       "        [-6.9682e+00, -1.7420e+01,  2.1901e+01, -2.0601e+01],\n",
       "        [ 2.3309e+01, -7.9137e+00,  6.6102e+00,  7.9897e+00],\n",
       "        [-2.5543e+00, -3.8415e+00, -2.0197e+01,  1.4851e+01],\n",
       "        [-1.5172e+01,  1.3024e+01, -1.2045e+01, -5.0251e+00],\n",
       "        [ 2.8250e+00, -1.2004e+01, -1.5318e+01,  1.9038e+01],\n",
       "        [ 1.3257e+01, -1.8932e+01, -9.8792e+00,  2.2994e+01],\n",
       "        [-3.3114e+00,  5.8484e+00,  1.5949e+01, -1.1101e+01],\n",
       "        [ 2.0379e+01, -1.5892e+01, -1.8359e+00, -7.0211e+00],\n",
       "        [ 2.3067e+01, -6.3090e+00, -2.2278e+01, -1.3115e+01],\n",
       "        [ 1.9955e+01,  3.7882e+00,  9.7935e+00, -2.4079e+00],\n",
       "        [-1.1624e+01, -1.4936e+00, -1.9371e+01, -6.7464e+00],\n",
       "        [-2.2070e+00,  6.5406e+00,  1.0405e+01,  8.2238e-01],\n",
       "        [-1.7866e+01, -1.2282e+01,  2.2091e+01,  1.4385e+01],\n",
       "        [-2.3373e+01,  1.7830e+01,  8.4232e+00, -1.8409e+01],\n",
       "        [ 2.3041e+01,  7.3632e-01,  2.1473e+01,  1.3577e+01],\n",
       "        [ 2.4101e+01, -1.8434e+01, -4.3572e+00,  9.5495e+00],\n",
       "        [-1.3539e+01,  1.4177e+01, -9.6014e+00, -9.5534e+00],\n",
       "        [ 1.8536e+01,  2.2117e+01, -1.1166e+00,  1.9254e+01],\n",
       "        [-8.3949e+00, -2.4013e+01, -1.8003e+01,  5.6678e+00],\n",
       "        [-1.9353e+00, -1.0410e+01, -7.1435e+00, -2.4828e+01],\n",
       "        [ 2.1126e+01, -1.0004e+01, -1.8315e+00,  1.1194e+00],\n",
       "        [ 2.3898e+01,  2.7463e+00, -1.9153e+01, -1.1975e+01],\n",
       "        [ 6.0447e+00,  5.2846e+00, -1.7643e+01,  8.7335e+00],\n",
       "        [-9.5129e-01,  9.0897e+00,  1.2684e+01, -7.4224e+00],\n",
       "        [ 7.3870e+00, -1.6651e+01, -2.0150e+01, -1.0133e+01],\n",
       "        [-2.1406e+01,  1.2741e+01,  1.7432e+00,  6.1996e+00],\n",
       "        [ 2.3620e+01, -5.9227e+00,  2.2784e+01, -1.7459e+00],\n",
       "        [ 3.0921e+00, -1.2480e+01, -9.8568e+00,  1.2753e+01],\n",
       "        [-1.8911e+01, -1.5586e+01, -1.7800e+01,  8.3879e+00],\n",
       "        [ 2.1403e+01,  8.5353e+00, -1.4398e+01,  1.8055e+01],\n",
       "        [ 2.1707e+01,  2.1998e+01, -4.9705e+00, -1.2125e+01],\n",
       "        [-1.1948e+01, -2.3485e+01,  5.1473e+00,  8.4670e+00],\n",
       "        [-2.2840e+00,  1.4006e+01, -1.9620e+01,  4.4080e+00],\n",
       "        [ 2.0094e+01, -4.7217e+00,  1.3382e+01,  1.7047e+01],\n",
       "        [ 2.4490e+01, -1.1053e+01, -1.8696e+00,  3.8328e+00],\n",
       "        [-8.5463e+00, -7.1925e+00, -9.8654e+00,  6.7723e-01],\n",
       "        [-7.0760e+00,  2.0000e+01, -7.2633e+00,  1.0467e+01],\n",
       "        [ 2.4584e+01, -2.2382e+01, -8.4483e+00, -6.5847e+00],\n",
       "        [-1.4401e+01, -1.9907e+00, -1.6291e+01,  5.9458e+00],\n",
       "        [-1.7105e+01, -1.4711e+01, -2.3570e+01, -2.2983e+01],\n",
       "        [ 4.6327e+00,  1.7854e+01, -1.9768e+01, -4.0782e+00],\n",
       "        [-1.7387e+01,  2.3927e+01, -1.5007e+01,  1.1868e+01],\n",
       "        [-1.0293e+01, -2.7653e+00, -1.9373e+01,  2.7464e+00],\n",
       "        [-2.2919e+01, -2.1670e+00, -3.2762e+00,  1.6614e+01],\n",
       "        [-2.1503e+01, -1.4562e+01, -1.9001e+01, -3.3270e+00],\n",
       "        [-2.0447e+01,  1.1210e+01, -8.5551e+00,  2.2734e+01],\n",
       "        [ 1.9113e+01,  1.9912e+01, -1.2355e+01,  1.2013e+01],\n",
       "        [-2.4748e+01,  1.2295e+01,  2.2637e+01,  2.5089e+01],\n",
       "        [-8.7365e+00,  1.5672e+01,  2.2493e+01,  1.5086e+01],\n",
       "        [ 1.0972e+01,  5.5042e+00, -2.0203e+01, -7.1739e+00],\n",
       "        [-1.2278e+01,  1.6762e+01, -2.4474e+01,  1.0658e+01],\n",
       "        [-2.0960e+01,  2.1359e+00, -1.6678e+01, -5.0080e+00],\n",
       "        [ 2.4392e+01, -1.6216e+01,  3.2884e+00,  1.8443e+00],\n",
       "        [-1.0670e+01,  6.0944e+00, -5.6782e+00,  1.7207e+01],\n",
       "        [-2.0140e+01, -5.4376e+00,  1.0545e+01,  2.0964e+01],\n",
       "        [ 8.3229e+00,  5.5537e+00,  1.1547e+01,  1.4779e+01],\n",
       "        [-4.5973e+00, -5.5278e+00,  7.1088e-01, -7.5777e-01],\n",
       "        [ 2.4375e+01, -1.7032e+01, -1.9935e+01, -4.8118e+00],\n",
       "        [-7.0343e+00,  9.8914e+00, -5.4871e+00, -1.8528e+01],\n",
       "        [-8.4298e-01,  4.8930e+00, -8.0341e+00,  2.2787e+01],\n",
       "        [-2.1311e+01, -1.1030e+01,  1.6532e+01,  2.1814e+01],\n",
       "        [-1.2019e+01, -2.1508e+01, -1.4410e+01,  1.0380e+01],\n",
       "        [ 1.0579e+00, -1.7234e+01,  5.4926e+00, -8.1614e+00],\n",
       "        [-1.7471e+00, -7.3317e+00,  1.4140e+01,  2.4802e+01],\n",
       "        [-9.5250e+00,  2.1970e+01, -3.1847e+00,  2.6644e+00],\n",
       "        [-7.9414e+00, -1.2791e+01,  1.7258e+01,  1.6988e+01],\n",
       "        [-9.5012e+00,  1.4981e+01,  1.8774e+01, -1.1834e+01]],\n",
       "       dtype=torch.float64)"
      ]
     },
     "execution_count": 10,
     "metadata": {},
     "output_type": "execute_result"
    }
   ],
   "source": [
    "d\n"
   ]
  },
  {
   "cell_type": "code",
   "execution_count": 11,
   "id": "16d99c05",
   "metadata": {},
   "outputs": [
    {
     "name": "stdout",
     "output_type": "stream",
     "text": [
      "Device count: 1\n"
     ]
    }
   ],
   "source": [
    "my_compilecircuit.set_dataset(d)\n"
   ]
  },
  {
   "cell_type": "code",
   "execution_count": 12,
   "id": "0fc3707f",
   "metadata": {},
   "outputs": [
    {
     "name": "stdout",
     "output_type": "stream",
     "text": [
      "cpu\n"
     ]
    }
   ],
   "source": [
    "print(my_compilecircuit.device)"
   ]
  },
  {
   "cell_type": "code",
   "execution_count": 13,
   "id": "c65b143e",
   "metadata": {},
   "outputs": [
    {
     "name": "stdout",
     "output_type": "stream",
     "text": [
      "<bound method QUDIOBackend.dataset of <tedq.backends.qudio_backend.QUDIOBackend object at 0x16a8b2490>>\n"
     ]
    }
   ],
   "source": [
    "print(my_compilecircuit.dataset)"
   ]
  },
  {
   "cell_type": "code",
   "execution_count": 14,
   "id": "867edc04",
   "metadata": {},
   "outputs": [
    {
     "name": "stdout",
     "output_type": "stream",
     "text": [
      "<bound method QUDIOBackend.dataset of <tedq.backends.qudio_backend.QUDIOBackend object at 0x16a8b2490>>\n",
      "tensor([[ 0.0626,  0.9421, -0.0626],\n",
      "        [ 0.6268,  0.4481, -0.6268],\n",
      "        [ 0.3601,  0.9411, -0.3601],\n",
      "        [ 0.9733,  0.7448, -0.9733]], grad_fn=<CatBackward0>)\n",
      "200 200\n"
     ]
    }
   ],
   "source": [
    "print(my_compilecircuit.dataset)\n",
    "cir_params = torch.cat((params, -params[:,0].view(-1,1)),1)\n",
    "print(cir_params)\n",
    "y= my_compilecircuit(cir_params)\n",
    "print(len(y),len(y_target))"
   ]
  },
  {
   "cell_type": "code",
   "execution_count": 15,
   "id": "7948c7e7",
   "metadata": {},
   "outputs": [
    {
     "name": "stdout",
     "output_type": "stream",
     "text": [
      "tensor([1., 1., 1., 1., 1., 1., 1., 1., 1., 1., 1., 1., 1., 1., 1., 1., 1., 1.,\n",
      "        1., 1., 1., 1., 1., 1., 1., 1., 1., 1., 1., 1., 1., 1., 1., 1., 1., 1.,\n",
      "        1., 1., 1., 1., 1., 1., 1., 1., 1., 1., 1., 1., 1., 1., 1., 1., 1., 1.,\n",
      "        1., 1., 1., 1., 1., 1., 1., 1., 1., 1., 1., 1., 1., 1., 1., 1., 1., 1.,\n",
      "        1., 1., 1., 1., 1., 1., 1., 1., 1., 1., 1., 1., 1., 1., 1., 1., 1., 1.,\n",
      "        1., 1., 1., 1., 1., 1., 1., 1., 1., 1., 0., 0., 0., 0., 0., 0., 0., 0.,\n",
      "        0., 0., 0., 0., 0., 0., 0., 0., 0., 0., 0., 0., 0., 0., 0., 0., 0., 0.,\n",
      "        0., 0., 0., 0., 0., 0., 0., 0., 0., 0., 0., 0., 0., 0., 0., 0., 0., 0.,\n",
      "        0., 0., 0., 0., 0., 0., 0., 0., 0., 0., 0., 0., 0., 0., 0., 0., 0., 0.,\n",
      "        0., 0., 0., 0., 0., 0., 0., 0., 0., 0., 0., 0., 0., 0., 0., 0., 0., 0.,\n",
      "        0., 0., 0., 0., 0., 0., 0., 0., 0., 0., 0., 0., 0., 0., 0., 0., 0., 0.,\n",
      "        0., 0.])\n"
     ]
    }
   ],
   "source": [
    "print(y_target)"
   ]
  },
  {
   "cell_type": "code",
   "execution_count": 16,
   "id": "489171ae",
   "metadata": {},
   "outputs": [
    {
     "name": "stdout",
     "output_type": "stream",
     "text": [
      "epoch 1: loss = 0.60026067\n",
      "acc: 50.0\n",
      "epoch 6: loss = 0.53458005\n",
      "acc: 82.5\n",
      "epoch 11: loss = 0.54015154\n",
      "acc: 87.0\n",
      "epoch 16: loss = 0.53754419\n",
      "acc: 80.0\n",
      "epoch 21: loss = 0.53331584\n",
      "acc: 83.0\n",
      "epoch 26: loss = 0.53382146\n",
      "acc: 83.5\n",
      "epoch 31: loss = 0.53314394\n",
      "acc: 82.0\n",
      "epoch 36: loss = 0.53291285\n",
      "acc: 82.5\n",
      "epoch 41: loss = 0.53304178\n",
      "acc: 84.5\n",
      "epoch 46: loss = 0.53267753\n",
      "acc: 83.0\n",
      "epoch 51: loss = 0.53280795\n",
      "acc: 83.0\n",
      "epoch 56: loss = 0.53269351\n",
      "acc: 83.0\n",
      "epoch 61: loss = 0.53268111\n",
      "acc: 83.0\n",
      "epoch 66: loss = 0.53267652\n",
      "acc: 83.0\n",
      "epoch 71: loss = 0.53265524\n",
      "acc: 83.0\n",
      "epoch 76: loss = 0.53265816\n",
      "acc: 83.0\n",
      "epoch 81: loss = 0.53265661\n",
      "acc: 83.0\n",
      "epoch 86: loss = 0.53265083\n",
      "acc: 83.0\n",
      "epoch 91: loss = 0.53264987\n",
      "acc: 83.0\n",
      "epoch 96: loss = 0.53265035\n",
      "acc: 83.0\n"
     ]
    }
   ],
   "source": [
    "\n",
    "optimizer = torch.optim.Adam([params], lr=0.5)\n",
    "\n",
    "rnd_sq = np.arange(n_train)\n",
    "\n",
    "# target_list = [0 for _ in range(n_train)]\n",
    "y_list = [0 for _ in range(n_train)]\n",
    "\n",
    "for epoch in range(n_epoch):\n",
    "    np.random.shuffle(rnd_sq)\n",
    "    l_sum = 0\n",
    "    \n",
    "#     w = y_target[i]*2+1\n",
    "    loss = nn.BCELoss(reduction='mean')\n",
    "    cir_params = torch.cat((params, -params[:,0].view(-1,1)),1)\n",
    "    y = my_compilecircuit(cir_params)\n",
    "#     print(len(y), len(y_target))\n",
    "    \n",
    "    \n",
    "    diff = y[:,1]\n",
    "    diff-= 0.6\n",
    "# #     print(len(diff), len(y_target))\n",
    "    \n",
    "    diff[diff>0] = diff[diff>0]*5./4. + 0.5\n",
    "    diff[diff<=0] = diff[diff<=0]*5./6. + 0.5\n",
    "    \n",
    "#     diff = y[0][1]\n",
    "#     print(len(diff), len(y_target))\n",
    "\n",
    "    l = loss(diff, y_target)\n",
    "    l.backward()\n",
    "\n",
    "    if epoch % 5 == 0:\n",
    "        print(f'epoch {epoch + 1}: loss = {l:.8f}')\n",
    "        print(\"acc:\", np.sum(np.sum(((diff>0.5)==y_target).detach().numpy()))/n_train*100)\n",
    "#         print(\"prediction:  \", (diff.detach().numpy()>0.5), \"   \",y_target)\n",
    "\n",
    "        \n",
    "    params.grad = params.grad/n_train\n",
    "    optimizer.step()\n",
    "    optimizer.zero_grad()"
   ]
  },
  {
   "cell_type": "markdown",
   "id": "0d59a2e9",
   "metadata": {},
   "source": [
    "### Test the trained circuit"
   ]
  },
  {
   "cell_type": "code",
   "execution_count": 17,
   "id": "753c783b",
   "metadata": {},
   "outputs": [
    {
     "name": "stdout",
     "output_type": "stream",
     "text": [
      "Device count: 1\n",
      "loss = 0.53264958\n",
      "acc: 78.0\n",
      "prediction:   [ True  True  True  True  True  True  True  True  True  True  True  True\n",
      "  True  True  True  True  True  True  True  True  True  True  True  True\n",
      "  True False False False False False  True  True False  True False False\n",
      " False  True  True  True  True False  True False False False  True  True\n",
      " False  True]     tensor([1., 1., 1., 1., 1., 1., 1., 1., 1., 1., 1., 1., 1., 1., 1., 1., 1., 1.,\n",
      "        1., 1., 1., 1., 1., 1., 1., 0., 0., 0., 0., 0., 0., 0., 0., 0., 0., 0.,\n",
      "        0., 0., 0., 0., 0., 0., 0., 0., 0., 0., 0., 0., 0., 0.])\n"
     ]
    }
   ],
   "source": [
    "d_erg = torch.tensor(np.random.rand(np.int(n_test/2), N)*2-1)*h_erg*h_bar*t_d*math.pi\n",
    "d_local = torch.tensor(np.random.rand(np.int(n_test/2), N)*2-1)*h_loc*h_bar*t_d*math.pi\n",
    "d = torch.cat((d_erg, d_local), 0)\n",
    "\n",
    "my_compilecircuit.set_dataset(d)\n",
    "\n",
    "y_target_test = torch.Tensor(np.array([1]*np.int(n_test/2)+[0]*np.int(n_test/2)))\n",
    "\n",
    "l_sum=0\n",
    "\n",
    "\n",
    "#     w = y_target[i]*2+1\n",
    "cir_params = torch.cat((params, -params[:,0].view(-1,1)),1)\n",
    "y = my_compilecircuit(cir_params)\n",
    "#     print(len(y), len(y_target))\n",
    "\n",
    "diff = y[:,1]\n",
    "diff-= 0.6\n",
    "\n",
    "diff[diff>0] = diff[diff>0]*5./4. + 0.5\n",
    "diff[diff<=0] = diff[diff<=0]*5./6. + 0.5\n",
    "\n",
    "print(f'loss = {l:.8f}')\n",
    "print(\"acc:\", np.sum(((diff>0.5)==y_target_test).detach().numpy())/n_test*100)\n",
    "print(\"prediction:  \", (diff.detach().numpy()>0.5), \"   \",y_target_test)"
   ]
  }
 ],
 "metadata": {
  "kernelspec": {
   "display_name": "Python 3 (ipykernel)",
   "language": "python",
   "name": "python3"
  },
  "language_info": {
   "codemirror_mode": {
    "name": "ipython",
    "version": 3
   },
   "file_extension": ".py",
   "mimetype": "text/x-python",
   "name": "python",
   "nbconvert_exporter": "python",
   "pygments_lexer": "ipython3",
   "version": "3.9.7"
  }
 },
 "nbformat": 4,
 "nbformat_minor": 5
}
