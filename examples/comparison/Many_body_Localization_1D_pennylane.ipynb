{
 "cells": [
  {
   "cell_type": "code",
   "execution_count": 1,
   "id": "6a21aced",
   "metadata": {},
   "outputs": [],
   "source": [
    "#import sys\n",
    "#sys.path.append('..')\n",
    "import pennylane as qai\n",
    "import numpy as np\n",
    "import math\n",
    "import torch"
   ]
  },
  {
   "cell_type": "code",
   "execution_count": 2,
   "id": "de466cce",
   "metadata": {},
   "outputs": [],
   "source": [
    "n_size = 5\n",
    "n_epoch = 50\n",
    "n_train = 40\n",
    "n_test = 20\n",
    "\n",
    "lr = 0.01\n",
    "gamma_lr_scheduler = 0.2\n",
    "\n",
    "n_qubits= n_size\n",
    "t_d = 200e-9 #ns\n",
    "h_bar = 1\n",
    "g = 2.185e6 #MHz\n",
    "h_erg = 1e6 # MHZ\n",
    "h_loc = 40e6  # MHz"
   ]
  },
  {
   "cell_type": "code",
   "execution_count": 3,
   "id": "23897553-ed9c-4e1f-9604-c325018f87e3",
   "metadata": {},
   "outputs": [],
   "source": [
    "device = torch.device(\"cuda:0\" if torch.cuda.is_available() else \"cpu\")"
   ]
  },
  {
   "cell_type": "code",
   "execution_count": 4,
   "id": "8befb588-619a-47a2-b102-1bb080a641ca",
   "metadata": {},
   "outputs": [],
   "source": [
    "dev1 = qai.device(\"default.qubit.torch\", wires=n_qubits)"
   ]
  },
  {
   "cell_type": "code",
   "execution_count": 5,
   "id": "f2e69f4a",
   "metadata": {},
   "outputs": [],
   "source": [
    "def getIndex(i, j):\n",
    "    return n_size*i+j\n",
    "def Hd(idx, jdx, di):\n",
    "    #qai.RZ(2*h_bar*di*t_d, qubits=[jdx], trainable_params=[])\n",
    "    qai.RZ(di, wires=jdx)\n",
    "    H0(idx, jdx)\n",
    "    \n",
    "def H0(idx, jdx):\n",
    "    qai.Hadamard(wires=idx)\n",
    "    qai.Hadamard(wires=jdx)\n",
    "    qai.CNOT(wires=[idx, jdx])\n",
    "    qai.RZ(torch.Tensor([g*h_bar*t_d], device=device), wires=jdx)\n",
    "    qai.CNOT(wires=[idx, jdx])\n",
    "    qai.Hadamard(wires=idx)\n",
    "    qai.Hadamard(wires=jdx)\n",
    "    \n",
    "    qai.S(wires=idx)\n",
    "    qai.S(wires=jdx)\n",
    "    qai.Hadamard(wires=idx)\n",
    "    qai.Hadamard(wires=jdx)\n",
    "    qai.CNOT(wires=[idx, jdx])\n",
    "    qai.RZ(torch.Tensor([g*h_bar*t_d], device=device), wires=jdx)\n",
    "    qai.CNOT(wires=[idx, jdx])\n",
    "    qai.Hadamard(wires=idx)\n",
    "    qai.Hadamard(wires=jdx)\n",
    "    qai.PhaseShift(torch.tensor(-math.pi/2., device=device), wires=idx)\n",
    "    qai.PhaseShift(torch.tensor(-math.pi/2., device=device), wires=jdx)\n",
    "    #qai.S(qubits=[idx]).adjoint()# add adjoint here will not change circuit's operator\n",
    "    #qai.S(qubits=[jdx]).adjoint()\n",
    "\n",
    "def partial_connected():\n",
    "    for i in range(0, n_qubits-7, 5):\n",
    "        #for j in range(i+1, n_qubits, 5):\n",
    "        qai.CNOT(wires=[i, i+7])\n",
    "        \n",
    "@qai.qnode(dev1)   \n",
    "def circuitDef(d, params):\n",
    "    \n",
    "    params = params.view(-1)\n",
    "    \n",
    "    \n",
    "    # Neel state\n",
    "    for i in range(n_qubits):\n",
    "        if i%2==0:\n",
    "            qai.PauliX(wires=i)\n",
    "    \n",
    "    \n",
    "    # Hd td\n",
    "    count = 0\n",
    "    for i in range(n_qubits):\n",
    "        if i>=0 and i+1<n_qubits:# (n_size-1)*n_size\n",
    "            Hd(i+1, i, d[count])\n",
    "            count+=1\n",
    "        if i-1>=0 and i<n_qubits:# (n_size-1)*n_size\n",
    "            Hd(i-1, i, d[count])\n",
    "            count+=1\n",
    "    #print(\"count:  \", count)\n",
    "    \n",
    "            \n",
    "    # Trainable theta and phi\n",
    "    for i in range(n_qubits):\n",
    "        #print(i)\n",
    "        qai.RY(params[2*i], wires=i)\n",
    "        qai.RX(params[2*i+1], wires=i)\n",
    "        qai.RY(-params[2*i], wires=i)\n",
    "    \n",
    "    # H0 dt \n",
    "    \n",
    "    partial_connected()\n",
    "    \n",
    "    \n",
    "    for i in range(n_size):\n",
    "        if i+1>=0 and i+1<n_qubits:# (n_size-1)*n_size\n",
    "            H0(i+1, i)\n",
    "        if i-1>=0 and i-1<n_qubits:# (n_size-1)*n_size\n",
    "            H0(i-1, i)\n",
    "    \n",
    "    \n",
    "    # Last rotation  \n",
    "    qai.RY(params[2*n_qubits], wires=n_qubits-1)\n",
    "    qai.RX(params[2*n_qubits+1], wires=n_qubits-1)\n",
    "    qai.RY(-params[2*n_qubits], wires=n_qubits-1)\n",
    "    #RZ\n",
    "    \n",
    "#     qai.measurement.expval(qai.PauliZ(qubits=[0]))\n",
    "    return qai.probs(wires=n_qubits-1)\n",
    "    \n"
   ]
  },
  {
   "cell_type": "code",
   "execution_count": 6,
   "id": "be25dade-6784-4671-b93f-715d9feb817c",
   "metadata": {},
   "outputs": [],
   "source": [
    "N = (n_size-1)*2"
   ]
  },
  {
   "cell_type": "code",
   "execution_count": null,
   "id": "e951d866-f67d-4cf3-8198-19a21d3b6504",
   "metadata": {},
   "outputs": [],
   "source": []
  },
  {
   "cell_type": "code",
   "execution_count": 7,
   "id": "4ef7323e",
   "metadata": {},
   "outputs": [],
   "source": [
    "params = torch.rand(n_qubits+1,2, requires_grad=True)\n",
    "\n",
    "\n",
    "d_erg = torch.tensor(np.random.rand(int(n_train/2), N)*2-1, device=device)*h_erg*h_bar*t_d*math.pi\n",
    "d_local = torch.tensor((np.random.rand(int(n_train/2), N)*39/40.+1/40.)*np.random.choice([-1., 1.], size=(int(n_train/2), N))*h_loc*h_bar*t_d*math.pi, device=device)\n",
    "#d_local = torch.tensor(np.random.rand(int(n_train/2), N)*2-1)*h_loc*h_bar*t_d*math.pi\n",
    "d = torch.cat((d_erg, d_local), 0)\n",
    "\n",
    "y_target = torch.Tensor(np.array([1]*int(n_train/2)+[0]*int(n_train/2), dtype=np.float64), device=device)\n"
   ]
  },
  {
   "cell_type": "code",
   "execution_count": 8,
   "id": "f5288928-391d-4f02-b3e0-b98dc2db7145",
   "metadata": {},
   "outputs": [],
   "source": [
    "d = d.float()\n",
    "params = params.float()"
   ]
  },
  {
   "cell_type": "code",
   "execution_count": 9,
   "id": "367070bc-fe1c-400f-9811-728eb89b18a4",
   "metadata": {},
   "outputs": [],
   "source": [
    "y_target = y_target.double()"
   ]
  },
  {
   "cell_type": "code",
   "execution_count": 10,
   "id": "555d8171-5416-4977-a8dc-afc46221bf0c",
   "metadata": {},
   "outputs": [
    {
     "data": {
      "text/plain": [
       "device(type='cpu')"
      ]
     },
     "execution_count": 10,
     "metadata": {},
     "output_type": "execute_result"
    }
   ],
   "source": [
    "y_target.device"
   ]
  },
  {
   "cell_type": "code",
   "execution_count": null,
   "id": "4af8c233-e21d-45a5-9854-12004198d93a",
   "metadata": {},
   "outputs": [],
   "source": []
  },
  {
   "cell_type": "code",
   "execution_count": 11,
   "id": "f7e009ab",
   "metadata": {},
   "outputs": [],
   "source": [
    "#d_local"
   ]
  },
  {
   "cell_type": "code",
   "execution_count": null,
   "id": "489171ae",
   "metadata": {},
   "outputs": [
    {
     "name": "stdout",
     "output_type": "stream",
     "text": [
      "epoch 1: loss = 0.74686650\n",
      "acc: 47.5\n",
      "prediction:   [tensor(0.5547, dtype=torch.float64), tensor(0.4057, dtype=torch.float64), tensor(0.4879, dtype=torch.float64), tensor(0.6644, dtype=torch.float64), tensor(0.4341, dtype=torch.float64), tensor(0.5278, dtype=torch.float64), tensor(0.4304, dtype=torch.float64), tensor(0.4766, dtype=torch.float64), tensor(0.5005, dtype=torch.float64), tensor(0.4793, dtype=torch.float64), tensor(0.4726, dtype=torch.float64), tensor(0.4184, dtype=torch.float64), tensor(0.4940, dtype=torch.float64), tensor(0.3974, dtype=torch.float64), tensor(0.4748, dtype=torch.float64), tensor(0.4863, dtype=torch.float64), tensor(0.4538, dtype=torch.float64), tensor(0.4321, dtype=torch.float64), tensor(0.4878, dtype=torch.float64), tensor(0.4882, dtype=torch.float64)]     [tensor(0.1880, dtype=torch.float64), tensor(0.2847, dtype=torch.float64), tensor(0.7864, dtype=torch.float64), tensor(0.2641, dtype=torch.float64), tensor(0.4201, dtype=torch.float64), tensor(0.4801, dtype=torch.float64), tensor(0.3634, dtype=torch.float64), tensor(0.5443, dtype=torch.float64), tensor(0.6716, dtype=torch.float64), tensor(0.3582, dtype=torch.float64), tensor(0.7419, dtype=torch.float64), tensor(0.0985, dtype=torch.float64), tensor(0.4322, dtype=torch.float64), tensor(0.2460, dtype=torch.float64), tensor(0.1697, dtype=torch.float64), tensor(0.2690, dtype=torch.float64), tensor(0.7076, dtype=torch.float64), tensor(0.1255, dtype=torch.float64), tensor(0.3485, dtype=torch.float64), tensor(0.2392, dtype=torch.float64)]\n",
      "epoch 6: loss = 0.53044313\n",
      "acc: 90.0\n",
      "prediction:   [tensor(0.5835, dtype=torch.float64), tensor(0.5613, dtype=torch.float64), tensor(0.5991, dtype=torch.float64), tensor(0.5551, dtype=torch.float64), tensor(0.4814, dtype=torch.float64), tensor(0.6091, dtype=torch.float64), tensor(0.5620, dtype=torch.float64), tensor(0.5941, dtype=torch.float64), tensor(0.4841, dtype=torch.float64), tensor(0.6027, dtype=torch.float64), tensor(0.5413, dtype=torch.float64), tensor(0.5800, dtype=torch.float64), tensor(0.5956, dtype=torch.float64), tensor(0.5058, dtype=torch.float64), tensor(0.5513, dtype=torch.float64), tensor(0.6066, dtype=torch.float64), tensor(0.5594, dtype=torch.float64), tensor(0.5519, dtype=torch.float64), tensor(0.4940, dtype=torch.float64), tensor(0.5691, dtype=torch.float64)]     [tensor(0.3325, dtype=torch.float64), tensor(0.5010, dtype=torch.float64), tensor(0.3575, dtype=torch.float64), tensor(0.0665, dtype=torch.float64), tensor(0.1390, dtype=torch.float64), tensor(0.1515, dtype=torch.float64), tensor(0.2423, dtype=torch.float64), tensor(0.2958, dtype=torch.float64), tensor(0.2883, dtype=torch.float64), tensor(0.1706, dtype=torch.float64), tensor(0.2948, dtype=torch.float64), tensor(0.3358, dtype=torch.float64), tensor(0.3053, dtype=torch.float64), tensor(0.3741, dtype=torch.float64), tensor(0.3751, dtype=torch.float64), tensor(0.1320, dtype=torch.float64), tensor(0.2164, dtype=torch.float64), tensor(0.3866, dtype=torch.float64), tensor(0.3998, dtype=torch.float64), tensor(0.3085, dtype=torch.float64)]\n"
     ]
    }
   ],
   "source": [
    "%%time\n",
    "\n",
    "import torch.nn as nn\n",
    "\n",
    "\n",
    "\n",
    "optimizer = torch.optim.Adam([params], lr=0.5)\n",
    "\n",
    "rnd_sq = np.arange(n_train)\n",
    "\n",
    "\n",
    "target_list = [0 for _ in range(n_train)]\n",
    "y_list = [0 for _ in range(n_train)]\n",
    "\n",
    "for epoch in range(n_epoch):\n",
    "    np.random.shuffle(rnd_sq)\n",
    "    l_sum = 0\n",
    "    \n",
    "    for i in rnd_sq:\n",
    "        w = y_target[i]*2+1\n",
    "        loss = nn.BCELoss(reduction='mean')\n",
    "        #cir_params = torch.cat((params, -params[:,0].view(-1,1)),1)\n",
    "        dd = d[i]\n",
    "        y = circuitDef(dd, params)\n",
    "        #print(y)\n",
    "        \n",
    "        diff = y[1] - 0.6\n",
    "        if diff > 0:\n",
    "            diff = diff*5./4. + 0.5\n",
    "        else:\n",
    "            diff = diff*5./6. + 0.5\n",
    "            \n",
    "        #diff = y[1]\n",
    "        \n",
    "        #diff = (double) diff\n",
    "        \n",
    "        #diff = y[0][1]\n",
    "        #print(diff)\n",
    "        #print(y_target[i])\n",
    "        \n",
    "        l = loss(diff, y_target[i])\n",
    "        l.backward()\n",
    "        #print(params.grad)\n",
    "        \n",
    "        l_sum = l_sum + l\n",
    "        target_list[i] = y_target[i]\n",
    "        y_list[i] = diff.data\n",
    "    \n",
    "\n",
    "    if epoch % 5 == 0:\n",
    "        print(f'epoch {epoch + 1}: loss = {l_sum/(n_train-5):.8f}')\n",
    "        print(\"acc:\", np.sum((np.round(y_list)==target_list))/n_train*100)\n",
    "        print(\"prediction:  \", y_list[0:n_train//2], \"   \", y_list[n_train//2:])\n",
    "        #print(\"target:   \", target_list)\n",
    "        #print(params.grad)\n",
    "        \n",
    "    params.grad = params.grad/n_train\n",
    "    optimizer.step()\n",
    "    optimizer.zero_grad()\n",
    "    \n",
    "    #exp_lr_scheduler.step()"
   ]
  },
  {
   "cell_type": "code",
   "execution_count": null,
   "id": "753c783b",
   "metadata": {},
   "outputs": [],
   "source": [
    "d_erg = torch.tensor(np.random.rand(np.int(n_test/2), N)*2-1)*h_erg*h_bar*t_d*math.pi\n",
    "d_local = torch.tensor(np.random.rand(np.int(n_test/2), N)*2-1)*h_loc*h_bar*t_d*math.pi\n",
    "d = torch.cat((d_erg, d_local), 0)\n",
    "\n",
    "y_target_test = torch.Tensor(np.array([1]*np.int(n_test/2)+[0]*np.int(n_test/2)))\n",
    "y_target_test = y_target_test.double()\n",
    "y_list = [0 for _ in range(n_test)]\n",
    "\n",
    "l_sum=0\n",
    "target_list = [0 for _ in range(n_test)]\n",
    "\n",
    "for i in range(n_test):\n",
    "    #cir_params = torch.cat((params, -params[:,0].view(-1,1)),1)\n",
    "    y = circuitDef(d[i], params)\n",
    "    \n",
    "    diff = y[1] - 0.6\n",
    "    if diff > 0:\n",
    "        diff = diff*5./4. + 0.5\n",
    "    else:\n",
    "        diff = diff*5./6. + 0.5\n",
    "        \n",
    "    #diff = y[1]\n",
    "            \n",
    "    l = loss(diff, y_target_test[i])\n",
    "\n",
    "    l_sum = l_sum + l\n",
    "    target_list[i] = y_target_test[i]\n",
    "    y_list[i] = diff.data\n",
    "    \n",
    "print(f'Testing: loss = {l_sum/n_test:.8f}')\n",
    "print(\"acc:\", np.sum((np.round(y_list)==target_list))/n_test*100)\n",
    "print(\"prediction:  \", list(zip(y_list,target_list)))"
   ]
  },
  {
   "cell_type": "code",
   "execution_count": null,
   "id": "5c20c20b",
   "metadata": {},
   "outputs": [],
   "source": []
  },
  {
   "cell_type": "markdown",
   "id": "1696ddd2-6f6b-48c5-81b6-298cd33f1e8b",
   "metadata": {},
   "source": [
    "## "
   ]
  }
 ],
 "metadata": {
  "kernelspec": {
   "display_name": "Python 3 (ipykernel)",
   "language": "python",
   "name": "python3"
  },
  "language_info": {
   "codemirror_mode": {
    "name": "ipython",
    "version": 3
   },
   "file_extension": ".py",
   "mimetype": "text/x-python",
   "name": "python",
   "nbconvert_exporter": "python",
   "pygments_lexer": "ipython3",
   "version": "3.8.10"
  }
 },
 "nbformat": 4,
 "nbformat_minor": 5
}
