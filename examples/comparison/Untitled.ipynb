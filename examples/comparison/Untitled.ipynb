{
 "cells": [
  {
   "cell_type": "code",
   "execution_count": null,
   "id": "ddc9b7e6-5b38-4941-9ba2-eba8051d6a77",
   "metadata": {},
   "outputs": [],
   "source": [
    "import matplotlib.pyplot as plt\n",
    "import matplotlib.ticker as ticker\n",
    "from matplotlib.ticker import ScalarFormatter\n",
    "import pickle"
   ]
  },
  {
   "cell_type": "code",
   "execution_count": null,
   "id": "41341145-7a79-4042-8965-0fe0d3a7985e",
   "metadata": {},
   "outputs": [],
   "source": [
    "plt.cla()"
   ]
  },
  {
   "cell_type": "code",
   "execution_count": null,
   "id": "9c872739-6d18-471c-a981-50fb68ca52fc",
   "metadata": {},
   "outputs": [],
   "source": [
    "fig, ax = plt.subplots(dpi=300,figsize=(10,6))"
   ]
  },
  {
   "cell_type": "code",
   "execution_count": null,
   "id": "5b54159e-e247-4c0c-934a-728f45a552dc",
   "metadata": {},
   "outputs": [],
   "source": [
    "font = {'size':12}"
   ]
  },
  {
   "cell_type": "code",
   "execution_count": null,
   "id": "169095b1-08a8-440a-b003-03a09101b226",
   "metadata": {},
   "outputs": [],
   "source": [
    "with open('../tedq.pickle', 'rb') as f:\n",
    "    tedq_time = pickle.load(f)\n",
    "    tedq_loss = pickle.load(f)\n",
    "    \n",
    "tedq_loss = [loss.item() for loss in tedq_loss]"
   ]
  },
  {
   "cell_type": "code",
   "execution_count": null,
   "id": "68a6c7ef-4f62-4150-8c3f-59f5e064c81d",
   "metadata": {},
   "outputs": [],
   "source": [
    "#tedq_loss"
   ]
  },
  {
   "cell_type": "code",
   "execution_count": null,
   "id": "26ed9c14-4626-4961-8180-dfbdbe988600",
   "metadata": {},
   "outputs": [],
   "source": [
    "ax.plot(tedq_time, tedq_loss, color='red', label='TeD-Q State Vector Propagation Mode')\n",
    "#ax.set_xscale('log')\n",
    "#ax.set_yscale('log')"
   ]
  },
  {
   "cell_type": "code",
   "execution_count": null,
   "id": "db65bcde-fe3f-4272-9d0d-9ef58dee165d",
   "metadata": {},
   "outputs": [],
   "source": []
  },
  {
   "cell_type": "code",
   "execution_count": null,
   "id": "fd634553-81b2-466f-8b37-f1255ce1b107",
   "metadata": {},
   "outputs": [],
   "source": [
    "with open('../pennylane.pickle', 'rb') as f:\n",
    "    pennylane_time = pickle.load(f)\n",
    "    pennylane_loss = pickle.load(f)\n",
    "    \n",
    "pennylane_loss = [loss.item() for loss in pennylane_loss]"
   ]
  },
  {
   "cell_type": "code",
   "execution_count": null,
   "id": "7b9aed4b-20c3-4f90-9e57-98056ec4a4eb",
   "metadata": {},
   "outputs": [],
   "source": [
    "for loss in tedq_loss[1000:]:\n",
    "    if loss > 0.5:\n",
    "        print(loss)"
   ]
  },
  {
   "cell_type": "code",
   "execution_count": null,
   "id": "0fa1fa0e-6b15-422b-bc23-034512770ac0",
   "metadata": {},
   "outputs": [],
   "source": [
    "ax.plot(pennylane_time, pennylane_loss, color='green', label='PennyLane')\n",
    "#ax.set_xscale('log')\n",
    "#ax.set_yscale('log')"
   ]
  },
  {
   "cell_type": "code",
   "execution_count": null,
   "id": "1dd73c6c-6a59-482e-88a8-d2ce93b80a86",
   "metadata": {},
   "outputs": [],
   "source": [
    "ax.set_xlabel('time (s)', fontsize=18)\n",
    "ax.set_ylabel('loss', fontsize=18)"
   ]
  },
  {
   "cell_type": "code",
   "execution_count": null,
   "id": "fa3a77f6-3011-43cc-a330-9197b6ed8153",
   "metadata": {},
   "outputs": [],
   "source": [
    "ax.set_xlim([0, 1500])"
   ]
  },
  {
   "cell_type": "code",
   "execution_count": null,
   "id": "b36d55e7-d051-48a2-8d49-c1274445876a",
   "metadata": {},
   "outputs": [],
   "source": [
    "# xticks = [5, 10, 15, 20, 25, 30, 35, 40, 45, 50]\n",
    "# ax.set_xticks(xticks)\n",
    "ax.xaxis.set_major_formatter(ScalarFormatter())\n",
    "ax.tick_params(labelsize=15)"
   ]
  },
  {
   "cell_type": "code",
   "execution_count": null,
   "id": "811c2d60-4dda-46c8-8cae-67f54998fc0c",
   "metadata": {},
   "outputs": [],
   "source": [
    "ax.legend(prop={'size': 13})\n",
    "#ax.grid(which='major')\n",
    "ax.grid(which='both')\n",
    "#ax.grid(which='minor')\n",
    "fig"
   ]
  },
  {
   "cell_type": "code",
   "execution_count": null,
   "id": "56b086b1-8da6-4906-b77f-05486472f1ce",
   "metadata": {},
   "outputs": [],
   "source": [
    "fig.savefig(\"GANs_unpatch.jpg\")"
   ]
  },
  {
   "cell_type": "code",
   "execution_count": null,
   "id": "78632b84-2c85-4dea-a931-7f1753708bac",
   "metadata": {},
   "outputs": [],
   "source": []
  },
  {
   "cell_type": "code",
   "execution_count": null,
   "id": "709f1361-0bf4-4933-8760-de4e52e11cfa",
   "metadata": {},
   "outputs": [],
   "source": [
    "import torch\n",
    "outputs = torch.tensor([[0.3, 0.2],\n",
    "                        [0.2, 0.4]])"
   ]
  },
  {
   "cell_type": "code",
   "execution_count": null,
   "id": "c36317b1-46aa-4a23-8bb2-3aceb85ecd47",
   "metadata": {},
   "outputs": [],
   "source": [
    "a, b = torch.max(outputs, 1)"
   ]
  },
  {
   "cell_type": "code",
   "execution_count": null,
   "id": "e206d2f0-00d6-44e4-844e-60b354a2aa1b",
   "metadata": {},
   "outputs": [],
   "source": [
    "a"
   ]
  },
  {
   "cell_type": "code",
   "execution_count": null,
   "id": "464f87e2-2236-43bb-8c54-eb5fd0635b54",
   "metadata": {},
   "outputs": [],
   "source": [
    "b"
   ]
  },
  {
   "cell_type": "code",
   "execution_count": null,
   "id": "467bce35-cd0c-4478-8e6f-1647347ff2d0",
   "metadata": {},
   "outputs": [],
   "source": []
  },
  {
   "cell_type": "code",
   "execution_count": null,
   "id": "812ce974-f389-491c-8332-b2ea30b1d0e5",
   "metadata": {},
   "outputs": [],
   "source": []
  }
 ],
 "metadata": {
  "kernelspec": {
   "display_name": "Python 3 (ipykernel)",
   "language": "python",
   "name": "python3"
  },
  "language_info": {
   "codemirror_mode": {
    "name": "ipython",
    "version": 3
   },
   "file_extension": ".py",
   "mimetype": "text/x-python",
   "name": "python",
   "nbconvert_exporter": "python",
   "pygments_lexer": "ipython3",
   "version": "3.8.10"
  }
 },
 "nbformat": 4,
 "nbformat_minor": 5
}
