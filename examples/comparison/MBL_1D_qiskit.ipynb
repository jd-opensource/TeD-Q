{
 "cells": [
  {
   "cell_type": "code",
   "execution_count": null,
   "id": "88f088bf",
   "metadata": {},
   "outputs": [],
   "source": [
    "import numpy as np\n",
    "from qiskit import *\n",
    "import torch\n",
    "import math\n",
    "from torch.optim import lr_scheduler\n",
    "from qiskit.providers.aer import AerSimulator\n",
    "from qiskit.circuit import Parameter\n",
    "from qiskit_machine_learning.neural_networks import CircuitQNN\n",
    "from qiskit_machine_learning.connectors import TorchConnector\n",
    "from qiskit.utils import QuantumInstance, algorithm_globals\n"
   ]
  },
  {
   "cell_type": "code",
   "execution_count": null,
   "id": "4cdf61df",
   "metadata": {},
   "outputs": [],
   "source": [
    "n_size = 4\n",
    "n_epoch = 10\n",
    "n_train = 20\n",
    "n_test = 20\n",
    "\n",
    "lr = 0.01\n",
    "gamma_lr_scheduler = 0.2\n",
    "\n",
    "n_qubits= n_size\n",
    "t_d = 200e-9 #ns\n",
    "h_bar = 1\n",
    "g = 2.185e6 #MHz\n",
    "h_erg = 1e6 # MHZ\n",
    "h_loc = 40e6  # MHz"
   ]
  },
  {
   "cell_type": "code",
   "execution_count": null,
   "id": "4146ce28",
   "metadata": {},
   "outputs": [],
   "source": []
  },
  {
   "cell_type": "code",
   "execution_count": null,
   "id": "7a498fe9",
   "metadata": {},
   "outputs": [],
   "source": [
    "def getIndex(i, j):\n",
    "    return n_size*i+j\n",
    "def Hd(circ, idx, jdx, di):\n",
    "    #qai.RZ(2*h_bar*di*t_d, qubits=[jdx], trainable_params=[])\n",
    "    circ.rx(di, jdx)\n",
    "    H0(circ, idx, jdx)\n",
    "    \n",
    "def H0(circ, idx, jdx):\n",
    "    circ.h(idx)\n",
    "    circ.h(jdx)\n",
    "    circ.cx(idx, jdx)\n",
    "    circ.rz(g*h_bar*t_d,jdx)\n",
    "    circ.cx(idx, jdx)\n",
    "    circ.h(idx)\n",
    "    circ.h(jdx)\n",
    "    \n",
    "    circ.s(idx)\n",
    "    circ.s(jdx)\n",
    "    circ.h(idx)\n",
    "    circ.h(jdx)\n",
    "    circ.cx(idx, jdx)\n",
    "    circ.rz(g*h_bar*t_d, jdx)\n",
    "    circ.cx(idx, jdx)\n",
    "    circ.h(idx)\n",
    "    circ.h(jdx)\n",
    "    # qai.PhaseShift(torch.tensor(-math.pi/2.), qubits=[idx], trainable_params=[])\n",
    "    # qai.PhaseShift(torch.tensor(-math.pi/2.), qubits=[jdx], trainable_params=[])\n",
    "    circ.sdg(idx)# add adjoint here will not change circuit's operator\n",
    "    circ.sdg(jdx)\n",
    "    \n",
    "\n",
    "\n",
    "    "
   ]
  },
  {
   "cell_type": "code",
   "execution_count": null,
   "id": "28ccc447",
   "metadata": {},
   "outputs": [],
   "source": [
    "N = (n_size-1)*2"
   ]
  },
  {
   "cell_type": "code",
   "execution_count": null,
   "id": "2da9f9d5",
   "metadata": {},
   "outputs": [],
   "source": [
    "d_list = []\n",
    "for idx in range(N):\n",
    "    d_list.append(Parameter(\"d_\"+str(idx)))\n",
    "\n",
    "n_train_params = (n_qubits+1)*2\n",
    "params_list = []\n",
    "for idx in range(n_train_params):\n",
    "    params_list.append(Parameter(\"param_\"+str(idx)))\n"
   ]
  },
  {
   "cell_type": "code",
   "execution_count": null,
   "id": "384f37ad",
   "metadata": {},
   "outputs": [],
   "source": [
    "#     params = params.view(-1)\n",
    "preparation_circ = QuantumCircuit(n_qubits, 0)\n",
    "qnn_circ = QuantumCircuit(n_qubits, 0)\n",
    "    \n",
    "    # Neel state\n",
    "for i in range(n_qubits):\n",
    "    if i%2==0:\n",
    "        preparation_circ.x(i)\n",
    "    \n",
    "    \n",
    "# Hd td\n",
    "count = 0\n",
    "for i in range(n_qubits):\n",
    "    if i>=0 and i+1<n_qubits:# (n_size-1)*n_size\n",
    "        Hd(preparation_circ, i+1, i, d_list[count])\n",
    "        count+=1\n",
    "    if i-1>=0 and i<n_qubits:# (n_size-1)*n_size\n",
    "        Hd(preparation_circ, i-1, i, d_list[count])\n",
    "        count+=1\n",
    "print(\"count:  \", count)\n",
    "    \n",
    "            \n",
    "# Trainable theta and phi\n",
    "for i in range(n_qubits):\n",
    "    qnn_circ.rz(params_list[2*i], i)\n",
    "    qnn_circ.rx(params_list[2*i+1], i)\n",
    "    qnn_circ.rz(-params_list[2*i], i)\n",
    "    \n",
    "    # H0 dt \n",
    "    \n",
    "    \n",
    "for i in range(n_size):\n",
    "    if i>=0 and i+1<n_qubits:# (n_size-1)*n_size\n",
    "        H0(qnn_circ,i+1, i)\n",
    "    if i-1>=0 and i<n_qubits:# (n_size-1)*n_size\n",
    "        H0(qnn_circ,i-1, i)\n",
    "    \n",
    "    \n",
    "# Last rotation  \n",
    "qnn_circ.rz(params_list[2*n_qubits], 0)\n",
    "qnn_circ.rx(params_list[2*n_qubits+1], 0)\n",
    "qnn_circ.rz(-params_list[2*n_qubits], 0)\n",
    "    #RZ\n",
    "    \n",
    "#     qai.measurement.expval(qai.PauliZ(qubits=[0]))\n",
    "    # qai.measurement.probs(qubits=[0])\n",
    "    \n",
    "qc = QuantumCircuit(n_qubits, 0)\n",
    "qc.append(preparation_circ, range(n_qubits))\n",
    "qc.append(qnn_circ, range(n_qubits))\n",
    "#qc.measure(0,0)"
   ]
  },
  {
   "cell_type": "code",
   "execution_count": null,
   "id": "6996a995-a382-42ba-826e-8c91f4800cf9",
   "metadata": {},
   "outputs": [],
   "source": []
  },
  {
   "cell_type": "code",
   "execution_count": null,
   "id": "6b03903a-b573-4ae4-883f-711ff8921fbd",
   "metadata": {},
   "outputs": [],
   "source": [
    "#QuantumCircuit(3, 0).draw(\"mpl\")"
   ]
  },
  {
   "cell_type": "code",
   "execution_count": null,
   "id": "6c27aac3-b813-4a52-8c0f-c775a7b8a724",
   "metadata": {},
   "outputs": [],
   "source": [
    "#preparation_circ.draw(\"mpl\")"
   ]
  },
  {
   "cell_type": "code",
   "execution_count": null,
   "id": "73750450-5af5-4b61-b40b-93aa3082b0aa",
   "metadata": {},
   "outputs": [],
   "source": [
    "#qnn_circ.draw(\"mpl\")"
   ]
  },
  {
   "cell_type": "code",
   "execution_count": null,
   "id": "c5c27c74",
   "metadata": {},
   "outputs": [],
   "source": [
    "# circuitDef(np.random.rand(N), np.random.rand((n_qubits+1)*2, 1))"
   ]
  },
  {
   "cell_type": "code",
   "execution_count": null,
   "id": "52116022",
   "metadata": {},
   "outputs": [],
   "source": [
    "#qc.draw(\"mpl\")"
   ]
  },
  {
   "cell_type": "code",
   "execution_count": null,
   "id": "4802755e-aaa7-4793-b648-12340ac94151",
   "metadata": {},
   "outputs": [],
   "source": []
  },
  {
   "cell_type": "code",
   "execution_count": null,
   "id": "2f268c0d-b910-416e-85af-16429efe1cad",
   "metadata": {},
   "outputs": [],
   "source": []
  },
  {
   "cell_type": "code",
   "execution_count": null,
   "id": "05a21795-da9c-4489-939c-ea62b3e568d0",
   "metadata": {},
   "outputs": [],
   "source": [
    "#IBMQ.enable_account('')"
   ]
  },
  {
   "cell_type": "code",
   "execution_count": null,
   "id": "b431f83a-1216-4d7c-8135-2973fcc81e99",
   "metadata": {},
   "outputs": [],
   "source": [
    "#provider = IBMQ.get_provider('ibm-q')"
   ]
  },
  {
   "cell_type": "code",
   "execution_count": null,
   "id": "87fce176-2b41-4401-9f2c-43bf11f2ed99",
   "metadata": {},
   "outputs": [],
   "source": [
    "#a = provider.backends\n",
    "#a"
   ]
  },
  {
   "cell_type": "code",
   "execution_count": null,
   "id": "eb8ac064-3e8d-4ea8-b24c-b935374ecc73",
   "metadata": {},
   "outputs": [],
   "source": [
    "#backend = provider.get_backend('ibmq_qasm_simulator')"
   ]
  },
  {
   "cell_type": "code",
   "execution_count": null,
   "id": "e5030f0d-bd40-4d31-9a97-4d0234d0bd77",
   "metadata": {},
   "outputs": [],
   "source": [
    "#backend = provider.get_backend('ibmq_armonk')"
   ]
  },
  {
   "cell_type": "code",
   "execution_count": null,
   "id": "723141ab-3ea6-4e0b-b8de-30f823836ad5",
   "metadata": {},
   "outputs": [],
   "source": []
  },
  {
   "cell_type": "code",
   "execution_count": null,
   "id": "6bb1a713",
   "metadata": {},
   "outputs": [],
   "source": [
    "# Define CircuitQNN and initial setup\n",
    "parity = lambda x: \"{:b}\".format(x).count(\"1\") % 2  # optional interpret function\n",
    "output_shape = 2  # parity = 0, 1\n",
    "qi = QuantumInstance(Aer.get_backend(\"aer_simulator_statevector\"))\n",
    "#qi = QuantumInstance(Aer.get_backend(\"aer_simulator_matrix_product_state\"))\n",
    "#qi = QuantumInstance(Aer.get_backend(\"aer_simulator_density_matrix\"))\n",
    "#qi = QuantumInstance(backend)\n",
    "\n",
    "qnn2 = CircuitQNN(\n",
    "    qc,\n",
    "    input_params=preparation_circ.parameters,\n",
    "    weight_params=qnn_circ.parameters,\n",
    "    interpret=parity,\n",
    "    output_shape=output_shape,\n",
    "    quantum_instance=qi,\n",
    ")"
   ]
  },
  {
   "cell_type": "code",
   "execution_count": null,
   "id": "0bfc35b6-0515-40c7-a44c-773032862e4a",
   "metadata": {},
   "outputs": [],
   "source": []
  },
  {
   "cell_type": "code",
   "execution_count": null,
   "id": "4ed013d3-4ad0-4e51-a857-a4dbcd9ee594",
   "metadata": {},
   "outputs": [],
   "source": [
    "import numpy as np\n",
    "\n",
    "from qiskit import Aer, QuantumCircuit\n",
    "from qiskit.circuit import Parameter\n",
    "from qiskit.circuit.library import RealAmplitudes, ZZFeatureMap\n",
    "from qiskit.opflow import StateFn, PauliSumOp, AerPauliExpectation, ListOp, Gradient, PauliOp, Zero\n",
    "from qiskit.utils import QuantumInstance, algorithm_globals\n",
    "\n",
    "algorithm_globals.random_seed = 42\n",
    "\n",
    "from qiskit_machine_learning.neural_networks import OpflowQNN\n",
    "from qiskit import quantum_info"
   ]
  },
  {
   "cell_type": "code",
   "execution_count": null,
   "id": "36f7d70d-e2b8-4556-80c4-fa13a5cebcd9",
   "metadata": {},
   "outputs": [],
   "source": [
    "# set method to calculcate expected values\n",
    "expval = AerPauliExpectation()\n",
    "\n",
    "# define gradient method\n",
    "gradient = Gradient()\n",
    "qc_sfn1 = StateFn(qc)\n",
    "H1 = StateFn(PauliOp(quantum_info.Pauli(\"ZIII\")))\n",
    "op1 = ~H1 @ qc_sfn1\n",
    "#qi = QuantumInstance(Aer.get_backend(\"aer_simulator_density_matrix\"))\n",
    "qnn2 = OpflowQNN(op1, preparation_circ.parameters, qnn_circ.parameters, expval, gradient, qi)"
   ]
  },
  {
   "cell_type": "code",
   "execution_count": null,
   "id": "68aacfbd-6033-42bd-89ee-5897ea1930d8",
   "metadata": {},
   "outputs": [],
   "source": []
  },
  {
   "cell_type": "code",
   "execution_count": null,
   "id": "ca47be56-5568-4ce9-a8e6-062403200464",
   "metadata": {},
   "outputs": [],
   "source": [
    "#qc.parameters"
   ]
  },
  {
   "cell_type": "code",
   "execution_count": null,
   "id": "8a067b03-043d-4ac7-b0c1-585667753efa",
   "metadata": {},
   "outputs": [],
   "source": [
    "#qnn2.num_weights"
   ]
  },
  {
   "cell_type": "code",
   "execution_count": null,
   "id": "ed3995e0",
   "metadata": {},
   "outputs": [],
   "source": [
    "initial_weights = 0.1 * (2 * algorithm_globals.random.random(qnn2.num_weights) - 1)\n",
    "#print(\"Initial weights: \", initial_weights)\n",
    "\n",
    "model2 = TorchConnector(qnn2, initial_weights)"
   ]
  },
  {
   "cell_type": "code",
   "execution_count": null,
   "id": "83b8807d-98ed-4b28-9d65-76ba093b042e",
   "metadata": {},
   "outputs": [],
   "source": [
    "#model2 = TorchConnector(qnn2)"
   ]
  },
  {
   "cell_type": "code",
   "execution_count": null,
   "id": "11b46976-b996-4552-a3d5-dbea8f10bd8e",
   "metadata": {},
   "outputs": [],
   "source": []
  },
  {
   "cell_type": "code",
   "execution_count": null,
   "id": "c194dc83",
   "metadata": {},
   "outputs": [],
   "source": [
    "# prepare training data\n",
    "params = torch.rand(n_qubits+1,2, requires_grad=True)\n",
    "\n",
    "\n",
    "d_erg = torch.tensor(np.random.rand(int(n_train/2), N)*2-1)*h_erg*h_bar*t_d*math.pi\n",
    "d_local = torch.tensor((np.random.rand(int(n_train/2), N)*39/40.+1/40.)*np.random.choice([-1., 1.], size=(int(n_train/2), N))*h_loc*h_bar*t_d*math.pi)\n",
    "#d_local = torch.tensor(np.random.rand(int(n_train/2), N)*2-1)*h_loc*h_bar*t_d*math.pi\n",
    "d = torch.cat((d_erg, d_local), 0)\n",
    "\n",
    "y_target = torch.Tensor(np.array([1]*int(n_train/2)+[0]*int(n_train/2)))"
   ]
  },
  {
   "cell_type": "code",
   "execution_count": null,
   "id": "6165c93a",
   "metadata": {},
   "outputs": [],
   "source": [
    "optimizer = torch.optim.Adam(model2.parameters(), lr=0.5)"
   ]
  },
  {
   "cell_type": "code",
   "execution_count": null,
   "id": "fc4e6c4f-cb53-4c6a-bf29-31604d1ada5c",
   "metadata": {},
   "outputs": [],
   "source": []
  },
  {
   "cell_type": "code",
   "execution_count": null,
   "id": "eefb4776-621e-403e-86a9-6e6fbbb96a62",
   "metadata": {},
   "outputs": [],
   "source": []
  },
  {
   "cell_type": "code",
   "execution_count": null,
   "id": "eab9229d-a5fd-4211-8d9c-4eca4ce8256c",
   "metadata": {},
   "outputs": [],
   "source": []
  },
  {
   "cell_type": "code",
   "execution_count": null,
   "id": "ca7da6dc-35a2-4be1-8426-e01d44d67439",
   "metadata": {},
   "outputs": [],
   "source": []
  },
  {
   "cell_type": "code",
   "execution_count": null,
   "id": "988df755",
   "metadata": {},
   "outputs": [],
   "source": [
    "#y = model2(d[0])"
   ]
  },
  {
   "cell_type": "code",
   "execution_count": null,
   "id": "91325ad8",
   "metadata": {},
   "outputs": [],
   "source": [
    "%%time\n",
    "\n",
    "import torch.nn as nn\n",
    "rnd_sq = np.arange(n_train)\n",
    "\n",
    "\n",
    "target_list = [0 for _ in range(n_train)]\n",
    "y_list = [0 for _ in range(n_train)]\n",
    "\n",
    "for epoch in range(n_epoch):\n",
    "    np.random.shuffle(rnd_sq)\n",
    "    l_sum = 0\n",
    "    \n",
    "    for i in rnd_sq:\n",
    "        #w = y_target[i]*2+1\n",
    "        loss = nn.BCELoss(reduction='mean')\n",
    "        #cir_params = torch.cat((params, -params[:,0].view(-1,1)),1)\n",
    "        #print(d[i])\n",
    "        y = model2(d[i])\n",
    "        \n",
    "        #print(y)\n",
    "        y = (1.-y)/2.\n",
    "        \n",
    "        diff = y - 0.6\n",
    "        if diff > 0:\n",
    "            diff = diff*5./4. + 0.5\n",
    "        else:\n",
    "            diff = diff*5./6. + 0.5\n",
    "        \n",
    "        #diff = y\n",
    "        #print(y)\n",
    "        \n",
    "        l = loss(diff[0], y_target[i])\n",
    "        #print(y)\n",
    "        l.backward()\n",
    "        #print(params.grad)\n",
    "        \n",
    "        l_sum = l_sum + l\n",
    "        target_list[i] = y_target[i]\n",
    "        y_list[i] = diff.data\n",
    "    \n",
    "\n",
    "    if epoch % 5 == 0:\n",
    "        print(f'epoch {epoch + 1}: loss = {l_sum/(n_train-5):.8f}')\n",
    "        print(\"acc:\", np.sum((np.round(y_list)==target_list))/n_train*100)\n",
    "        print(\"prediction:  \", y_list[0:n_train//2], \"   \", y_list[n_train//2:])\n",
    "        #print(\"target:   \", target_list)\n",
    "        #print(params.grad)\n",
    "        \n",
    "    next(model2.parameters()).grad /= 20.\n",
    "    optimizer.step()\n",
    "    optimizer.zero_grad()\n",
    "    \n",
    "    #exp_lr_scheduler.step()"
   ]
  },
  {
   "cell_type": "code",
   "execution_count": null,
   "id": "cc9392f8",
   "metadata": {},
   "outputs": [],
   "source": []
  },
  {
   "cell_type": "code",
   "execution_count": null,
   "id": "fa044e85",
   "metadata": {},
   "outputs": [],
   "source": []
  },
  {
   "cell_type": "code",
   "execution_count": null,
   "id": "3753b6dc-fe16-44bd-8f12-88d2e74fb863",
   "metadata": {},
   "outputs": [],
   "source": [
    "backend"
   ]
  },
  {
   "cell_type": "code",
   "execution_count": null,
   "id": "f93fde66-96e1-422d-9fa2-e92baa96cca8",
   "metadata": {},
   "outputs": [],
   "source": [
    "backend = Aer.get_backend('statevector_simulator')"
   ]
  },
  {
   "cell_type": "code",
   "execution_count": null,
   "id": "7b73b369-eaf8-473b-9a29-791dd870cf3c",
   "metadata": {},
   "outputs": [],
   "source": [
    "backend.available_devices()"
   ]
  },
  {
   "cell_type": "code",
   "execution_count": null,
   "id": "09e74bbd-979f-4d28-b691-b9010947347a",
   "metadata": {},
   "outputs": [],
   "source": []
  }
 ],
 "metadata": {
  "kernelspec": {
   "display_name": "Python 3 (ipykernel)",
   "language": "python",
   "name": "python3"
  },
  "language_info": {
   "codemirror_mode": {
    "name": "ipython",
    "version": 3
   },
   "file_extension": ".py",
   "mimetype": "text/x-python",
   "name": "python",
   "nbconvert_exporter": "python",
   "pygments_lexer": "ipython3",
   "version": "3.9.7"
  }
 },
 "nbformat": 4,
 "nbformat_minor": 5
}
