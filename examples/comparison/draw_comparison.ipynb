{
 "cells": [
  {
   "cell_type": "code",
   "execution_count": null,
   "id": "a22a7e33-a3a7-41ca-85e5-e37dd3b20a00",
   "metadata": {},
   "outputs": [],
   "source": [
    "import matplotlib.pyplot as plt\n",
    "import matplotlib.ticker as ticker\n",
    "from matplotlib.ticker import ScalarFormatter"
   ]
  },
  {
   "cell_type": "code",
   "execution_count": null,
   "id": "13ec34a9-db80-4620-a5c9-914bc8a50f4e",
   "metadata": {},
   "outputs": [],
   "source": [
    "plt.cla()"
   ]
  },
  {
   "cell_type": "code",
   "execution_count": null,
   "id": "1bd16b79-81f6-47a5-93a9-ebf3227107e6",
   "metadata": {},
   "outputs": [],
   "source": []
  },
  {
   "cell_type": "code",
   "execution_count": null,
   "id": "457c7ace-512a-44fa-88cd-e7877ac18c9a",
   "metadata": {},
   "outputs": [],
   "source": [
    "#xuplim = 10*time/len(self._xx) if len(self._xx)<10 else time\n",
    "#self.xlim=(self._xx[0],xuplim)\n",
    "#plt.xlim(self.xlim)\n",
    "#plt.ylim(self.ylim)\n",
    "#plt.plot(self._xx, self._yy, color='black')\n",
    "#plt.scatter(self._xx, self._yy, color='red', s=20)\n",
    "#plt.title(self.title)\n",
    "#plt.xlabel(self.xlabel)\n",
    "#plt.ylabel(self.ylabel)"
   ]
  },
  {
   "cell_type": "code",
   "execution_count": null,
   "id": "43920972-2881-413a-8629-01ba2a35c634",
   "metadata": {},
   "outputs": [],
   "source": []
  },
  {
   "cell_type": "code",
   "execution_count": null,
   "id": "be976d1e-0e99-4729-a3cc-234f6f97626f",
   "metadata": {},
   "outputs": [],
   "source": [
    "n_qubits = [5., 6., 7., 8., 9., 10., 11., 12., 13., 14., 15., 16., 17., 18., 19., 20., 21., 22.]\n",
    "JT_qubits = [5., 6., 7., 8., 9., 10., 11., 12., 13., 14., 15., 16., 17., 18., 19., 20., 21., 25., 30., 40., 45., 50.]\n"
   ]
  },
  {
   "cell_type": "code",
   "execution_count": null,
   "id": "8e0a3597-15e8-442f-902a-76f02d7d03f5",
   "metadata": {},
   "outputs": [],
   "source": [
    "\n"
   ]
  },
  {
   "cell_type": "code",
   "execution_count": null,
   "id": "7d485403-e67e-451d-afbc-1208fba721f5",
   "metadata": {},
   "outputs": [],
   "source": [
    "fig, ax = plt.subplots(dpi=300,figsize=(10,6))"
   ]
  },
  {
   "cell_type": "code",
   "execution_count": null,
   "id": "57bcda13-4d1a-4931-a56d-ba7eb4c03660",
   "metadata": {},
   "outputs": [],
   "source": [
    "font = {'size':12}"
   ]
  },
  {
   "cell_type": "code",
   "execution_count": null,
   "id": "9d667032-dfbd-4a22-b630-0fc3c5609fda",
   "metadata": {},
   "outputs": [],
   "source": [
    "JS_CPU = [69., 86., 114., 127., 152., 188., 230., 388., 509., 1048., 794., 803., 976., 1233., 1958., 3489., 5590., 26435.]\n",
    "ax.plot(n_qubits, JS_CPU, color='red', label='TeD-Q State Vector Propagation Mode')\n",
    "ax.set_xscale('log')\n",
    "ax.set_yscale('log')"
   ]
  },
  {
   "cell_type": "code",
   "execution_count": null,
   "id": "93562493-fb74-45b0-b912-0ce99b744640",
   "metadata": {},
   "outputs": [],
   "source": [
    "JT_CPU = [131., 159., 186., 232., 266., 321., 322., 370., 426., 442., 493., 538., 590., 619., 624., 736., 724., 983., 1128., 3193., 3616., 5586.]\n",
    "ax.plot(JT_qubits, JT_CPU, color='blue', label='TeD-Q Tensor Network Contraction Mode')\n",
    "ax.set_xscale('log')\n",
    "ax.set_yscale('log')\n",
    "#ax.set_xlim([5, 21])"
   ]
  },
  {
   "cell_type": "code",
   "execution_count": null,
   "id": "e2b0d9da-26b5-4e7a-9519-b74d9e9e2450",
   "metadata": {},
   "outputs": [],
   "source": [
    "P_CPU = [99., 126., 153., 183., 209., 229., 270., 331., 391., 295., 658., 940., 1137., 1364., 1740., 3496., 9552., 21041]\n",
    "ax.plot(n_qubits, P_CPU, color='orange', label='PennyLane')\n",
    "ax.set_xscale('log')\n",
    "ax.set_yscale('log')"
   ]
  },
  {
   "cell_type": "code",
   "execution_count": null,
   "id": "43fc5bb0-35b8-4fbb-9022-42b18c4029c8",
   "metadata": {},
   "outputs": [],
   "source": [
    "Q_CPU = [1517., 1880., 2159., 2508., 3009., 3780., 4817., 6836., 10198., 18899.]\n",
    "ax.plot(n_qubits[:10], Q_CPU, color='yellow', label='Qiskit')\n",
    "ax.set_xscale('log')\n",
    "ax.set_yscale('log')"
   ]
  },
  {
   "cell_type": "code",
   "execution_count": null,
   "id": "a873c0c6-3369-45c6-88bd-f0247a226099",
   "metadata": {},
   "outputs": [],
   "source": [
    "ax.set_xlabel('Number of qubits', fontsize=18)\n",
    "ax.set_ylabel('time (s)', fontsize=18)\n",
    "#ax.set_title('Single CPU mode', fontsize=22)"
   ]
  },
  {
   "cell_type": "code",
   "execution_count": null,
   "id": "f8ad9058-75d6-4cd6-9653-85794072cc00",
   "metadata": {},
   "outputs": [],
   "source": [
    "#ax.xaxis.set_major_locator(ticker.MultipleLocator(5))\n",
    "#ax.xaxis.set_minor_locator(ticker.MultipleLocator(1))"
   ]
  },
  {
   "cell_type": "code",
   "execution_count": null,
   "id": "c6be3a6b-d9f2-46da-b59d-17018a59d311",
   "metadata": {},
   "outputs": [],
   "source": [
    "xticks = [5, 10, 15, 20, 25, 30, 35, 40, 45, 50]\n",
    "ax.set_xticks(xticks)\n",
    "ax.xaxis.set_major_formatter(ScalarFormatter())\n",
    "ax.tick_params(labelsize=15)"
   ]
  },
  {
   "cell_type": "code",
   "execution_count": null,
   "id": "75cbd956-5d0c-4aca-ac1e-18eeb165d754",
   "metadata": {},
   "outputs": [],
   "source": [
    "ax.legend(prop={'size': 13})\n",
    "#ax.grid(which='major')\n",
    "ax.grid(which='both')\n",
    "#ax.grid(which='minor')\n",
    "fig"
   ]
  },
  {
   "cell_type": "code",
   "execution_count": null,
   "id": "40dc3110-789a-403f-831e-741231af9d8b",
   "metadata": {},
   "outputs": [],
   "source": [
    "fig.savefig(\"CPU_comparison.jpg\")"
   ]
  },
  {
   "cell_type": "code",
   "execution_count": null,
   "id": "e0741cfe-d02c-41fd-899f-4ccaceac2048",
   "metadata": {},
   "outputs": [],
   "source": []
  },
  {
   "cell_type": "code",
   "execution_count": null,
   "id": "37ae9f62-5c86-49ab-a751-673fbadf3b2c",
   "metadata": {},
   "outputs": [],
   "source": [
    "fig, ax = plt.subplots(dpi=300,figsize=(10,6))"
   ]
  },
  {
   "cell_type": "code",
   "execution_count": null,
   "id": "167593d8-b0be-47a0-a771-60dc9b37d544",
   "metadata": {},
   "outputs": [],
   "source": [
    "JS_GPU = [209., 275., 286., 346., 358., 397., 408., 482., 536., 606., 657., 682., 898., 988., 1260., 2135., 3881.]\n",
    "ax.plot(n_qubits[:-2], JS_GPU[:-1], color='red', label='TeD-Q State Vector Propagation Mode')\n",
    "ax.set_xscale('log')\n",
    "ax.set_yscale('log')"
   ]
  },
  {
   "cell_type": "code",
   "execution_count": null,
   "id": "f3ed7e1e-9498-44c4-904f-7ad2cfc7af80",
   "metadata": {},
   "outputs": [],
   "source": [
    "JT_GPU = [343., 403., 480., 534., 576., 715., 795., 796., 873., 985., 1028., 1099., 1098., 1216., 1244., 1344., 1630., 1396., 2047., 2672., 3135., 3865.]\n",
    "ax.plot(JT_qubits, JT_GPU, color='blue', label='TeD-Q Tensor Network Contraction Mode')\n",
    "ax.set_xscale('log')\n",
    "ax.set_yscale('log')"
   ]
  },
  {
   "cell_type": "code",
   "execution_count": null,
   "id": "f13daa8d-f9fb-451c-b772-0c565752cb3d",
   "metadata": {},
   "outputs": [],
   "source": [
    "P_GPU = [186., 243., 302., 353., 375., 435., 503., 590., 552., 634., 692., 741., 1004., 1093., 1192., 1415.]\n",
    "ax.plot(n_qubits[:-2], P_GPU, color='orange', label='PennyLane')\n",
    "ax.set_xscale('log')\n",
    "ax.set_yscale('log')"
   ]
  },
  {
   "cell_type": "code",
   "execution_count": null,
   "id": "d3f2362a-15ce-4d7d-a9d3-7a2e57437196",
   "metadata": {},
   "outputs": [],
   "source": [
    "Q_GPU = [1970., 2386., 2901., 3376., 3926., 4582., 5682., 6523., 7540., 8589., 10667.]\n",
    "ax.plot(n_qubits[:11], Q_GPU, color='yellow', label='Qiskit')\n",
    "ax.set_xscale('log')\n",
    "ax.set_yscale('log')"
   ]
  },
  {
   "cell_type": "code",
   "execution_count": null,
   "id": "a5b160db-11c9-4752-9985-49346de96b13",
   "metadata": {},
   "outputs": [],
   "source": [
    "ax.set_xlabel('Number of qubits', fontsize=18)\n",
    "ax.set_ylabel('time (s)', fontsize=18)\n",
    "#ax.set_title('Single GPU mode', fontsize=22)"
   ]
  },
  {
   "cell_type": "code",
   "execution_count": null,
   "id": "1c40ffcc-8091-488c-8795-3c215a706c07",
   "metadata": {},
   "outputs": [],
   "source": [
    "xticks = [5, 10, 15, 20, 25, 30, 35, 40, 45, 50]\n",
    "ax.set_xticks(xticks)\n",
    "ax.xaxis.set_major_formatter(ScalarFormatter())\n",
    "ax.tick_params(labelsize=15)"
   ]
  },
  {
   "cell_type": "code",
   "execution_count": null,
   "id": "cc82b4e3-33a7-4be9-86cf-18840042217b",
   "metadata": {},
   "outputs": [],
   "source": [
    "ax.legend(prop={'size': 13})\n",
    "#ax.grid(which='major')\n",
    "ax.grid(which='both')\n",
    "#ax.grid(which='minor')\n",
    "fig"
   ]
  },
  {
   "cell_type": "code",
   "execution_count": null,
   "id": "aa45843f-9e49-4cb9-9989-fa2bb93f632b",
   "metadata": {},
   "outputs": [],
   "source": [
    "fig.savefig(\"GPU_comparison.jpg\")"
   ]
  },
  {
   "cell_type": "code",
   "execution_count": null,
   "id": "493be251-ae65-467b-8a0d-9d811ca3e576",
   "metadata": {},
   "outputs": [],
   "source": []
  },
  {
   "cell_type": "code",
   "execution_count": null,
   "id": "a3ce7c1e-6b3c-4d45-8e82-1d6ea372baf2",
   "metadata": {},
   "outputs": [],
   "source": [
    "fig, ax = plt.subplots(dpi=300,figsize=(12,8))"
   ]
  },
  {
   "cell_type": "code",
   "execution_count": null,
   "id": "721d8092-e533-4156-b277-d07a6eb5e234",
   "metadata": {},
   "outputs": [],
   "source": [
    "ax.plot(n_qubits, JS_CPU, color='black', label='Single CPU')\n",
    "ax.set_xscale('log')\n",
    "ax.set_yscale('log')"
   ]
  },
  {
   "cell_type": "code",
   "execution_count": null,
   "id": "5d4bd126-490a-41d7-b406-67dd20604048",
   "metadata": {},
   "outputs": [],
   "source": [
    "ax.plot(n_qubits[:-1], JS_GPU[:], color='red', label='Single GPU')\n",
    "ax.set_xscale('log')\n",
    "ax.set_yscale('log')"
   ]
  },
  {
   "cell_type": "code",
   "execution_count": null,
   "id": "4a947fa3-a8f7-486a-a3ec-13c7726f9a18",
   "metadata": {},
   "outputs": [],
   "source": [
    "ax.set_xlabel('qubits')\n",
    "ax.set_ylabel('time (s)')\n",
    "ax.set_title('JDQAI State Vector Propagation Mode')"
   ]
  },
  {
   "cell_type": "code",
   "execution_count": null,
   "id": "af12205f-5bcb-46b8-9901-66aa5e6cb0f7",
   "metadata": {},
   "outputs": [],
   "source": [
    "ax.legend()\n",
    "fig"
   ]
  },
  {
   "cell_type": "code",
   "execution_count": null,
   "id": "7546caec-d370-462f-9ff6-c5899b282672",
   "metadata": {},
   "outputs": [],
   "source": [
    "fig.savefig(\"fig.jpg\")"
   ]
  },
  {
   "cell_type": "code",
   "execution_count": null,
   "id": "e944e4f6-a690-4026-8ba1-7c532e8c15a1",
   "metadata": {},
   "outputs": [],
   "source": []
  },
  {
   "cell_type": "code",
   "execution_count": null,
   "id": "64f78484-2427-4f76-87d9-0ee979d199ee",
   "metadata": {},
   "outputs": [],
   "source": [
    "fig, ax = plt.subplots(dpi=300,figsize=(12,8))"
   ]
  },
  {
   "cell_type": "code",
   "execution_count": null,
   "id": "1247b5f8-ab7b-4103-8236-32b93cc8c9d6",
   "metadata": {},
   "outputs": [],
   "source": [
    "ax.plot(JT_qubits, JT_CPU, color='black', label='Single CPU')\n",
    "ax.set_xscale('log')\n",
    "ax.set_yscale('log')\n",
    "#ax.set_xlim([5, 21])"
   ]
  },
  {
   "cell_type": "code",
   "execution_count": null,
   "id": "9e5198dc-4603-4683-96ce-79746bb6797c",
   "metadata": {},
   "outputs": [],
   "source": [
    "ax.plot(JT_qubits, JT_GPU, color='red', label='Single GPU')\n",
    "ax.set_xscale('log')\n",
    "ax.set_yscale('log')"
   ]
  },
  {
   "cell_type": "code",
   "execution_count": null,
   "id": "4402326d-a013-490c-972c-49d7de88d3bd",
   "metadata": {},
   "outputs": [],
   "source": [
    "ax.set_xlabel('qubits')\n",
    "ax.set_ylabel('time (s)')\n",
    "ax.set_title('TeD-Q Tensor Network Contraction Mode')"
   ]
  },
  {
   "cell_type": "code",
   "execution_count": null,
   "id": "072cac7f-c493-4740-9b74-dd21ce85cdb4",
   "metadata": {},
   "outputs": [],
   "source": [
    "ax.legend()\n",
    "fig"
   ]
  },
  {
   "cell_type": "code",
   "execution_count": null,
   "id": "64ed0844-8f3e-477d-9d33-c6ab2df8ed59",
   "metadata": {},
   "outputs": [],
   "source": [
    "fig.savefig(\"fig.jpg\")"
   ]
  },
  {
   "cell_type": "code",
   "execution_count": null,
   "id": "834f6434-845b-485c-8a5e-fd4e63115899",
   "metadata": {},
   "outputs": [],
   "source": []
  },
  {
   "cell_type": "code",
   "execution_count": null,
   "id": "721f0bac-bb6c-427e-964e-8e31657f2228",
   "metadata": {},
   "outputs": [],
   "source": [
    "fig, ax = plt.subplots(dpi=300,figsize=(12,8))"
   ]
  },
  {
   "cell_type": "code",
   "execution_count": null,
   "id": "b3e78b84-f316-461d-b371-425760022abf",
   "metadata": {},
   "outputs": [],
   "source": [
    "ax.plot(n_qubits, P_CPU, color='black', label='Single CPU')\n",
    "ax.set_xscale('log')\n",
    "ax.set_yscale('log')"
   ]
  },
  {
   "cell_type": "code",
   "execution_count": null,
   "id": "daccd99d-3c7b-404d-ad44-ef911119d028",
   "metadata": {},
   "outputs": [],
   "source": [
    "ax.plot(n_qubits[:-2], P_GPU, color='red', label='Single GPU')\n",
    "ax.set_xscale('log')\n",
    "ax.set_yscale('log')"
   ]
  },
  {
   "cell_type": "code",
   "execution_count": null,
   "id": "6392bc5a-7eaa-43c3-aa06-467f181067a7",
   "metadata": {},
   "outputs": [],
   "source": [
    "ax.set_xlabel('qubits')\n",
    "ax.set_ylabel('time (s)')\n",
    "ax.set_title('pennylane')"
   ]
  },
  {
   "cell_type": "code",
   "execution_count": null,
   "id": "dd14e6b5-8436-4197-b744-75bf263049cf",
   "metadata": {},
   "outputs": [],
   "source": [
    "ax.legend()\n",
    "fig"
   ]
  },
  {
   "cell_type": "code",
   "execution_count": null,
   "id": "29ef0cb8-7bc5-453b-bee3-a80473f0633d",
   "metadata": {},
   "outputs": [],
   "source": [
    "fig.savefig(\"fig.jpg\")"
   ]
  },
  {
   "cell_type": "code",
   "execution_count": null,
   "id": "7a9f1b50-e92f-44d7-b9c7-ab9855949459",
   "metadata": {},
   "outputs": [],
   "source": []
  },
  {
   "cell_type": "code",
   "execution_count": null,
   "id": "c68dc055-6dab-4a53-9305-e004c6c85b88",
   "metadata": {},
   "outputs": [],
   "source": []
  },
  {
   "cell_type": "code",
   "execution_count": null,
   "id": "aa5fdd3f-16a0-4d30-82f4-7299b12c80d8",
   "metadata": {},
   "outputs": [],
   "source": [
    "fig, ax = plt.subplots(dpi=300,figsize=(12,8))"
   ]
  },
  {
   "cell_type": "code",
   "execution_count": null,
   "id": "573c8029-30a2-4b23-9676-92b9b5ffa808",
   "metadata": {},
   "outputs": [],
   "source": [
    "ax.plot(n_qubits[:10], Q_CPU, color='black', label='Single CPU')\n",
    "ax.set_xscale('log')\n",
    "ax.set_yscale('log')"
   ]
  },
  {
   "cell_type": "code",
   "execution_count": null,
   "id": "df833ea2-602e-48e4-a14d-08833c1ff0d5",
   "metadata": {},
   "outputs": [],
   "source": [
    "ax.plot(n_qubits[:11], Q_GPU, color='red', label='Single GPU')\n",
    "ax.set_xscale('log')\n",
    "ax.set_yscale('log')"
   ]
  },
  {
   "cell_type": "code",
   "execution_count": null,
   "id": "28218d92-35e2-4b84-83b8-30fad80ac24b",
   "metadata": {},
   "outputs": [],
   "source": [
    "ax.set_xlabel('qubits')\n",
    "ax.set_ylabel('time (s)')\n",
    "ax.set_title('qiskit')"
   ]
  },
  {
   "cell_type": "code",
   "execution_count": null,
   "id": "360efd82-e779-4411-a673-18985652e976",
   "metadata": {},
   "outputs": [],
   "source": [
    "ax.legend()\n",
    "fig"
   ]
  },
  {
   "cell_type": "code",
   "execution_count": null,
   "id": "cb64ee27-e8b2-4996-be30-fcca649f25a8",
   "metadata": {},
   "outputs": [],
   "source": [
    "fig.savefig(\"fig.jpg\")"
   ]
  },
  {
   "cell_type": "code",
   "execution_count": null,
   "id": "069df70f-df8c-4243-9bae-3088db1776a7",
   "metadata": {},
   "outputs": [],
   "source": []
  },
  {
   "cell_type": "code",
   "execution_count": null,
   "id": "b24b3a9a-70c1-47da-8d46-77b9308fcc80",
   "metadata": {},
   "outputs": [],
   "source": []
  },
  {
   "cell_type": "code",
   "execution_count": null,
   "id": "16d581d6-449c-4b64-a5bc-a22d73c94a31",
   "metadata": {},
   "outputs": [],
   "source": []
  },
  {
   "cell_type": "code",
   "execution_count": null,
   "id": "c5d7c928-dbb8-4a98-a5ce-47556b724941",
   "metadata": {},
   "outputs": [],
   "source": []
  },
  {
   "cell_type": "code",
   "execution_count": null,
   "id": "7a08e937-d598-4f0a-80ff-6f32f8e202cf",
   "metadata": {},
   "outputs": [],
   "source": []
  },
  {
   "cell_type": "code",
   "execution_count": null,
   "id": "537f0b9a-be19-4cc9-877b-af507b01df26",
   "metadata": {},
   "outputs": [],
   "source": []
  },
  {
   "cell_type": "code",
   "execution_count": null,
   "id": "c68dea81-cc42-4b5f-a338-f4ef460b4173",
   "metadata": {},
   "outputs": [],
   "source": []
  },
  {
   "cell_type": "code",
   "execution_count": null,
   "id": "027344ad-a5c9-495d-9798-1b64c9bc27cb",
   "metadata": {},
   "outputs": [],
   "source": [
    "import matplotlib.pyplot as plt\n",
    "import matplotlib.ticker as ticker\n",
    "from matplotlib.ticker import ScalarFormatter"
   ]
  },
  {
   "cell_type": "code",
   "execution_count": null,
   "id": "f6c05514-20fa-456c-aa74-5d8694f44658",
   "metadata": {},
   "outputs": [],
   "source": [
    "plt.cla()"
   ]
  },
  {
   "cell_type": "code",
   "execution_count": null,
   "id": "f4bc6ce8-4ec7-4d8d-b42a-d7aefe963404",
   "metadata": {},
   "outputs": [],
   "source": [
    "fig, ax = plt.subplots(dpi=300,figsize=(10,6))"
   ]
  },
  {
   "cell_type": "code",
   "execution_count": null,
   "id": "c1279561-d854-4176-8954-ddcae4769409",
   "metadata": {},
   "outputs": [],
   "source": [
    "n_qubits = [i+1 for i in range(10)]"
   ]
  },
  {
   "cell_type": "code",
   "execution_count": null,
   "id": "ab39fc0f-38b2-4b5b-9966-0a1c3a4c3102",
   "metadata": {},
   "outputs": [],
   "source": [
    "tedq = [0.906, 1.74, 2.41, 3.1, 4.09, 4.81, 5.63, 7.41, 8.23, 9.32]\n",
    "ax.plot(n_qubits, tedq, color='red', label='TeD-Q State Vector Propagation Mode')\n",
    "#ax.set_xscale('log')\n",
    "ax.set_yscale('log')"
   ]
  },
  {
   "cell_type": "code",
   "execution_count": null,
   "id": "49bbed4d-e978-491e-9424-891f5f94a28f",
   "metadata": {},
   "outputs": [],
   "source": [
    "pennylane = [1.8, 3.19, 4.47, 5.81, 6.7, 8.76, 10.3, 12.7, 14.3, 16.8]\n",
    "ax.plot(n_qubits, pennylane, color='orange', label='PennyLane')\n",
    "#ax.set_xscale('log')\n",
    "ax.set_yscale('log')"
   ]
  },
  {
   "cell_type": "code",
   "execution_count": null,
   "id": "971c84a8-2b7e-4811-924f-e447af845dc0",
   "metadata": {},
   "outputs": [],
   "source": [
    "paddle = [7.69, 14.1, 20.2, 26.6, 33.9, 40.5, 57.0, 82.0]\n",
    "ax.plot(n_qubits[0:8], paddle, color='green', label='Paddle Quantum')\n",
    "#ax.set_xscale('log')\n",
    "ax.set_yscale('log')"
   ]
  },
  {
   "cell_type": "code",
   "execution_count": null,
   "id": "046df1f4-fab0-4214-ae89-f2eb29d9350e",
   "metadata": {},
   "outputs": [],
   "source": [
    "qiskit = [43.5, 57.6, 82.0, 152.0]\n",
    "ax.plot(n_qubits[0:4], qiskit, color='yellow', label='Qiskit')\n",
    "#ax.set_xscale('log')\n",
    "ax.set_yscale('log')"
   ]
  },
  {
   "cell_type": "code",
   "execution_count": null,
   "id": "59ec049e-d30b-4268-9b77-e16a80a647f3",
   "metadata": {},
   "outputs": [],
   "source": [
    "ax.xaxis.set_major_formatter(ScalarFormatter())\n",
    "ax.tick_params(labelsize=15)"
   ]
  },
  {
   "cell_type": "code",
   "execution_count": null,
   "id": "b8b4f8a4-3bf8-4087-a7fc-238ff690a75f",
   "metadata": {},
   "outputs": [],
   "source": [
    "ax.set_xlabel('qubits')\n",
    "ax.set_ylabel('time (s)')"
   ]
  },
  {
   "cell_type": "code",
   "execution_count": null,
   "id": "f19b1b28-bc7c-430d-bb07-7fe52898d9bd",
   "metadata": {},
   "outputs": [],
   "source": [
    "ax.set_xlabel('Number of qubits', fontsize=18)\n",
    "ax.set_ylabel('time (s)', fontsize=18)"
   ]
  },
  {
   "cell_type": "code",
   "execution_count": null,
   "id": "e0fe45b6-7278-4070-a87a-e37861ef4f8a",
   "metadata": {},
   "outputs": [],
   "source": [
    "ax.legend(prop={'size': 13})\n",
    "#ax.grid(which='major')\n",
    "ax.grid(which='both')\n",
    "#ax.grid(which='minor')\n",
    "fig"
   ]
  },
  {
   "cell_type": "code",
   "execution_count": null,
   "id": "10ff34a9-a214-47f9-9ec8-216df4f0e22a",
   "metadata": {},
   "outputs": [],
   "source": [
    "fig.savefig(\"CPU_small.jpg\")"
   ]
  },
  {
   "cell_type": "code",
   "execution_count": null,
   "id": "e2f25413-f5ea-4b4c-946a-64a035ec3805",
   "metadata": {},
   "outputs": [],
   "source": []
  }
 ],
 "metadata": {
  "kernelspec": {
   "display_name": "Python 3 (ipykernel)",
   "language": "python",
   "name": "python3"
  },
  "language_info": {
   "codemirror_mode": {
    "name": "ipython",
    "version": 3
   },
   "file_extension": ".py",
   "mimetype": "text/x-python",
   "name": "python",
   "nbconvert_exporter": "python",
   "pygments_lexer": "ipython3",
   "version": "3.9.7"
  }
 },
 "nbformat": 4,
 "nbformat_minor": 5
}
