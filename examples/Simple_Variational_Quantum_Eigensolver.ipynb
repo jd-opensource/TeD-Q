{
 "cells": [
  {
   "cell_type": "markdown",
   "id": "54bd9bfd",
   "metadata": {},
   "source": [
    "# Simple Variational Quantum Eigensolver\n",
    "In this example, we are showing the application of TeD-Q module as a variational eigensolver. The Hamiltonian and the state vector is convert to the circuit and the energy of the state can be calculated. The result is fed into the built-in gradient descent optimizer to find the minimal energy.\n"
   ]
  },
  {
   "cell_type": "markdown",
   "id": "8d10b2cb",
   "metadata": {},
   "source": [
    "## Initialization"
   ]
  },
  {
   "cell_type": "code",
   "execution_count": 1,
   "id": "13cd2d28",
   "metadata": {},
   "outputs": [],
   "source": [
    "import tedq as qai\n",
    "\n",
    "# Related package\n",
    "import torch\n",
    "import numpy as np\n",
    "import matplotlib.pyplot as plt\n",
    "\n",
    "# Global variable\n",
    "n_qubits = 4"
   ]
  },
  {
   "cell_type": "markdown",
   "id": "51015ec9",
   "metadata": {},
   "source": [
    "## Hamiltonian\n",
    "$H=3Z+2X+I$"
   ]
  },
  {
   "cell_type": "code",
   "execution_count": 2,
   "id": "d15c45eb",
   "metadata": {},
   "outputs": [],
   "source": [
    "\"\"\"\n",
    "Creates a*I + b*Z + c*X + d*Y pauli sum \n",
    "that will be our Hamiltonian operator.\n",
    "\n",
    "\"\"\"\n",
    "weight = torch.tensor([1., 3., 2., 0.])"
   ]
  },
  {
   "cell_type": "markdown",
   "id": "fa75773f",
   "metadata": {},
   "source": [
    "### Compute exact solution of ground state energy"
   ]
  },
  {
   "cell_type": "markdown",
   "id": "a5a0d59a-32ea-4750-9215-485884d8f7e8",
   "metadata": {},
   "source": [
    "#### Need to install qiskit and qiskit-aqua"
   ]
  },
  {
   "cell_type": "code",
   "execution_count": 3,
   "id": "72e51d68",
   "metadata": {},
   "outputs": [
    {
     "name": "stdout",
     "output_type": "stream",
     "text": [
      "The exact ground state energy is: -2.6055512754639896\n"
     ]
    }
   ],
   "source": [
    "from qiskit.aqua.operators import WeightedPauliOperator\n",
    "from qiskit.aqua.algorithms import NumPyEigensolver\n",
    "\n",
    "def hamiltonian_operator(a, b, c, d):\n",
    "    \"\"\"\n",
    "    Creates a*I + b*Z + c*X + d*Y pauli sum \n",
    "    that will be our Hamiltonian operator.\n",
    "    \n",
    "    \"\"\"\n",
    "    pauli_dict = {\n",
    "        'paulis': [{\"coeff\": {\"imag\": 0.0, \"real\": a}, \"label\": \"I\"},\n",
    "                   {\"coeff\": {\"imag\": 0.0, \"real\": b}, \"label\": \"Z\"},\n",
    "                   {\"coeff\": {\"imag\": 0.0, \"real\": c}, \"label\": \"X\"},\n",
    "                   {\"coeff\": {\"imag\": 0.0, \"real\": d}, \"label\": \"Y\"}\n",
    "                   ]\n",
    "    }\n",
    "    return WeightedPauliOperator.from_dict(pauli_dict)\n",
    "H = hamiltonian_operator(weight[0], weight[1], weight[2], weight[3])\n",
    "exact_result = NumPyEigensolver(H).run()\n",
    "reference_energy = min(np.real(exact_result.eigenvalues))\n",
    "print('The exact ground state energy is: {}'.format(reference_energy))"
   ]
  },
  {
   "cell_type": "markdown",
   "id": "4b359849",
   "metadata": {},
   "source": [
    "## Circuit Definition"
   ]
  },
  {
   "cell_type": "markdown",
   "id": "4e984fd7",
   "metadata": {},
   "source": [
    "#### Eigenvalue of hamiltonian \n",
    "\n",
    "E = $\\langle \\psi |H|\\psi\\rangle = 3\\langle\\psi | Z|\\psi\\rangle+\\langle\\psi | X|\\psi\\rangle+\\langle\\psi | I|\\psi\\rangle $\n",
    "\n",
    "#### Ansatz wavefunction\n",
    "\n",
    "$|\\psi\\rangle = R_y (\\theta) |0\\rangle = c_z^1|0\\rangle+c_z^2|1\\rangle = c_y^1|+i\\rangle+c_y^2|-i\\rangle = c_x^1|+\\rangle+c_x^2|-\\rangle$"
   ]
  },
  {
   "cell_type": "code",
   "execution_count": 4,
   "id": "7b66852c",
   "metadata": {},
   "outputs": [],
   "source": [
    "def ansatz(theta):\n",
    "    for j in range(n_qubits):\n",
    "        qai.RY(theta[j], qubits=[j])"
   ]
  },
  {
   "cell_type": "code",
   "execution_count": 5,
   "id": "58a8b7c2",
   "metadata": {},
   "outputs": [],
   "source": [
    "def circuitDef(theta):\n",
    "    ansatz(theta)\n",
    "    \n",
    "    qai.Hadamard(qubits=[2])\n",
    "    qai.S(qubits=[3])\n",
    "    qai.Hadamard(qubits=[3])\n",
    "    \n",
    "    qai.measurement.expval(qai.I(qubits=[0]))\n",
    "    qai.measurement.expval(qai.PauliZ(qubits=[1]))\n",
    "    qai.measurement.expval(qai.PauliZ(qubits=[2]))\n",
    "    qai.measurement.expval(qai.PauliZ(qubits=[3]))"
   ]
  },
  {
   "cell_type": "code",
   "execution_count": 6,
   "id": "7ec65e13",
   "metadata": {},
   "outputs": [
    {
     "name": "stdout",
     "output_type": "stream",
     "text": [
      "log10(flops) of this quantum circuit:   2.5263392773899733\n"
     ]
    }
   ],
   "source": [
    "circuit = qai.Circuit(circuitDef, n_qubits, torch.zeros(n_qubits))\n",
    "compiledCircuit = circuit.compilecircuit('pytorch')"
   ]
  },
  {
   "cell_type": "code",
   "execution_count": 7,
   "id": "b3aa7902",
   "metadata": {},
   "outputs": [
    {
     "data": {
      "image/png": "[encoded data removed]",
      "text/plain": [
       "<Figure size 360x360 with 1 Axes>"
      ]
     },
     "metadata": {},
     "output_type": "display_data"
    }
   ],
   "source": [
    "drawer = qai.matplotlib_drawer(circuit, figsize=(5,5), scale=1.4)\n",
    "drawer.draw_circuit()"
   ]
  },
  {
   "cell_type": "markdown",
   "id": "441f242d",
   "metadata": {},
   "source": [
    "## Optimization\n",
    "\n",
    "### Define cost function\n"
   ]
  },
  {
   "cell_type": "code",
   "execution_count": 8,
   "id": "a305cc00",
   "metadata": {},
   "outputs": [],
   "source": [
    "def cost(*params):\n",
    "    x = params[0]\n",
    "    exp_val = compiledCircuit(x*torch.ones([n_qubits], requires_grad=True))\n",
    "    return torch.dot(weight,exp_val)"
   ]
  },
  {
   "cell_type": "markdown",
   "id": "6b62f715",
   "metadata": {},
   "source": [
    "### Define optimizer"
   ]
  },
  {
   "cell_type": "code",
   "execution_count": 9,
   "id": "f1436cc1",
   "metadata": {},
   "outputs": [],
   "source": [
    "Optimizer = qai.GradientDescentOptimizer(cost, [0], 0.1, interface=\"pytorch\")"
   ]
  },
  {
   "cell_type": "code",
   "execution_count": 10,
   "id": "c19db5cb",
   "metadata": {},
   "outputs": [],
   "source": [
    "init_value = torch.tensor(0.3, requires_grad=True)"
   ]
  },
  {
   "cell_type": "markdown",
   "id": "9069b2ba",
   "metadata": {},
   "source": [
    "### Optimization"
   ]
  },
  {
   "cell_type": "code",
   "execution_count": 11,
   "id": "bfe3dff9",
   "metadata": {},
   "outputs": [
    {
     "name": "stdout",
     "output_type": "stream",
     "text": [
      "Cost after step    20: -2.6055133\n",
      "Parameters after step    20: -2.549006223678589\n",
      "Cost after step    40: -2.6055512\n",
      "Parameters after step    40: -2.553589344024658\n",
      "Cost after step    60: -2.6055508\n",
      "Parameters after step    60: -2.5535898208618164\n",
      "Cost after step    80: -2.6055508\n",
      "Parameters after step    80: -2.5535898208618164\n",
      "Cost after step   100: -2.6055508\n",
      "Parameters after step   100: -2.5535898208618164\n"
     ]
    }
   ],
   "source": [
    "new_params = (init_value)\n",
    "\n",
    "opt_t_list = np.array([])\n",
    "opt_c_list = np.array([])\n",
    "\n",
    "opt_t_list = np.append(opt_t_list, new_params.item())\n",
    "opt_c_list = np.append(opt_c_list, cost(new_params).item())\n",
    "for i in range(100):\n",
    "    new_params = Optimizer.step(new_params)[0]\n",
    "    if (i + 1) % 5 == 0:\n",
    "        opt_t_list = np.append(opt_t_list, new_params.item())\n",
    "        opt_c_list = np.append(opt_c_list, cost(new_params).item())\n",
    "    if (i + 1) % 20 == 0:\n",
    "        \n",
    "        print(\"Cost after step {:5d}: {: .7f}\".format(i + 1, cost(new_params)))\n",
    "        print(\"Parameters after step {:5d}: {}\".format(i + 1, new_params))\n",
    "computed_energy = cost((new_params))"
   ]
  },
  {
   "cell_type": "markdown",
   "id": "c6010333",
   "metadata": {},
   "source": [
    "### Plot"
   ]
  },
  {
   "cell_type": "code",
   "execution_count": 12,
   "id": "5946e85a",
   "metadata": {},
   "outputs": [],
   "source": [
    "t_list = np.linspace(0, 2*np.pi, 101)\n",
    "c_list = np.array([])\n",
    "for t in t_list:\n",
    "    c_list = np.append(c_list, cost(t).item())"
   ]
  },
  {
   "cell_type": "code",
   "execution_count": 13,
   "id": "29439a11",
   "metadata": {},
   "outputs": [
    {
     "data": {
      "image/png": "[encoded data removed]",
      "text/plain": [
       "<Figure size 432x288 with 1 Axes>"
      ]
     },
     "metadata": {
      "needs_background": "light"
     },
     "output_type": "display_data"
    }
   ],
   "source": [
    "plt.plot(t_list, c_list)\n",
    "plt.plot((opt_t_list)%(2*np.pi), opt_c_list)\n",
    "plt.xlabel('Theta')\n",
    "plt.ylabel('Energy')\n",
    "plt.show()"
   ]
  },
  {
   "cell_type": "markdown",
   "id": "8dcfdf54",
   "metadata": {},
   "source": [
    "## Result"
   ]
  },
  {
   "cell_type": "code",
   "execution_count": 14,
   "id": "dcf1ebed",
   "metadata": {},
   "outputs": [
    {
     "name": "stdout",
     "output_type": "stream",
     "text": [
      "The exact ground state energy is: \t-2.6055513\n",
      "The computed ground state energy is: \t-2.6055508\n",
      "Error is -0.00002%\n"
     ]
    }
   ],
   "source": [
    "print('The exact ground state energy is: \\t{: .7f}'.format(reference_energy))\n",
    "print('The computed ground state energy is: \\t{: .7f}'.format(computed_energy))\n",
    "print('Error is {: .5f}%'.format((computed_energy-reference_energy)/computed_energy*100))"
   ]
  },
  {
   "cell_type": "code",
   "execution_count": null,
   "id": "f38594b8-f6eb-44c6-8b8c-4f59e6f6ae7b",
   "metadata": {},
   "outputs": [],
   "source": []
  }
 ],
 "metadata": {
  "kernelspec": {
   "display_name": "Python 3 (ipykernel)",
   "language": "python",
   "name": "python3"
  },
  "language_info": {
   "codemirror_mode": {
    "name": "ipython",
    "version": 3
   },
   "file_extension": ".py",
   "mimetype": "text/x-python",
   "name": "python",
   "nbconvert_exporter": "python",
   "pygments_lexer": "ipython3",
   "version": "3.9.7"
  }
 },
 "nbformat": 4,
 "nbformat_minor": 5
}
