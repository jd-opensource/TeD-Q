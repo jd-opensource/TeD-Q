{
 "cells": [
  {
   "cell_type": "code",
   "execution_count": null,
   "metadata": {
    "colab": {
     "base_uri": "https://localhost:8080/"
    },
    "id": "gdTUPhmI3vge",
    "outputId": "357b07a4-bf90-4b43-fee1-9fac0582b165"
   },
   "outputs": [],
   "source": [
    "!git clone https://github.com/JDEA-Quantum-Lab/TeD-Q.git"
   ]
  },
  {
   "cell_type": "code",
   "execution_count": null,
   "metadata": {
    "id": "bSZyzi9qZVYZ"
   },
   "outputs": [],
   "source": [
    "!rm -rf TeD-Q"
   ]
  },
  {
   "cell_type": "code",
   "execution_count": null,
   "metadata": {
    "id": "uAOOXy9q4Jzz"
   },
   "outputs": [],
   "source": [
    "\n",
    "!pip install numpy torch jax jaxlib matplotlib panel jupyterlab ipywidgets toolz ray\n"
   ]
  },
  {
   "cell_type": "code",
   "execution_count": null,
   "metadata": {
    "colab": {
     "base_uri": "https://localhost:8080/"
    },
    "id": "IwkUNkDK43kU",
    "outputId": "fb76dd3d-76a1-4e34-b26a-d4cc4724d3c8"
   },
   "outputs": [],
   "source": [
    "!pip uninstall tedq"
   ]
  },
  {
   "cell_type": "code",
   "execution_count": null,
   "metadata": {
    "colab": {
     "base_uri": "https://localhost:8080/"
    },
    "id": "5EaNuMPw5qt0",
    "outputId": "78bfbadd-d907-4bfb-f228-31996303e92c"
   },
   "outputs": [],
   "source": [
    "!pip install -e ."
   ]
  },
  {
   "cell_type": "code",
   "execution_count": null,
   "metadata": {
    "id": "-pty39lx3_EV"
   },
   "outputs": [],
   "source": [
    "!git clone https://github.com/JDEA-Quantum-Lab/JDtensorPath.git"
   ]
  },
  {
   "cell_type": "code",
   "execution_count": null,
   "metadata": {
    "id": "Jk5tbbam4Z0s"
   },
   "outputs": [],
   "source": [
    "!cd ../JDtensorPath\n",
    "!pip install tedq kahypar==1.1.6\n",
    "!pip install -e ."
   ]
  },
  {
   "cell_type": "code",
   "execution_count": null,
   "metadata": {
    "id": "0kIYBX0W5w4i"
   },
   "outputs": [],
   "source": [
    "import tedq as qai\n",
    "from matplotlib import pyplot as plt\n",
    "import numpy as np\n",
    "import scipy\n",
    "import networkx as nx\n",
    "import copy"
   ]
  },
  {
   "cell_type": "code",
   "execution_count": null,
   "metadata": {
    "id": "GJHafZfC6rC6"
   },
   "outputs": [],
   "source": [
    "!pip install qiskit"
   ]
  },
  {
   "cell_type": "code",
   "execution_count": null,
   "metadata": {
    "id": "XH4cogfe7i-k"
   },
   "outputs": [],
   "source": [
    "!pip uninstall tornado -y"
   ]
  },
  {
   "cell_type": "code",
   "execution_count": null,
   "metadata": {
    "id": "xO3pe_lq8R4c"
   },
   "outputs": [],
   "source": [
    "!pip install jinja2==3.0.1"
   ]
  },
  {
   "cell_type": "code",
   "execution_count": null,
   "metadata": {
    "id": "x66MGaVU7nsM"
   },
   "outputs": [],
   "source": [
    "!yes | pip install tornado==5.1.0"
   ]
  },
  {
   "cell_type": "code",
   "execution_count": null,
   "metadata": {
    "colab": {
     "base_uri": "https://localhost:8080/"
    },
    "id": "D6jbIo6D6dA0",
    "outputId": "d6188a85-1d6d-46f7-85f7-cf68e4fac9c5"
   },
   "outputs": [],
   "source": [
    "!pip install networkx"
   ]
  },
  {
   "cell_type": "code",
   "execution_count": null,
   "metadata": {
    "colab": {
     "base_uri": "https://localhost:8080/",
     "height": 336
    },
    "id": "im7BF2RY6Ofr",
    "outputId": "330e5de0-0854-4cbb-8dbd-0c0eb56003ab"
   },
   "outputs": [],
   "source": [
    "qubit_number = 4\n",
    "qubits = range(qubit_number)\n",
    "ising_graph = nx.cycle_graph(qubit_number)\n",
    "\n",
    "print(f\"Edges: {ising_graph.edges}\")\n",
    "nx.draw(ising_graph)"
   ]
  },
  {
   "cell_type": "code",
   "execution_count": null,
   "metadata": {
    "colab": {
     "base_uri": "https://localhost:8080/",
     "height": 275
    },
    "id": "qlRdiKps9WFr",
    "outputId": "7b6081ae-91cc-46fb-8461-f6b488b98b49"
   },
   "outputs": [],
   "source": [
    "target_weights = [0.56, 1.24, 1.67, -0.79]\n",
    "target_bias = [-1.44, -1.43, 1.18, -0.93]\n",
    "def create_hamiltonian_matrix(n_qubits, graph, weights, bias):\n",
    "\n",
    "    full_matrix = np.zeros((2 ** n_qubits, 2 ** n_qubits))\n",
    "\n",
    "    # Creates the interaction component of the Hamiltonian\n",
    "    for i, edge in enumerate(graph.edges):\n",
    "        interaction_term = 1\n",
    "        for qubit in range(0, n_qubits):\n",
    "            if qubit in edge:\n",
    "                Z = np.array([[ 1,  0],[ 0, -1]])\n",
    "                interaction_term = np.kron(interaction_term, Z)\n",
    "            else:\n",
    "                interaction_term = np.kron(interaction_term, np.identity(2))\n",
    "        full_matrix += weights[i] * interaction_term\n",
    "\n",
    "    # Creates the bias components of the matrix\n",
    "    for i in range(0, n_qubits):\n",
    "        z_term = x_term = 1\n",
    "        for j in range(0, n_qubits):\n",
    "            if j == i:\n",
    "                Z = np.array([[ 1,  0],[ 0, -1]])\n",
    "                X = np.array([[0, 1],\n",
    "       [1, 0]])\n",
    "                z_term = np.kron(z_term, Z)\n",
    "                x_term = np.kron(x_term, X)\n",
    "            else:\n",
    "                z_term = np.kron(z_term, np.identity(2))\n",
    "                x_term = np.kron(x_term, np.identity(2))\n",
    "        full_matrix += bias[i] * z_term + x_term\n",
    "\n",
    "    return full_matrix\n",
    "\n",
    "\n",
    "# Prints a visual representation of the Hamiltonian matrix\n",
    "ham_matrix = create_hamiltonian_matrix(qubit_number, ising_graph, target_weights, target_bias)\n",
    "plt.matshow(ham_matrix, cmap=\"hot\")\n",
    "plt.show()"
   ]
  },
  {
   "cell_type": "code",
   "execution_count": 1,
   "metadata": {
    "colab": {
     "base_uri": "https://localhost:8080/"
    },
    "id": "IAA-7HWJCr9_",
    "outputId": "4f94d6b2-177f-4ca4-f956-c3a3dae4a5c9"
   },
   "outputs": [
    {
     "ename": "NameError",
     "evalue": "name 'np' is not defined",
     "output_type": "error",
     "traceback": [
      "\u001b[0;31m---------------------------------------------------------------------------\u001b[0m",
      "\u001b[0;31mNameError\u001b[0m                                 Traceback (most recent call last)",
      "\u001b[0;32m/tmp/ipykernel_857359/2225070588.py\u001b[0m in \u001b[0;36m<module>\u001b[0;34m\u001b[0m\n\u001b[1;32m     17\u001b[0m     \u001b[0;34m(\u001b[0m\u001b[0;34m-\u001b[0m\u001b[0;36m0.041350974715649635\u001b[0m \u001b[0;34m+\u001b[0m \u001b[0;36m0.012650711602265649j\u001b[0m\u001b[0;34m)\u001b[0m\u001b[0;34m,\u001b[0m\u001b[0;34m\u001b[0m\u001b[0;34m\u001b[0m\u001b[0m\n\u001b[1;32m     18\u001b[0m ]\n\u001b[0;32m---> 19\u001b[0;31m \u001b[0mres\u001b[0m \u001b[0;34m=\u001b[0m \u001b[0mnp\u001b[0m\u001b[0;34m.\u001b[0m\u001b[0mvdot\u001b[0m\u001b[0;34m(\u001b[0m\u001b[0mlow_energy_state\u001b[0m\u001b[0;34m,\u001b[0m \u001b[0;34m(\u001b[0m\u001b[0mham_matrix\u001b[0m \u001b[0;34m@\u001b[0m \u001b[0mlow_energy_state\u001b[0m\u001b[0;34m)\u001b[0m\u001b[0;34m)\u001b[0m\u001b[0;34m\u001b[0m\u001b[0;34m\u001b[0m\u001b[0m\n\u001b[0m\u001b[1;32m     20\u001b[0m \u001b[0menergy_exp\u001b[0m \u001b[0;34m=\u001b[0m \u001b[0mnp\u001b[0m\u001b[0;34m.\u001b[0m\u001b[0mreal_if_close\u001b[0m\u001b[0;34m(\u001b[0m\u001b[0mres\u001b[0m\u001b[0;34m)\u001b[0m\u001b[0;34m\u001b[0m\u001b[0;34m\u001b[0m\u001b[0m\n\u001b[1;32m     21\u001b[0m \u001b[0mprint\u001b[0m\u001b[0;34m(\u001b[0m\u001b[0;34mf\"Energy Expectation: {energy_exp}\"\u001b[0m\u001b[0;34m)\u001b[0m\u001b[0;34m\u001b[0m\u001b[0;34m\u001b[0m\u001b[0m\n",
      "\u001b[0;31mNameError\u001b[0m: name 'np' is not defined"
     ]
    }
   ],
   "source": [
    "low_energy_state = [\n",
    "    (-0.054661080280306085 + 0.016713907320174026j),\n",
    "    (0.12290003656489545 - 0.03758500591109822j),\n",
    "    (0.3649337966440005 - 0.11158863596657455j),\n",
    "    (-0.8205175732627094 + 0.25093231967092877j),\n",
    "    (0.010369790825776609 - 0.0031706387262686003j),\n",
    "    (-0.02331544978544721 + 0.007129899300113728j),\n",
    "    (-0.06923183949694546 + 0.0211684344103713j),\n",
    "    (0.15566094863283836 - 0.04760201916285508j),\n",
    "    (0.014520590919500158 - 0.004441887836078486j),\n",
    "    (-0.032648113364535575 + 0.009988590222879195j),\n",
    "    (-0.09694382811137187 + 0.02965579457620536j),\n",
    "    (0.21796861485652747 - 0.06668776658411019j),\n",
    "    (-0.0027547112135013247 + 0.0008426289322652901j),\n",
    "    (0.006193695872468649 - 0.0018948418969390599j),\n",
    "    (0.018391279795405405 - 0.005625722994009138j),\n",
    "    (-0.041350974715649635 + 0.012650711602265649j),\n",
    "]\n",
    "res = np.vdot(low_energy_state, (ham_matrix @ low_energy_state))\n",
    "energy_exp = np.real_if_close(res)\n",
    "print(f\"Energy Expectation: {energy_exp}\")\n",
    "\n",
    "\n",
    "ground_state_energy = np.real_if_close(min(np.linalg.eig(ham_matrix)[0]))\n",
    "print(f\"Ground State Energy: {ground_state_energy}\")"
   ]
  },
  {
   "cell_type": "code",
   "execution_count": 4,
   "metadata": {},
   "outputs": [
    {
     "data": {
      "text/plain": [
       "256"
      ]
     },
     "execution_count": 4,
     "metadata": {},
     "output_type": "execute_result"
    }
   ],
   "source": [
    "import numpy as np\n",
    "len(np.kron(low_energy_state, low_energy_state))"
   ]
  },
  {
   "cell_type": "code",
   "execution_count": null,
   "metadata": {
    "id": "qQKUqEJQAAYn"
   },
   "outputs": [],
   "source": [
    "np.linalg.eig(ham_matrix)"
   ]
  },
  {
   "cell_type": "code",
   "execution_count": null,
   "metadata": {},
   "outputs": [],
   "source": []
  },
  {
   "cell_type": "code",
   "execution_count": null,
   "metadata": {
    "colab": {
     "base_uri": "https://localhost:8080/"
    },
    "id": "LToefCdvK6Oc",
    "outputId": "16c71440-1d4d-44d2-faba-f34126946ae2"
   },
   "outputs": [],
   "source": [
    "!pip install pennylane"
   ]
  },
  {
   "cell_type": "code",
   "execution_count": null,
   "metadata": {
    "id": "VXVgwdv-LDAc"
   },
   "outputs": [],
   "source": [
    "import pennylane as qml"
   ]
  },
  {
   "cell_type": "code",
   "execution_count": null,
   "metadata": {
    "id": "b5FheLQKFvuW"
   },
   "outputs": [],
   "source": [
    "def state_evolve(hamiltonian, qubits, time):\n",
    "\n",
    "    U = scipy.linalg.expm(-1j * hamiltonian * time)\n",
    "    qai.QubitUnitary(U, wires=qubits)"
   ]
  },
  {
   "cell_type": "code",
   "execution_count": null,
   "metadata": {
    "id": "Skz5j3OrHpGN"
   },
   "outputs": [],
   "source": [
    "def qgrnn_layer(weights, bias, qubits, graph, trotter_step):\n",
    "    print(1.1)\n",
    "    # Applies a layer of RZZ gates (based on a graph)\n",
    "    for i, edge in enumerate(graph.edges):\n",
    "        qml.MultiRZ(2 * weights[i] * trotter_step, wires=(edge[0], edge[1]))\n",
    "       # qai.RZ(2 *  weights[i], qubits=[edge[0]])\n",
    "       # qai.RZ(trotter_step, qubits=[edge[1]])\n",
    "    print(1.2)\n",
    "    # Applies a layer of RZ gates\n",
    "    for i, qubit in enumerate(qubits):\n",
    "        print(1.21)\n",
    "        qai.RZ(2 * bias[i] * trotter_step, qubits=[qubit])\n",
    "    print(1.3)\n",
    "    # Applies a layer of RX gates\n",
    "    for qubit in qubits:\n",
    "        qai.RX(2 * trotter_step, qubits=[qubit])"
   ]
  },
  {
   "cell_type": "code",
   "execution_count": null,
   "metadata": {
    "id": "uyMfmaDnfuj9"
   },
   "outputs": [],
   "source": [
    "for i, edge in enumerate(new_ising_graph.edges):\n",
    "  print(edge[0], edge[1])"
   ]
  },
  {
   "cell_type": "code",
   "execution_count": null,
   "metadata": {
    "id": "106_T4LtHyjM"
   },
   "outputs": [],
   "source": [
    "def swap_test(control, register1, register2):\n",
    "    #print(2.1)\n",
    "    qai.Hadamard(qubits=[control])\n",
    "    for reg1_qubit, reg2_qubit in zip(register1, register2):\n",
    "        #print(2.2)\n",
    "        qai.CSWAP(qubits=(control, reg1_qubit, reg2_qubit))\n",
    "    #print(2.3)\n",
    "    qai.Hadamard(qubits=[control])"
   ]
  },
  {
   "cell_type": "code",
   "execution_count": null,
   "metadata": {
    "colab": {
     "base_uri": "https://localhost:8080/",
     "height": 336
    },
    "id": "-L6MoxSZH9o9",
    "outputId": "5639257c-951b-4220-863f-02c3b75a154b"
   },
   "outputs": [],
   "source": [
    "# Defines some fixed values\n",
    "import torch\n",
    "reg1 = tuple(range(qubit_number))  # First qubit register\n",
    "reg2 = tuple(range(qubit_number, 2 * qubit_number))  # Second qubit register\n",
    "\n",
    "control = 2 * qubit_number  # Index of control qubit\n",
    "trotter_step = torch.tensor(0.01)  # Trotter step size\n",
    "\n",
    "# Defines the interaction graph for the new qubit system\n",
    "\n",
    "new_ising_graph = nx.complete_graph(reg2)\n",
    "\n",
    "print(f\"Edges: {new_ising_graph.edges}\")\n",
    "nx.draw(new_ising_graph)"
   ]
  },
  {
   "cell_type": "code",
   "execution_count": null,
   "metadata": {
    "id": "cusDJX_gIBKt"
   },
   "outputs": [],
   "source": [
    "\n",
    "#torch.nn.Parameter(torch.tensor(rng.random(size=len(new_ising_graph.edges))), requires_grad=True) - 0.5\n",
    "#bias = torch.nn.Parameter(torch.tensor(rng.random(size=qubit_number)), requires_grad=True) - 0.5\n",
    "\n",
    "def qgrnn(weights, bias, time):\n",
    "  \n",
    "    # Prepares the low energy state in the two registers\n",
    "    qml.QubitStateVector(np.kron(low_energy_state, low_energy_state), wires=reg1 + reg2)\n",
    "    #qai.QubitStateVector(np.kron(low_energy_state, low_energy_state), wires=reg1 + reg2)\n",
    "\n",
    "    # Evolves the first qubit register with the time-evolution circuit to\n",
    "    # prepare a piece of quantum data\n",
    "    # re_all = np.kron(low_energy_state, low_energy_state)\n",
    "    # U = scipy.linalg.expm(-1j * ham_matrix * time)\n",
    "    # re1 = np.matmul(U, re_all[reg1])\n",
    "    # re2 = re_all[reg2]\n",
    "   # print(0)\n",
    "    state_evolve(ham_matrix, reg1, time)\n",
    "   # print(1)\n",
    "    #time = 1\n",
    "    # Applies the QGRNN layers to the second qubit register\n",
    "    depth = time / trotter_step  # P = t/Delta\n",
    "    for _ in range(0, int(depth)):\n",
    "        qgrnn_layer(weights, bias, reg2, new_ising_graph, trotter_step)\n",
    "    print(2)\n",
    "    # Applies the SWAP test between the registers\n",
    "    swap_test(control, reg1, reg2)\n",
    "    print(3)\n",
    "    # Returns the results of the SWAP test\n",
    "    #Re = qai.PauliZ(qubits = [control])\n",
    "    print(4)\n",
    "    #print(Re)\n",
    "    #import pdb\n",
    "    #pdb.set_trace()\n",
    "\n",
    "   # qai.measurement.expval(qai.PauliZ(qubits=[control]))#[qai.expval(qai.PauliZ(qubits=[position])) for position in range(control)] \n",
    "    \n",
    "    print(6)\n",
    "    return qai.measurement.expval(qai.PauliZ(qubits=[control]))#qai.measurement.expval(qai.PauliZ(qubits=[1]))"
   ]
  },
  {
   "cell_type": "markdown",
   "metadata": {
    "id": "3iBWC0wjUjpk"
   },
   "source": []
  },
  {
   "cell_type": "code",
   "execution_count": null,
   "metadata": {
    "id": "jQnW_TuxISil"
   },
   "outputs": [],
   "source": [
    "N = 15  # The number of pieces of quantum data that are used for each step\n",
    "max_time = 0.1  # The maximum value of time that can be used for quantum data"
   ]
  },
  {
   "cell_type": "code",
   "execution_count": null,
   "metadata": {
    "id": "Nx17yC_yITTV"
   },
   "outputs": [],
   "source": [
    "rng = np.random.default_rng(seed=42)\n",
    "def cost_function(weight_params, bias_params):\n",
    "\n",
    "    # Randomly samples times at which the QGRNN runs\n",
    "    times_sampled = rng.random(size=N) * max_time\n",
    "    print(7)\n",
    "    # Cycles through each of the sampled times and calculates the cost\n",
    "    total_cost = 0\n",
    "    for dt in times_sampled:\n",
    "        print(8)\n",
    "        result = qgrnn(weight_params, bias_params, time=dt)\n",
    "        print(9)\n",
    "        total_cost += -1 * result\n",
    "\n",
    "    return total_cost / N"
   ]
  },
  {
   "cell_type": "code",
   "execution_count": null,
   "metadata": {},
   "outputs": [],
   "source": []
  },
  {
   "cell_type": "code",
   "execution_count": null,
   "metadata": {},
   "outputs": [],
   "source": []
  },
  {
   "cell_type": "code",
   "execution_count": null,
   "metadata": {},
   "outputs": [],
   "source": []
  },
  {
   "cell_type": "code",
   "execution_count": null,
   "metadata": {},
   "outputs": [],
   "source": []
  },
  {
   "cell_type": "code",
   "execution_count": null,
   "metadata": {},
   "outputs": [],
   "source": [
    "def ted_state_evolve(hamiltonian, qubits, time):\n",
    "\n",
    "    U = scipy.linalg.expm(-1j * hamiltonian * time)\n",
    "    #print(qubits)\n",
    "    qai.Unitary(U, qubits=list(qubits))"
   ]
  },
  {
   "cell_type": "code",
   "execution_count": null,
   "metadata": {},
   "outputs": [],
   "source": [
    "def ted_qgrnn_layer(weights, bias, qubits, graph, trotter_step):\n",
    "    print(1.1)\n",
    "    # Applies a layer of RZZ gates (based on a graph)\n",
    "    #for i, edge in enumerate(graph.edges):\n",
    "    #    qml.MultiRZ(2 * weights[i] * trotter_step, qubits=[edge[0], edge[1]])\n",
    "    #   # qai.RZ(2 *  weights[i], qubits=[edge[0]])\n",
    "    #   # qai.RZ(trotter_step, qubits=[edge[1]])\n",
    "    #print(1.2)\n",
    "    # Applies a layer of RZ gates\n",
    "    for i, qubit in enumerate(qubits):\n",
    "        #print(1.21)\n",
    "        #print(qubit)\n",
    "        qai.RZ(2 * bias[i] * trotter_step, qubits=[qubit])\n",
    "    #print(1.3)\n",
    "    # Applies a layer of RX gates\n",
    "    for qubit in qubits:\n",
    "        qai.RX(2 * trotter_step, qubits=[qubit])"
   ]
  },
  {
   "cell_type": "code",
   "execution_count": null,
   "metadata": {},
   "outputs": [],
   "source": [
    "\n",
    "\n",
    "def ted_qgrnn(weights, bias, time):\n",
    "  \n",
    "    # Prepares the low energy state in the two registers\n",
    "    #qml.QubitStateVector(np.kron(low_energy_state, low_energy_state), wires=reg1 + reg2)\n",
    "    qai.IintStateVector(np.kron(low_energy_state, low_energy_state))\n",
    "\n",
    "    # Evolves the first qubit register with the time-evolution circuit to\n",
    "    # prepare a piece of quantum data\n",
    "    # re_all = np.kron(low_energy_state, low_energy_state)\n",
    "    # U = scipy.linalg.expm(-1j * ham_matrix * time)\n",
    "    # re1 = np.matmul(U, re_all[reg1])\n",
    "    # re2 = re_all[reg2]\n",
    "   # print(0)\n",
    "    ted_state_evolve(ham_matrix, reg1, time)\n",
    "   # print(1)\n",
    "    #time = 1\n",
    "    # Applies the QGRNN layers to the second qubit register\n",
    "    depth = time / trotter_step  # P = t/Delta\n",
    "    for _ in range(0, int(depth)):\n",
    "        ted_qgrnn_layer(weights, bias, reg2, new_ising_graph, trotter_step)\n",
    "    #print(2)\n",
    "    # Applies the SWAP test between the registers\n",
    "    #swap_test(control, reg1, reg2)\n",
    "    #print(3)\n",
    "    # Returns the results of the SWAP test\n",
    "    #Re = qai.PauliZ(qubits = [control])\n",
    "    #print(4)\n",
    "    #print(Re)\n",
    "    #import pdb\n",
    "    #pdb.set_trace()\n",
    "\n",
    "   # qai.measurement.expval(qai.PauliZ(qubits=[control]))#[qai.expval(qai.PauliZ(qubits=[position])) for position in range(control)] \n",
    "    \n",
    "    #print(6)\n",
    "    return qai.measurement.expval(qai.PauliZ(qubits=[control]))#qai.measurement.expval(qai.PauliZ(qubits=[1]))"
   ]
  },
  {
   "cell_type": "code",
   "execution_count": null,
   "metadata": {},
   "outputs": [],
   "source": []
  },
  {
   "cell_type": "code",
   "execution_count": null,
   "metadata": {},
   "outputs": [],
   "source": []
  },
  {
   "cell_type": "code",
   "execution_count": null,
   "metadata": {},
   "outputs": [],
   "source": []
  },
  {
   "cell_type": "code",
   "execution_count": null,
   "metadata": {
    "colab": {
     "base_uri": "https://localhost:8080/",
     "height": 1000
    },
    "id": "ClKWoplEIVc9",
    "outputId": "8d5e287b-ed92-4e8a-9b43-1c38fe19cd9e"
   },
   "outputs": [],
   "source": [
    "import torch\n",
    "# Defines the new device\n",
    "#qgrnn_dev = qai.device(\"default.qubit\", wires=2 * qubit_number + 1)\n",
    "\n",
    "# Defines the new QNode\n",
    "#qgrnn_qnode = qai.QNode(qgrnn)\n",
    "rng = np.random.default_rng(seed=42)\n",
    "steps = 300\n",
    "\n",
    "#optimizer =  qai.GradientDescentOptimizer(stepsize=0.5, interface=\"pytorch\")\n",
    "weights = torch.rand(len(new_ising_graph.edges)) - 0.5\n",
    "bias = torch.rand(qubit_number) - 0.5\n",
    "print(weights,bias)\n",
    "\n",
    "initial_weights = copy.copy(weights)\n",
    "initial_bias = copy.copy(bias)\n",
    "#weights, bias, reg2, new_ising_graph, trotter_step\n",
    "#circuit = qai.Circuit(qgrnn_layer, qubit_number, weights, bias, reg2, new_ising_graph, trotter_step  )\n",
    "times_sampled = rng.random(size=1) * max_time\n",
    "circuit = qai.Circuit(ted_qgrnn, 9, weights, bias, times_sampled)#, weights, bias, torch.rand(qubit_number))\n",
    "print(6)\n",
    "my_compilecircuit = circuit.compilecircuit(backend=\"pytorch\" )"
   ]
  },
  {
   "cell_type": "code",
   "execution_count": null,
   "metadata": {},
   "outputs": [],
   "source": []
  },
  {
   "cell_type": "code",
   "execution_count": null,
   "metadata": {},
   "outputs": [],
   "source": []
  },
  {
   "cell_type": "code",
   "execution_count": null,
   "metadata": {},
   "outputs": [],
   "source": []
  },
  {
   "cell_type": "code",
   "execution_count": null,
   "metadata": {},
   "outputs": [],
   "source": []
  },
  {
   "cell_type": "code",
   "execution_count": null,
   "metadata": {},
   "outputs": [],
   "source": []
  },
  {
   "cell_type": "code",
   "execution_count": null,
   "metadata": {},
   "outputs": [],
   "source": [
    "def dressed_layer(parameters, weights, bias, qubits, graph, trotter_step):\n",
    "\n",
    "    for i, qubit in enumerate(qubits):\n",
    "        parameters.append(2 * bias[i] * trotter_step)\n",
    "\n",
    "    for qubit in qubits:\n",
    "        parameters.append(2 * trotter_step)"
   ]
  },
  {
   "cell_type": "code",
   "execution_count": null,
   "metadata": {},
   "outputs": [],
   "source": [
    "def dressed_compilecircuit(weights, bias, time):\n",
    "    parameters = []\n",
    "    depth = time / trotter_step  # P = t/Delta\n",
    "    for _ in range(0, int(depth)):\n",
    "        dressed_layer(parameters, weights, bias, reg2, new_ising_graph, trotter_step)\n",
    "    \n",
    "    print(\"len of parameters:\",  len(parameters))\n",
    "    parameters = torch.stack(parameters)\n",
    "    \n",
    "    circuit = qai.Circuit(ted_qgrnn, 9, weights, bias, time)#, weights, bias, torch.rand(qubit_number))\n",
    "    my_compilecircuit = circuit.compilecircuit(backend=\"pytorch\" )\n",
    "    \n",
    "    return my_compilecircuit(parameters)\n",
    "    "
   ]
  },
  {
   "cell_type": "code",
   "execution_count": null,
   "metadata": {},
   "outputs": [],
   "source": [
    "rng = np.random.default_rng(seed=42)\n",
    "N = 1\n",
    "def ted_cost_function(weight_params, bias_params):\n",
    "\n",
    "    # Randomly samples times at which the QGRNN runs\n",
    "    times_sampled = rng.random(size=N) * max_time\n",
    "    print(7)\n",
    "    # Cycles through each of the sampled times and calculates the cost\n",
    "    total_cost = 0\n",
    "    for dt in times_sampled:\n",
    "        print('cyc1')\n",
    "        result = dressed_compilecircuit(weight_params, bias_params, time=dt)\n",
    "        print(result)\n",
    "        print('cyc2')\n",
    "        total_cost += -1 * result\n",
    "\n",
    "    return total_cost / N"
   ]
  },
  {
   "cell_type": "code",
   "execution_count": null,
   "metadata": {},
   "outputs": [],
   "source": []
  },
  {
   "cell_type": "code",
   "execution_count": null,
   "metadata": {
    "id": "0M0mV3orPeck"
   },
   "outputs": [],
   "source": []
  },
  {
   "cell_type": "code",
   "execution_count": null,
   "metadata": {
    "colab": {
     "base_uri": "https://localhost:8080/",
     "height": 397
    },
    "id": "iCA4JuXL4E1t",
    "outputId": "618fca13-493b-4139-bdd2-fe52730b0a27"
   },
   "outputs": [],
   "source": [
    "from torch import optim\n",
    "#bias = bias.cuda()\n",
    "#weights = weights.cuda()\n",
    "weights.requires_grad = True\n",
    "bias.requires_grad = True\n",
    "\n",
    "optimizer = optim.Adam([weights, bias], lr=0.01)\n",
    "for i in range(0, steps):\n",
    "    optimizer.zero_grad()\n",
    "    #(weights, bias), cost = optimizer.step(cost_function)\n",
    "    loss = ted_cost_function(weights, bias)\n",
    "    loss.backward()\n",
    "    optimizer.step()\n",
    "    # Prints the value of the cost function\n",
    "    if i % 5 == 0:\n",
    "        print(f\"Cost at Step {i}: {loss}\")\n",
    "        print(f\"Weights at Step {i}: {weights}\")\n",
    "        print(f\"Bias at Step {i}: {bias}\")\n",
    "        print(\"---------------------------------------------\")"
   ]
  },
  {
   "cell_type": "code",
   "execution_count": null,
   "metadata": {
    "id": "JqSweXPI4HcM"
   },
   "outputs": [],
   "source": []
  },
  {
   "cell_type": "code",
   "execution_count": null,
   "metadata": {},
   "outputs": [],
   "source": []
  },
  {
   "cell_type": "code",
   "execution_count": null,
   "metadata": {},
   "outputs": [],
   "source": []
  }
 ],
 "metadata": {
  "accelerator": "GPU",
  "colab": {
   "collapsed_sections": [],
   "name": "quantum-JDEA.ipynb",
   "provenance": []
  },
  "gpuClass": "standard",
  "kernelspec": {
   "display_name": "Python 3 (ipykernel)",
   "language": "python",
   "name": "python3"
  },
  "language_info": {
   "codemirror_mode": {
    "name": "ipython",
    "version": 3
   },
   "file_extension": ".py",
   "mimetype": "text/x-python",
   "name": "python",
   "nbconvert_exporter": "python",
   "pygments_lexer": "ipython3",
   "version": "3.9.7"
  }
 },
 "nbformat": 4,
 "nbformat_minor": 4
}
