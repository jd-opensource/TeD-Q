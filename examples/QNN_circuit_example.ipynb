{
 "cells": [
  {
   "cell_type": "markdown",
   "id": "9276af6e",
   "metadata": {},
   "source": [
    "# Quantum neural network\n",
    "In this example, we show the method to use built-in template in the quantum circuit.\n",
    "There're three built templates in the TeD-Q module.\n",
    "1. Fully-connected circuit\n",
    "2. Hardware-efficient circuit\n",
    "3. Randomly-generated circuit"
   ]
  },
  {
   "cell_type": "code",
   "execution_count": null,
   "id": "f401dc50",
   "metadata": {},
   "outputs": [],
   "source": [
    "import tedq as qai\n",
    "\n",
    "# Related package\n",
    "import torch\n",
    "import numpy as np\n",
    "import matplotlib.pyplot as plt\n",
    "\n",
    "# Global variable\n",
    "n_qubits = 5\n",
    "n_layer=3"
   ]
  },
  {
   "cell_type": "markdown",
   "id": "869e105f",
   "metadata": {},
   "source": [
    "## Fully-connected circuit\n",
    "For a fully-connected circuit, each qubit is connected to all of the other qubits by CNOT gate in each layer. And each layer is followed by a trainable RY and RZ gate. This layer can be used for the fully-connected layer in quantum machine learning."
   ]
  },
  {
   "cell_type": "code",
   "execution_count": null,
   "id": "0f920ddc",
   "metadata": {},
   "outputs": [],
   "source": [
    "rand_params = np.random.uniform(high=2 * np.pi, size=((depth+1)*3, n_qubits))\n",
    "def circuitDef(theta):\n",
    "    for idx, element in enumerate(theta):\n",
    "        qai.RY(element, qubits=[idx], is_preparation=True)\n",
    "    qai.templates.FullyConnected(n_qubits, n_layer, rand_params)\n",
    "    \n",
    "    exp_vals = [qai.measurement.expval(qai.PauliZ(qubits=[position])) for position in range(n_qubits)]"
   ]
  },
  {
   "cell_type": "code",
   "execution_count": null,
   "id": "bd85e102",
   "metadata": {},
   "outputs": [],
   "source": [
    "circuit = qai.Circuit(circuitDef, n_qubits, torch.zeros(n_qubits))\n",
    "compiledCircuit = circuit.compilecircuit('pytorch')\n",
    "drawer = qai.matplotlib_drawer(circuit)\n",
    "drawer.draw_circuit()"
   ]
  },
  {
   "cell_type": "markdown",
   "id": "2e015566",
   "metadata": {},
   "source": [
    "## Hardware-efficient circuit\n",
    "The hardware-efficient circuit is a simplified version of fully-connected layer. The qubit only connected to the neighbor qubits in each layer, so that it can be efficiently operated in real quantum device. And each layer is followed by a trainable RY and RZ gate."
   ]
  },
  {
   "cell_type": "code",
   "execution_count": null,
   "id": "8abf06e2",
   "metadata": {},
   "outputs": [],
   "source": [
    "rand_params = np.random.uniform(high=2 * np.pi, size=((depth+1)*3, n_qubits))\n",
    "def circuitDef(theta):\n",
    "    for idx, element in enumerate(theta):\n",
    "        qai.RY(element, qubits=[idx], is_preparation=True)\n",
    "    qai.templates.HardwareEfficient(n_qubits, n_layer, rand_params)\n",
    "    \n",
    "    exp_vals = [qai.measurement.expval(qai.PauliZ(qubits=[position])) for position in range(n_qubits)]"
   ]
  },
  {
   "cell_type": "code",
   "execution_count": null,
   "id": "3c40f724",
   "metadata": {},
   "outputs": [],
   "source": [
    "circuit = qai.Circuit(circuitDef, n_qubits, torch.zeros(n_qubits))\n",
    "compiledCircuit = circuit.compilecircuit('pytorch')\n",
    "drawer = qai.matplotlib_drawer(circuit)\n",
    "drawer.draw_circuit()"
   ]
  },
  {
   "cell_type": "markdown",
   "id": "bdc4d8fa",
   "metadata": {},
   "source": [
    "## Randomly-generated circuit\n",
    "For the randomly generated circuit, the gates are randomly generated and connected to a qubits. User can set the ratio argument to control the ratio between two-qubit gate and single-qubit gate. The parameters in this circuit is not trainable and the circuit is served as a non-linear transformation of the input state."
   ]
  },
  {
   "cell_type": "code",
   "execution_count": null,
   "id": "a3a2ae11",
   "metadata": {},
   "outputs": [],
   "source": [
    "rand_params = np.random.uniform(high=2 * np.pi, size=((depth+1)*3, n_qubits))\n",
    "def circuitDef():\n",
    "    qai.templates.RandomLayer(n_qubits, n_layer, 0.3, rand_params)\n",
    "    exp_vals = [qai.measurement.expval(qai.PauliZ(qubits=[position])) for position in range(n_qubits)]"
   ]
  },
  {
   "cell_type": "code",
   "execution_count": null,
   "id": "fd41c522",
   "metadata": {},
   "outputs": [],
   "source": [
    "circuit = qai.Circuit(circuitDef, n_qubits)\n",
    "compiledCircuit = circuit.compilecircuit('pytorch')\n",
    "drawer = qai.matplotlib_drawer(circuit)\n",
    "drawer.draw_circuit()"
   ]
  }
 ],
 "metadata": {
  "kernelspec": {
   "display_name": "Python 3 (ipykernel)",
   "language": "python",
   "name": "python3"
  },
  "language_info": {
   "codemirror_mode": {
    "name": "ipython",
    "version": 3
   },
   "file_extension": ".py",
   "mimetype": "text/x-python",
   "name": "python",
   "nbconvert_exporter": "python",
   "pygments_lexer": "ipython3",
   "version": "3.9.7"
  }
 },
 "nbformat": 4,
 "nbformat_minor": 5
}
