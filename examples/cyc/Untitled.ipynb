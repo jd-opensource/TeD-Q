{
 "cells": [
  {
   "cell_type": "code",
   "execution_count": null,
   "id": "9bed9a87-1d8a-4679-b7bd-479483e211c6",
   "metadata": {},
   "outputs": [],
   "source": [
    "def alter(file, dict_str_old_new):\n",
    "    \"\"\"\n",
    "    替换文件中的字符串\n",
    "    :param file:文件名\n",
    "    :param old_str:就字符串\n",
    "    :param new_str:新字符串\n",
    "    :return:\n",
    "    \n",
    "    \"\"\"\n",
    "    file_data = \"\"\n",
    "    with open(file, \"r\", encoding=\"utf-8\") as f:\n",
    "        for line in f:\n",
    "            for old_str, new_str in dict_str_old_new.items():\n",
    "                if old_str in line:\n",
    "                    print(line)\n",
    "                    line = new_str\n",
    "            file_data += line\n",
    "    with open(file,\"w\",encoding=\"utf-8\") as f:\n",
    "        f.write(file_data)\n",
    "\n"
   ]
  },
  {
   "cell_type": "code",
   "execution_count": null,
   "id": "ccd06964-648f-464e-83a5-31097b7e83e4",
   "metadata": {},
   "outputs": [],
   "source": [
    "dict_str_old_new = { 'd':'f', 'g':'j'}"
   ]
  },
  {
   "cell_type": "code",
   "execution_count": null,
   "id": "8d7635ff-ad9e-4394-9006-f2c103a6f0db",
   "metadata": {},
   "outputs": [],
   "source": [
    "for old_str, new_str in dict_str_old_new.items():\n",
    "    print(old_str,new_str)"
   ]
  },
  {
   "cell_type": "code",
   "execution_count": null,
   "id": "6d78dbca-047a-4761-8169-0fee91527acc",
   "metadata": {},
   "outputs": [],
   "source": [
    "dict_str_old_new = dict()\n",
    "num_nodes=4\n",
    "cpus_per_node=5\n",
    "gpus_per_cpu=6\n",
    "\n",
    "str_num_nodes = \"#SBATCH --nodes=\" + str(num_nodes) + \"\\n\"\n",
    "dict_str_old_new[\"#SBATCH --nodes=\"] = str_num_nodes\n",
    "\n",
    "str_cpus_per_node = \"#SBATCH --ntasks-per-node=\" + str(cpus_per_node) + \"\\n\"\n",
    "dict_str_old_new[\"#SBATCH --ntasks-per-node=\"] = str_cpus_per_node\n",
    "\n",
    "str_gpus_per_cpu = \"#SBATCH --gres=gpu:\" + str(gpus_per_cpu) + \"\\n\"\n",
    "dict_str_old_new[\"#SBATCH --gres=gpu:\"] = str_gpus_per_cpu\n",
    "\n",
    "alter(\"cycslurmjob.sh\", dict_str_old_new)"
   ]
  },
  {
   "cell_type": "code",
   "execution_count": 30,
   "id": "ac85a97e-e3bf-4962-af77-de25bf4cffe0",
   "metadata": {},
   "outputs": [
    {
     "name": "stdout",
     "output_type": "stream",
     "text": [
      "import os\n",
      "import numpy\n",
      "print('fuck')\n",
      "\n",
      "fuck\n",
      "\n"
     ]
    }
   ],
   "source": [
    "import os\n",
    "import tempfile\n",
    "\n",
    "fp = tempfile.NamedTemporaryFile(mode='w+t', encoding=\"utf-8\", newline='\\n') # 创建一个临时文件\n",
    "fp.write(f\"import os\\nimport numpy\\nprint('fuck')\\n\")     # 向该零时文件中写入一些数据\n",
    "\n",
    "fp.seek(0) # 从文件中读取数据\n",
    "print(fp.read())\n",
    "\n",
    "f=os.popen(\"python \" + fp.name)\n",
    "print(f.read())\n",
    "\n"
   ]
  },
  {
   "cell_type": "code",
   "execution_count": null,
   "id": "13f6b9c6-9445-4677-9762-670df9236059",
   "metadata": {},
   "outputs": [],
   "source": [
    "a=\"import os\\nimport numpy\\nprint('fuck')\\n\""
   ]
  },
  {
   "cell_type": "code",
   "execution_count": null,
   "id": "5b080747-3bfb-436e-b0ca-ed12b9277c8d",
   "metadata": {},
   "outputs": [],
   "source": [
    "with open(\"abcdefg.py\",\"w\",encoding=\"utf-8\") as f:\n",
    "    f.write(a)"
   ]
  },
  {
   "cell_type": "code",
   "execution_count": null,
   "id": "62ac2ec4-d33b-43a1-b7a1-bd0c569f5c3f",
   "metadata": {},
   "outputs": [],
   "source": [
    "fp.name"
   ]
  },
  {
   "cell_type": "code",
   "execution_count": null,
   "id": "add83d59-1c8f-4beb-8c6a-393f3ece1084",
   "metadata": {},
   "outputs": [],
   "source": [
    "fp.read()"
   ]
  },
  {
   "cell_type": "code",
   "execution_count": null,
   "id": "4d4172ef-4993-4f3e-b261-6fce5c48709c",
   "metadata": {},
   "outputs": [],
   "source": [
    "fp.close()"
   ]
  },
  {
   "cell_type": "code",
   "execution_count": null,
   "id": "b087a098-481c-449d-b698-67b3f5d38a22",
   "metadata": {},
   "outputs": [],
   "source": []
  },
  {
   "cell_type": "code",
   "execution_count": null,
   "id": "8e04a3cf-35da-4e1d-a889-7e56fe94b258",
   "metadata": {},
   "outputs": [],
   "source": [
    "from tempfile import NamedTemporaryFile\n",
    " \n",
    "with NamedTemporaryFile('w+t') as f:\n",
    "    print('filename is:', f.name)\n",
    "    ...\n",
    " \n",
    "# File automatically destroyed"
   ]
  },
  {
   "cell_type": "code",
   "execution_count": null,
   "id": "9db74f64-a7cf-480d-ac53-df3b4d55be68",
   "metadata": {},
   "outputs": [],
   "source": [
    "!python abc.py"
   ]
  },
  {
   "cell_type": "code",
   "execution_count": null,
   "id": "9cbeb0ea-bcf7-44c4-83e5-b4951f74ac00",
   "metadata": {},
   "outputs": [],
   "source": [
    "os.system('vivado -jou {cdir}/vivado.jou -log {cdir}/vivado.log '\n",
    "                       '-mode batch -source '\n",
    "                       '{cfile}'.format(cdir=self.compile_dir, cfile=tcl_file))"
   ]
  },
  {
   "cell_type": "code",
   "execution_count": null,
   "id": "6da80d75-2347-406d-b8e6-fb8e786840a4",
   "metadata": {},
   "outputs": [],
   "source": [
    "'{cdir}''{cfile}'.format(cdir='./', cfile='../')"
   ]
  },
  {
   "cell_type": "code",
   "execution_count": null,
   "id": "f6d0abe5-4d56-4412-9b11-22dc606eaaca",
   "metadata": {},
   "outputs": [],
   "source": [
    "os.system('vivado')"
   ]
  },
  {
   "cell_type": "code",
   "execution_count": 31,
   "id": "153a4265-19cc-4899-bfcf-ab3ac50b4aba",
   "metadata": {},
   "outputs": [
    {
     "data": {
      "text/plain": [
       "143"
      ]
     },
     "execution_count": 31,
     "metadata": {},
     "output_type": "execute_result"
    }
   ],
   "source": [
    "a = \"Submitted batch job 143\"\n",
    "int(a.replace(\"Submitted batch job \", \"\"))"
   ]
  },
  {
   "cell_type": "code",
   "execution_count": 35,
   "id": "ad035678-fea8-4732-b672-e9d296acc618",
   "metadata": {},
   "outputs": [],
   "source": [
    "a = \"Submitted batch job 143\""
   ]
  },
  {
   "cell_type": "code",
   "execution_count": 36,
   "id": "ebbeb03e-b2f0-450a-a262-cf5e945d8c8e",
   "metadata": {},
   "outputs": [
    {
     "data": {
      "text/plain": [
       "'143'"
      ]
     },
     "execution_count": 36,
     "metadata": {},
     "output_type": "execute_result"
    }
   ],
   "source": [
    "a.split(\"Submitted batch job \")[1]"
   ]
  },
  {
   "cell_type": "code",
   "execution_count": null,
   "id": "0a9682b9-0dc9-4082-b2d6-1b8f4d0a0b2a",
   "metadata": {},
   "outputs": [],
   "source": [
    "if s1.startswith(s2):\n",
    "    s3 = s1.replace(s2, '')"
   ]
  },
  {
   "cell_type": "code",
   "execution_count": null,
   "id": "42f71c13-a6a4-4c65-a22b-51dc2e8e2a10",
   "metadata": {},
   "outputs": [],
   "source": []
  },
  {
   "cell_type": "code",
   "execution_count": null,
   "id": "4dedd8be-fcae-4f66-bca8-70fd69472268",
   "metadata": {},
   "outputs": [],
   "source": []
  },
  {
   "cell_type": "code",
   "execution_count": null,
   "id": "50652e15-ad01-439b-b74c-0a8723b301d8",
   "metadata": {},
   "outputs": [],
   "source": []
  },
  {
   "cell_type": "code",
   "execution_count": 17,
   "id": "a59b0f06-198b-4d04-bcf7-da6bd3ee9d53",
   "metadata": {},
   "outputs": [],
   "source": [
    "    from tempfile import NamedTemporaryFile\n",
    "    def generate_slurm_job_file():\n",
    "\n",
    "        str_num_nodes = f\"#SBATCH --nodes=\" + str(5) + f\"\\n\"\n",
    "        str_cpus_per_node = f\"#SBATCH --ntasks-per-node=\" + str(6) + f\"\\n\"\n",
    "        str_gpus_per_cpu = f\"#SBATCH --gres=gpu:\" + str(7) + f\"\\n\"\n",
    "        \n",
    "        file_data = f\"\"\n",
    "        file_data += f\"#!/bin/bash\\n\"\n",
    "        file_data += \"#SBATCH -o job.%j.out\\n\"\n",
    "        file_data += \"#SBATCH --partition=p40\\n\"\n",
    "        file_data += \"#SBATCH -J myFirstJob\\n\"\n",
    "        file_data += str_num_nodes\n",
    "        file_data += str_cpus_per_node\n",
    "        file_data += str_gpus_per_cpu\n",
    "        file_data += \"cd /raid/slurm-for-quantum/home/qc01/cyc/TeD-Q/tedq/distributed_worker/\\n\"\n",
    "        file_data += \"rank=$(($SLURM_PROCID+1))\\n\"\n",
    "        file_data += \"srun python rpc_workers.py --num_nodes 2 --rank $rank --gpus_per_cpu 4 --cpus_per_node 1 --master_addr 172.17.224.177\\n\"\n",
    "\n",
    "\n",
    "        fp = NamedTemporaryFile(mode='w+t', encoding=\"utf-8\", newline='\\n') # 创建一个临时文件\n",
    "        fp.write(file_data)     # 向该零时文件中写入一些数据\n",
    "        print(fp.read())\n",
    "\n",
    "        return fp"
   ]
  },
  {
   "cell_type": "code",
   "execution_count": 18,
   "id": "b2fd1e3e-4a61-416b-a9de-3420ca847a13",
   "metadata": {},
   "outputs": [
    {
     "name": "stdout",
     "output_type": "stream",
     "text": [
      "\n"
     ]
    }
   ],
   "source": [
    "a = generate_slurm_job_file()"
   ]
  },
  {
   "cell_type": "code",
   "execution_count": 19,
   "id": "7bc87a78-da54-4926-a674-8056083e4261",
   "metadata": {},
   "outputs": [
    {
     "data": {
      "text/plain": [
       "<tempfile._TemporaryFileWrapper at 0x7f5be8401cd0>"
      ]
     },
     "execution_count": 19,
     "metadata": {},
     "output_type": "execute_result"
    }
   ],
   "source": [
    "a"
   ]
  },
  {
   "cell_type": "code",
   "execution_count": 20,
   "id": "e55ad468-22d2-48ad-8622-63bbc652f302",
   "metadata": {},
   "outputs": [
    {
     "data": {
      "text/plain": [
       "'/tmp/tmpashfh8ff'"
      ]
     },
     "execution_count": 20,
     "metadata": {},
     "output_type": "execute_result"
    }
   ],
   "source": [
    "a.name"
   ]
  },
  {
   "cell_type": "code",
   "execution_count": 21,
   "id": "55759fb0-1207-4a69-8848-e9673b75a079",
   "metadata": {},
   "outputs": [
    {
     "data": {
      "text/plain": [
       "''"
      ]
     },
     "execution_count": 21,
     "metadata": {},
     "output_type": "execute_result"
    }
   ],
   "source": [
    "a.read()"
   ]
  },
  {
   "cell_type": "code",
   "execution_count": 24,
   "id": "ece314f5-b249-4b15-abae-fdbf43c0f572",
   "metadata": {},
   "outputs": [
    {
     "name": "stdout",
     "output_type": "stream",
     "text": [
      "\n"
     ]
    }
   ],
   "source": [
    "        str_num_nodes = \"#SBATCH --nodes=\" + str(5) + \"\\n\"\n",
    "        str_cpus_per_node = \"#SBATCH --ntasks-per-node=\" + str(6) + \"\\n\"\n",
    "        str_gpus_per_cpu = \"#SBATCH --gres=gpu:\" + str(7) + \"\\n\"\n",
    "        \n",
    "        file_data = \"\"\n",
    "        file_data += \"#!/bin/bash\\n\"\n",
    "        file_data += \"#SBATCH -o job.%j.out\\n\"\n",
    "        file_data += \"#SBATCH --partition=p40\\n\"\n",
    "        file_data += \"#SBATCH -J myFirstJob\\n\"\n",
    "        file_data += str_num_nodes\n",
    "        file_data += str_cpus_per_node\n",
    "        file_data += str_gpus_per_cpu\n",
    "        file_data += \"cd /raid/slurm-for-quantum/home/qc01/cyc/TeD-Q/tedq/distributed_worker/\\n\"\n",
    "        file_data += \"rank=$(($SLURM_PROCID+1))\\n\"\n",
    "        file_data += \"srun python rpc_workers.py --num_nodes 2 --rank $rank --gpus_per_cpu 4 --cpus_per_node 1 --master_addr 172.17.224.177\\n\"\n",
    "\n",
    "\n",
    "        fp = NamedTemporaryFile(mode='w+t', encoding=\"utf-8\", newline='\\n') # 创建一个临时文件\n",
    "        fp.write(file_data)     # 向该零时文件中写入一些数据\n",
    "        fp.write(f\"fuck\")\n",
    "        print(fp.read())"
   ]
  },
  {
   "cell_type": "code",
   "execution_count": 25,
   "id": "c7073185-5245-40e6-ac45-7213044dd21c",
   "metadata": {},
   "outputs": [
    {
     "data": {
      "text/plain": [
       "''"
      ]
     },
     "execution_count": 25,
     "metadata": {},
     "output_type": "execute_result"
    }
   ],
   "source": [
    "fp.read()"
   ]
  },
  {
   "cell_type": "code",
   "execution_count": 45,
   "id": "5945374c-c60f-4342-adeb-9e271efc7f35",
   "metadata": {},
   "outputs": [],
   "source": [
    "def a(**kwargs):\n",
    "    _a(**kwargs)"
   ]
  },
  {
   "cell_type": "code",
   "execution_count": 46,
   "id": "b07da5ee-8a75-4f38-942b-aadaf2e047f2",
   "metadata": {},
   "outputs": [],
   "source": [
    "def _a(**kwargs):\n",
    "    print(kwargs)"
   ]
  },
  {
   "cell_type": "code",
   "execution_count": 47,
   "id": "e7026d78-d222-43da-a0e5-eea2b082eb09",
   "metadata": {},
   "outputs": [
    {
     "name": "stdout",
     "output_type": "stream",
     "text": [
      "{'b': 1, 'c': 2}\n"
     ]
    }
   ],
   "source": [
    "a(b=1, c=2)"
   ]
  },
  {
   "cell_type": "code",
   "execution_count": null,
   "id": "cbaefb93-b230-4df0-acd1-7dd68686b96c",
   "metadata": {},
   "outputs": [],
   "source": []
  },
  {
   "cell_type": "code",
   "execution_count": 3,
   "id": "1f87d180-2016-463c-9a80-d05ea54e4f34",
   "metadata": {},
   "outputs": [],
   "source": [
    "import pennylane as qml"
   ]
  },
  {
   "cell_type": "code",
   "execution_count": 10,
   "id": "56b86b69-1821-47f1-a3fd-52cde97d4148",
   "metadata": {},
   "outputs": [],
   "source": [
    "    >>> dev = qml.device(\"default.qubit\", wires=(0, 1))\n",
    "    >>> @qml.qnode(dev)\n",
    "    ... def circuit():\n",
    "    ...     return qml.state()"
   ]
  },
  {
   "cell_type": "code",
   "execution_count": 11,
   "id": "dd55b126-91a1-40a1-94e6-5c49a91ca859",
   "metadata": {},
   "outputs": [
    {
     "data": {
      "text/plain": [
       "tensor([1.+0.j, 0.+0.j, 0.+0.j, 0.+0.j], requires_grad=True)"
      ]
     },
     "execution_count": 11,
     "metadata": {},
     "output_type": "execute_result"
    }
   ],
   "source": [
    "circuit()"
   ]
  },
  {
   "cell_type": "code",
   "execution_count": 13,
   "id": "ffde4d27-2afb-42aa-b175-49af349a9858",
   "metadata": {},
   "outputs": [],
   "source": [
    "import tedq as qai\n",
    "import numpy as np"
   ]
  },
  {
   "cell_type": "code",
   "execution_count": 15,
   "id": "8197d5fa-2a72-4199-b1fa-15021a4153db",
   "metadata": {},
   "outputs": [],
   "source": [
    "g_matrix = np.array([[0., 0.], [0., 1.]], dtype=np.complex64)"
   ]
  },
  {
   "cell_type": "code",
   "execution_count": 18,
   "id": "a7e1c8f1-8b1b-45bf-bac1-811c094ebba1",
   "metadata": {},
   "outputs": [
    {
     "data": {
      "text/plain": [
       "<tedq.QInterpreter.operators.qubit.Unitary at 0x7ff47d7bf250>"
      ]
     },
     "execution_count": 18,
     "metadata": {},
     "output_type": "execute_result"
    }
   ],
   "source": [
    "qai.Unitary(matrix=g_matrix, qubits=[0], do_queue=False)"
   ]
  },
  {
   "cell_type": "code",
   "execution_count": 20,
   "id": "c97bc445-5889-4af2-a20e-f0f47658e1b6",
   "metadata": {},
   "outputs": [],
   "source": [
    "a=qml.Projector(np.array([1, 1]), wires=(0,1))"
   ]
  },
  {
   "cell_type": "code",
   "execution_count": 36,
   "id": "569325fe-a687-431e-979a-8b932f0cef5e",
   "metadata": {},
   "outputs": [
    {
     "data": {
      "text/plain": [
       "array([[ 0.,  0.,  0.,  0.],\n",
       "       [ 0., -0.,  0., -0.],\n",
       "       [ 0.,  0.,  1.,  0.],\n",
       "       [ 0., -0.,  0., -1.]])"
      ]
     },
     "execution_count": 36,
     "metadata": {},
     "output_type": "execute_result"
    }
   ],
   "source": [
    "a.matrix()"
   ]
  },
  {
   "cell_type": "code",
   "execution_count": 23,
   "id": "af6321c2-03ef-4e05-8058-0b63f7b4216f",
   "metadata": {},
   "outputs": [],
   "source": [
    "        g_matrix = np.array(\n",
    "            [\n",
    "            [0., 0., 0., 0.], \n",
    "            [0., 0., 0., 0.],\n",
    "            [0., 0., 0., 0.],\n",
    "            [0., 0., 0., 1.],\n",
    "            ], dtype=np.complex64)\n",
    "        g_matrix = g_matrix.reshape([2,2,2,2])"
   ]
  },
  {
   "cell_type": "code",
   "execution_count": 25,
   "id": "29bd3a0e-dedd-4ef8-8148-507e9963c4d9",
   "metadata": {},
   "outputs": [
    {
     "data": {
      "text/plain": [
       "array([[[[0.+0.j, 0.+0.j],\n",
       "         [0.+0.j, 0.+0.j]],\n",
       "\n",
       "        [[0.+0.j, 0.+0.j],\n",
       "         [0.+0.j, 0.+0.j]]],\n",
       "\n",
       "\n",
       "       [[[0.+0.j, 0.+0.j],\n",
       "         [0.+0.j, 0.+0.j]],\n",
       "\n",
       "        [[0.+0.j, 0.+0.j],\n",
       "         [0.+0.j, 1.+0.j]]]], dtype=complex64)"
      ]
     },
     "execution_count": 25,
     "metadata": {},
     "output_type": "execute_result"
    }
   ],
   "source": [
    "g_matrix"
   ]
  },
  {
   "cell_type": "code",
   "execution_count": 34,
   "id": "844ebfa3-e44c-4d7d-a17d-47e7d4e5be3d",
   "metadata": {},
   "outputs": [],
   "source": [
    "a=qml.Projector(np.array([1]), wires=0) @ qml.PauliZ(1)"
   ]
  },
  {
   "cell_type": "code",
   "execution_count": 35,
   "id": "cd6e6bbd-4bf2-47b4-9e57-9c1d9d035a84",
   "metadata": {},
   "outputs": [
    {
     "data": {
      "text/plain": [
       "array([[0., 0., 0., 0.],\n",
       "       [0., 0., 0., 0.],\n",
       "       [0., 0., 0., 1.],\n",
       "       [0., 0., 1., 0.]])"
      ]
     },
     "execution_count": 35,
     "metadata": {},
     "output_type": "execute_result"
    }
   ],
   "source": [
    "np.array([[0., 0., 0., 0.],\n",
    "       [0., 0., 0., 0.],\n",
    "       [0., 0., 0., 1.],\n",
    "       [0., 0., 1., 0.]])"
   ]
  },
  {
   "cell_type": "code",
   "execution_count": null,
   "id": "1280ac75-0442-48d1-8624-1ecea68e7de7",
   "metadata": {},
   "outputs": [],
   "source": []
  }
 ],
 "metadata": {
  "kernelspec": {
   "display_name": "Python 3 (ipykernel)",
   "language": "python",
   "name": "python3"
  },
  "language_info": {
   "codemirror_mode": {
    "name": "ipython",
    "version": 3
   },
   "file_extension": ".py",
   "mimetype": "text/x-python",
   "name": "python",
   "nbconvert_exporter": "python",
   "pygments_lexer": "ipython3",
   "version": "3.8.15"
  }
 },
 "nbformat": 4,
 "nbformat_minor": 5
}
