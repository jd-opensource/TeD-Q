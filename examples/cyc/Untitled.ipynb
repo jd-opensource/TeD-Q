{
 "cells": [
  {
   "cell_type": "code",
   "execution_count": null,
   "id": "9bed9a87-1d8a-4679-b7bd-479483e211c6",
   "metadata": {},
   "outputs": [],
   "source": [
    "def alter(file, dict_str_old_new):\n",
    "    \"\"\"\n",
    "    替换文件中的字符串\n",
    "    :param file:文件名\n",
    "    :param old_str:就字符串\n",
    "    :param new_str:新字符串\n",
    "    :return:\n",
    "    \n",
    "    \"\"\"\n",
    "    file_data = \"\"\n",
    "    with open(file, \"r\", encoding=\"utf-8\") as f:\n",
    "        for line in f:\n",
    "            for old_str, new_str in dict_str_old_new.items():\n",
    "                if old_str in line:\n",
    "                    print(line)\n",
    "                    line = new_str\n",
    "            file_data += line\n",
    "    with open(file,\"w\",encoding=\"utf-8\") as f:\n",
    "        f.write(file_data)\n",
    "\n"
   ]
  },
  {
   "cell_type": "code",
   "execution_count": null,
   "id": "ccd06964-648f-464e-83a5-31097b7e83e4",
   "metadata": {},
   "outputs": [],
   "source": [
    "dict_str_old_new = { 'd':'f', 'g':'j'}"
   ]
  },
  {
   "cell_type": "code",
   "execution_count": null,
   "id": "8d7635ff-ad9e-4394-9006-f2c103a6f0db",
   "metadata": {},
   "outputs": [],
   "source": [
    "for old_str, new_str in dict_str_old_new.items():\n",
    "    print(old_str,new_str)"
   ]
  },
  {
   "cell_type": "code",
   "execution_count": null,
   "id": "6d78dbca-047a-4761-8169-0fee91527acc",
   "metadata": {},
   "outputs": [],
   "source": [
    "dict_str_old_new = dict()\n",
    "num_nodes=4\n",
    "cpus_per_node=5\n",
    "gpus_per_cpu=6\n",
    "\n",
    "str_num_nodes = \"#SBATCH --nodes=\" + str(num_nodes) + \"\\n\"\n",
    "dict_str_old_new[\"#SBATCH --nodes=\"] = str_num_nodes\n",
    "\n",
    "str_cpus_per_node = \"#SBATCH --ntasks-per-node=\" + str(cpus_per_node) + \"\\n\"\n",
    "dict_str_old_new[\"#SBATCH --ntasks-per-node=\"] = str_cpus_per_node\n",
    "\n",
    "str_gpus_per_cpu = \"#SBATCH --gres=gpu:\" + str(gpus_per_cpu) + \"\\n\"\n",
    "dict_str_old_new[\"#SBATCH --gres=gpu:\"] = str_gpus_per_cpu\n",
    "\n",
    "alter(\"cycslurmjob.sh\", dict_str_old_new)"
   ]
  },
  {
   "cell_type": "code",
   "execution_count": null,
   "id": "ac85a97e-e3bf-4962-af77-de25bf4cffe0",
   "metadata": {},
   "outputs": [],
   "source": [
    "import subprocess\n",
    "import sys\n",
    "\n",
    "print(\"Start to submit job!\")\n",
    "subprocess.Popen([\"python\", \"abcdefg.py\"])\n",
    "print(\"Job submitted!\")\n",
    "#sys.exit(0)\n"
   ]
  },
  {
   "cell_type": "code",
   "execution_count": null,
   "id": "9db74f64-a7cf-480d-ac53-df3b4d55be68",
   "metadata": {},
   "outputs": [],
   "source": [
    "!python abc.py"
   ]
  },
  {
   "cell_type": "code",
   "execution_count": null,
   "id": "9cbeb0ea-bcf7-44c4-83e5-b4951f74ac00",
   "metadata": {},
   "outputs": [],
   "source": []
  }
 ],
 "metadata": {
  "kernelspec": {
   "display_name": "Python 3 (ipykernel)",
   "language": "python",
   "name": "python3"
  },
  "language_info": {
   "codemirror_mode": {
    "name": "ipython",
    "version": 3
   },
   "file_extension": ".py",
   "mimetype": "text/x-python",
   "name": "python",
   "nbconvert_exporter": "python",
   "pygments_lexer": "ipython3",
   "version": "3.8.15"
  }
 },
 "nbformat": 4,
 "nbformat_minor": 5
}
