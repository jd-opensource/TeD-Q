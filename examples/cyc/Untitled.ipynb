{
 "cells": [
  {
   "cell_type": "code",
   "execution_count": null,
   "id": "9bed9a87-1d8a-4679-b7bd-479483e211c6",
   "metadata": {},
   "outputs": [],
   "source": [
    "def alter(file, dict_str_old_new):\n",
    "    \"\"\"\n",
    "    替换文件中的字符串\n",
    "    :param file:文件名\n",
    "    :param old_str:就字符串\n",
    "    :param new_str:新字符串\n",
    "    :return:\n",
    "    \n",
    "    \"\"\"\n",
    "    file_data = \"\"\n",
    "    with open(file, \"r\", encoding=\"utf-8\") as f:\n",
    "        for line in f:\n",
    "            for old_str, new_str in dict_str_old_new.items():\n",
    "                if old_str in line:\n",
    "                    print(line)\n",
    "                    line = new_str\n",
    "            file_data += line\n",
    "    with open(file,\"w\",encoding=\"utf-8\") as f:\n",
    "        f.write(file_data)\n",
    "\n"
   ]
  },
  {
   "cell_type": "code",
   "execution_count": null,
   "id": "ccd06964-648f-464e-83a5-31097b7e83e4",
   "metadata": {},
   "outputs": [],
   "source": [
    "dict_str_old_new = { 'd':'f', 'g':'j'}"
   ]
  },
  {
   "cell_type": "code",
   "execution_count": null,
   "id": "8d7635ff-ad9e-4394-9006-f2c103a6f0db",
   "metadata": {},
   "outputs": [],
   "source": [
    "for old_str, new_str in dict_str_old_new.items():\n",
    "    print(old_str,new_str)"
   ]
  },
  {
   "cell_type": "code",
   "execution_count": null,
   "id": "6d78dbca-047a-4761-8169-0fee91527acc",
   "metadata": {},
   "outputs": [],
   "source": [
    "dict_str_old_new = dict()\n",
    "num_nodes=4\n",
    "cpus_per_node=5\n",
    "gpus_per_cpu=6\n",
    "\n",
    "str_num_nodes = \"#SBATCH --nodes=\" + str(num_nodes) + \"\\n\"\n",
    "dict_str_old_new[\"#SBATCH --nodes=\"] = str_num_nodes\n",
    "\n",
    "str_cpus_per_node = \"#SBATCH --ntasks-per-node=\" + str(cpus_per_node) + \"\\n\"\n",
    "dict_str_old_new[\"#SBATCH --ntasks-per-node=\"] = str_cpus_per_node\n",
    "\n",
    "str_gpus_per_cpu = \"#SBATCH --gres=gpu:\" + str(gpus_per_cpu) + \"\\n\"\n",
    "dict_str_old_new[\"#SBATCH --gres=gpu:\"] = str_gpus_per_cpu\n",
    "\n",
    "alter(\"cycslurmjob.sh\", dict_str_old_new)"
   ]
  },
  {
   "cell_type": "code",
   "execution_count": 49,
   "id": "ac85a97e-e3bf-4962-af77-de25bf4cffe0",
   "metadata": {},
   "outputs": [
    {
     "name": "stdout",
     "output_type": "stream",
     "text": [
      "fuck\n",
      "\n"
     ]
    }
   ],
   "source": [
    "import os\n",
    "import tempfile\n",
    "\n",
    "fp = tempfile.NamedTemporaryFile(mode='w+t', encoding=\"utf-8\", newline='\\n') # 创建一个临时文件\n",
    "fp.write(f\"import os\\nimport numpy\\nprint('fuck')\\n\")     # 向该零时文件中写入一些数据\n",
    "\n",
    "fp.seek(0) # 从文件中读取数据\n",
    "#print(fp.read())\n",
    "\n",
    "f=os.popen(\"python \" + fp.name)\n",
    "print(f.read())\n",
    "\n"
   ]
  },
  {
   "cell_type": "code",
   "execution_count": 55,
   "id": "13f6b9c6-9445-4677-9762-670df9236059",
   "metadata": {},
   "outputs": [],
   "source": [
    "a=\"import os\\nimport numpy\\nprint('fuck')\\n\""
   ]
  },
  {
   "cell_type": "code",
   "execution_count": 56,
   "id": "5b080747-3bfb-436e-b0ca-ed12b9277c8d",
   "metadata": {},
   "outputs": [],
   "source": [
    "with open(\"abcdefg.py\",\"w\",encoding=\"utf-8\") as f:\n",
    "    f.write(a)"
   ]
  },
  {
   "cell_type": "code",
   "execution_count": 57,
   "id": "62ac2ec4-d33b-43a1-b7a1-bd0c569f5c3f",
   "metadata": {},
   "outputs": [
    {
     "data": {
      "text/plain": [
       "'/tmp/tmpw07pq4le'"
      ]
     },
     "execution_count": 57,
     "metadata": {},
     "output_type": "execute_result"
    }
   ],
   "source": [
    "fp.name"
   ]
  },
  {
   "cell_type": "code",
   "execution_count": 53,
   "id": "add83d59-1c8f-4beb-8c6a-393f3ece1084",
   "metadata": {},
   "outputs": [
    {
     "data": {
      "text/plain": [
       "\"import os\\nimport numpy\\nprint('fuck')\\n\""
      ]
     },
     "execution_count": 53,
     "metadata": {},
     "output_type": "execute_result"
    }
   ],
   "source": [
    "fp.read()"
   ]
  },
  {
   "cell_type": "code",
   "execution_count": 54,
   "id": "4d4172ef-4993-4f3e-b261-6fce5c48709c",
   "metadata": {},
   "outputs": [],
   "source": [
    "fp.close()"
   ]
  },
  {
   "cell_type": "code",
   "execution_count": null,
   "id": "b087a098-481c-449d-b698-67b3f5d38a22",
   "metadata": {},
   "outputs": [],
   "source": []
  },
  {
   "cell_type": "code",
   "execution_count": 17,
   "id": "8e04a3cf-35da-4e1d-a889-7e56fe94b258",
   "metadata": {},
   "outputs": [
    {
     "name": "stdout",
     "output_type": "stream",
     "text": [
      "filename is: /tmp/tmpuou068fh\n"
     ]
    }
   ],
   "source": [
    "from tempfile import NamedTemporaryFile\n",
    " \n",
    "with NamedTemporaryFile('w+t') as f:\n",
    "    print('filename is:', f.name)\n",
    "    ...\n",
    " \n",
    "# File automatically destroyed"
   ]
  },
  {
   "cell_type": "code",
   "execution_count": null,
   "id": "9db74f64-a7cf-480d-ac53-df3b4d55be68",
   "metadata": {},
   "outputs": [],
   "source": [
    "!python abc.py"
   ]
  },
  {
   "cell_type": "code",
   "execution_count": 3,
   "id": "9cbeb0ea-bcf7-44c4-83e5-b4951f74ac00",
   "metadata": {},
   "outputs": [
    {
     "ename": "NameError",
     "evalue": "name 'self' is not defined",
     "output_type": "error",
     "traceback": [
      "\u001b[0;31m---------------------------------------------------------------------------\u001b[0m",
      "\u001b[0;31mNameError\u001b[0m                                 Traceback (most recent call last)",
      "Cell \u001b[0;32mIn[3], line 3\u001b[0m\n\u001b[1;32m      1\u001b[0m os\u001b[38;5;241m.\u001b[39msystem(\u001b[38;5;124m'\u001b[39m\u001b[38;5;124mvivado -jou \u001b[39m\u001b[38;5;132;01m{cdir}\u001b[39;00m\u001b[38;5;124m/vivado.jou -log \u001b[39m\u001b[38;5;132;01m{cdir}\u001b[39;00m\u001b[38;5;124m/vivado.log \u001b[39m\u001b[38;5;124m'\u001b[39m\n\u001b[1;32m      2\u001b[0m                        \u001b[38;5;124m'\u001b[39m\u001b[38;5;124m-mode batch -source \u001b[39m\u001b[38;5;124m'\u001b[39m\n\u001b[0;32m----> 3\u001b[0m                        \u001b[38;5;124m'\u001b[39m\u001b[38;5;132;01m{cfile}\u001b[39;00m\u001b[38;5;124m'\u001b[39m\u001b[38;5;241m.\u001b[39mformat(cdir\u001b[38;5;241m=\u001b[39m\u001b[38;5;28;43mself\u001b[39;49m\u001b[38;5;241m.\u001b[39mcompile_dir, cfile\u001b[38;5;241m=\u001b[39mtcl_file))\n",
      "\u001b[0;31mNameError\u001b[0m: name 'self' is not defined"
     ]
    }
   ],
   "source": [
    "os.system('vivado -jou {cdir}/vivado.jou -log {cdir}/vivado.log '\n",
    "                       '-mode batch -source '\n",
    "                       '{cfile}'.format(cdir=self.compile_dir, cfile=tcl_file))"
   ]
  },
  {
   "cell_type": "code",
   "execution_count": 5,
   "id": "6da80d75-2347-406d-b8e6-fb8e786840a4",
   "metadata": {},
   "outputs": [
    {
     "data": {
      "text/plain": [
       "'./../'"
      ]
     },
     "execution_count": 5,
     "metadata": {},
     "output_type": "execute_result"
    }
   ],
   "source": [
    "'{cdir}''{cfile}'.format(cdir='./', cfile='../')"
   ]
  },
  {
   "cell_type": "code",
   "execution_count": 6,
   "id": "f6d0abe5-4d56-4412-9b11-22dc606eaaca",
   "metadata": {},
   "outputs": [
    {
     "name": "stderr",
     "output_type": "stream",
     "text": [
      "sh: vivado: command not found\n"
     ]
    },
    {
     "data": {
      "text/plain": [
       "32512"
      ]
     },
     "execution_count": 6,
     "metadata": {},
     "output_type": "execute_result"
    }
   ],
   "source": [
    "os.system('vivado')"
   ]
  },
  {
   "cell_type": "code",
   "execution_count": 9,
   "id": "153a4265-19cc-4899-bfcf-ab3ac50b4aba",
   "metadata": {},
   "outputs": [
    {
     "data": {
      "text/plain": [
       "143"
      ]
     },
     "execution_count": 9,
     "metadata": {},
     "output_type": "execute_result"
    }
   ],
   "source": [
    "a = \"Submitted batch job 143\"\n",
    "int(a.replace(\"Submitted batch job \", \"\"))"
   ]
  },
  {
   "cell_type": "code",
   "execution_count": null,
   "id": "0a9682b9-0dc9-4082-b2d6-1b8f4d0a0b2a",
   "metadata": {},
   "outputs": [],
   "source": [
    "if s1.startswith(s2):\n",
    "    s3 = s1.replace(s2, '')"
   ]
  }
 ],
 "metadata": {
  "kernelspec": {
   "display_name": "Python 3 (ipykernel)",
   "language": "python",
   "name": "python3"
  },
  "language_info": {
   "codemirror_mode": {
    "name": "ipython",
    "version": 3
   },
   "file_extension": ".py",
   "mimetype": "text/x-python",
   "name": "python",
   "nbconvert_exporter": "python",
   "pygments_lexer": "ipython3",
   "version": "3.8.15"
  }
 },
 "nbformat": 4,
 "nbformat_minor": 5
}
