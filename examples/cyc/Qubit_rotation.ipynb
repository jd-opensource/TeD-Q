{
 "cells": [
  {
   "cell_type": "markdown",
   "id": "ed7dc858",
   "metadata": {
    "tags": []
   },
   "source": [
    "# Qubit rotation\n",
    "\n",
    "This example shows the basic operation of machine learning framework with a quantum device. A qubit is initilized with a arbitary Rx and Ry rotation and the target state is pure |1> state. After several steps of the iteration. The rotation angle of Rx and Ry will converge to 0 and pi. \n",
    "\n",
    "### About this example\n",
    "The example contains the model compiled with three different configurations of backends and interfaces -- JAX backend, JAX backend with pytorch interface and pytorch backend.\n",
    "The example also shows how to use state vector propagation mode and tensor network contraction mode. And two methods for obtaining gradient -- back propagation and parameter shift."
   ]
  },
  {
   "cell_type": "markdown",
   "id": "496147a8",
   "metadata": {},
   "source": [
    "# Initialization"
   ]
  },
  {
   "cell_type": "code",
   "execution_count": 2,
   "id": "7f2359d8",
   "metadata": {},
   "outputs": [],
   "source": [
    "import tedq as qai"
   ]
  },
  {
   "cell_type": "markdown",
   "id": "d2bda454",
   "metadata": {
    "tags": []
   },
   "source": [
    "# Define the quantum model"
   ]
  },
  {
   "cell_type": "markdown",
   "id": "e88114ab",
   "metadata": {},
   "source": [
    "### Define the circuit with TeD-Q framework\n",
    "#### (Remember, if you have multiple measurements, all the measurement results should has the same shape!)"
   ]
  },
  {
   "cell_type": "code",
   "execution_count": null,
   "id": "391463f5",
   "metadata": {},
   "outputs": [],
   "source": [
    "# Define quantum circuit\n",
    "def circuitDef(params):\n",
    "    qai.PauliX(qubits=[0])\n",
    "    qai.RY(params[0], qubits=[0])\n",
    "    qai.RY(params[1], qubits=[1])\n",
    "    return qai.probs()\n",
    "    #return qai.expval(qai.PauliZ(qubits=[0]))\n",
    "\n",
    "number_of_qubits = 2\n",
    "parameter_shapes = [(2,)]\n",
    "\n",
    "# Quantum circuit construction\n",
    "circuit = qai.Circuit(circuitDef, number_of_qubits, parameter_shapes = parameter_shapes)"
   ]
  },
  {
   "cell_type": "code",
   "execution_count": 3,
   "id": "a8f4c095-caa7-4787-920e-e64f6239ac7a",
   "metadata": {},
   "outputs": [],
   "source": [
    "import torch"
   ]
  },
  {
   "cell_type": "code",
   "execution_count": 4,
   "id": "76be7ca6-ab7a-4ff8-8dcc-085d6a34c557",
   "metadata": {},
   "outputs": [],
   "source": [
    "def circuitDef(params):\n",
    "    # |psi_0>: state preparation\n",
    "    qai.RY(torch.pi / 4, qubits=[0], trainable_params=[])\n",
    "    qai.RY(torch.pi / 3, qubits=[1], trainable_params=[])\n",
    "    qai.RY(torch.pi / 7, qubits=[2], trainable_params=[])\n",
    "\n",
    "    # V0(theta0, theta1): Parametrized layer 0\n",
    "    qai.RZ(params[0], qubits=[0])\n",
    "    qai.RZ(params[1], qubits=[1])\n",
    "\n",
    "    # W1: non-parametrized gates\n",
    "    qai.CNOT(qubits=[0, 1])\n",
    "    qai.CNOT(qubits=[1, 2])\n",
    "\n",
    "    # V_1(theta2, theta3): Parametrized layer 1\n",
    "    qai.RY(params[2], qubits=[1])\n",
    "    qai.RX(params[3], qubits=[2])\n",
    "\n",
    "    # W2: non-parametrized gates\n",
    "    qai.CNOT(qubits=[0, 1])\n",
    "    qai.CNOT(qubits=[1, 2])\n",
    "\n",
    "    return qai.expval(qai.PauliY(qubits=[0]))\n",
    "\n",
    "\n",
    "params = (torch.tensor([0.432], requires_grad=True), torch.tensor([-0.123], requires_grad=True), torch.tensor([0.543], requires_grad=True), torch.tensor([0.233], requires_grad=True))\n",
    "#params = (torch.tensor([0.432, -0.8123, 0.543, 0.233], requires_grad=True),)"
   ]
  },
  {
   "cell_type": "code",
   "execution_count": 5,
   "id": "df042f8f-ac60-47f2-a7f0-b3cf89b194a5",
   "metadata": {},
   "outputs": [],
   "source": [
    "number_of_qubits = 3\n",
    "parameter_shapes = [(4,)]\n",
    "\n",
    "# Quantum circuit construction\n",
    "circuit = qai.Circuit(circuitDef, number_of_qubits, parameter_shapes = parameter_shapes)"
   ]
  },
  {
   "cell_type": "code",
   "execution_count": 6,
   "id": "cc1e0e7e-e25c-4ab2-a607-d126031ff06e",
   "metadata": {},
   "outputs": [],
   "source": [
    "my_compilecircuit = circuit.compilecircuit(backend=\"pytorch\")"
   ]
  },
  {
   "cell_type": "code",
   "execution_count": null,
   "id": "3fea6198-28cd-4500-8bcf-48a798fc7e42",
   "metadata": {},
   "outputs": [],
   "source": [
    "loss = my_compilecircuit(*params)\n",
    "loss"
   ]
  },
  {
   "cell_type": "code",
   "execution_count": null,
   "id": "d0dd2b2a-b44e-476e-b3af-5dfef28fe263",
   "metadata": {},
   "outputs": [],
   "source": [
    "loss.backward()"
   ]
  },
  {
   "cell_type": "code",
   "execution_count": null,
   "id": "9509431c-2804-4fea-948d-60b3f6ace1f6",
   "metadata": {},
   "outputs": [],
   "source": [
    "for p in params:\n",
    "    print(p.grad)"
   ]
  },
  {
   "cell_type": "code",
   "execution_count": null,
   "id": "7ca9d6b9-cd09-407f-9284-4a0e1eec1be3",
   "metadata": {},
   "outputs": [],
   "source": []
  },
  {
   "cell_type": "code",
   "execution_count": null,
   "id": "5cf3c094-b70b-4679-b117-3dc51fe7bb6e",
   "metadata": {},
   "outputs": [],
   "source": []
  },
  {
   "cell_type": "code",
   "execution_count": null,
   "id": "0fb24529",
   "metadata": {},
   "outputs": [],
   "source": [
    "# visualization of the quantum circuit\n",
    "drawer = qai.matplotlib_drawer(circuit)\n",
    "drawer.draw_circuit()"
   ]
  },
  {
   "cell_type": "code",
   "execution_count": null,
   "id": "84599342-e50b-4d43-b5c3-5ae015464899",
   "metadata": {},
   "outputs": [],
   "source": [
    "circuit.cycabc([0, 1, 2, 3])"
   ]
  },
  {
   "cell_type": "code",
   "execution_count": 7,
   "id": "8d46053c-2b5a-46b3-8e02-3bcc26d228ae",
   "metadata": {},
   "outputs": [],
   "source": [
    "circuits = circuit.gen_circuits([0, 1, 2, 3])"
   ]
  },
  {
   "cell_type": "code",
   "execution_count": null,
   "id": "f29e4b55-e76e-4654-a32f-3fc7a9548c32",
   "metadata": {},
   "outputs": [],
   "source": [
    "import torch\n",
    "a = torch.tensor([0.54], requires_grad= True)\n",
    "b = torch.tensor([0.12], requires_grad= True)\n",
    "my_params = (a, b)"
   ]
  },
  {
   "cell_type": "code",
   "execution_count": 8,
   "id": "127aff8c-292e-4e86-b286-ef1989fb0620",
   "metadata": {},
   "outputs": [
    {
     "name": "stderr",
     "output_type": "stream",
     "text": [
      "/home/cyc/software/jd_project/TeD-Q/tedq/QInterpreter/circuits/circuit.py:334: UserWarning: Casting complex values to real discards the imaginary part (Triggered internally at ../aten/src/ATen/native/Copy.cpp:250.)\n",
      "  res = res.type(torch.float)\n"
     ]
    }
   ],
   "source": [
    "metric_tensor = circuit.metric_tensor(circuits, *params)"
   ]
  },
  {
   "cell_type": "code",
   "execution_count": 9,
   "id": "b0175070-da09-45a8-8aa5-683d505c384e",
   "metadata": {},
   "outputs": [
    {
     "data": {
      "text/plain": [
       "tensor([[ 0.1250,  0.0000,  0.0000,  0.0000],\n",
       "        [ 0.0000,  0.1875,  0.0000,  0.0000],\n",
       "        [ 0.0000,  0.0000,  0.2497, -0.0152],\n",
       "        [ 0.0000,  0.0000, -0.0152,  0.2029]], dtype=torch.float64,\n",
       "       grad_fn=<BlockDiagBackward0>)"
      ]
     },
     "execution_count": 9,
     "metadata": {},
     "output_type": "execute_result"
    }
   ],
   "source": [
    "metric_tensor"
   ]
  },
  {
   "cell_type": "code",
   "execution_count": 12,
   "id": "18ee5d38-a5bb-45c3-87e8-c3c8ca448d6c",
   "metadata": {},
   "outputs": [],
   "source": [
    "params = (torch.tensor([0.432], requires_grad=True), torch.tensor([-0.123], requires_grad=True), torch.tensor([0.543], requires_grad=True), torch.tensor([0.233], requires_grad=True))\n",
    "optimizer = torch.optim.SGD(params, lr = 0.01)"
   ]
  },
  {
   "cell_type": "code",
   "execution_count": 13,
   "id": "d226a115-176b-4b58-97b1-33e3a06eed73",
   "metadata": {},
   "outputs": [],
   "source": [
    "my_compilecircuit = circuit.compilecircuit(backend=\"pytorch\")\n",
    "gd_cost = []"
   ]
  },
  {
   "cell_type": "code",
   "execution_count": 14,
   "id": "d1fd0854-fb51-4e25-8d2d-fe4280286c09",
   "metadata": {},
   "outputs": [],
   "source": [
    "for i in range(200):\n",
    "    #print(i, params)\n",
    "    optimizer.zero_grad()\n",
    "    #print(b.grad)\n",
    "    #metric_tensor = circuit.metric_tensor(circuits, *params)\n",
    "    #optimizer.zero_grad()\n",
    "    loss = my_compilecircuit(*params)\n",
    "    loss.backward()\n",
    "    optimizer.step()\n",
    "    gd_cost.append(loss.detach().numpy())\n",
    "    #print(loss)"
   ]
  },
  {
   "cell_type": "code",
   "execution_count": null,
   "id": "e0d788b6-4c3b-42b9-a0bd-8d73467d5731",
   "metadata": {},
   "outputs": [],
   "source": []
  },
  {
   "cell_type": "code",
   "execution_count": null,
   "id": "6bc2f475-4b3e-461e-bf1a-52f25125e177",
   "metadata": {},
   "outputs": [],
   "source": []
  },
  {
   "cell_type": "code",
   "execution_count": null,
   "id": "c000fd38-2528-4eff-a6fd-9973554becd8",
   "metadata": {},
   "outputs": [],
   "source": []
  },
  {
   "cell_type": "code",
   "execution_count": 16,
   "id": "f50bb60b-c153-46a2-b81b-b1bf88d41acf",
   "metadata": {},
   "outputs": [],
   "source": [
    "params = (torch.tensor([0.432], requires_grad=True), torch.tensor([-0.123], requires_grad=True), torch.tensor([0.543], requires_grad=True), torch.tensor([0.233], requires_grad=True))\n",
    "optimizer = SGD(params, lr = 0.01)\n"
   ]
  },
  {
   "cell_type": "code",
   "execution_count": null,
   "id": "84836131-1c0a-49b2-8190-25b26c5ed4b6",
   "metadata": {},
   "outputs": [],
   "source": []
  },
  {
   "cell_type": "code",
   "execution_count": null,
   "id": "337bf077-4a99-411c-b70e-f2e9b78a8f6b",
   "metadata": {},
   "outputs": [],
   "source": []
  },
  {
   "cell_type": "code",
   "execution_count": null,
   "id": "e0955b5c-1c6b-4e8e-a080-591b45f4285a",
   "metadata": {},
   "outputs": [],
   "source": []
  },
  {
   "cell_type": "code",
   "execution_count": null,
   "id": "8a230eb0-a569-447f-afe7-52bf9be9bdce",
   "metadata": {},
   "outputs": [],
   "source": []
  },
  {
   "cell_type": "code",
   "execution_count": 17,
   "id": "c88d94bc-014a-4a57-acb7-d8f6a4af5e96",
   "metadata": {},
   "outputs": [
    {
     "name": "stdout",
     "output_type": "stream",
     "text": [
      "None\n",
      "None\n",
      "None\n",
      "None\n"
     ]
    }
   ],
   "source": [
    "for p in params:\n",
    "    print(p.grad)"
   ]
  },
  {
   "cell_type": "code",
   "execution_count": 18,
   "id": "c0b577ae-01e7-4c64-a274-798658fe54ba",
   "metadata": {},
   "outputs": [
    {
     "data": {
      "text/plain": [
       "tensor([0.0747], grad_fn=<StackBackward0>)"
      ]
     },
     "execution_count": 18,
     "metadata": {},
     "output_type": "execute_result"
    }
   ],
   "source": [
    "loss = my_compilecircuit(*params)\n",
    "loss.backward()\n",
    "loss"
   ]
  },
  {
   "cell_type": "code",
   "execution_count": 19,
   "id": "344dee0c-4e29-451a-a3fb-9786c839e698",
   "metadata": {},
   "outputs": [],
   "source": [
    "my_compilecircuit = circuit.compilecircuit(backend=\"pytorch\")"
   ]
  },
  {
   "cell_type": "code",
   "execution_count": 20,
   "id": "4f14a8b5-5e0e-405f-8e91-26828bdd12e3",
   "metadata": {},
   "outputs": [],
   "source": [
    "qng_cost = []"
   ]
  },
  {
   "cell_type": "code",
   "execution_count": 23,
   "id": "6a67f42a-2b0f-41ce-9f6b-8d8ded656d41",
   "metadata": {},
   "outputs": [
    {
     "name": "stdout",
     "output_type": "stream",
     "text": [
      "CPU times: user 3 µs, sys: 1 µs, total: 4 µs\n",
      "Wall time: 8.34 µs\n"
     ]
    }
   ],
   "source": [
    "%time\n",
    "for i in range(200):\n",
    "    #print(i, params)\n",
    "    optimizer.zero_grad()\n",
    "    #print(b.grad)\n",
    "    metric_tensor = circuit.metric_tensor(circuits, *params)\n",
    "    optimizer.zero_grad()\n",
    "    loss = my_compilecircuit(*params)\n",
    "    loss.backward()\n",
    "    optimizer.step(metric_tensor)\n",
    "    qng_cost.append(loss.detach().numpy())\n",
    "    #print(loss)"
   ]
  },
  {
   "cell_type": "code",
   "execution_count": null,
   "id": "d0e3bd78-3684-4377-8069-cbc90a2de275",
   "metadata": {},
   "outputs": [],
   "source": []
  },
  {
   "cell_type": "code",
   "execution_count": 22,
   "id": "9a7c199a-f459-4a50-8e99-4d8f5db1c6cc",
   "metadata": {},
   "outputs": [
    {
     "name": "stderr",
     "output_type": "stream",
     "text": [
      "/tmp/ipykernel_991072/1291127154.py:3: MatplotlibDeprecationWarning: The seaborn styles shipped by Matplotlib are deprecated since 3.6, as they no longer correspond to the styles shipped by seaborn. However, they will remain available as 'seaborn-v0_8-<style>'. Alternatively, directly use the seaborn API instead.\n",
      "  plt.style.use(\"seaborn\")\n"
     ]
    },
    {
     "data": {
      "image/png": "[encoded data removed]",
      "text/plain": [
       "<Figure size 800x550 with 1 Axes>"
      ]
     },
     "metadata": {},
     "output_type": "display_data"
    }
   ],
   "source": [
    "from matplotlib import pyplot as plt\n",
    "\n",
    "plt.style.use(\"seaborn\")\n",
    "plt.plot(gd_cost, \"b\", label=\"Vanilla gradient descent\")\n",
    "plt.plot(qng_cost, \"g\", label=\"Quantum natural gradient descent\")\n",
    "\n",
    "plt.ylabel(\"Cost function value\")\n",
    "plt.xlabel(\"Optimization steps\")\n",
    "plt.legend()\n",
    "plt.show()"
   ]
  },
  {
   "cell_type": "code",
   "execution_count": null,
   "id": "c5f36805-37ad-447c-bb79-c6158269f021",
   "metadata": {},
   "outputs": [],
   "source": []
  },
  {
   "cell_type": "code",
   "execution_count": null,
   "id": "2513796a-bd0d-4f98-8228-a8d2514e1399",
   "metadata": {},
   "outputs": [],
   "source": [
    "a = torch.tensor([[0.0000+0.j, 0.0000+0.j, 0.2488+0.j, 0.0319+0.j],\n",
    "       [0.0000+0.j, 0.0000+0.j, 0.0319+0.j, 0.2029+0.j]],\n",
    "       dtype=torch.complex128)"
   ]
  },
  {
   "cell_type": "code",
   "execution_count": null,
   "id": "78b1a411-56f4-49c0-a273-bb367a79a97e",
   "metadata": {},
   "outputs": [],
   "source": [
    "a[(slice(None), 3)]"
   ]
  },
  {
   "cell_type": "code",
   "execution_count": null,
   "id": "61c242bb-e1b8-4ebe-ac65-6e7379737ea9",
   "metadata": {},
   "outputs": [],
   "source": []
  },
  {
   "cell_type": "code",
   "execution_count": null,
   "id": "871a2623-9459-418b-b829-f0814f633805",
   "metadata": {},
   "outputs": [],
   "source": []
  },
  {
   "cell_type": "code",
   "execution_count": null,
   "id": "2c709c54-7266-485e-a96b-720d5fbc6c63",
   "metadata": {},
   "outputs": [],
   "source": [
    "[[ 0.125       0.          0.          0.        ]\n",
    " [ 0.          0.1875      0.          0.        ]\n",
    " [ 0.          0.          0.24973433 -0.01524701]\n",
    " [ 0.          0.         -0.01524701  0.20293623]]"
   ]
  },
  {
   "cell_type": "code",
   "execution_count": null,
   "id": "5dc5ece0-e4e7-41e5-a7f6-551203d0e619",
   "metadata": {},
   "outputs": [],
   "source": []
  },
  {
   "cell_type": "code",
   "execution_count": null,
   "id": "a32c42d9-d958-4840-9edb-2e880db8e7da",
   "metadata": {},
   "outputs": [],
   "source": [
    "circuits[0]"
   ]
  },
  {
   "cell_type": "code",
   "execution_count": null,
   "id": "87057ad5-c6fc-4a07-a310-99bb511cf2f3",
   "metadata": {},
   "outputs": [],
   "source": [
    "# visualization of the quantum circuit\n",
    "drawer = qai.matplotlib_drawer(circuits[1][0])\n",
    "drawer.draw_circuit()"
   ]
  },
  {
   "cell_type": "markdown",
   "id": "33bfa98e",
   "metadata": {
    "tags": []
   },
   "source": [
    "# Circuit compiled with JAX backend\n",
    "Gradient will obtain from backpropagation by default"
   ]
  },
  {
   "cell_type": "markdown",
   "id": "e5943f0c",
   "metadata": {
    "tags": []
   },
   "source": [
    "### state vector propagation mode"
   ]
  },
  {
   "cell_type": "code",
   "execution_count": null,
   "id": "7315fe6f",
   "metadata": {
    "tags": []
   },
   "outputs": [],
   "source": [
    "my_compilecircuit = circuit.compilecircuit(backend=\"jax\")"
   ]
  },
  {
   "cell_type": "markdown",
   "id": "5f8b990a",
   "metadata": {
    "tags": []
   },
   "source": [
    "### tensor network contraction mode"
   ]
  },
  {
   "cell_type": "markdown",
   "id": "1081917e",
   "metadata": {
    "tags": []
   },
   "source": [
    "#### Use CoTenGra"
   ]
  },
  {
   "cell_type": "code",
   "execution_count": null,
   "id": "55658bb8",
   "metadata": {
    "tags": []
   },
   "outputs": [],
   "source": [
    "# slicing_opts = {'target_size': 2**28}\n",
    "# hyper_opt = {'methods':['kahypar'], 'max_time':120, 'max_repeats':12, 'progbar':True, 'minimize':'flops', 'parallel':True, 'slicing_opts':slicing_opts}\n",
    "# import cotengra as ctg\n",
    "# my_compilecircuit = circuit.compilecircuit(backend=\"jax\", use_cotengra=ctg, hyper_opt = hyper_opt)"
   ]
  },
  {
   "cell_type": "markdown",
   "id": "8afc1347",
   "metadata": {},
   "source": [
    "#### Use JDtensorPath (Suggested)\n",
    "1. 'target_num_slices' is useful if you want to do the contraction in parallel, it will devide the tensor network into pieces and then calculat them in parallel\n",
    "2. 'math_repeats' means how many times are going to run JDtensorPath to find a best contraction path\n",
    "3. 'search_parallel' means to run the JDtensorPath in parallel, True means to use all the CPUs, integer number means to use that number of CPUs\n"
   ]
  },
  {
   "cell_type": "code",
   "execution_count": null,
   "id": "57ee930d",
   "metadata": {},
   "outputs": [],
   "source": [
    "from jdtensorpath import JDOptTN as jdopttn\n",
    "slicing_opts = {'target_size':2**28, 'repeats':500, 'target_num_slices':None, 'contract_parallel':False}\n",
    "hyper_opt = {'methods':['kahypar'], 'max_time':120, 'max_repeats':12, 'search_parallel':True, 'slicing_opts':slicing_opts}\n",
    "my_compilecircuit = circuit.compilecircuit(backend=\"jax\", use_jdopttn=jdopttn, hyper_opt = hyper_opt, tn_simplify = False)"
   ]
  },
  {
   "cell_type": "markdown",
   "id": "a1943e7f",
   "metadata": {},
   "source": [
    "### Define cost function"
   ]
  },
  {
   "cell_type": "code",
   "execution_count": null,
   "id": "2b076eb7",
   "metadata": {},
   "outputs": [],
   "source": [
    "def cost(*params):\n",
    "    return my_compilecircuit(*params)[0]"
   ]
  },
  {
   "cell_type": "code",
   "execution_count": null,
   "id": "a1ee628f",
   "metadata": {},
   "outputs": [],
   "source": [
    "new_params = (0.54, 0.12)\n",
    "cost(*new_params)"
   ]
  },
  {
   "cell_type": "markdown",
   "id": "d4ac31e0",
   "metadata": {},
   "source": [
    "### Define optimizer\n",
    "TeD-Q built-in optimizer"
   ]
  },
  {
   "cell_type": "code",
   "execution_count": null,
   "id": "4ad7283a",
   "metadata": {},
   "outputs": [],
   "source": [
    "Optimizer = qai.GradientDescentOptimizer(cost, [0, 1], 0.4, interface=\"jax\")"
   ]
  },
  {
   "cell_type": "markdown",
   "id": "034a24b2",
   "metadata": {},
   "source": [
    "### Training"
   ]
  },
  {
   "cell_type": "code",
   "execution_count": null,
   "id": "034de72f",
   "metadata": {},
   "outputs": [],
   "source": [
    "%%time\n",
    "new_params = (0.011, 0.012)\n",
    "for i in range(100):\n",
    "    new_params = Optimizer.step(*new_params)\n",
    "    if (i + 1) % 5 == 0:\n",
    "        print(\"Cost after step {:5d}: {: .7f}\".format(i + 1, cost(*new_params)))\n",
    "        print(\"Parameters after step {:5d}: {}\".format(i + 1, new_params))\n",
    "print(new_params)\n",
    "print(cost(*new_params))"
   ]
  },
  {
   "cell_type": "markdown",
   "id": "f3d4d325",
   "metadata": {},
   "source": [
    "### Trained circuit"
   ]
  },
  {
   "cell_type": "code",
   "execution_count": null,
   "id": "25bb4309",
   "metadata": {},
   "outputs": [],
   "source": [
    "trainedCircuit = qai.Circuit(circuitDef, 1, new_params)\n",
    "drawer = qai.matplotlib_drawer(trainedCircuit)\n",
    "drawer.full_draw()"
   ]
  },
  {
   "cell_type": "markdown",
   "id": "1afb1078",
   "metadata": {},
   "source": [
    "# Circuit compiled with JAX backend and pytorch interface\n",
    "Gradient will obtain from backpropagation by default"
   ]
  },
  {
   "cell_type": "markdown",
   "id": "02623248",
   "metadata": {
    "tags": []
   },
   "source": [
    "### state vector propagation mode"
   ]
  },
  {
   "cell_type": "code",
   "execution_count": null,
   "id": "e30c29d2",
   "metadata": {
    "tags": []
   },
   "outputs": [],
   "source": [
    "my_compilecircuit = circuit.compilecircuit(backend=\"jax\", interface=\"pytorch\")"
   ]
  },
  {
   "cell_type": "code",
   "execution_count": null,
   "id": "b110e6f1-0b27-44cb-9b5f-0b6d7d8a43a1",
   "metadata": {},
   "outputs": [],
   "source": [
    "from jax import numpy as jnp\n",
    "a = jnp.array([[1,2],[2,4]])"
   ]
  },
  {
   "cell_type": "code",
   "execution_count": null,
   "id": "688f9bff-d5a2-4321-bc7c-632afb644a7f",
   "metadata": {},
   "outputs": [],
   "source": [
    "a.shape"
   ]
  },
  {
   "cell_type": "markdown",
   "id": "74909b0b",
   "metadata": {
    "tags": []
   },
   "source": [
    "### tensor network contraction mode"
   ]
  },
  {
   "cell_type": "markdown",
   "id": "73c8f160",
   "metadata": {
    "tags": []
   },
   "source": [
    "#### by using cotengra"
   ]
  },
  {
   "cell_type": "code",
   "execution_count": null,
   "id": "6c5e2d1d",
   "metadata": {
    "tags": []
   },
   "outputs": [],
   "source": [
    "slicing_opts = {'target_size': 2**28}\n",
    "hyper_opt = {'methods':['kahypar'], 'max_time':120, 'max_repeats':12, 'progbar':True, 'minimize':'flops', 'parallel':True, 'slicing_opts':slicing_opts}\n",
    "import cotengra as ctg\n",
    "my_compilecircuit = circuit.compilecircuit(backend=\"jax\", use_cotengra=ctg, hyper_opt = hyper_opt, interface=\"pytorch\")"
   ]
  },
  {
   "cell_type": "markdown",
   "id": "434ddf7a",
   "metadata": {},
   "source": [
    "#### Use JDtensorPath (Suggested)\n",
    "1. 'target_num_slices' is useful if you want to do the contraction in parallel, it will devide the tensor network into pieces and then calculat them in parallel\n",
    "2. 'math_repeats' means how many times are going to run JDtensorPath to find a best contraction path\n",
    "3. 'search_parallel' means to run the JDtensorPath in parallel, True means to use all the CPUs, integer number means to use that number of CPUs\n"
   ]
  },
  {
   "cell_type": "code",
   "execution_count": null,
   "id": "d3cdf211",
   "metadata": {},
   "outputs": [],
   "source": [
    "# from jdtensorpath import JDOptTN as jdopttn\n",
    "# slicing_opts = {'target_size':2**28, 'repeats':500, 'target_num_slices':None, 'contract_parallel':False}\n",
    "# hyper_opt = {'methods':['kahypar'], 'max_time':120, 'max_repeats':12, 'search_parallel':True, 'slicing_opts':slicing_opts}\n",
    "# my_compilecircuit = circuit.compilecircuit(backend=\"jax\", use_jdopttn=jdopttn, hyper_opt = hyper_opt, tn_simplify = False, interface=\"pytorch\")"
   ]
  },
  {
   "cell_type": "markdown",
   "id": "3b472f32",
   "metadata": {},
   "source": [
    "### Define cost function and optimizer"
   ]
  },
  {
   "cell_type": "markdown",
   "id": "5ca301b2",
   "metadata": {},
   "source": [
    "### Define cost function and optimizer"
   ]
  },
  {
   "cell_type": "code",
   "execution_count": null,
   "id": "074a81c0",
   "metadata": {},
   "outputs": [],
   "source": [
    "def cost(*params):\n",
    "    return my_compilecircuit(*params)"
   ]
  },
  {
   "cell_type": "code",
   "execution_count": null,
   "id": "c8c4de04",
   "metadata": {},
   "outputs": [],
   "source": [
    "# using TeD-Q built-in optimizer\n",
    "Optimizer = qai.GradientDescentOptimizer(cost, [0, 1], 0.4, interface=\"pytorch\")"
   ]
  },
  {
   "cell_type": "markdown",
   "id": "9e39a40c",
   "metadata": {},
   "source": [
    "### Training"
   ]
  },
  {
   "cell_type": "code",
   "execution_count": null,
   "id": "4f2c6819",
   "metadata": {},
   "outputs": [],
   "source": [
    "import torch\n",
    "a = torch.tensor([0.54], requires_grad= True)\n",
    "b = torch.tensor([0.12], requires_grad= True)\n",
    "my_params = (a, b)"
   ]
  },
  {
   "cell_type": "code",
   "execution_count": null,
   "id": "11baa6a5-5f2d-4e58-8397-aca0426157c1",
   "metadata": {},
   "outputs": [],
   "source": [
    "cost(*my_params)"
   ]
  },
  {
   "cell_type": "code",
   "execution_count": null,
   "id": "8da99f72",
   "metadata": {},
   "outputs": [],
   "source": [
    "%%time\n",
    "new_params = my_params\n",
    "for i in range(100):\n",
    "    new_params = Optimizer.step(*new_params)\n",
    "    if (i + 1) % 5 == 0:\n",
    "        print(\"Cost after step {:5d}: {}\".format(i + 1, cost(*new_params)))\n",
    "        print(\"Parameters after step {:5d}: {}\".format(i + 1, new_params))\n",
    "print(new_params)\n",
    "print(cost(*new_params))"
   ]
  },
  {
   "cell_type": "markdown",
   "id": "bb5d77df",
   "metadata": {},
   "source": [
    "### Trained circuit"
   ]
  },
  {
   "cell_type": "code",
   "execution_count": null,
   "id": "b1c84abc",
   "metadata": {},
   "outputs": [],
   "source": [
    "trainedCircuit = qai.Circuit(circuitDef, 1, new_params)\n",
    "drawer = qai.matplotlib_drawer(trainedCircuit)\n",
    "drawer.full_draw()"
   ]
  },
  {
   "cell_type": "code",
   "execution_count": null,
   "id": "818bf875",
   "metadata": {},
   "outputs": [],
   "source": []
  },
  {
   "cell_type": "markdown",
   "id": "623ff679",
   "metadata": {},
   "source": [
    "# Circuit compiled with pytorch backend"
   ]
  },
  {
   "cell_type": "markdown",
   "id": "4a14cac3",
   "metadata": {
    "tags": []
   },
   "source": [
    "Gradient will obtain from backpropagation by default"
   ]
  },
  {
   "cell_type": "markdown",
   "id": "010154df",
   "metadata": {
    "tags": []
   },
   "source": [
    "### state vector propagation mode"
   ]
  },
  {
   "cell_type": "code",
   "execution_count": null,
   "id": "ba72fbd7",
   "metadata": {
    "tags": []
   },
   "outputs": [],
   "source": [
    "# my_compilecircuit = circuit.compilecircuit(backend=\"pytorch\")"
   ]
  },
  {
   "cell_type": "markdown",
   "id": "df6051a9",
   "metadata": {
    "tags": []
   },
   "source": [
    "### tensor network contraction mode"
   ]
  },
  {
   "cell_type": "markdown",
   "id": "07be7e18",
   "metadata": {
    "tags": []
   },
   "source": [
    "#### Use CoTenGra"
   ]
  },
  {
   "cell_type": "code",
   "execution_count": null,
   "id": "094402bc",
   "metadata": {
    "tags": []
   },
   "outputs": [],
   "source": [
    "# slicing_opts = {'target_size': 2**28}\n",
    "# hyper_opt = {'methods':['kahypar'], 'max_time':120, 'max_repeats':12, 'progbar':True, 'minimize':'flops', 'parallel':True, 'slicing_opts':slicing_opts}\n",
    "# import cotengra as ctg\n",
    "# my_compilecircuit = circuit.compilecircuit(backend=\"pytorch\", use_cotengra=ctg, hyper_opt = hyper_opt)"
   ]
  },
  {
   "cell_type": "markdown",
   "id": "ba324828",
   "metadata": {},
   "source": [
    "#### Use JDtensorPath (Suggested)\n",
    "1. 'target_num_slices' is useful if you want to do the contraction in parallel, it will devide the tensor network into pieces and then calculat them in parallel\n",
    "2. 'math_repeats' means how many times are going to run JDtensorPath to find a best contraction path\n",
    "3. 'search_parallel' means to run the JDtensorPath in parallel, True means to use all the CPUs, integer number means to use that number of CPUs\n"
   ]
  },
  {
   "cell_type": "code",
   "execution_count": null,
   "id": "f664e876",
   "metadata": {},
   "outputs": [],
   "source": [
    "from jdtensorpath import JDOptTN as jdopttn\n",
    "slicing_opts = {'target_size':2**28, 'repeats':500, 'target_num_slices':None, 'contract_parallel':False}\n",
    "hyper_opt = {'methods':['kahypar'], 'max_time':120, 'max_repeats':12, 'search_parallel':True, 'slicing_opts':slicing_opts}\n",
    "my_compilecircuit = circuit.compilecircuit(backend=\"pytorch\", use_jdopttn=jdopttn, hyper_opt = hyper_opt, tn_simplify = False)"
   ]
  },
  {
   "cell_type": "markdown",
   "id": "acd16662",
   "metadata": {},
   "source": [
    "### Define cost function and optimizer"
   ]
  },
  {
   "cell_type": "code",
   "execution_count": null,
   "id": "67a7ee08",
   "metadata": {},
   "outputs": [],
   "source": [
    "def cost(*params):\n",
    "    results = my_compilecircuit(*params)\n",
    "    return results"
   ]
  },
  {
   "cell_type": "code",
   "execution_count": null,
   "id": "2b174b7a",
   "metadata": {},
   "outputs": [],
   "source": [
    "# using TeD-Q built-in optimizer\n",
    "Optimizer = qai.GradientDescentOptimizer(cost, [0, 1], 0.4, interface=\"pytorch\")"
   ]
  },
  {
   "cell_type": "markdown",
   "id": "8c183866",
   "metadata": {},
   "source": [
    "### Training"
   ]
  },
  {
   "cell_type": "code",
   "execution_count": null,
   "id": "94747b45",
   "metadata": {},
   "outputs": [],
   "source": [
    "import torch\n",
    "a = torch.tensor([0.54], requires_grad= True)\n",
    "b = torch.tensor([0.12], requires_grad= True)\n",
    "my_params = (a, b)"
   ]
  },
  {
   "cell_type": "code",
   "execution_count": null,
   "id": "c9d49951",
   "metadata": {},
   "outputs": [],
   "source": [
    "%%time\n",
    "new_params = my_params\n",
    "for i in range(100):\n",
    "    new_params = Optimizer.step(*new_params)\n",
    "    if (i + 1) % 1 == 0:\n",
    "        print(\"Cost after step {:5d}: {}\".format(i + 1, cost(*new_params)))\n",
    "        print(\"Parameters after step {:5d}: {}\".format(i + 1, new_params))\n",
    "print(new_params)\n",
    "print(cost(*new_params))"
   ]
  },
  {
   "cell_type": "code",
   "execution_count": null,
   "id": "27bd2108",
   "metadata": {},
   "outputs": [],
   "source": [
    "print(\"Optimized rotation angles: {}\".format(new_params))"
   ]
  },
  {
   "cell_type": "code",
   "execution_count": null,
   "id": "80b0fef0",
   "metadata": {},
   "outputs": [],
   "source": [
    "print(\"Cost: {}\".format(cost(*new_params)))"
   ]
  },
  {
   "cell_type": "markdown",
   "id": "7baf430d",
   "metadata": {},
   "source": [
    "### Using backend's optimizer and training"
   ]
  },
  {
   "cell_type": "code",
   "execution_count": null,
   "id": "bef61d3a",
   "metadata": {},
   "outputs": [],
   "source": [
    "from torch import optim\n",
    "optimizer = optim.Adam([a, b], lr=0.1)\n",
    "for i in range(500):\n",
    "    optimizer.zero_grad()\n",
    "    #print(b.grad)\n",
    "    loss = cost(*my_params)\n",
    "    loss.backward()\n",
    "    optimizer.step()\n",
    "    if (i + 1) % 5 == 0:\n",
    "        print(\"Cost after step {:5d}: {}\".format(i + 1, cost(*new_params)))\n",
    "        print(\"Parameters after step {:5d}: {}\".format(i + 1, new_params))\n",
    "print(new_params)\n",
    "print(cost(*new_params))"
   ]
  },
  {
   "cell_type": "markdown",
   "id": "fd22cefb",
   "metadata": {
    "tags": []
   },
   "source": [
    "##  Obtain gradient by parameter shift method"
   ]
  },
  {
   "cell_type": "markdown",
   "id": "3498a55c",
   "metadata": {
    "tags": []
   },
   "source": [
    "### state vector propagation mode"
   ]
  },
  {
   "cell_type": "code",
   "execution_count": null,
   "id": "a2b66344",
   "metadata": {
    "tags": []
   },
   "outputs": [],
   "source": [
    "# my_compilecircuit = circuit.compilecircuit(backend=\"pytorch\", diff_method = \"param_shift\")"
   ]
  },
  {
   "cell_type": "markdown",
   "id": "4a7ea829",
   "metadata": {
    "tags": []
   },
   "source": [
    "### tensor network contraction mode"
   ]
  },
  {
   "cell_type": "markdown",
   "id": "cb525f46",
   "metadata": {
    "tags": []
   },
   "source": [
    "#### Use CoTenGra"
   ]
  },
  {
   "cell_type": "code",
   "execution_count": null,
   "id": "08643b73",
   "metadata": {
    "tags": []
   },
   "outputs": [],
   "source": [
    "# slicing_opts = {'target_size': 2**28}\n",
    "# hyper_opt = {'methods':['kahypar'], 'max_time':120, 'max_repeats':12, 'progbar':True, 'minimize':'flops', 'parallel':True, 'slicing_opts':slicing_opts}\n",
    "# import cotengra as ctg\n",
    "# my_compilecircuit = circuit.compilecircuit(backend=\"pytorch\", use_cotengra=ctg, hyper_opt = hyper_opt, diff_method = \"param_shift\")"
   ]
  },
  {
   "cell_type": "markdown",
   "id": "973bdaad",
   "metadata": {},
   "source": [
    "#### Use JDtensorPath (Suggested)\n",
    "1. 'target_num_slices' is useful if you want to do the contraction in parallel, it will devide the tensor network into pieces and then calculat them in parallel\n",
    "2. 'math_repeats' means how many times are going to run JDtensorPath to find a best contraction path\n",
    "3. 'search_parallel' means to run the JDtensorPath in parallel, True means to use all the CPUs, integer number means to use that number of CPUs\n"
   ]
  },
  {
   "cell_type": "code",
   "execution_count": null,
   "id": "0d051a1d",
   "metadata": {},
   "outputs": [],
   "source": [
    "from jdtensorpath import JDOptTN as jdopttn\n",
    "slicing_opts = {'target_size':2**28, 'repeats':500, 'target_num_slices':None, 'contract_parallel':False}\n",
    "hyper_opt = {'methods':['kahypar'], 'max_time':120, 'max_repeats':12, 'search_parallel':True, 'slicing_opts':slicing_opts}\n",
    "my_compilecircuit = circuit.compilecircuit(backend=\"pytorch\", use_jdopttn=jdopttn, hyper_opt = hyper_opt, tn_simplify = False, diff_method = \"param_shift\")"
   ]
  },
  {
   "cell_type": "markdown",
   "id": "66c587a9",
   "metadata": {
    "tags": []
   },
   "source": [
    "### Define cost function and optimizer"
   ]
  },
  {
   "cell_type": "code",
   "execution_count": null,
   "id": "4aca28db",
   "metadata": {},
   "outputs": [],
   "source": [
    "def cost(*params):\n",
    "    results = my_compilecircuit(*params)\n",
    "    return results"
   ]
  },
  {
   "cell_type": "code",
   "execution_count": null,
   "id": "4ad4035c",
   "metadata": {},
   "outputs": [],
   "source": [
    "# using TeD-Q built-in optimizer\n",
    "Optimizer = qai.GradientDescentOptimizer(cost, [0, 1], 0.4, interface=\"pytorch\")"
   ]
  },
  {
   "cell_type": "markdown",
   "id": "0ebad5be",
   "metadata": {},
   "source": [
    "### Training"
   ]
  },
  {
   "cell_type": "code",
   "execution_count": null,
   "id": "f6928ea4",
   "metadata": {},
   "outputs": [],
   "source": [
    "import torch\n",
    "a = torch.tensor([0.54], requires_grad= True)\n",
    "b = torch.tensor([0.12], requires_grad= True)\n",
    "my_params = (a, b)"
   ]
  },
  {
   "cell_type": "code",
   "execution_count": null,
   "id": "02d8be77",
   "metadata": {},
   "outputs": [],
   "source": [
    "%%time\n",
    "new_params = my_params\n",
    "for i in range(100):\n",
    "    new_params = Optimizer.step(*new_params)\n",
    "    if (i + 1) % 5 == 0:\n",
    "        print(\"Cost after step {:5d}: {}\".format(i + 1, cost(*new_params)))\n",
    "        print(\"Parameters after step {:5d}: {}\".format(i + 1, new_params))\n",
    "print(new_params)\n",
    "print(cost(*new_params))"
   ]
  },
  {
   "cell_type": "code",
   "execution_count": null,
   "id": "5c50308b",
   "metadata": {},
   "outputs": [],
   "source": [
    "print(\"Optimized rotation angles: {}\".format(new_params))"
   ]
  },
  {
   "cell_type": "code",
   "execution_count": null,
   "id": "ee9fa229",
   "metadata": {},
   "outputs": [],
   "source": [
    "print(\"Cost: {}\".format(cost(*new_params)))"
   ]
  },
  {
   "cell_type": "markdown",
   "id": "cef0df62",
   "metadata": {},
   "source": [
    "### Using backend's optimizer and training"
   ]
  },
  {
   "cell_type": "code",
   "execution_count": null,
   "id": "9abfb309",
   "metadata": {},
   "outputs": [],
   "source": [
    "from torch import optim\n",
    "optimizer = optim.Adam([a, b], lr=0.1)\n",
    "for i in range(500):\n",
    "    optimizer.zero_grad()\n",
    "    #print(b.grad)\n",
    "    loss = cost(*my_params)\n",
    "    loss.backward()\n",
    "    optimizer.step()\n",
    "    if (i + 1) % 5 == 0:\n",
    "        print(\"Cost after step {:5d}: {}\".format(i + 1, cost(*new_params)))\n",
    "        print(\"Parameters after step {:5d}: {}\".format(i + 1, new_params))\n",
    "print(new_params)\n",
    "print(cost(*new_params))"
   ]
  },
  {
   "cell_type": "markdown",
   "id": "d601fee0",
   "metadata": {},
   "source": [
    "### Trained circuit"
   ]
  },
  {
   "cell_type": "code",
   "execution_count": null,
   "id": "b0f485a2",
   "metadata": {},
   "outputs": [],
   "source": [
    "trainedCircuit = qai.Circuit(circuitDef, 1, new_params)\n",
    "drawer = qai.matplotlib_drawer(trainedCircuit)\n",
    "drawer.full_draw()"
   ]
  },
  {
   "cell_type": "code",
   "execution_count": null,
   "id": "fc8dec7c-da9c-4566-8379-2e6cde05133d",
   "metadata": {},
   "outputs": [],
   "source": []
  },
  {
   "cell_type": "markdown",
   "id": "6874b61b-88ad-464e-83a8-267d17306af0",
   "metadata": {},
   "source": [
    "# Real quantum computer hardware"
   ]
  },
  {
   "cell_type": "markdown",
   "id": "d5fc57e3-65c1-4fd8-a832-63ac00f2cc59",
   "metadata": {},
   "source": [
    "#### pytorch interface, parameter shift gradient method"
   ]
  },
  {
   "cell_type": "markdown",
   "id": "87241d76-75b3-4fd1-a29c-248922f1f136",
   "metadata": {},
   "source": [
    "#### now only support 1 qubit PauliZ measurement, will be upgrade later"
   ]
  },
  {
   "cell_type": "markdown",
   "id": "f8fc0c0e-f692-4c1f-ba79-c38a2b197d66",
   "metadata": {},
   "source": [
    "#### check your jobs here: https://quantum-computing.ibm.com/jobs?jobs=circuit"
   ]
  },
  {
   "cell_type": "markdown",
   "id": "38d6ef3a-28a5-4e2c-9d25-4a775dcb8086",
   "metadata": {},
   "source": [
    "#### caution, this is extremely slow since so many people are queuing for IBMQ free quantum computers"
   ]
  },
  {
   "cell_type": "code",
   "execution_count": null,
   "id": "846cea7c-9157-432b-a05f-99f35be222f8",
   "metadata": {},
   "outputs": [],
   "source": [
    "#from qiskit import IBMQ\n",
    "#IBMQ.enable_account('your IBMQ token')"
   ]
  },
  {
   "cell_type": "code",
   "execution_count": null,
   "id": "7fc94a44-e4fd-4188-8d8a-acf44f03046f",
   "metadata": {},
   "outputs": [],
   "source": [
    "import tedq as qai\n",
    "from tedq import Unitary\n",
    "import numpy as np\n",
    "a = np.array([[0,1],[1,0]])\n",
    "b = np.array([[1,0],[0,-1]])\n",
    "\n",
    "# Define quantum circuit\n",
    "def circuitDef(params):\n",
    "    Unitary(a, qubits=[0])\n",
    "    qai.RX(params[0], qubits=[0])\n",
    "    qai.RY(params[1], qubits=[0])\n",
    "    qai.PauliX(qubits=[1])\n",
    "    #return qai.expval(Unitary(b, qubits=[0]))\n",
    "    return qai.probs(qubits=[0])\n",
    "    #return qai.expval([qai.PauliZ(qubits=[0]), qai.PauliZ(qubits=[1])])\n",
    "\n",
    "number_of_qubits = 2\n",
    "parameter_shapes = [(2,)]\n",
    "\n",
    "# Quantum circuit construction\n",
    "circuit = qai.Circuit(circuitDef, number_of_qubits, parameter_shapes = parameter_shapes)"
   ]
  },
  {
   "cell_type": "code",
   "execution_count": null,
   "id": "cfbf8977-80a7-4d8c-9500-83bc9a078e83",
   "metadata": {},
   "outputs": [],
   "source": [
    "my_compilecircuit = circuit.compilecircuit(backend=\"pytorch\")"
   ]
  },
  {
   "cell_type": "code",
   "execution_count": null,
   "id": "c817e7a2-8479-4afc-b242-f1fc0dd7ff7b",
   "metadata": {},
   "outputs": [],
   "source": []
  },
  {
   "cell_type": "code",
   "execution_count": null,
   "id": "9c96536b-04fc-4225-8d3c-d9994ffdc0d9",
   "metadata": {},
   "outputs": [],
   "source": [
    "my_compilecircuit = circuit.compilecircuit(backend=\"Quafu_hardware\")"
   ]
  },
  {
   "cell_type": "markdown",
   "id": "aba326f6-ddf6-4c71-8ea4-77b3ad46a80d",
   "metadata": {
    "tags": []
   },
   "source": [
    "### Define cost function and optimizer"
   ]
  },
  {
   "cell_type": "code",
   "execution_count": null,
   "id": "a98b2b9c-05c7-4f9c-a0a6-ef2512c74c7d",
   "metadata": {},
   "outputs": [],
   "source": [
    "def cost(*params):\n",
    "    results = my_compilecircuit(*params)\n",
    "    return results"
   ]
  },
  {
   "cell_type": "code",
   "execution_count": null,
   "id": "4932e0a7-27b8-4946-b8bc-4fa8d680d682",
   "metadata": {},
   "outputs": [],
   "source": [
    "# using TeD-Q built-in optimizer\n",
    "Optimizer = qai.GradientDescentOptimizer(cost, [0, 1], 0.8, interface=\"pytorch\")"
   ]
  },
  {
   "cell_type": "markdown",
   "id": "3795a7ea-47d5-4883-9811-47bda76a808e",
   "metadata": {},
   "source": [
    "### Training"
   ]
  },
  {
   "cell_type": "code",
   "execution_count": null,
   "id": "bfc73a1f-3ebd-4c19-8b76-48bf19a05fd9",
   "metadata": {},
   "outputs": [],
   "source": [
    "import torch\n",
    "a = torch.tensor([0.54], requires_grad= True)\n",
    "b = torch.tensor([0.12], requires_grad= True)\n",
    "my_params = (a, b)"
   ]
  },
  {
   "cell_type": "code",
   "execution_count": null,
   "id": "e59880b5-7459-4660-9989-a02f2356f38a",
   "metadata": {},
   "outputs": [],
   "source": [
    "my_compilecircuit(*my_params)"
   ]
  },
  {
   "cell_type": "code",
   "execution_count": null,
   "id": "fa38289f-8ced-4adc-b99c-08cfc8b3e332",
   "metadata": {},
   "outputs": [],
   "source": [
    "my_compilecircuit.states_after_measurement"
   ]
  },
  {
   "cell_type": "code",
   "execution_count": null,
   "id": "2c73ad34-90dc-4282-80b3-35d28623c05a",
   "metadata": {},
   "outputs": [],
   "source": [
    "qc = cost(*my_params)"
   ]
  },
  {
   "cell_type": "code",
   "execution_count": null,
   "id": "01b1685c-807f-4363-bc49-c95a22f41641",
   "metadata": {},
   "outputs": [],
   "source": [
    "a = torch.tensor([[ 1., -1.],\n",
    "        [-1.,  1.]])\n",
    "b = torch.tensor([[0.0000, 0.9258],\n",
    "        [0.0000, 0.0742]])"
   ]
  },
  {
   "cell_type": "code",
   "execution_count": null,
   "id": "8ea17dfe-8dce-4655-b7c7-8939439df86a",
   "metadata": {},
   "outputs": [],
   "source": [
    "a = torch.tensor([1,2,3,4])\n",
    "b = torch.tensor([5, 6, 7, 8])"
   ]
  },
  {
   "cell_type": "code",
   "execution_count": null,
   "id": "5ff0032a-4052-4d51-be4a-c4cabca60ccd",
   "metadata": {},
   "outputs": [],
   "source": [
    "b@a"
   ]
  },
  {
   "cell_type": "code",
   "execution_count": null,
   "id": "0d3b64de-b22a-43bd-9b47-5a4a69bd8c61",
   "metadata": {},
   "outputs": [],
   "source": [
    "qc"
   ]
  },
  {
   "cell_type": "code",
   "execution_count": null,
   "id": "6d513cce-589b-4bab-b2c3-e5942ccf1cc9",
   "metadata": {},
   "outputs": [],
   "source": [
    "%%time\n",
    "new_params = my_params\n",
    "for i in range(100):\n",
    "    new_params = Optimizer.step(*new_params)\n",
    "    if (i + 1) % 2 == 0:\n",
    "        print(\"Parameters after step {:5d}: {}\".format(i + 1, new_params))\n",
    "print(new_params)\n",
    "print(cost(*new_params))"
   ]
  },
  {
   "cell_type": "code",
   "execution_count": null,
   "id": "2bd3bc5b-da43-4efc-9661-9dabfcbd6ba6",
   "metadata": {},
   "outputs": [],
   "source": []
  },
  {
   "cell_type": "code",
   "execution_count": null,
   "id": "289b1054-158a-43bd-8b7b-a08ce0dc9a81",
   "metadata": {},
   "outputs": [],
   "source": [
    "class abc():\n",
    "    \n",
    "    def __init__(self, x):\n",
    "        import numpy as np\n",
    "        print(x, np.float(5))\n",
    "    def aaa(self, x):\n",
    "        print(x, np.float(5))"
   ]
  },
  {
   "cell_type": "code",
   "execution_count": null,
   "id": "941bb19d-bbcb-4eca-aca9-a9b7a1816936",
   "metadata": {},
   "outputs": [],
   "source": [
    "b = abc(5)"
   ]
  },
  {
   "cell_type": "code",
   "execution_count": null,
   "id": "c924d9ab-9193-4705-97bc-654bf77daa9c",
   "metadata": {},
   "outputs": [],
   "source": [
    "b.aaa(6)"
   ]
  },
  {
   "cell_type": "code",
   "execution_count": null,
   "id": "8606f8de-cbba-4758-9025-70c26a7af3c8",
   "metadata": {},
   "outputs": [],
   "source": [
    "test_Ising = [[\"X\", [i]] for i in range(5)]\n",
    "test_Ising.extend([[\"ZZ\", [i, i+1]] for i in range(4)])"
   ]
  },
  {
   "cell_type": "code",
   "execution_count": null,
   "id": "29b36877-7831-4cbf-bc03-8a3a92eb85a7",
   "metadata": {},
   "outputs": [],
   "source": [
    "test_Ising"
   ]
  },
  {
   "cell_type": "code",
   "execution_count": null,
   "id": "fce8a4e3-98d9-4883-be36-718625212975",
   "metadata": {},
   "outputs": [],
   "source": [
    "a = [0, 1, 4, 3]"
   ]
  },
  {
   "cell_type": "code",
   "execution_count": null,
   "id": "809f4725-0ffa-4bce-bf25-f46cdbec3657",
   "metadata": {},
   "outputs": [],
   "source": [
    "sorted(a) == a"
   ]
  },
  {
   "cell_type": "code",
   "execution_count": null,
   "id": "f12e037d-5288-42ce-b8a8-1eaa7e65f360",
   "metadata": {},
   "outputs": [],
   "source": [
    "a = [[np.array(1), np.array(1)], [np.array(1), np.array(1)]]"
   ]
  },
  {
   "cell_type": "code",
   "execution_count": null,
   "id": "48dacf1c-27d7-4329-ba48-fdc7fabb411c",
   "metadata": {},
   "outputs": [],
   "source": [
    "b = a[slice(None)][0]"
   ]
  },
  {
   "cell_type": "code",
   "execution_count": null,
   "id": "6b23d8ab-0056-4b27-8ef2-28775679c356",
   "metadata": {},
   "outputs": [],
   "source": [
    "b"
   ]
  },
  {
   "cell_type": "code",
   "execution_count": null,
   "id": "d0a78bc4-2c8b-4bce-8348-f841da43c0da",
   "metadata": {},
   "outputs": [],
   "source": [
    "a"
   ]
  },
  {
   "cell_type": "code",
   "execution_count": null,
   "id": "a44657b7-c422-4334-98b0-18db9bdff0bd",
   "metadata": {},
   "outputs": [],
   "source": [
    "c=[cc/0.5 for cc in b]"
   ]
  },
  {
   "cell_type": "code",
   "execution_count": null,
   "id": "e75cd202-2456-418c-94d8-6b0a4c903139",
   "metadata": {},
   "outputs": [],
   "source": [
    "c[0] = c[0]/5."
   ]
  },
  {
   "cell_type": "code",
   "execution_count": null,
   "id": "96c2c0db-c8e7-4dbd-9b78-f08e9d7462a1",
   "metadata": {},
   "outputs": [],
   "source": [
    "c = a[slice(None)][1]"
   ]
  },
  {
   "cell_type": "code",
   "execution_count": null,
   "id": "840021fe-8ad2-421b-b75b-1da317ab3513",
   "metadata": {},
   "outputs": [],
   "source": [
    "from copy import deepcopy\n",
    "c = list(b)"
   ]
  },
  {
   "cell_type": "code",
   "execution_count": null,
   "id": "eb35ce1b-9740-428f-ad68-4480d757d16a",
   "metadata": {},
   "outputs": [],
   "source": [
    "\n",
    "sqrt(2)"
   ]
  },
  {
   "cell_type": "code",
   "execution_count": null,
   "id": "79649966-5082-4ae1-b3cc-bf6363ce979d",
   "metadata": {},
   "outputs": [],
   "source": [
    "def rescale_state(state):\n",
    "    r'''\n",
    "    rescale state\n",
    "    '''\n",
    "    probs_tensor = torch.abs(state) ** 2\n",
    "    scale = torch.sqrt(torch.sum(probs_tensor))\n",
    "    state = [s/scale for s in state]\n",
    "\n",
    "    return state"
   ]
  },
  {
   "cell_type": "code",
   "execution_count": null,
   "id": "642fa3f9-328d-457a-8049-3c0d7b5b265e",
   "metadata": {},
   "outputs": [],
   "source": [
    "state = torch.tensor([[0.3, 0.3], [0.3, 0.3]])"
   ]
  },
  {
   "cell_type": "code",
   "execution_count": null,
   "id": "c3a7fe6c-d31a-448a-8d28-25eac4144450",
   "metadata": {},
   "outputs": [],
   "source": [
    "rescale_state(state)"
   ]
  },
  {
   "cell_type": "code",
   "execution_count": null,
   "id": "bf0d1e28-49f8-474c-9c36-cf7d0c493d29",
   "metadata": {},
   "outputs": [],
   "source": [
    "a=[1,2,3,4]"
   ]
  },
  {
   "cell_type": "code",
   "execution_count": null,
   "id": "211a2f22-e086-4a88-b2aa-d30f06243cbb",
   "metadata": {},
   "outputs": [],
   "source": [
    "''.join([stra)"
   ]
  },
  {
   "cell_type": "code",
   "execution_count": null,
   "id": "018eb9de-2904-4c17-8340-5d63b7c43e12",
   "metadata": {},
   "outputs": [],
   "source": []
  },
  {
   "cell_type": "code",
   "execution_count": null,
   "id": "3d3d75c0-779c-461a-9ce7-e11abfe2d3b6",
   "metadata": {},
   "outputs": [],
   "source": []
  },
  {
   "cell_type": "code",
   "execution_count": null,
   "id": "dc277d02-3289-4f6f-8178-f826b190c5fb",
   "metadata": {},
   "outputs": [],
   "source": [
    "import numpy as np\n"
   ]
  },
  {
   "cell_type": "code",
   "execution_count": null,
   "id": "86ad6706-aca4-4ba9-aacb-f91413c0093f",
   "metadata": {},
   "outputs": [],
   "source": [
    "A = np.array(\n",
    "            [\n",
    "            [0.+0.j, 0.-0.j, 0.+0.j, 0.-0.j],\n",
    "            [0.+0.j, 0.+0.j, 0.+0.j, 0.+0.j],\n",
    "            [0.+0.j, 0.-0.j, 0.+0.j, 0.-1.j],\n",
    "            [0.+0.j, 0.+0.j, 0.+1.j, 0.+0.j],\n",
    "            ], dtype=np.complex64)"
   ]
  },
  {
   "cell_type": "code",
   "execution_count": null,
   "id": "f9175589-e1f5-4a62-b707-d5d027958355",
   "metadata": {},
   "outputs": [],
   "source": [
    "D,V=np.linalg.eig(A)"
   ]
  },
  {
   "cell_type": "code",
   "execution_count": null,
   "id": "e0dd5070-6ce7-4421-8e8d-20a1d1b59573",
   "metadata": {},
   "outputs": [],
   "source": [
    "np.diag(D)"
   ]
  },
  {
   "cell_type": "code",
   "execution_count": null,
   "id": "7df86266-dc8d-4dcd-93b4-7f0fcac81f0e",
   "metadata": {},
   "outputs": [],
   "source": [
    "V"
   ]
  },
  {
   "cell_type": "code",
   "execution_count": null,
   "id": "22841e08-2665-40f7-8ef7-cead63818de0",
   "metadata": {},
   "outputs": [],
   "source": [
    "np.linalg.inv(V)"
   ]
  },
  {
   "cell_type": "code",
   "execution_count": null,
   "id": "0dbc7687-197c-447f-98a7-8f0259cd2a18",
   "metadata": {},
   "outputs": [],
   "source": [
    "a = qai.RY(-np.pi/4., qubits=[0], do_queue=False)"
   ]
  },
  {
   "cell_type": "code",
   "execution_count": null,
   "id": "070c4025-2c0f-4d38-839a-6ee6ff806cf1",
   "metadata": {},
   "outputs": [],
   "source": [
    "a.matrix"
   ]
  },
  {
   "cell_type": "code",
   "execution_count": null,
   "id": "5fd4b9ca-081e-4bb4-baaa-7597d65b0603",
   "metadata": {},
   "outputs": [],
   "source": []
  },
  {
   "cell_type": "code",
   "execution_count": null,
   "id": "48af3d41-6f40-4fe8-bb9a-95bdc5e4752c",
   "metadata": {},
   "outputs": [],
   "source": [
    "a = {4:5}"
   ]
  },
  {
   "cell_type": "code",
   "execution_count": null,
   "id": "08165fbd-ab20-4f42-adf2-be09d2b0a757",
   "metadata": {},
   "outputs": [],
   "source": [
    "for x, y in a.items():\n",
    "    print(x, y)"
   ]
  },
  {
   "cell_type": "code",
   "execution_count": null,
   "id": "ff4c3cc0-35d4-49d5-ab89-ebac3449138e",
   "metadata": {},
   "outputs": [],
   "source": [
    "for i in range(1):\n",
    "    print(i)"
   ]
  },
  {
   "cell_type": "code",
   "execution_count": null,
   "id": "e5ca3c0f-8421-44e4-a12b-1802ff3efc8e",
   "metadata": {},
   "outputs": [],
   "source": [
    "import torch\n",
    "from torch.optim.optimizer import Optimizer, required\n",
    "\n",
    "class SGD(Optimizer):\n",
    "    def __init__(self, params, lr=required, momentum=0, dampening=0,\n",
    "                 weight_decay1=0, weight_decay2=0, nesterov=False):\n",
    "        print(params)\n",
    "        defaults = dict(lr=lr, momentum=momentum, dampening=dampening,\n",
    "                        weight_decay1=weight_decay1, weight_decay2=weight_decay2, nesterov=nesterov)\n",
    "        if nesterov and (momentum <= 0 or dampening != 0):\n",
    "            raise ValueError(\"Nesterov momentum requires a momentum and zero dampening\")\n",
    "        super(SGD, self).__init__(params, defaults)\n",
    "\n",
    "    def __setstate__(self, state):\n",
    "        super(SGD, self).__setstate__(state)\n",
    "        for group in self.param_groups:\n",
    "            group.setdefault('nesterov', False)\n",
    "\n",
    "    def step(self, metric_tensor, closure=None):\n",
    "        \"\"\"Performs a single optimization step.\n",
    "\n",
    "        Arguments:\n",
    "            closure (callable, optional): A closure that reevaluates the model\n",
    "                and returns the loss.\n",
    "        \"\"\"\n",
    "        loss = None\n",
    "        if closure is not None:\n",
    "            loss = closure()\n",
    "\n",
    "        for group in self.param_groups:\n",
    "            weight_decay1 = group['weight_decay1']\n",
    "            weight_decay2 = group['weight_decay2']\n",
    "            momentum = group['momentum']\n",
    "            dampening = group['dampening']\n",
    "            nesterov = group['nesterov']\n",
    "            \n",
    "\n",
    "            d_p_list = []\n",
    "            p_list = []\n",
    "            for p in group['params']:\n",
    "                print(p)\n",
    "                if p.grad is not None:\n",
    "                    d_p = p.grad.data\n",
    "                    if weight_decay1 != 0:\n",
    "                        d_p.add_(weight_decay1, torch.sign(p.data))\n",
    "                    if weight_decay2 != 0:\n",
    "                        d_p.add_(weight_decay2, p.data)\n",
    "                    if momentum != 0:\n",
    "                        param_state = self.state[p]\n",
    "                        if 'momentum_buffer' not in param_state:\n",
    "                            buf = param_state['momentum_buffer'] = torch.zeros_like(p.data)\n",
    "                            buf.mul_(momentum).add_(d_p)\n",
    "                        else:\n",
    "                            buf = param_state['momentum_buffer']\n",
    "                            buf.mul_(momentum).add_(1 - dampening, d_p)\n",
    "                        if nesterov:\n",
    "                            d_p = d_p.add(momentum, buf)\n",
    "                        else:\n",
    "                            d_p = buf\n",
    "\n",
    "                    #p.data.add_(-group['lr'], d_p)\n",
    "                    p_list.append(p)\n",
    "                    d_p_list.append(d_p)\n",
    "                else:\n",
    "                    p_list.append(p)\n",
    "                    d_p_list.append(d_p)\n",
    "            \n",
    "            print(p_list, d_p_list)\n",
    "            grad_flat = torch.tensor(d_p_list)\n",
    "            #grad_flat = grad_flat.type(torch.complex64)\n",
    "            #metric_tensor = metric_tensor.type(torch.complex64)\n",
    "            x_flat = torch.tensor(p_list)\n",
    "            stepsize = group['lr']\n",
    "            \n",
    "            x_new_flat = x_flat - stepsize * torch.linalg.solve(metric_tensor, grad_flat)\n",
    "            print(x_new_flat)\n",
    "            \n",
    "            for i, p in enumerate(group['params']):\n",
    "                p.data = x_new_flat[i].data\n",
    "                \n",
    "\n",
    "        return loss\n"
   ]
  },
  {
   "cell_type": "code",
   "execution_count": 1,
   "id": "148886b4-227c-43b6-b370-0b940f3740a9",
   "metadata": {},
   "outputs": [],
   "source": [
    "import torch\n",
    "from torch.optim.optimizer import Optimizer, required\n",
    "\n",
    "class SGD(Optimizer):\n",
    "    def __init__(self, params, lr=required, momentum=0, dampening=0,\n",
    "                 weight_decay1=0, weight_decay2=0, nesterov=False):\n",
    "        #print(params)\n",
    "        defaults = dict(lr=lr, momentum=momentum, dampening=dampening,\n",
    "                        weight_decay1=weight_decay1, weight_decay2=weight_decay2, nesterov=nesterov)\n",
    "        if nesterov and (momentum <= 0 or dampening != 0):\n",
    "            raise ValueError(\"Nesterov momentum requires a momentum and zero dampening\")\n",
    "        super(SGD, self).__init__(params, defaults)\n",
    "\n",
    "    def __setstate__(self, state):\n",
    "        super(SGD, self).__setstate__(state)\n",
    "        for group in self.param_groups:\n",
    "            group.setdefault('nesterov', False)\n",
    "\n",
    "    def step(self, metric_tensor, closure=None):\n",
    "        \"\"\"Performs a single optimization step.\n",
    "\n",
    "        Arguments:\n",
    "            closure (callable, optional): A closure that reevaluates the model\n",
    "                and returns the loss.\n",
    "        \"\"\"\n",
    "        loss = None\n",
    "        if closure is not None:\n",
    "            loss = closure()\n",
    "\n",
    "        for group in self.param_groups:\n",
    "            weight_decay1 = group['weight_decay1']\n",
    "            weight_decay2 = group['weight_decay2']\n",
    "            momentum = group['momentum']\n",
    "            dampening = group['dampening']\n",
    "            nesterov = group['nesterov']\n",
    "            \n",
    "\n",
    "            d_p_list = []\n",
    "            p_list = []\n",
    "            i_list = []\n",
    "            for i, p in enumerate(group['params']):\n",
    "                #print(p)\n",
    "                if p.grad is None:\n",
    "                    continue\n",
    "                d_p = p.grad.data\n",
    "                if weight_decay1 != 0:\n",
    "                    d_p.add_(weight_decay1, torch.sign(p.data))\n",
    "                if weight_decay2 != 0:\n",
    "                    d_p.add_(weight_decay2, p.data)\n",
    "                if momentum != 0:\n",
    "                    param_state = self.state[p]\n",
    "                    if 'momentum_buffer' not in param_state:\n",
    "                        buf = param_state['momentum_buffer'] = torch.zeros_like(p.data)\n",
    "                        buf.mul_(momentum).add_(d_p)\n",
    "                    else:\n",
    "                        buf = param_state['momentum_buffer']\n",
    "                        buf.mul_(momentum).add_(1 - dampening, d_p)\n",
    "                    if nesterov:\n",
    "                        d_p = d_p.add(momentum, buf)\n",
    "                    else:\n",
    "                        d_p = buf\n",
    "\n",
    "                #p.data.add_(-group['lr'], d_p)\n",
    "                i_list.append(i)\n",
    "                p_list.append(p)\n",
    "                d_p_list.append(d_p)\n",
    "            \n",
    "            metric_tensor_list = tuple([metric_tensor[i] for i in i_list])\n",
    "            metric_tensor = torch.stack(metric_tensor_list)\n",
    "            #print(metric_tensor)\n",
    "            metric_tensor_list = tuple([metric_tensor[(slice(None), i)] for i in i_list])\n",
    "            #print(metric_tensor_list)\n",
    "            metric_tensor = torch.stack(metric_tensor_list, dim=1)\n",
    "            #print(p_list, d_p_list)\n",
    "            grad_flat = torch.tensor(d_p_list)\n",
    "            #grad_flat = grad_flat.type(torch.complex64)\n",
    "            metric_tensor = metric_tensor.type(torch.float)\n",
    "            x_flat = torch.tensor(p_list)\n",
    "            stepsize = group['lr']\n",
    "            \n",
    "            x_new_flat = x_flat - stepsize * torch.linalg.solve(metric_tensor, grad_flat)\n",
    "            #print(x_flat.dtype, x_new_flat.dtype)\n",
    "            \n",
    "            j = 0\n",
    "            for p in group['params']:\n",
    "                if p.grad is None:\n",
    "                    continue\n",
    "                    \n",
    "                flat_p = p.view(-1)\n",
    "                for k in range(len(flat_p)):\n",
    "                    flat_p.data[k] = x_new_flat[j].data\n",
    "                    j = j+1\n",
    "                \n",
    "\n",
    "        return loss"
   ]
  },
  {
   "cell_type": "code",
   "execution_count": null,
   "id": "0bf93cad-2b6d-4135-bf90-75d3faccd454",
   "metadata": {},
   "outputs": [],
   "source": [
    "grad_flat = torch.tensor([None, None, 4., 5.], dtype=torch.complex64)\n",
    "torch.linalg.solve(metric_tensor, grad_flat)"
   ]
  },
  {
   "cell_type": "code",
   "execution_count": null,
   "id": "628b949c-f81e-404f-9963-2960f0ec0547",
   "metadata": {},
   "outputs": [],
   "source": [
    "metric_tensor"
   ]
  },
  {
   "cell_type": "code",
   "execution_count": null,
   "id": "8fc7973f-b11a-426c-af6d-d9dfa3859c6f",
   "metadata": {},
   "outputs": [],
   "source": [
    "i_list = [2, 3]"
   ]
  },
  {
   "cell_type": "code",
   "execution_count": null,
   "id": "ae438bf1-3d2d-4e7e-85be-569b68907487",
   "metadata": {},
   "outputs": [],
   "source": [
    "            metric_tensor_list = tuple([metric_tensor[i] for i in i_list])\n",
    "            print(metric_tensor_list)\n",
    "            metric_tensor = torch.concatenate(metric_tensor_list, dim=1)\n",
    "            print(metric_tensor)\n",
    "            metric_tensor_list = tuple([metric_tensor[:][i] for i in i_list])\n",
    "            print(metric_tensor_list)\n",
    "            metric_tensor = torch.concatenate(metric_tensor_list)"
   ]
  },
  {
   "cell_type": "code",
   "execution_count": null,
   "id": "3b318162-8187-46d6-909e-a49e5082133f",
   "metadata": {},
   "outputs": [],
   "source": [
    "metric_tensor[(0,2)]"
   ]
  },
  {
   "cell_type": "code",
   "execution_count": null,
   "id": "1457a076-cf70-4790-be08-04334f83affa",
   "metadata": {},
   "outputs": [],
   "source": [
    "x_new_flat"
   ]
  },
  {
   "cell_type": "code",
   "execution_count": null,
   "id": "b8dbbce1-2a40-4212-a1e8-74c039f6af3f",
   "metadata": {},
   "outputs": [],
   "source": []
  },
  {
   "cell_type": "code",
   "execution_count": null,
   "id": "bd5f48d4-afdc-4d62-a09d-6e87cdf210ed",
   "metadata": {},
   "outputs": [],
   "source": [
    "a = (torch.tensor([0.0000+0.j, 0.0000+0.j, 0.2488+0.j, 0.0319+0.j],\n",
    "       dtype=torch.complex128), torch.tensor([0.0000+0.j, 0.0000+0.j, 0.0319+0.j, 0.2029+0.j],\n",
    "       dtype=torch.complex128))\n"
   ]
  },
  {
   "cell_type": "code",
   "execution_count": null,
   "id": "d4b2d962-7ced-4a6a-b532-3bd7b87d784d",
   "metadata": {},
   "outputs": [],
   "source": [
    "torch.stack(a, dim=1)"
   ]
  },
  {
   "cell_type": "code",
   "execution_count": null,
   "id": "95a375a6-25b3-4984-aca7-d6346404f1ae",
   "metadata": {},
   "outputs": [],
   "source": [
    "a = torch.tensor([[0.0000+0.j, 0.0000+0.j], [0.2488+0.j, 0.0319+0.j]])\n",
    "c = torch.tensor(60.)"
   ]
  },
  {
   "cell_type": "code",
   "execution_count": null,
   "id": "37b3b11e-f71b-431f-b4cf-4fc9fc94b38f",
   "metadata": {},
   "outputs": [],
   "source": [
    "b = a.view(-1)"
   ]
  },
  {
   "cell_type": "code",
   "execution_count": null,
   "id": "8b6a2886-344e-47a2-8d00-c912e89fc021",
   "metadata": {},
   "outputs": [],
   "source": [
    "a"
   ]
  },
  {
   "cell_type": "code",
   "execution_count": null,
   "id": "0c3d1c5d-29f2-4689-a29c-db95738f9c83",
   "metadata": {},
   "outputs": [],
   "source": [
    "b.data[0] = c.data"
   ]
  },
  {
   "cell_type": "code",
   "execution_count": null,
   "id": "eb9a308e-ea9e-46f3-b546-4b67e17b49fe",
   "metadata": {},
   "outputs": [],
   "source": [
    "a"
   ]
  },
  {
   "cell_type": "code",
   "execution_count": null,
   "id": "e2a41860-2f17-4be0-b217-8c5683649e59",
   "metadata": {},
   "outputs": [],
   "source": [
    "b"
   ]
  },
  {
   "cell_type": "code",
   "execution_count": null,
   "id": "ea036e9b-58d9-4c06-b96c-504bd93139d0",
   "metadata": {},
   "outputs": [],
   "source": []
  }
 ],
 "metadata": {
  "kernelspec": {
   "display_name": "Python 3 (ipykernel)",
   "language": "python",
   "name": "python3"
  },
  "language_info": {
   "codemirror_mode": {
    "name": "ipython",
    "version": 3
   },
   "file_extension": ".py",
   "mimetype": "text/x-python",
   "name": "python",
   "nbconvert_exporter": "python",
   "pygments_lexer": "ipython3",
   "version": "3.8.15"
  }
 },
 "nbformat": 4,
 "nbformat_minor": 5
}
