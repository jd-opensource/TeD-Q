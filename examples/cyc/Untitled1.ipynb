{
 "cells": [
  {
   "cell_type": "code",
   "execution_count": 283,
   "id": "0b69f22c-e250-4eab-b4b0-18443a8018d8",
   "metadata": {},
   "outputs": [],
   "source": [
    "import pennylane as qml\n",
    "from pennylane import numpy as np\n",
    "\n",
    "dev = qml.device(\"default.qubit\", wires=3)\n",
    "\n",
    "\n",
    "@qml.qnode(dev)\n",
    "def circuit(params):\n",
    "    # |psi_0>: state preparation\n",
    "    qml.RY(np.pi / 4, wires=0)\n",
    "    qml.RY(np.pi / 3, wires=1)\n",
    "    qml.RY(np.pi / 7, wires=2)\n",
    "\n",
    "    # V0(theta0, theta1): Parametrized layer 0\n",
    "    qml.RZ(params[0], wires=0)\n",
    "    qml.RZ(params[1], wires=1)\n",
    "\n",
    "    # W1: non-parametrized gates\n",
    "    qml.CNOT(wires=[0, 1])\n",
    "    qml.CNOT(wires=[1, 2])\n",
    "\n",
    "    # V_1(theta2, theta3): Parametrized layer 1\n",
    "    qml.RY(params[2], wires=1)\n",
    "    qml.RX(params[3], wires=2)\n",
    "\n",
    "    # W2: non-parametrized gates\n",
    "    qml.CNOT(wires=[0, 1])\n",
    "    qml.CNOT(wires=[1, 2])\n",
    "\n",
    "    return qml.expval(qml.PauliY(0))\n",
    "\n",
    "\n",
    "params = np.array([0.432, -0.123, 0.543, 0.233])"
   ]
  },
  {
   "cell_type": "code",
   "execution_count": 284,
   "id": "55e45a2e-6238-4b60-bd60-2d8e60786e2e",
   "metadata": {},
   "outputs": [
    {
     "data": {
      "text/plain": [
       "tensor(0.07472305, requires_grad=True)"
      ]
     },
     "execution_count": 284,
     "metadata": {},
     "output_type": "execute_result"
    }
   ],
   "source": [
    "circuit(params)"
   ]
  },
  {
   "cell_type": "code",
   "execution_count": 285,
   "id": "fe055a2c-3706-40ef-b4ad-1181e5eb61b1",
   "metadata": {},
   "outputs": [],
   "source": [
    "steps = 200\n",
    "init_params = np.array([0.432, -0.123, 0.543, 0.233], requires_grad=True)"
   ]
  },
  {
   "cell_type": "code",
   "execution_count": 286,
   "id": "a2b3f13d-04e3-4fa5-9a0c-f99071f051d8",
   "metadata": {},
   "outputs": [
    {
     "data": {
      "text/plain": [
       "pennylane.numpy.tensor.tensor"
      ]
     },
     "execution_count": 286,
     "metadata": {},
     "output_type": "execute_result"
    }
   ],
   "source": [
    "type(init_params)"
   ]
  },
  {
   "cell_type": "code",
   "execution_count": 287,
   "id": "f9587365-794c-423c-9661-0b0a12435542",
   "metadata": {},
   "outputs": [],
   "source": [
    "dcircuit = qml.grad(circuit)"
   ]
  },
  {
   "cell_type": "code",
   "execution_count": 288,
   "id": "557bd638-dc60-49df-99c6-8ea80ab148ac",
   "metadata": {},
   "outputs": [
    {
     "data": {
      "text/plain": [
       "array([ 2.54794767e-01,  2.85176929e-01, -1.24788906e-01, -5.03069808e-17])"
      ]
     },
     "execution_count": 288,
     "metadata": {},
     "output_type": "execute_result"
    }
   ],
   "source": [
    "dcircuit(theta)"
   ]
  },
  {
   "cell_type": "code",
   "execution_count": null,
   "id": "e6262037-302b-4647-ab28-aa66970cd777",
   "metadata": {},
   "outputs": [],
   "source": []
  },
  {
   "cell_type": "code",
   "execution_count": 153,
   "id": "d362dfe7-1cb2-4380-97bb-dbd3b49eb05a",
   "metadata": {},
   "outputs": [],
   "source": [
    "@qml.qnode(dev)\n",
    "def circuit(params):\n",
    "    qml.PauliX(0)\n",
    "    qml.PauliX(1)\n",
    "    # |psi_0>: state preparation\n",
    "    qml.RY(np.pi / 4, wires=0)\n",
    "    qml.RY(np.pi / 3, wires=1)\n",
    "    qml.RY(np.pi / 7, wires=2)\n",
    "\n",
    "    # V0(theta0, theta1): Parametrized layer 0\n",
    "    qml.RZ(params[0], wires=0)\n",
    "    qml.RZ(params[1], wires=1)\n",
    "\n",
    "    # W1: non-parametrized gates\n",
    "    qml.CNOT(wires=[0, 1])\n",
    "    qml.CNOT(wires=[1, 2])\n",
    "\n",
    "    # V_1(theta2, theta3): Parametrized layer 1\n",
    "    qml.RY(params[2], wires=1)\n",
    "    qml.RX(params[3], wires=2)\n",
    "\n",
    "    # W2: non-parametrized gates\n",
    "    qml.CNOT(wires=[0, 1])\n",
    "    qml.CNOT(wires=[1, 2])\n",
    "\n",
    "    return qml.expval(qml.PauliY(0))\n",
    "    #return [qml.expval(qml.PauliZ(0)), qml.expval(qml.PauliZ(1))]"
   ]
  },
  {
   "cell_type": "code",
   "execution_count": 154,
   "id": "5f44b381-d0af-4e50-a78f-6ec0643a09e5",
   "metadata": {},
   "outputs": [
    {
     "data": {
      "text/plain": [
       "tensor(-0.14523251, requires_grad=True)"
      ]
     },
     "execution_count": 154,
     "metadata": {},
     "output_type": "execute_result"
    }
   ],
   "source": [
    "circuit(theta)"
   ]
  },
  {
   "cell_type": "code",
   "execution_count": 155,
   "id": "3ebba28a-ab5c-4921-8b89-4438c83c308e",
   "metadata": {},
   "outputs": [],
   "source": [
    "dcircuit = qml.grad(circuit)"
   ]
  },
  {
   "cell_type": "code",
   "execution_count": 156,
   "id": "48f31ea2-4d83-4195-a715-921ac99d37d0",
   "metadata": {},
   "outputs": [
    {
     "data": {
      "text/plain": [
       "array([-2.22286809e-01,  2.85176929e-01,  7.95755746e-03,  1.73472348e-17])"
      ]
     },
     "execution_count": 156,
     "metadata": {},
     "output_type": "execute_result"
    }
   ],
   "source": [
    "dcircuit(theta)"
   ]
  },
  {
   "cell_type": "code",
   "execution_count": null,
   "id": "d83a5830-32e4-4dd7-8dcc-5213c08a74be",
   "metadata": {},
   "outputs": [],
   "source": []
  },
  {
   "cell_type": "code",
   "execution_count": 8,
   "id": "2053cb23-539f-4bb7-9dc6-c10923f89555",
   "metadata": {},
   "outputs": [],
   "source": [
    "gd_cost = []\n",
    "opt = qml.GradientDescentOptimizer(0.01)\n",
    "\n",
    "theta = init_params\n",
    "for _ in range(steps):\n",
    "    theta = opt.step(circuit, theta)\n",
    "    gd_cost.append(circuit(theta))\n"
   ]
  },
  {
   "cell_type": "code",
   "execution_count": 289,
   "id": "8ac38044-589c-4b96-8e12-1981427fd4c4",
   "metadata": {},
   "outputs": [
    {
     "name": "stdout",
     "output_type": "stream",
     "text": [
      "CPU times: user 23 µs, sys: 0 ns, total: 23 µs\n",
      "Wall time: 29.8 µs\n"
     ]
    }
   ],
   "source": [
    "%time\n",
    "qng_cost = []\n",
    "opt = qml.QNGOptimizer(0.01)\n",
    "\n",
    "theta = init_params\n",
    "for _ in range(steps):\n",
    "    theta = opt.step(circuit, theta)\n",
    "    qng_cost.append(circuit(theta))"
   ]
  },
  {
   "cell_type": "code",
   "execution_count": 10,
   "id": "aeb3c43f-cef1-490e-86c2-cc94210fde63",
   "metadata": {},
   "outputs": [
    {
     "name": "stderr",
     "output_type": "stream",
     "text": [
      "/tmp/ipykernel_978750/1291127154.py:3: MatplotlibDeprecationWarning: The seaborn styles shipped by Matplotlib are deprecated since 3.6, as they no longer correspond to the styles shipped by seaborn. However, they will remain available as 'seaborn-v0_8-<style>'. Alternatively, directly use the seaborn API instead.\n",
      "  plt.style.use(\"seaborn\")\n"
     ]
    },
    {
     "data": {
      "image/png": "[encoded data removed]",
      "text/plain": [
       "<Figure size 800x550 with 1 Axes>"
      ]
     },
     "metadata": {},
     "output_type": "display_data"
    }
   ],
   "source": [
    "from matplotlib import pyplot as plt\n",
    "\n",
    "plt.style.use(\"seaborn\")\n",
    "plt.plot(gd_cost, \"b\", label=\"Vanilla gradient descent\")\n",
    "plt.plot(qng_cost, \"g\", label=\"Quantum natural gradient descent\")\n",
    "\n",
    "plt.ylabel(\"Cost function value\")\n",
    "plt.xlabel(\"Optimization steps\")\n",
    "plt.legend()\n",
    "plt.show()"
   ]
  },
  {
   "cell_type": "code",
   "execution_count": null,
   "id": "5f775d3d-d1bd-4d14-9ac4-2cfd6f456d15",
   "metadata": {},
   "outputs": [],
   "source": []
  },
  {
   "cell_type": "code",
   "execution_count": 258,
   "id": "448d03f5-1391-4e66-9c32-e5e13affa3ce",
   "metadata": {},
   "outputs": [],
   "source": [
    "import torch\n",
    "a = torch.tensor([1.], requires_grad=True)"
   ]
  },
  {
   "cell_type": "code",
   "execution_count": 259,
   "id": "afce534b-a3bd-4da1-9af2-5d6aa7e377be",
   "metadata": {},
   "outputs": [],
   "source": [
    "b = torch.tensor([1.], requires_grad=True)"
   ]
  },
  {
   "cell_type": "code",
   "execution_count": 262,
   "id": "d9a3acd6-9c35-43c1-9c4f-669eafdd6a85",
   "metadata": {},
   "outputs": [],
   "source": [
    "c = a-1j*b"
   ]
  },
  {
   "cell_type": "code",
   "execution_count": 217,
   "id": "0819d79e-dce9-419d-ba94-9c5e460ad6c9",
   "metadata": {},
   "outputs": [],
   "source": [
    "c = (a*b)**2"
   ]
  },
  {
   "cell_type": "code",
   "execution_count": 218,
   "id": "b25a0b85-f4e0-43bd-9972-73965b440913",
   "metadata": {},
   "outputs": [
    {
     "data": {
      "text/plain": [
       "tensor([-207.-224.j])"
      ]
     },
     "execution_count": 218,
     "metadata": {},
     "output_type": "execute_result"
    }
   ],
   "source": [
    "c"
   ]
  },
  {
   "cell_type": "code",
   "execution_count": 228,
   "id": "bf2d02ef-901a-41ae-900c-33d759ec24a4",
   "metadata": {},
   "outputs": [],
   "source": [
    "d = torch.norm(a)"
   ]
  },
  {
   "cell_type": "code",
   "execution_count": 263,
   "id": "0d248d80-7ee1-4e98-9b60-bb31b664a78c",
   "metadata": {},
   "outputs": [
    {
     "data": {
      "text/plain": [
       "tensor(2., grad_fn=<SelectBackward0>)"
      ]
     },
     "execution_count": 263,
     "metadata": {},
     "output_type": "execute_result"
    }
   ],
   "source": [
    "d = torch.dot(c.conj(), c)\n",
    "d = d.real\n",
    "d"
   ]
  },
  {
   "cell_type": "code",
   "execution_count": 264,
   "id": "f74b5a7c-ad17-44c5-ab1c-f21a4c184b9b",
   "metadata": {},
   "outputs": [],
   "source": [
    "d.backward()"
   ]
  },
  {
   "cell_type": "code",
   "execution_count": 265,
   "id": "568885af-3c77-4140-ac61-6ba8135329ca",
   "metadata": {},
   "outputs": [
    {
     "data": {
      "text/plain": [
       "tensor([2.])"
      ]
     },
     "execution_count": 265,
     "metadata": {},
     "output_type": "execute_result"
    }
   ],
   "source": [
    "a.grad"
   ]
  },
  {
   "cell_type": "code",
   "execution_count": 266,
   "id": "b6efa56c-8151-49b6-a02f-20011dfd555e",
   "metadata": {},
   "outputs": [
    {
     "data": {
      "text/plain": [
       "tensor([2.])"
      ]
     },
     "execution_count": 266,
     "metadata": {},
     "output_type": "execute_result"
    }
   ],
   "source": [
    "b.grad"
   ]
  },
  {
   "cell_type": "code",
   "execution_count": 257,
   "id": "8374b7e5-2a8a-4577-ba6e-07e95e519ac5",
   "metadata": {},
   "outputs": [
    {
     "data": {
      "text/plain": [
       "torch.float32"
      ]
     },
     "execution_count": 257,
     "metadata": {},
     "output_type": "execute_result"
    }
   ],
   "source": [
    "d.dtype"
   ]
  },
  {
   "cell_type": "code",
   "execution_count": 267,
   "id": "89ef6dc2-3922-4142-b025-54c32bd7ace2",
   "metadata": {},
   "outputs": [
    {
     "data": {
      "text/plain": [
       "tensor([1.-1.j], grad_fn=<SubBackward0>)"
      ]
     },
     "execution_count": 267,
     "metadata": {},
     "output_type": "execute_result"
    }
   ],
   "source": [
    "c"
   ]
  },
  {
   "cell_type": "code",
   "execution_count": 268,
   "id": "712fcb26-3c00-441a-86ae-a1e71ea7c95b",
   "metadata": {},
   "outputs": [
    {
     "data": {
      "text/plain": [
       "tensor([1.4142], grad_fn=<AbsBackward0>)"
      ]
     },
     "execution_count": 268,
     "metadata": {},
     "output_type": "execute_result"
    }
   ],
   "source": [
    "torch.abs(c)"
   ]
  },
  {
   "cell_type": "code",
   "execution_count": 269,
   "id": "adf77bdc-08c2-4c62-b4e7-1f32123ebef1",
   "metadata": {},
   "outputs": [
    {
     "data": {
      "text/plain": [
       "tensor(1.4142, grad_fn=<NormBackward1>)"
      ]
     },
     "execution_count": 269,
     "metadata": {},
     "output_type": "execute_result"
    }
   ],
   "source": [
    "torch.norm(c)"
   ]
  },
  {
   "cell_type": "code",
   "execution_count": 270,
   "id": "2a2a0d73-5878-46d3-a147-3853a9acdcae",
   "metadata": {},
   "outputs": [
    {
     "data": {
      "text/plain": [
       "tensor([1.], grad_fn=<SelectBackward0>)"
      ]
     },
     "execution_count": 270,
     "metadata": {},
     "output_type": "execute_result"
    }
   ],
   "source": [
    "c.real"
   ]
  },
  {
   "cell_type": "code",
   "execution_count": null,
   "id": "cf432f9f-6d93-4eec-96a1-11d8a16408ee",
   "metadata": {},
   "outputs": [],
   "source": []
  }
 ],
 "metadata": {
  "kernelspec": {
   "display_name": "Python 3 (ipykernel)",
   "language": "python",
   "name": "python3"
  },
  "language_info": {
   "codemirror_mode": {
    "name": "ipython",
    "version": 3
   },
   "file_extension": ".py",
   "mimetype": "text/x-python",
   "name": "python",
   "nbconvert_exporter": "python",
   "pygments_lexer": "ipython3",
   "version": "3.8.15"
  }
 },
 "nbformat": 4,
 "nbformat_minor": 5
}
