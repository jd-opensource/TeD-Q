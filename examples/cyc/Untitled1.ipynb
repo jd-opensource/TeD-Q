{
 "cells": [
  {
   "cell_type": "code",
   "execution_count": null,
   "id": "0b69f22c-e250-4eab-b4b0-18443a8018d8",
   "metadata": {},
   "outputs": [],
   "source": [
    "import pennylane as qml\n",
    "from pennylane import numpy as np\n",
    "\n",
    "dev = qml.device(\"default.qubit\", wires=3)\n",
    "\n",
    "\n",
    "@qml.qnode(dev)\n",
    "def circuit(params):\n",
    "    # |psi_0>: state preparation\n",
    "    qml.RY(np.pi / 4, wires=0)\n",
    "    qml.RY(np.pi / 3, wires=1)\n",
    "    qml.RY(np.pi / 7, wires=2)\n",
    "\n",
    "    # V0(theta0, theta1): Parametrized layer 0\n",
    "    qml.RZ(params[0], wires=0)\n",
    "    qml.RZ(params[1], wires=1)\n",
    "\n",
    "    # W1: non-parametrized gates\n",
    "    qml.CNOT(wires=[0, 1])\n",
    "    qml.CNOT(wires=[1, 2])\n",
    "\n",
    "    # V_1(theta2, theta3): Parametrized layer 1\n",
    "    qml.RY(params[2], wires=1)\n",
    "    qml.RX(params[3], wires=2)\n",
    "\n",
    "    # W2: non-parametrized gates\n",
    "    qml.CNOT(wires=[0, 1])\n",
    "    qml.CNOT(wires=[1, 2])\n",
    "\n",
    "    return qml.expval(qml.PauliY(0))\n",
    "\n",
    "\n",
    "params = np.array([0.432, -0.123, 0.543, 0.233])"
   ]
  },
  {
   "cell_type": "code",
   "execution_count": null,
   "id": "55e45a2e-6238-4b60-bd60-2d8e60786e2e",
   "metadata": {},
   "outputs": [],
   "source": [
    "circuit(params)"
   ]
  },
  {
   "cell_type": "code",
   "execution_count": null,
   "id": "fe055a2c-3706-40ef-b4ad-1181e5eb61b1",
   "metadata": {},
   "outputs": [],
   "source": [
    "steps = 200\n",
    "init_params = np.array([0.432, -0.123, 0.543, 0.233], requires_grad=True)"
   ]
  },
  {
   "cell_type": "code",
   "execution_count": null,
   "id": "a2b3f13d-04e3-4fa5-9a0c-f99071f051d8",
   "metadata": {},
   "outputs": [],
   "source": [
    "type(init_params)"
   ]
  },
  {
   "cell_type": "code",
   "execution_count": null,
   "id": "f9587365-794c-423c-9661-0b0a12435542",
   "metadata": {},
   "outputs": [],
   "source": [
    "dcircuit = qml.grad(circuit)"
   ]
  },
  {
   "cell_type": "code",
   "execution_count": null,
   "id": "557bd638-dc60-49df-99c6-8ea80ab148ac",
   "metadata": {},
   "outputs": [],
   "source": [
    "dcircuit(theta)"
   ]
  },
  {
   "cell_type": "code",
   "execution_count": null,
   "id": "e6262037-302b-4647-ab28-aa66970cd777",
   "metadata": {},
   "outputs": [],
   "source": []
  },
  {
   "cell_type": "code",
   "execution_count": null,
   "id": "d362dfe7-1cb2-4380-97bb-dbd3b49eb05a",
   "metadata": {},
   "outputs": [],
   "source": [
    "@qml.qnode(dev)\n",
    "def circuit(params):\n",
    "    qml.PauliX(0)\n",
    "    qml.PauliX(1)\n",
    "    # |psi_0>: state preparation\n",
    "    qml.RY(np.pi / 4, wires=0)\n",
    "    qml.RY(np.pi / 3, wires=1)\n",
    "    qml.RY(np.pi / 7, wires=2)\n",
    "\n",
    "    # V0(theta0, theta1): Parametrized layer 0\n",
    "    qml.RZ(params[0], wires=0)\n",
    "    qml.RZ(params[1], wires=1)\n",
    "\n",
    "    # W1: non-parametrized gates\n",
    "    qml.CNOT(wires=[0, 1])\n",
    "    qml.CNOT(wires=[1, 2])\n",
    "\n",
    "    # V_1(theta2, theta3): Parametrized layer 1\n",
    "    qml.RY(params[2], wires=1)\n",
    "    qml.RX(params[3], wires=2)\n",
    "\n",
    "    # W2: non-parametrized gates\n",
    "    qml.CNOT(wires=[0, 1])\n",
    "    qml.CNOT(wires=[1, 2])\n",
    "\n",
    "    return qml.expval(qml.PauliY(0))\n",
    "    #return [qml.expval(qml.PauliZ(0)), qml.expval(qml.PauliZ(1))]"
   ]
  },
  {
   "cell_type": "code",
   "execution_count": null,
   "id": "5f44b381-d0af-4e50-a78f-6ec0643a09e5",
   "metadata": {},
   "outputs": [],
   "source": [
    "circuit(theta)"
   ]
  },
  {
   "cell_type": "code",
   "execution_count": null,
   "id": "3ebba28a-ab5c-4921-8b89-4438c83c308e",
   "metadata": {},
   "outputs": [],
   "source": [
    "dcircuit = qml.grad(circuit)"
   ]
  },
  {
   "cell_type": "code",
   "execution_count": null,
   "id": "48f31ea2-4d83-4195-a715-921ac99d37d0",
   "metadata": {},
   "outputs": [],
   "source": [
    "dcircuit(theta)"
   ]
  },
  {
   "cell_type": "code",
   "execution_count": null,
   "id": "d83a5830-32e4-4dd7-8dcc-5213c08a74be",
   "metadata": {},
   "outputs": [],
   "source": []
  },
  {
   "cell_type": "code",
   "execution_count": null,
   "id": "2053cb23-539f-4bb7-9dc6-c10923f89555",
   "metadata": {},
   "outputs": [],
   "source": [
    "gd_cost = []\n",
    "opt = qml.GradientDescentOptimizer(0.01)\n",
    "\n",
    "theta = init_params\n",
    "for _ in range(steps):\n",
    "    theta = opt.step(circuit, theta)\n",
    "    gd_cost.append(circuit(theta))\n"
   ]
  },
  {
   "cell_type": "code",
   "execution_count": null,
   "id": "8ac38044-589c-4b96-8e12-1981427fd4c4",
   "metadata": {},
   "outputs": [],
   "source": [
    "%time\n",
    "qng_cost = []\n",
    "opt = qml.QNGOptimizer(0.01)\n",
    "\n",
    "theta = init_params\n",
    "for _ in range(steps):\n",
    "    theta = opt.step(circuit, theta)\n",
    "    qng_cost.append(circuit(theta))"
   ]
  },
  {
   "cell_type": "code",
   "execution_count": null,
   "id": "aeb3c43f-cef1-490e-86c2-cc94210fde63",
   "metadata": {},
   "outputs": [],
   "source": [
    "from matplotlib import pyplot as plt\n",
    "\n",
    "plt.style.use(\"seaborn\")\n",
    "plt.plot(gd_cost, \"b\", label=\"Vanilla gradient descent\")\n",
    "plt.plot(qng_cost, \"g\", label=\"Quantum natural gradient descent\")\n",
    "\n",
    "plt.ylabel(\"Cost function value\")\n",
    "plt.xlabel(\"Optimization steps\")\n",
    "plt.legend()\n",
    "plt.show()"
   ]
  },
  {
   "cell_type": "code",
   "execution_count": null,
   "id": "5f775d3d-d1bd-4d14-9ac4-2cfd6f456d15",
   "metadata": {},
   "outputs": [],
   "source": []
  },
  {
   "cell_type": "code",
   "execution_count": null,
   "id": "448d03f5-1391-4e66-9c32-e5e13affa3ce",
   "metadata": {},
   "outputs": [],
   "source": [
    "import torch\n",
    "a = torch.tensor([1.], requires_grad=True)"
   ]
  },
  {
   "cell_type": "code",
   "execution_count": null,
   "id": "afce534b-a3bd-4da1-9af2-5d6aa7e377be",
   "metadata": {},
   "outputs": [],
   "source": [
    "b = torch.tensor([1.], requires_grad=True)"
   ]
  },
  {
   "cell_type": "code",
   "execution_count": null,
   "id": "d9a3acd6-9c35-43c1-9c4f-669eafdd6a85",
   "metadata": {},
   "outputs": [],
   "source": [
    "c = a-1j*b"
   ]
  },
  {
   "cell_type": "code",
   "execution_count": null,
   "id": "0819d79e-dce9-419d-ba94-9c5e460ad6c9",
   "metadata": {},
   "outputs": [],
   "source": [
    "c = (a*b)**2"
   ]
  },
  {
   "cell_type": "code",
   "execution_count": null,
   "id": "b25a0b85-f4e0-43bd-9972-73965b440913",
   "metadata": {},
   "outputs": [],
   "source": [
    "c"
   ]
  },
  {
   "cell_type": "code",
   "execution_count": null,
   "id": "bf2d02ef-901a-41ae-900c-33d759ec24a4",
   "metadata": {},
   "outputs": [],
   "source": [
    "d = torch.norm(a)"
   ]
  },
  {
   "cell_type": "code",
   "execution_count": null,
   "id": "0d248d80-7ee1-4e98-9b60-bb31b664a78c",
   "metadata": {},
   "outputs": [],
   "source": [
    "d = torch.dot(c.conj(), c)\n",
    "d = d.real\n",
    "d"
   ]
  },
  {
   "cell_type": "code",
   "execution_count": null,
   "id": "f74b5a7c-ad17-44c5-ab1c-f21a4c184b9b",
   "metadata": {},
   "outputs": [],
   "source": [
    "d.backward()"
   ]
  },
  {
   "cell_type": "code",
   "execution_count": null,
   "id": "568885af-3c77-4140-ac61-6ba8135329ca",
   "metadata": {},
   "outputs": [],
   "source": [
    "a.grad"
   ]
  },
  {
   "cell_type": "code",
   "execution_count": null,
   "id": "b6efa56c-8151-49b6-a02f-20011dfd555e",
   "metadata": {},
   "outputs": [],
   "source": [
    "b.grad"
   ]
  },
  {
   "cell_type": "code",
   "execution_count": null,
   "id": "8374b7e5-2a8a-4577-ba6e-07e95e519ac5",
   "metadata": {},
   "outputs": [],
   "source": [
    "d.dtype"
   ]
  },
  {
   "cell_type": "code",
   "execution_count": null,
   "id": "89ef6dc2-3922-4142-b025-54c32bd7ace2",
   "metadata": {},
   "outputs": [],
   "source": [
    "c"
   ]
  },
  {
   "cell_type": "code",
   "execution_count": null,
   "id": "712fcb26-3c00-441a-86ae-a1e71ea7c95b",
   "metadata": {},
   "outputs": [],
   "source": [
    "torch.abs(c)"
   ]
  },
  {
   "cell_type": "code",
   "execution_count": null,
   "id": "adf77bdc-08c2-4c62-b4e7-1f32123ebef1",
   "metadata": {},
   "outputs": [],
   "source": [
    "torch.norm(c)"
   ]
  },
  {
   "cell_type": "code",
   "execution_count": null,
   "id": "2a2a0d73-5878-46d3-a147-3853a9acdcae",
   "metadata": {},
   "outputs": [],
   "source": [
    "c.real"
   ]
  },
  {
   "cell_type": "code",
   "execution_count": null,
   "id": "cf432f9f-6d93-4eec-96a1-11d8a16408ee",
   "metadata": {},
   "outputs": [],
   "source": [
    "_EINSUM_SYMBOLS_BASE = 'abcdefghijklmnopqrstuvwxyzABCDEFGHIJKLMNOPQRSTUVWXYZ'\n",
    "\n",
    "def circuit_tensor():\n",
    "    \n",
    "\tqubitss = [[0, 3], [6, 9], [4, 3]]\n",
    "\n",
    "\teinsum_str = ''\n",
    "\tall_qubits = []\n",
    "\tfor qubits in qubitss:\n",
    "\t\teinsum_str += ''.join(tuple(_EINSUM_SYMBOLS_BASE[i] for i in qubits))\n",
    "\t\teinsum_str += ','\n",
    "\t\tall_qubits.extend(qubits)\n",
    "\n",
    "\tall_qubits = list(set(all_qubits))\n",
    "\tall_qubits.sort()\n",
    "\n",
    "\teinsum_str = einsum_str[0:-2]\n",
    "\teinsum_str += '->'\n",
    "\teinsum_str += ''.join(tuple(_EINSUM_SYMBOLS_BASE[i] for i in all_qubits))\n",
    "\tprint(einsum_str)"
   ]
  },
  {
   "cell_type": "code",
   "execution_count": null,
   "id": "f53ff773-3048-41a6-b17c-6635e4cacf19",
   "metadata": {},
   "outputs": [],
   "source": [
    "circuit_tensor()"
   ]
  },
  {
   "cell_type": "code",
   "execution_count": 1,
   "id": "5e713699-b267-48bf-a7a6-2f87087fa735",
   "metadata": {},
   "outputs": [],
   "source": [
    "import tedq as qai\n",
    "import numpy as np"
   ]
  },
  {
   "cell_type": "code",
   "execution_count": 2,
   "id": "4057d324-0f3a-4183-bcfe-949f2d146e83",
   "metadata": {},
   "outputs": [
    {
     "data": {
      "text/plain": [
       "<function tedq.QInterpreter.circuits.circuit_tensor.circuit_tensor(func, *params)>"
      ]
     },
     "execution_count": 2,
     "metadata": {},
     "output_type": "execute_result"
    }
   ],
   "source": [
    "qai.circuit_tensor"
   ]
  },
  {
   "cell_type": "code",
   "execution_count": 11,
   "id": "ae35a2d1-daf8-4b08-a785-948d72c2cd90",
   "metadata": {},
   "outputs": [],
   "source": [
    "def circuitDef(params):\n",
    "    # |psi_0>: state preparation\n",
    "    #qai.RY(np.pi / 4, qubits=[0], trainable_params=[])\n",
    "    #qai.RY(np.pi / 3, qubits=[1], trainable_params=[])\n",
    "    #qai.RY(np.pi / 7, qubits=[2], trainable_params=[])\n",
    "\n",
    "    # V0(theta0, theta1): Parametrized layer 0\n",
    "    qai.PauliX(qubits=[0])\n",
    "    #qai.RZ(params[0], qubits=[0])\n",
    "    #qai.RZ(params[1], qubits=[1])\n",
    "\n",
    "    # W1: non-parametrized gates\n",
    "    #qai.CNOT(qubits=[0, 1])\n",
    "    #qai.CNOT(qubits=[1, 2])\n",
    "\n",
    "    # V_1(theta2, theta3): Parametrized layer 1\n",
    "    #qai.RY(params[2], qubits=[1])\n",
    "    #qai.RX(params[3], qubits=[2])\n",
    "\n",
    "    # W2: non-parametrized gates\n",
    "    #qai.CNOT(qubits=[0, 1])\n",
    "    #qai.CNOT(qubits=[1, 2])\n",
    "\n",
    "    #return qai.expval(qai.PauliY(qubits=[0]))\n",
    "\n",
    "\n",
    "params = (4., 5., 6., 7.)"
   ]
  },
  {
   "cell_type": "code",
   "execution_count": 12,
   "id": "1fa9a1f0-3864-43c2-b53c-d716f0b79b64",
   "metadata": {},
   "outputs": [
    {
     "name": "stdout",
     "output_type": "stream",
     "text": [
      "[[0]]\n",
      "ba->ba\n",
      "(array([[0, 1],\n",
      "       [1, 0]]),)\n",
      "[[0 1]\n",
      " [1 0]]\n"
     ]
    },
    {
     "data": {
      "text/plain": [
       "array([[0, 1],\n",
       "       [1, 0]])"
      ]
     },
     "execution_count": 12,
     "metadata": {},
     "output_type": "execute_result"
    }
   ],
   "source": [
    "qai.circuit_tensor(circuitDef, params)"
   ]
  },
  {
   "cell_type": "code",
   "execution_count": null,
   "id": "08f144ee-cb26-4c14-918e-7d481f60462d",
   "metadata": {},
   "outputs": [],
   "source": []
  },
  {
   "cell_type": "code",
   "execution_count": 5,
   "id": "0af64c29-d941-4c67-8913-f75bfd1f7233",
   "metadata": {},
   "outputs": [
    {
     "data": {
      "text/plain": [
       "1"
      ]
     },
     "execution_count": 5,
     "metadata": {},
     "output_type": "execute_result"
    }
   ],
   "source": [
    "a = [1, 4, 6]\n",
    "a.index(4)"
   ]
  },
  {
   "cell_type": "code",
   "execution_count": 6,
   "id": "3281a8e2-5831-4d17-9904-cc77f74f3f30",
   "metadata": {},
   "outputs": [
    {
     "ename": "TypeError",
     "evalue": "sequence item 0: expected str instance, int found",
     "output_type": "error",
     "traceback": [
      "\u001b[0;31m---------------------------------------------------------------------------\u001b[0m",
      "\u001b[0;31mTypeError\u001b[0m                                 Traceback (most recent call last)",
      "Cell \u001b[0;32mIn[6], line 1\u001b[0m\n\u001b[0;32m----> 1\u001b[0m \u001b[38;5;124;43m'\u001b[39;49m\u001b[38;5;124;43m'\u001b[39;49m\u001b[38;5;241;43m.\u001b[39;49m\u001b[43mjoin\u001b[49m\u001b[43m(\u001b[49m\u001b[38;5;28;43mtuple\u001b[39;49m\u001b[43m(\u001b[49m\u001b[43ma\u001b[49m\u001b[43m)\u001b[49m\u001b[43m)\u001b[49m\n",
      "\u001b[0;31mTypeError\u001b[0m: sequence item 0: expected str instance, int found"
     ]
    }
   ],
   "source": [
    "''.join(tuple(a))"
   ]
  },
  {
   "cell_type": "code",
   "execution_count": null,
   "id": "591b0349-3684-4a8f-9afa-5888b7dfb0ae",
   "metadata": {},
   "outputs": [],
   "source": [
    "list(reverse(a))"
   ]
  },
  {
   "cell_type": "code",
   "execution_count": null,
   "id": "75ae3951-06d3-4d09-8084-761d7cf2a704",
   "metadata": {},
   "outputs": [],
   "source": []
  }
 ],
 "metadata": {
  "kernelspec": {
   "display_name": "Python 3 (ipykernel)",
   "language": "python",
   "name": "python3"
  },
  "language_info": {
   "codemirror_mode": {
    "name": "ipython",
    "version": 3
   },
   "file_extension": ".py",
   "mimetype": "text/x-python",
   "name": "python",
   "nbconvert_exporter": "python",
   "pygments_lexer": "ipython3",
   "version": "3.8.15"
  }
 },
 "nbformat": 4,
 "nbformat_minor": 5
}
